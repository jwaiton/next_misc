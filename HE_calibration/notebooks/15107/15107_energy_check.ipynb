{
 "cells": [
  {
   "cell_type": "markdown",
   "metadata": {},
   "source": [
    "# Check R15107 files"
   ]
  },
  {
   "cell_type": "code",
   "execution_count": 1,
   "metadata": {},
   "outputs": [],
   "source": [
    "import sys,os,os.path\n",
    "sys.path.append(\"../../../../\") # if you move files around, you need to adjust this!\n",
    "sys.path.append(os.path.expanduser('~/code/eol_hsrl_python'))\n",
    "os.environ['ICTDIR']='/home/e78368jw/Documents/NEXT_CODE/IC'"
   ]
  },
  {
   "cell_type": "code",
   "execution_count": 2,
   "metadata": {},
   "outputs": [],
   "source": [
    "from matplotlib.lines import Line2D\n",
    "import matplotlib.pyplot as plt\n",
    "from matplotlib import rcParams\n",
    "rcParams['mathtext.fontset'] = 'stix'\n",
    "rcParams['font.family'] = 'STIXGeneral'\n",
    "rcParams['figure.figsize'] = [10, 8]\n",
    "rcParams['font.size'] = 22\n",
    "\n",
    "import pandas as pd\n",
    "import numpy  as np\n",
    "import tables as tb\n",
    "\n",
    "import matplotlib.pyplot as plt\n",
    "from mpl_toolkits.mplot3d import Axes3D\n",
    "import matplotlib.colors as clrs\n",
    "\n",
    "import IC.invisible_cities.core.core_functions                   as     coref\n",
    "import IC.invisible_cities.io.dst_io                           as     dstio\n",
    "from IC.invisible_cities.cities                 import beersheba as beerfun\n",
    "\n",
    "from IC.invisible_cities.io.dst_io import load_dsts\n",
    "from IC.invisible_cities.io.dst_io import load_dst\n",
    "\n",
    "from tqdm import tqdm"
   ]
  },
  {
   "cell_type": "markdown",
   "metadata": {},
   "source": [
    "# Load in the data from SSD"
   ]
  },
  {
   "cell_type": "code",
   "execution_count": null,
   "metadata": {},
   "outputs": [
    {
     "name": "stdout",
     "output_type": "stream",
     "text": [
      "['run_15107_0104_ldc7_trg2.v2.3.1.20250312-1-gc1f0fe5.HE.sophronia.h5', 'run_15107_1866_ldc7_trg2.v2.3.1.20250312-1-gc1f0fe5.HE.sophronia.h5', 'run_15107_0159_ldc7_trg2.v2.3.1.20250312-1-gc1f0fe5.HE.sophronia.h5', 'run_15107_0298_ldc7_trg2.v2.3.1.20250312-1-gc1f0fe5.HE.sophronia.h5', 'run_15107_1389_ldc7_trg2.v2.3.1.20250312-1-gc1f0fe5.HE.sophronia.h5', 'run_15107_1473_ldc7_trg2.v2.3.1.20250312-1-gc1f0fe5.HE.sophronia.h5', 'run_15107_1518_ldc7_trg2.v2.3.1.20250312-1-gc1f0fe5.HE.sophronia.h5', 'run_15107_0128_ldc7_trg2.v2.3.1.20250312-1-gc1f0fe5.HE.sophronia.h5', 'run_15107_0190_ldc7_trg2.v2.3.1.20250312-1-gc1f0fe5.HE.sophronia.h5', 'run_15107_0422_ldc7_trg2.v2.3.1.20250312-1-gc1f0fe5.HE.sophronia.h5', 'run_15107_1568_ldc7_trg2.v2.3.1.20250312-1-gc1f0fe5.HE.sophronia.h5', 'run_15107_2225_ldc7_trg2.v2.3.1.20250312-1-gc1f0fe5.HE.sophronia.h5', 'run_15107_1519_ldc7_trg2.v2.3.1.20250312-1-gc1f0fe5.HE.sophronia.h5', 'run_15107_0277_ldc7_trg2.v2.3.1.20250312-1-gc1f0fe5.HE.sophronia.h5', 'run_15107_0368_ldc7_trg2.v2.3.1.20250312-1-gc1f0fe5.HE.sophronia.h5', 'run_15107_1452_ldc7_trg2.v2.3.1.20250312-1-gc1f0fe5.HE.sophronia.h5', 'run_15107_2243_ldc7_trg2.v2.3.1.20250312-1-gc1f0fe5.HE.sophronia.h5', 'run_15107_0884_ldc7_trg2.v2.3.1.20250312-1-gc1f0fe5.HE.sophronia.h5', 'run_15107_0320_ldc7_trg2.v2.3.1.20250312-1-gc1f0fe5.HE.sophronia.h5', 'run_15107_1586_ldc7_trg2.v2.3.1.20250312-1-gc1f0fe5.HE.sophronia.h5', 'run_15107_0669_ldc7_trg2.v2.3.1.20250312-1-gc1f0fe5.HE.sophronia.h5', 'run_15107_0106_ldc7_trg2.v2.3.1.20250312-1-gc1f0fe5.HE.sophronia.h5', 'run_15107_0165_ldc7_trg2.v2.3.1.20250312-1-gc1f0fe5.HE.sophronia.h5', 'run_15107_0506_ldc7_trg2.v2.3.1.20250312-1-gc1f0fe5.HE.sophronia.h5', 'run_15107_1360_ldc7_trg2.v2.3.1.20250312-1-gc1f0fe5.HE.sophronia.h5', 'run_15107_1174_ldc7_trg2.v2.3.1.20250312-1-gc1f0fe5.HE.sophronia.h5', 'run_15107_1715_ldc7_trg2.v2.3.1.20250312-1-gc1f0fe5.HE.sophronia.h5', 'run_15107_0363_ldc7_trg2.v2.3.1.20250312-1-gc1f0fe5.HE.sophronia.h5', 'run_15107_1222_ldc7_trg2.v2.3.1.20250312-1-gc1f0fe5.HE.sophronia.h5', 'run_15107_0832_ldc7_trg2.v2.3.1.20250312-1-gc1f0fe5.HE.sophronia.h5', 'run_15107_0029_ldc7_trg2.v2.3.1.20250312-1-gc1f0fe5.HE.sophronia.h5', 'run_15107_0629_ldc7_trg2.v2.3.1.20250312-1-gc1f0fe5.HE.sophronia.h5', 'run_15107_0542_ldc7_trg2.v2.3.1.20250312-1-gc1f0fe5.HE.sophronia.h5', 'run_15107_2231_ldc7_trg2.v2.3.1.20250312-1-gc1f0fe5.HE.sophronia.h5', 'run_15107_1698_ldc7_trg2.v2.3.1.20250312-1-gc1f0fe5.HE.sophronia.h5', 'run_15107_0411_ldc7_trg2.v2.3.1.20250312-1-gc1f0fe5.HE.sophronia.h5', 'run_15107_0433_ldc7_trg2.v2.3.1.20250312-1-gc1f0fe5.HE.sophronia.h5', 'run_15107_0574_ldc7_trg2.v2.3.1.20250312-1-gc1f0fe5.HE.sophronia.h5', 'run_15107_0304_ldc7_trg2.v2.3.1.20250312-1-gc1f0fe5.HE.sophronia.h5', 'run_15107_2112_ldc7_trg2.v2.3.1.20250312-1-gc1f0fe5.HE.sophronia.h5', 'run_15107_0814_ldc7_trg2.v2.3.1.20250312-1-gc1f0fe5.HE.sophronia.h5', 'run_15107_1845_ldc7_trg2.v2.3.1.20250312-1-gc1f0fe5.HE.sophronia.h5', 'run_15107_2176_ldc7_trg2.v2.3.1.20250312-1-gc1f0fe5.HE.sophronia.h5', 'run_15107_1774_ldc7_trg2.v2.3.1.20250312-1-gc1f0fe5.HE.sophronia.h5', 'run_15107_1209_ldc7_trg2.v2.3.1.20250312-1-gc1f0fe5.HE.sophronia.h5', 'run_15107_0580_ldc7_trg2.v2.3.1.20250312-1-gc1f0fe5.HE.sophronia.h5', 'run_15107_0924_ldc7_trg2.v2.3.1.20250312-1-gc1f0fe5.HE.sophronia.h5', 'run_15107_1992_ldc7_trg2.v2.3.1.20250312-1-gc1f0fe5.HE.sophronia.h5', 'run_15107_0202_ldc7_trg2.v2.3.1.20250312-1-gc1f0fe5.HE.sophronia.h5', 'run_15107_1650_ldc7_trg2.v2.3.1.20250312-1-gc1f0fe5.HE.sophronia.h5', 'run_15107_0403_ldc7_trg2.v2.3.1.20250312-1-gc1f0fe5.HE.sophronia.h5', 'run_15107_0349_ldc7_trg2.v2.3.1.20250312-1-gc1f0fe5.HE.sophronia.h5', 'run_15107_1117_ldc7_trg2.v2.3.1.20250312-1-gc1f0fe5.HE.sophronia.h5', 'run_15107_0532_ldc7_trg2.v2.3.1.20250312-1-gc1f0fe5.HE.sophronia.h5', 'run_15107_0164_ldc7_trg2.v2.3.1.20250312-1-gc1f0fe5.HE.sophronia.h5', 'run_15107_2202_ldc7_trg2.v2.3.1.20250312-1-gc1f0fe5.HE.sophronia.h5', 'run_15107_1181_ldc7_trg2.v2.3.1.20250312-1-gc1f0fe5.HE.sophronia.h5', 'run_15107_1283_ldc7_trg2.v2.3.1.20250312-1-gc1f0fe5.HE.sophronia.h5', 'run_15107_1542_ldc7_trg2.v2.3.1.20250312-1-gc1f0fe5.HE.sophronia.h5', 'run_15107_1359_ldc7_trg2.v2.3.1.20250312-1-gc1f0fe5.HE.sophronia.h5', 'run_15107_1696_ldc7_trg2.v2.3.1.20250312-1-gc1f0fe5.HE.sophronia.h5', 'run_15107_1420_ldc7_trg2.v2.3.1.20250312-1-gc1f0fe5.HE.sophronia.h5', 'run_15107_1264_ldc7_trg2.v2.3.1.20250312-1-gc1f0fe5.HE.sophronia.h5', 'run_15107_0062_ldc7_trg2.v2.3.1.20250312-1-gc1f0fe5.HE.sophronia.h5', 'run_15107_0732_ldc7_trg2.v2.3.1.20250312-1-gc1f0fe5.HE.sophronia.h5', 'run_15107_1187_ldc7_trg2.v2.3.1.20250312-1-gc1f0fe5.HE.sophronia.h5', 'run_15107_1969_ldc7_trg2.v2.3.1.20250312-1-gc1f0fe5.HE.sophronia.h5', 'run_15107_0651_ldc7_trg2.v2.3.1.20250312-1-gc1f0fe5.HE.sophronia.h5', 'run_15107_1991_ldc7_trg2.v2.3.1.20250312-1-gc1f0fe5.HE.sophronia.h5', 'run_15107_0949_ldc7_trg2.v2.3.1.20250312-1-gc1f0fe5.HE.sophronia.h5', 'run_15107_0915_ldc7_trg2.v2.3.1.20250312-1-gc1f0fe5.HE.sophronia.h5', 'run_15107_1447_ldc7_trg2.v2.3.1.20250312-1-gc1f0fe5.HE.sophronia.h5', 'run_15107_0088_ldc7_trg2.v2.3.1.20250312-1-gc1f0fe5.HE.sophronia.h5', 'run_15107_0284_ldc7_trg2.v2.3.1.20250312-1-gc1f0fe5.HE.sophronia.h5', 'run_15107_1712_ldc7_trg2.v2.3.1.20250312-1-gc1f0fe5.HE.sophronia.h5', 'run_15107_0394_ldc7_trg2.v2.3.1.20250312-1-gc1f0fe5.HE.sophronia.h5', 'run_15107_1338_ldc7_trg2.v2.3.1.20250312-1-gc1f0fe5.HE.sophronia.h5', 'run_15107_0663_ldc7_trg2.v2.3.1.20250312-1-gc1f0fe5.HE.sophronia.h5', 'run_15107_0295_ldc7_trg2.v2.3.1.20250312-1-gc1f0fe5.HE.sophronia.h5', 'run_15107_1860_ldc7_trg2.v2.3.1.20250312-1-gc1f0fe5.HE.sophronia.h5', 'run_15107_1666_ldc7_trg2.v2.3.1.20250312-1-gc1f0fe5.HE.sophronia.h5', 'run_15107_1377_ldc7_trg2.v2.3.1.20250312-1-gc1f0fe5.HE.sophronia.h5', 'run_15107_1500_ldc7_trg2.v2.3.1.20250312-1-gc1f0fe5.HE.sophronia.h5', 'run_15107_0639_ldc7_trg2.v2.3.1.20250312-1-gc1f0fe5.HE.sophronia.h5', 'run_15107_0111_ldc7_trg2.v2.3.1.20250312-1-gc1f0fe5.HE.sophronia.h5', 'run_15107_0625_ldc7_trg2.v2.3.1.20250312-1-gc1f0fe5.HE.sophronia.h5', 'run_15107_0912_ldc7_trg2.v2.3.1.20250312-1-gc1f0fe5.HE.sophronia.h5', 'run_15107_0245_ldc7_trg2.v2.3.1.20250312-1-gc1f0fe5.HE.sophronia.h5', 'run_15107_1066_ldc7_trg2.v2.3.1.20250312-1-gc1f0fe5.HE.sophronia.h5', 'run_15107_1817_ldc7_trg2.v2.3.1.20250312-1-gc1f0fe5.HE.sophronia.h5', 'run_15107_0242_ldc7_trg2.v2.3.1.20250312-1-gc1f0fe5.HE.sophronia.h5', 'run_15107_1941_ldc7_trg2.v2.3.1.20250312-1-gc1f0fe5.HE.sophronia.h5', 'run_15107_1706_ldc7_trg2.v2.3.1.20250312-1-gc1f0fe5.HE.sophronia.h5', 'run_15107_0031_ldc7_trg2.v2.3.1.20250312-1-gc1f0fe5.HE.sophronia.h5', 'run_15107_1974_ldc7_trg2.v2.3.1.20250312-1-gc1f0fe5.HE.sophronia.h5', 'run_15107_0942_ldc7_trg2.v2.3.1.20250312-1-gc1f0fe5.HE.sophronia.h5', 'run_15107_0456_ldc7_trg2.v2.3.1.20250312-1-gc1f0fe5.HE.sophronia.h5', 'run_15107_2227_ldc7_trg2.v2.3.1.20250312-1-gc1f0fe5.HE.sophronia.h5', 'run_15107_1364_ldc7_trg2.v2.3.1.20250312-1-gc1f0fe5.HE.sophronia.h5', 'run_15107_0670_ldc7_trg2.v2.3.1.20250312-1-gc1f0fe5.HE.sophronia.h5', 'run_15107_1899_ldc7_trg2.v2.3.1.20250312-1-gc1f0fe5.HE.sophronia.h5', 'run_15107_0658_ldc7_trg2.v2.3.1.20250312-1-gc1f0fe5.HE.sophronia.h5', 'run_15107_0072_ldc7_trg2.v2.3.1.20250312-1-gc1f0fe5.HE.sophronia.h5', 'run_15107_2082_ldc7_trg2.v2.3.1.20250312-1-gc1f0fe5.HE.sophronia.h5', 'run_15107_0886_ldc7_trg2.v2.3.1.20250312-1-gc1f0fe5.HE.sophronia.h5', 'run_15107_1016_ldc7_trg2.v2.3.1.20250312-1-gc1f0fe5.HE.sophronia.h5', 'run_15107_0951_ldc7_trg2.v2.3.1.20250312-1-gc1f0fe5.HE.sophronia.h5', 'run_15107_1141_ldc7_trg2.v2.3.1.20250312-1-gc1f0fe5.HE.sophronia.h5', 'run_15107_1195_ldc7_trg2.v2.3.1.20250312-1-gc1f0fe5.HE.sophronia.h5', 'run_15107_1921_ldc7_trg2.v2.3.1.20250312-1-gc1f0fe5.HE.sophronia.h5', 'run_15107_0730_ldc7_trg2.v2.3.1.20250312-1-gc1f0fe5.HE.sophronia.h5', 'run_15107_2163_ldc7_trg2.v2.3.1.20250312-1-gc1f0fe5.HE.sophronia.h5', 'run_15107_0140_ldc7_trg2.v2.3.1.20250312-1-gc1f0fe5.HE.sophronia.h5', 'run_15107_0847_ldc7_trg2.v2.3.1.20250312-1-gc1f0fe5.HE.sophronia.h5', 'run_15107_1977_ldc7_trg2.v2.3.1.20250312-1-gc1f0fe5.HE.sophronia.h5', 'run_15107_1831_ldc7_trg2.v2.3.1.20250312-1-gc1f0fe5.HE.sophronia.h5', 'run_15107_0091_ldc7_trg2.v2.3.1.20250312-1-gc1f0fe5.HE.sophronia.h5', 'run_15107_1766_ldc7_trg2.v2.3.1.20250312-1-gc1f0fe5.HE.sophronia.h5', 'run_15107_1121_ldc7_trg2.v2.3.1.20250312-1-gc1f0fe5.HE.sophronia.h5', 'run_15107_1226_ldc7_trg2.v2.3.1.20250312-1-gc1f0fe5.HE.sophronia.h5', 'run_15107_0685_ldc7_trg2.v2.3.1.20250312-1-gc1f0fe5.HE.sophronia.h5', 'run_15107_0741_ldc7_trg2.v2.3.1.20250312-1-gc1f0fe5.HE.sophronia.h5', 'run_15107_0498_ldc7_trg2.v2.3.1.20250312-1-gc1f0fe5.HE.sophronia.h5', 'run_15107_0862_ldc7_trg2.v2.3.1.20250312-1-gc1f0fe5.HE.sophronia.h5', 'run_15107_1596_ldc7_trg2.v2.3.1.20250312-1-gc1f0fe5.HE.sophronia.h5', 'run_15107_1828_ldc7_trg2.v2.3.1.20250312-1-gc1f0fe5.HE.sophronia.h5', 'run_15107_0878_ldc7_trg2.v2.3.1.20250312-1-gc1f0fe5.HE.sophronia.h5', 'run_15107_0043_ldc7_trg2.v2.3.1.20250312-1-gc1f0fe5.HE.sophronia.h5', 'run_15107_0984_ldc7_trg2.v2.3.1.20250312-1-gc1f0fe5.HE.sophronia.h5', 'run_15107_1491_ldc7_trg2.v2.3.1.20250312-1-gc1f0fe5.HE.sophronia.h5', 'run_15107_2233_ldc7_trg2.v2.3.1.20250312-1-gc1f0fe5.HE.sophronia.h5', 'run_15107_0364_ldc7_trg2.v2.3.1.20250312-1-gc1f0fe5.HE.sophronia.h5', 'run_15107_1759_ldc7_trg2.v2.3.1.20250312-1-gc1f0fe5.HE.sophronia.h5', 'run_15107_0719_ldc7_trg2.v2.3.1.20250312-1-gc1f0fe5.HE.sophronia.h5', 'run_15107_1418_ldc7_trg2.v2.3.1.20250312-1-gc1f0fe5.HE.sophronia.h5', 'run_15107_1763_ldc7_trg2.v2.3.1.20250312-1-gc1f0fe5.HE.sophronia.h5', 'run_15107_1149_ldc7_trg2.v2.3.1.20250312-1-gc1f0fe5.HE.sophronia.h5', 'run_15107_1781_ldc7_trg2.v2.3.1.20250312-1-gc1f0fe5.HE.sophronia.h5', 'run_15107_0999_ldc7_trg2.v2.3.1.20250312-1-gc1f0fe5.HE.sophronia.h5', 'run_15107_1332_ldc7_trg2.v2.3.1.20250312-1-gc1f0fe5.HE.sophronia.h5', 'run_15107_0095_ldc7_trg2.v2.3.1.20250312-1-gc1f0fe5.HE.sophronia.h5', 'run_15107_1669_ldc7_trg2.v2.3.1.20250312-1-gc1f0fe5.HE.sophronia.h5', 'run_15107_0560_ldc7_trg2.v2.3.1.20250312-1-gc1f0fe5.HE.sophronia.h5', 'run_15107_2132_ldc7_trg2.v2.3.1.20250312-1-gc1f0fe5.HE.sophronia.h5', 'run_15107_1699_ldc7_trg2.v2.3.1.20250312-1-gc1f0fe5.HE.sophronia.h5', 'run_15107_1233_ldc7_trg2.v2.3.1.20250312-1-gc1f0fe5.HE.sophronia.h5', 'run_15107_0797_ldc7_trg2.v2.3.1.20250312-1-gc1f0fe5.HE.sophronia.h5', 'run_15107_2162_ldc7_trg2.v2.3.1.20250312-1-gc1f0fe5.HE.sophronia.h5', 'run_15107_1307_ldc7_trg2.v2.3.1.20250312-1-gc1f0fe5.HE.sophronia.h5', 'run_15107_2111_ldc7_trg2.v2.3.1.20250312-1-gc1f0fe5.HE.sophronia.h5', 'run_15107_0415_ldc7_trg2.v2.3.1.20250312-1-gc1f0fe5.HE.sophronia.h5', 'run_15107_1194_ldc7_trg2.v2.3.1.20250312-1-gc1f0fe5.HE.sophronia.h5', 'run_15107_0367_ldc7_trg2.v2.3.1.20250312-1-gc1f0fe5.HE.sophronia.h5', 'run_15107_1702_ldc7_trg2.v2.3.1.20250312-1-gc1f0fe5.HE.sophronia.h5', 'run_15107_0944_ldc7_trg2.v2.3.1.20250312-1-gc1f0fe5.HE.sophronia.h5', 'run_15107_0272_ldc7_trg2.v2.3.1.20250312-1-gc1f0fe5.HE.sophronia.h5', 'run_15107_1085_ldc7_trg2.v2.3.1.20250312-1-gc1f0fe5.HE.sophronia.h5', 'run_15107_0731_ldc7_trg2.v2.3.1.20250312-1-gc1f0fe5.HE.sophronia.h5', 'run_15107_0406_ldc7_trg2.v2.3.1.20250312-1-gc1f0fe5.HE.sophronia.h5', 'run_15107_2234_ldc7_trg2.v2.3.1.20250312-1-gc1f0fe5.HE.sophronia.h5', 'run_15107_0709_ldc7_trg2.v2.3.1.20250312-1-gc1f0fe5.HE.sophronia.h5', 'run_15107_1107_ldc7_trg2.v2.3.1.20250312-1-gc1f0fe5.HE.sophronia.h5', 'run_15107_0444_ldc7_trg2.v2.3.1.20250312-1-gc1f0fe5.HE.sophronia.h5', 'run_15107_1173_ldc7_trg2.v2.3.1.20250312-1-gc1f0fe5.HE.sophronia.h5', 'run_15107_1690_ldc7_trg2.v2.3.1.20250312-1-gc1f0fe5.HE.sophronia.h5', 'run_15107_1511_ldc7_trg2.v2.3.1.20250312-1-gc1f0fe5.HE.sophronia.h5', 'run_15107_0948_ldc7_trg2.v2.3.1.20250312-1-gc1f0fe5.HE.sophronia.h5', 'run_15107_1877_ldc7_trg2.v2.3.1.20250312-1-gc1f0fe5.HE.sophronia.h5', 'run_15107_2213_ldc7_trg2.v2.3.1.20250312-1-gc1f0fe5.HE.sophronia.h5', 'run_15107_1308_ldc7_trg2.v2.3.1.20250312-1-gc1f0fe5.HE.sophronia.h5', 'run_15107_1386_ldc7_trg2.v2.3.1.20250312-1-gc1f0fe5.HE.sophronia.h5', 'run_15107_1881_ldc7_trg2.v2.3.1.20250312-1-gc1f0fe5.HE.sophronia.h5', 'run_15107_1207_ldc7_trg2.v2.3.1.20250312-1-gc1f0fe5.HE.sophronia.h5', 'run_15107_1595_ldc7_trg2.v2.3.1.20250312-1-gc1f0fe5.HE.sophronia.h5', 'run_15107_1789_ldc7_trg2.v2.3.1.20250312-1-gc1f0fe5.HE.sophronia.h5', 'run_15107_2197_ldc7_trg2.v2.3.1.20250312-1-gc1f0fe5.HE.sophronia.h5', 'run_15107_1197_ldc7_trg2.v2.3.1.20250312-1-gc1f0fe5.HE.sophronia.h5', 'run_15107_1685_ldc7_trg2.v2.3.1.20250312-1-gc1f0fe5.HE.sophronia.h5', 'run_15107_1370_ldc7_trg2.v2.3.1.20250312-1-gc1f0fe5.HE.sophronia.h5', 'run_15107_0494_ldc7_trg2.v2.3.1.20250312-1-gc1f0fe5.HE.sophronia.h5', 'run_15107_0183_ldc7_trg2.v2.3.1.20250312-1-gc1f0fe5.HE.sophronia.h5', 'run_15107_0762_ldc7_trg2.v2.3.1.20250312-1-gc1f0fe5.HE.sophronia.h5', 'run_15107_2246_ldc7_trg2.v2.3.1.20250312-1-gc1f0fe5.HE.sophronia.h5', 'run_15107_1179_ldc7_trg2.v2.3.1.20250312-1-gc1f0fe5.HE.sophronia.h5', 'run_15107_1813_ldc7_trg2.v2.3.1.20250312-1-gc1f0fe5.HE.sophronia.h5', 'run_15107_1916_ldc7_trg2.v2.3.1.20250312-1-gc1f0fe5.HE.sophronia.h5', 'run_15107_0063_ldc7_trg2.v2.3.1.20250312-1-gc1f0fe5.HE.sophronia.h5', 'run_15107_0795_ldc7_trg2.v2.3.1.20250312-1-gc1f0fe5.HE.sophronia.h5', 'run_15107_1395_ldc7_trg2.v2.3.1.20250312-1-gc1f0fe5.HE.sophronia.h5', 'run_15107_0109_ldc7_trg2.v2.3.1.20250312-1-gc1f0fe5.HE.sophronia.h5', 'run_15107_0632_ldc7_trg2.v2.3.1.20250312-1-gc1f0fe5.HE.sophronia.h5', 'run_15107_1564_ldc7_trg2.v2.3.1.20250312-1-gc1f0fe5.HE.sophronia.h5', 'run_15107_0161_ldc7_trg2.v2.3.1.20250312-1-gc1f0fe5.HE.sophronia.h5', 'run_15107_1092_ldc7_trg2.v2.3.1.20250312-1-gc1f0fe5.HE.sophronia.h5', 'run_15107_0631_ldc7_trg2.v2.3.1.20250312-1-gc1f0fe5.HE.sophronia.h5', 'run_15107_0487_ldc7_trg2.v2.3.1.20250312-1-gc1f0fe5.HE.sophronia.h5', 'run_15107_1623_ldc7_trg2.v2.3.1.20250312-1-gc1f0fe5.HE.sophronia.h5', 'run_15107_1321_ldc7_trg2.v2.3.1.20250312-1-gc1f0fe5.HE.sophronia.h5', 'run_15107_1540_ldc7_trg2.v2.3.1.20250312-1-gc1f0fe5.HE.sophronia.h5', 'run_15107_0558_ldc7_trg2.v2.3.1.20250312-1-gc1f0fe5.HE.sophronia.h5', 'run_15107_1673_ldc7_trg2.v2.3.1.20250312-1-gc1f0fe5.HE.sophronia.h5', 'run_15107_0714_ldc7_trg2.v2.3.1.20250312-1-gc1f0fe5.HE.sophronia.h5', 'run_15107_1583_ldc7_trg2.v2.3.1.20250312-1-gc1f0fe5.HE.sophronia.h5', 'run_15107_0617_ldc7_trg2.v2.3.1.20250312-1-gc1f0fe5.HE.sophronia.h5', 'run_15107_1023_ldc7_trg2.v2.3.1.20250312-1-gc1f0fe5.HE.sophronia.h5', 'run_15107_1533_ldc7_trg2.v2.3.1.20250312-1-gc1f0fe5.HE.sophronia.h5', 'run_15107_0147_ldc7_trg2.v2.3.1.20250312-1-gc1f0fe5.HE.sophronia.h5', 'run_15107_1572_ldc7_trg2.v2.3.1.20250312-1-gc1f0fe5.HE.sophronia.h5', 'run_15107_1888_ldc7_trg2.v2.3.1.20250312-1-gc1f0fe5.HE.sophronia.h5', 'run_15107_0331_ldc7_trg2.v2.3.1.20250312-1-gc1f0fe5.HE.sophronia.h5', 'run_15107_2078_ldc7_trg2.v2.3.1.20250312-1-gc1f0fe5.HE.sophronia.h5', 'run_15107_1105_ldc7_trg2.v2.3.1.20250312-1-gc1f0fe5.HE.sophronia.h5', 'run_15107_0396_ldc7_trg2.v2.3.1.20250312-1-gc1f0fe5.HE.sophronia.h5', 'run_15107_1522_ldc7_trg2.v2.3.1.20250312-1-gc1f0fe5.HE.sophronia.h5', 'run_15107_1101_ldc7_trg2.v2.3.1.20250312-1-gc1f0fe5.HE.sophronia.h5', 'run_15107_1078_ldc7_trg2.v2.3.1.20250312-1-gc1f0fe5.HE.sophronia.h5', 'run_15107_0710_ldc7_trg2.v2.3.1.20250312-1-gc1f0fe5.HE.sophronia.h5', 'run_15107_1166_ldc7_trg2.v2.3.1.20250312-1-gc1f0fe5.HE.sophronia.h5', 'run_15107_1221_ldc7_trg2.v2.3.1.20250312-1-gc1f0fe5.HE.sophronia.h5', 'run_15107_1472_ldc7_trg2.v2.3.1.20250312-1-gc1f0fe5.HE.sophronia.h5', 'run_15107_1020_ldc7_trg2.v2.3.1.20250312-1-gc1f0fe5.HE.sophronia.h5', 'run_15107_1577_ldc7_trg2.v2.3.1.20250312-1-gc1f0fe5.HE.sophronia.h5', 'run_15107_1409_ldc7_trg2.v2.3.1.20250312-1-gc1f0fe5.HE.sophronia.h5', 'run_15107_0810_ldc7_trg2.v2.3.1.20250312-1-gc1f0fe5.HE.sophronia.h5', 'run_15107_0057_ldc7_trg2.v2.3.1.20250312-1-gc1f0fe5.HE.sophronia.h5', 'run_15107_1040_ldc7_trg2.v2.3.1.20250312-1-gc1f0fe5.HE.sophronia.h5', 'run_15107_1228_ldc7_trg2.v2.3.1.20250312-1-gc1f0fe5.HE.sophronia.h5', 'run_15107_1478_ldc7_trg2.v2.3.1.20250312-1-gc1f0fe5.HE.sophronia.h5', 'run_15107_0520_ldc7_trg2.v2.3.1.20250312-1-gc1f0fe5.HE.sophronia.h5', 'run_15107_0121_ldc7_trg2.v2.3.1.20250312-1-gc1f0fe5.HE.sophronia.h5', 'run_15107_0421_ldc7_trg2.v2.3.1.20250312-1-gc1f0fe5.HE.sophronia.h5', 'run_15107_1720_ldc7_trg2.v2.3.1.20250312-1-gc1f0fe5.HE.sophronia.h5', 'run_15107_0270_ldc7_trg2.v2.3.1.20250312-1-gc1f0fe5.HE.sophronia.h5', 'run_15107_0488_ldc7_trg2.v2.3.1.20250312-1-gc1f0fe5.HE.sophronia.h5', 'run_15107_1326_ldc7_trg2.v2.3.1.20250312-1-gc1f0fe5.HE.sophronia.h5', 'run_15107_1778_ldc7_trg2.v2.3.1.20250312-1-gc1f0fe5.HE.sophronia.h5', 'run_15107_1989_ldc7_trg2.v2.3.1.20250312-1-gc1f0fe5.HE.sophronia.h5', 'run_15107_1183_ldc7_trg2.v2.3.1.20250312-1-gc1f0fe5.HE.sophronia.h5', 'run_15107_0789_ldc7_trg2.v2.3.1.20250312-1-gc1f0fe5.HE.sophronia.h5', 'run_15107_1912_ldc7_trg2.v2.3.1.20250312-1-gc1f0fe5.HE.sophronia.h5', 'run_15107_0475_ldc7_trg2.v2.3.1.20250312-1-gc1f0fe5.HE.sophronia.h5', 'run_15107_1388_ldc7_trg2.v2.3.1.20250312-1-gc1f0fe5.HE.sophronia.h5', 'run_15107_1239_ldc7_trg2.v2.3.1.20250312-1-gc1f0fe5.HE.sophronia.h5', 'run_15107_1010_ldc7_trg2.v2.3.1.20250312-1-gc1f0fe5.HE.sophronia.h5', 'run_15107_1466_ldc7_trg2.v2.3.1.20250312-1-gc1f0fe5.HE.sophronia.h5', 'run_15107_0589_ldc7_trg2.v2.3.1.20250312-1-gc1f0fe5.HE.sophronia.h5', 'run_15107_0929_ldc7_trg2.v2.3.1.20250312-1-gc1f0fe5.HE.sophronia.h5', 'run_15107_1435_ldc7_trg2.v2.3.1.20250312-1-gc1f0fe5.HE.sophronia.h5', 'run_15107_0220_ldc7_trg2.v2.3.1.20250312-1-gc1f0fe5.HE.sophronia.h5', 'run_15107_0661_ldc7_trg2.v2.3.1.20250312-1-gc1f0fe5.HE.sophronia.h5', 'run_15107_2029_ldc7_trg2.v2.3.1.20250312-1-gc1f0fe5.HE.sophronia.h5', 'run_15107_1009_ldc7_trg2.v2.3.1.20250312-1-gc1f0fe5.HE.sophronia.h5', 'run_15107_0122_ldc7_trg2.v2.3.1.20250312-1-gc1f0fe5.HE.sophronia.h5', 'run_15107_1437_ldc7_trg2.v2.3.1.20250312-1-gc1f0fe5.HE.sophronia.h5', 'run_15107_0182_ldc7_trg2.v2.3.1.20250312-1-gc1f0fe5.HE.sophronia.h5', 'run_15107_2189_ldc7_trg2.v2.3.1.20250312-1-gc1f0fe5.HE.sophronia.h5', 'run_15107_1300_ldc7_trg2.v2.3.1.20250312-1-gc1f0fe5.HE.sophronia.h5', 'run_15107_0120_ldc7_trg2.v2.3.1.20250312-1-gc1f0fe5.HE.sophronia.h5', 'run_15107_0199_ldc7_trg2.v2.3.1.20250312-1-gc1f0fe5.HE.sophronia.h5', 'run_15107_1681_ldc7_trg2.v2.3.1.20250312-1-gc1f0fe5.HE.sophronia.h5', 'run_15107_0323_ldc7_trg2.v2.3.1.20250312-1-gc1f0fe5.HE.sophronia.h5', 'run_15107_1947_ldc7_trg2.v2.3.1.20250312-1-gc1f0fe5.HE.sophronia.h5', 'run_15107_1038_ldc7_trg2.v2.3.1.20250312-1-gc1f0fe5.HE.sophronia.h5', 'run_15107_0921_ldc7_trg2.v2.3.1.20250312-1-gc1f0fe5.HE.sophronia.h5', 'run_15107_1349_ldc7_trg2.v2.3.1.20250312-1-gc1f0fe5.HE.sophronia.h5', 'run_15107_1456_ldc7_trg2.v2.3.1.20250312-1-gc1f0fe5.HE.sophronia.h5', 'run_15107_1590_ldc7_trg2.v2.3.1.20250312-1-gc1f0fe5.HE.sophronia.h5', 'run_15107_1212_ldc7_trg2.v2.3.1.20250312-1-gc1f0fe5.HE.sophronia.h5', 'run_15107_2040_ldc7_trg2.v2.3.1.20250312-1-gc1f0fe5.HE.sophronia.h5', 'run_15107_1908_ldc7_trg2.v2.3.1.20250312-1-gc1f0fe5.HE.sophronia.h5', 'run_15107_2230_ldc7_trg2.v2.3.1.20250312-1-gc1f0fe5.HE.sophronia.h5', 'run_15107_1317_ldc7_trg2.v2.3.1.20250312-1-gc1f0fe5.HE.sophronia.h5', 'run_15107_1527_ldc7_trg2.v2.3.1.20250312-1-gc1f0fe5.HE.sophronia.h5', 'run_15107_1998_ldc7_trg2.v2.3.1.20250312-1-gc1f0fe5.HE.sophronia.h5', 'run_15107_0107_ldc7_trg2.v2.3.1.20250312-1-gc1f0fe5.HE.sophronia.h5', 'run_15107_0954_ldc7_trg2.v2.3.1.20250312-1-gc1f0fe5.HE.sophronia.h5', 'run_15107_0540_ldc7_trg2.v2.3.1.20250312-1-gc1f0fe5.HE.sophronia.h5', 'run_15107_2194_ldc7_trg2.v2.3.1.20250312-1-gc1f0fe5.HE.sophronia.h5', 'run_15107_0233_ldc7_trg2.v2.3.1.20250312-1-gc1f0fe5.HE.sophronia.h5', 'run_15107_1355_ldc7_trg2.v2.3.1.20250312-1-gc1f0fe5.HE.sophronia.h5', 'run_15107_0189_ldc7_trg2.v2.3.1.20250312-1-gc1f0fe5.HE.sophronia.h5', 'run_15107_2226_ldc7_trg2.v2.3.1.20250312-1-gc1f0fe5.HE.sophronia.h5', 'run_15107_1203_ldc7_trg2.v2.3.1.20250312-1-gc1f0fe5.HE.sophronia.h5', 'run_15107_1901_ldc7_trg2.v2.3.1.20250312-1-gc1f0fe5.HE.sophronia.h5', 'run_15107_1112_ldc7_trg2.v2.3.1.20250312-1-gc1f0fe5.HE.sophronia.h5', 'run_15107_1493_ldc7_trg2.v2.3.1.20250312-1-gc1f0fe5.HE.sophronia.h5', 'run_15107_0769_ldc7_trg2.v2.3.1.20250312-1-gc1f0fe5.HE.sophronia.h5', 'run_15107_1177_ldc7_trg2.v2.3.1.20250312-1-gc1f0fe5.HE.sophronia.h5', 'run_15107_1526_ldc7_trg2.v2.3.1.20250312-1-gc1f0fe5.HE.sophronia.h5', 'run_15107_0459_ldc7_trg2.v2.3.1.20250312-1-gc1f0fe5.HE.sophronia.h5', 'run_15107_1110_ldc7_trg2.v2.3.1.20250312-1-gc1f0fe5.HE.sophronia.h5', 'run_15107_1808_ldc7_trg2.v2.3.1.20250312-1-gc1f0fe5.HE.sophronia.h5', 'run_15107_1799_ldc7_trg2.v2.3.1.20250312-1-gc1f0fe5.HE.sophronia.h5', 'run_15107_1366_ldc7_trg2.v2.3.1.20250312-1-gc1f0fe5.HE.sophronia.h5', 'run_15107_1407_ldc7_trg2.v2.3.1.20250312-1-gc1f0fe5.HE.sophronia.h5', 'run_15107_0993_ldc7_trg2.v2.3.1.20250312-1-gc1f0fe5.HE.sophronia.h5', 'run_15107_0805_ldc7_trg2.v2.3.1.20250312-1-gc1f0fe5.HE.sophronia.h5', 'run_15107_0300_ldc7_trg2.v2.3.1.20250312-1-gc1f0fe5.HE.sophronia.h5', 'run_15107_1634_ldc7_trg2.v2.3.1.20250312-1-gc1f0fe5.HE.sophronia.h5', 'run_15107_0230_ldc7_trg2.v2.3.1.20250312-1-gc1f0fe5.HE.sophronia.h5', 'run_15107_0726_ldc7_trg2.v2.3.1.20250312-1-gc1f0fe5.HE.sophronia.h5', 'run_15107_0723_ldc7_trg2.v2.3.1.20250312-1-gc1f0fe5.HE.sophronia.h5', 'run_15107_1449_ldc7_trg2.v2.3.1.20250312-1-gc1f0fe5.HE.sophronia.h5', 'run_15107_1532_ldc7_trg2.v2.3.1.20250312-1-gc1f0fe5.HE.sophronia.h5', 'run_15107_2006_ldc7_trg2.v2.3.1.20250312-1-gc1f0fe5.HE.sophronia.h5', 'run_15107_1156_ldc7_trg2.v2.3.1.20250312-1-gc1f0fe5.HE.sophronia.h5', 'run_15107_2223_ldc7_trg2.v2.3.1.20250312-1-gc1f0fe5.HE.sophronia.h5', 'run_15107_1609_ldc7_trg2.v2.3.1.20250312-1-gc1f0fe5.HE.sophronia.h5', 'run_15107_1029_ldc7_trg2.v2.3.1.20250312-1-gc1f0fe5.HE.sophronia.h5', 'run_15107_2148_ldc7_trg2.v2.3.1.20250312-1-gc1f0fe5.HE.sophronia.h5', 'run_15107_1679_ldc7_trg2.v2.3.1.20250312-1-gc1f0fe5.HE.sophronia.h5', 'run_15107_1357_ldc7_trg2.v2.3.1.20250312-1-gc1f0fe5.HE.sophronia.h5', 'run_15107_0575_ldc7_trg2.v2.3.1.20250312-1-gc1f0fe5.HE.sophronia.h5', 'run_15107_1868_ldc7_trg2.v2.3.1.20250312-1-gc1f0fe5.HE.sophronia.h5', 'run_15107_2140_ldc7_trg2.v2.3.1.20250312-1-gc1f0fe5.HE.sophronia.h5', 'run_15107_0577_ldc7_trg2.v2.3.1.20250312-1-gc1f0fe5.HE.sophronia.h5', 'run_15107_2205_ldc7_trg2.v2.3.1.20250312-1-gc1f0fe5.HE.sophronia.h5', 'run_15107_0869_ldc7_trg2.v2.3.1.20250312-1-gc1f0fe5.HE.sophronia.h5', 'run_15107_0514_ldc7_trg2.v2.3.1.20250312-1-gc1f0fe5.HE.sophronia.h5', 'run_15107_0743_ldc7_trg2.v2.3.1.20250312-1-gc1f0fe5.HE.sophronia.h5', 'run_15107_1018_ldc7_trg2.v2.3.1.20250312-1-gc1f0fe5.HE.sophronia.h5', 'run_15107_0469_ldc7_trg2.v2.3.1.20250312-1-gc1f0fe5.HE.sophronia.h5', 'run_15107_1917_ldc7_trg2.v2.3.1.20250312-1-gc1f0fe5.HE.sophronia.h5', 'run_15107_0713_ldc7_trg2.v2.3.1.20250312-1-gc1f0fe5.HE.sophronia.h5', 'run_15107_0643_ldc7_trg2.v2.3.1.20250312-1-gc1f0fe5.HE.sophronia.h5', 'run_15107_0609_ldc7_trg2.v2.3.1.20250312-1-gc1f0fe5.HE.sophronia.h5', 'run_15107_1215_ldc7_trg2.v2.3.1.20250312-1-gc1f0fe5.HE.sophronia.h5', 'run_15107_1607_ldc7_trg2.v2.3.1.20250312-1-gc1f0fe5.HE.sophronia.h5', 'run_15107_1604_ldc7_trg2.v2.3.1.20250312-1-gc1f0fe5.HE.sophronia.h5', 'run_15107_1005_ldc7_trg2.v2.3.1.20250312-1-gc1f0fe5.HE.sophronia.h5', 'run_15107_1225_ldc7_trg2.v2.3.1.20250312-1-gc1f0fe5.HE.sophronia.h5', 'run_15107_1821_ldc7_trg2.v2.3.1.20250312-1-gc1f0fe5.HE.sophronia.h5', 'run_15107_1956_ldc7_trg2.v2.3.1.20250312-1-gc1f0fe5.HE.sophronia.h5', 'run_15107_2069_ldc7_trg2.v2.3.1.20250312-1-gc1f0fe5.HE.sophronia.h5', 'run_15107_0138_ldc7_trg2.v2.3.1.20250312-1-gc1f0fe5.HE.sophronia.h5', 'run_15107_1620_ldc7_trg2.v2.3.1.20250312-1-gc1f0fe5.HE.sophronia.h5', 'run_15107_0593_ldc7_trg2.v2.3.1.20250312-1-gc1f0fe5.HE.sophronia.h5', 'run_15107_2137_ldc7_trg2.v2.3.1.20250312-1-gc1f0fe5.HE.sophronia.h5', 'run_15107_1342_ldc7_trg2.v2.3.1.20250312-1-gc1f0fe5.HE.sophronia.h5', 'run_15107_1026_ldc7_trg2.v2.3.1.20250312-1-gc1f0fe5.HE.sophronia.h5', 'run_15107_2199_ldc7_trg2.v2.3.1.20250312-1-gc1f0fe5.HE.sophronia.h5', 'run_15107_0425_ldc7_trg2.v2.3.1.20250312-1-gc1f0fe5.HE.sophronia.h5', 'run_15107_0543_ldc7_trg2.v2.3.1.20250312-1-gc1f0fe5.HE.sophronia.h5', 'run_15107_1996_ldc7_trg2.v2.3.1.20250312-1-gc1f0fe5.HE.sophronia.h5', 'run_15107_1887_ldc7_trg2.v2.3.1.20250312-1-gc1f0fe5.HE.sophronia.h5', 'run_15107_0800_ldc7_trg2.v2.3.1.20250312-1-gc1f0fe5.HE.sophronia.h5', 'run_15107_0694_ldc7_trg2.v2.3.1.20250312-1-gc1f0fe5.HE.sophronia.h5', 'run_15107_1861_ldc7_trg2.v2.3.1.20250312-1-gc1f0fe5.HE.sophronia.h5', 'run_15107_0816_ldc7_trg2.v2.3.1.20250312-1-gc1f0fe5.HE.sophronia.h5', 'run_15107_0974_ldc7_trg2.v2.3.1.20250312-1-gc1f0fe5.HE.sophronia.h5', 'run_15107_0605_ldc7_trg2.v2.3.1.20250312-1-gc1f0fe5.HE.sophronia.h5', 'run_15107_1044_ldc7_trg2.v2.3.1.20250312-1-gc1f0fe5.HE.sophronia.h5', 'run_15107_1469_ldc7_trg2.v2.3.1.20250312-1-gc1f0fe5.HE.sophronia.h5', 'run_15107_1376_ldc7_trg2.v2.3.1.20250312-1-gc1f0fe5.HE.sophronia.h5', 'run_15107_0604_ldc7_trg2.v2.3.1.20250312-1-gc1f0fe5.HE.sophronia.h5', 'run_15107_2077_ldc7_trg2.v2.3.1.20250312-1-gc1f0fe5.HE.sophronia.h5', 'run_15107_1805_ldc7_trg2.v2.3.1.20250312-1-gc1f0fe5.HE.sophronia.h5', 'run_15107_1849_ldc7_trg2.v2.3.1.20250312-1-gc1f0fe5.HE.sophronia.h5', 'run_15107_1053_ldc7_trg2.v2.3.1.20250312-1-gc1f0fe5.HE.sophronia.h5', 'run_15107_0343_ldc7_trg2.v2.3.1.20250312-1-gc1f0fe5.HE.sophronia.h5', 'run_15107_0342_ldc7_trg2.v2.3.1.20250312-1-gc1f0fe5.HE.sophronia.h5', 'run_15107_1220_ldc7_trg2.v2.3.1.20250312-1-gc1f0fe5.HE.sophronia.h5', 'run_15107_0989_ldc7_trg2.v2.3.1.20250312-1-gc1f0fe5.HE.sophronia.h5', 'run_15107_1091_ldc7_trg2.v2.3.1.20250312-1-gc1f0fe5.HE.sophronia.h5', 'run_15107_0014_ldc7_trg2.v2.3.1.20250312-1-gc1f0fe5.HE.sophronia.h5', 'run_15107_1007_ldc7_trg2.v2.3.1.20250312-1-gc1f0fe5.HE.sophronia.h5', 'run_15107_0291_ldc7_trg2.v2.3.1.20250312-1-gc1f0fe5.HE.sophronia.h5', 'run_15107_0524_ldc7_trg2.v2.3.1.20250312-1-gc1f0fe5.HE.sophronia.h5', 'run_15107_1961_ldc7_trg2.v2.3.1.20250312-1-gc1f0fe5.HE.sophronia.h5', 'run_15107_2087_ldc7_trg2.v2.3.1.20250312-1-gc1f0fe5.HE.sophronia.h5', 'run_15107_0495_ldc7_trg2.v2.3.1.20250312-1-gc1f0fe5.HE.sophronia.h5', 'run_15107_0541_ldc7_trg2.v2.3.1.20250312-1-gc1f0fe5.HE.sophronia.h5', 'run_15107_0887_ldc7_trg2.v2.3.1.20250312-1-gc1f0fe5.HE.sophronia.h5', 'run_15107_1352_ldc7_trg2.v2.3.1.20250312-1-gc1f0fe5.HE.sophronia.h5', 'run_15107_1795_ldc7_trg2.v2.3.1.20250312-1-gc1f0fe5.HE.sophronia.h5', 'run_15107_0690_ldc7_trg2.v2.3.1.20250312-1-gc1f0fe5.HE.sophronia.h5', 'run_15107_1408_ldc7_trg2.v2.3.1.20250312-1-gc1f0fe5.HE.sophronia.h5', 'run_15107_2217_ldc7_trg2.v2.3.1.20250312-1-gc1f0fe5.HE.sophronia.h5', 'run_15107_0133_ldc7_trg2.v2.3.1.20250312-1-gc1f0fe5.HE.sophronia.h5', 'run_15107_1516_ldc7_trg2.v2.3.1.20250312-1-gc1f0fe5.HE.sophronia.h5', 'run_15107_1270_ldc7_trg2.v2.3.1.20250312-1-gc1f0fe5.HE.sophronia.h5', 'run_15107_1953_ldc7_trg2.v2.3.1.20250312-1-gc1f0fe5.HE.sophronia.h5', 'run_15107_1060_ldc7_trg2.v2.3.1.20250312-1-gc1f0fe5.HE.sophronia.h5', 'run_15107_0312_ldc7_trg2.v2.3.1.20250312-1-gc1f0fe5.HE.sophronia.h5', 'run_15107_2012_ldc7_trg2.v2.3.1.20250312-1-gc1f0fe5.HE.sophronia.h5', 'run_15107_1477_ldc7_trg2.v2.3.1.20250312-1-gc1f0fe5.HE.sophronia.h5', 'run_15107_0083_ldc7_trg2.v2.3.1.20250312-1-gc1f0fe5.HE.sophronia.h5', 'run_15107_1286_ldc7_trg2.v2.3.1.20250312-1-gc1f0fe5.HE.sophronia.h5', 'run_15107_2130_ldc7_trg2.v2.3.1.20250312-1-gc1f0fe5.HE.sophronia.h5', 'run_15107_0616_ldc7_trg2.v2.3.1.20250312-1-gc1f0fe5.HE.sophronia.h5', 'run_15107_2051_ldc7_trg2.v2.3.1.20250312-1-gc1f0fe5.HE.sophronia.h5', 'run_15107_0932_ldc7_trg2.v2.3.1.20250312-1-gc1f0fe5.HE.sophronia.h5', 'run_15107_0765_ldc7_trg2.v2.3.1.20250312-1-gc1f0fe5.HE.sophronia.h5', 'run_15107_1869_ldc7_trg2.v2.3.1.20250312-1-gc1f0fe5.HE.sophronia.h5', 'run_15107_0123_ldc7_trg2.v2.3.1.20250312-1-gc1f0fe5.HE.sophronia.h5', 'run_15107_0923_ldc7_trg2.v2.3.1.20250312-1-gc1f0fe5.HE.sophronia.h5', 'run_15107_1686_ldc7_trg2.v2.3.1.20250312-1-gc1f0fe5.HE.sophronia.h5', 'run_15107_2211_ldc7_trg2.v2.3.1.20250312-1-gc1f0fe5.HE.sophronia.h5', 'run_15107_1630_ldc7_trg2.v2.3.1.20250312-1-gc1f0fe5.HE.sophronia.h5', 'run_15107_0327_ldc7_trg2.v2.3.1.20250312-1-gc1f0fe5.HE.sophronia.h5', 'run_15107_0777_ldc7_trg2.v2.3.1.20250312-1-gc1f0fe5.HE.sophronia.h5', 'run_15107_2144_ldc7_trg2.v2.3.1.20250312-1-gc1f0fe5.HE.sophronia.h5', 'run_15107_0555_ldc7_trg2.v2.3.1.20250312-1-gc1f0fe5.HE.sophronia.h5', 'run_15107_0633_ldc7_trg2.v2.3.1.20250312-1-gc1f0fe5.HE.sophronia.h5', 'run_15107_0066_ldc7_trg2.v2.3.1.20250312-1-gc1f0fe5.HE.sophronia.h5', 'run_15107_1667_ldc7_trg2.v2.3.1.20250312-1-gc1f0fe5.HE.sophronia.h5', 'run_15107_0353_ldc7_trg2.v2.3.1.20250312-1-gc1f0fe5.HE.sophronia.h5', 'run_15107_2042_ldc7_trg2.v2.3.1.20250312-1-gc1f0fe5.HE.sophronia.h5', 'run_15107_1168_ldc7_trg2.v2.3.1.20250312-1-gc1f0fe5.HE.sophronia.h5', 'run_15107_0085_ldc7_trg2.v2.3.1.20250312-1-gc1f0fe5.HE.sophronia.h5', 'run_15107_0861_ldc7_trg2.v2.3.1.20250312-1-gc1f0fe5.HE.sophronia.h5', 'run_15107_0536_ldc7_trg2.v2.3.1.20250312-1-gc1f0fe5.HE.sophronia.h5', 'run_15107_2117_ldc7_trg2.v2.3.1.20250312-1-gc1f0fe5.HE.sophronia.h5', 'run_15107_0521_ldc7_trg2.v2.3.1.20250312-1-gc1f0fe5.HE.sophronia.h5', 'run_15107_0067_ldc7_trg2.v2.3.1.20250312-1-gc1f0fe5.HE.sophronia.h5', 'run_15107_2086_ldc7_trg2.v2.3.1.20250312-1-gc1f0fe5.HE.sophronia.h5', 'run_15107_1753_ldc7_trg2.v2.3.1.20250312-1-gc1f0fe5.HE.sophronia.h5', 'run_15107_1710_ldc7_trg2.v2.3.1.20250312-1-gc1f0fe5.HE.sophronia.h5', 'run_15107_1613_ldc7_trg2.v2.3.1.20250312-1-gc1f0fe5.HE.sophronia.h5', 'run_15107_0446_ldc7_trg2.v2.3.1.20250312-1-gc1f0fe5.HE.sophronia.h5', 'run_15107_0892_ldc7_trg2.v2.3.1.20250312-1-gc1f0fe5.HE.sophronia.h5', 'run_15107_1198_ldc7_trg2.v2.3.1.20250312-1-gc1f0fe5.HE.sophronia.h5', 'run_15107_0435_ldc7_trg2.v2.3.1.20250312-1-gc1f0fe5.HE.sophronia.h5', 'run_15107_2126_ldc7_trg2.v2.3.1.20250312-1-gc1f0fe5.HE.sophronia.h5', 'run_15107_0235_ldc7_trg2.v2.3.1.20250312-1-gc1f0fe5.HE.sophronia.h5', 'run_15107_0711_ldc7_trg2.v2.3.1.20250312-1-gc1f0fe5.HE.sophronia.h5', 'run_15107_1983_ldc7_trg2.v2.3.1.20250312-1-gc1f0fe5.HE.sophronia.h5', 'run_15107_1074_ldc7_trg2.v2.3.1.20250312-1-gc1f0fe5.HE.sophronia.h5', 'run_15107_0770_ldc7_trg2.v2.3.1.20250312-1-gc1f0fe5.HE.sophronia.h5', 'run_15107_1853_ldc7_trg2.v2.3.1.20250312-1-gc1f0fe5.HE.sophronia.h5', 'run_15107_2218_ldc7_trg2.v2.3.1.20250312-1-gc1f0fe5.HE.sophronia.h5', 'run_15107_1013_ldc7_trg2.v2.3.1.20250312-1-gc1f0fe5.HE.sophronia.h5', 'run_15107_0807_ldc7_trg2.v2.3.1.20250312-1-gc1f0fe5.HE.sophronia.h5', 'run_15107_1963_ldc7_trg2.v2.3.1.20250312-1-gc1f0fe5.HE.sophronia.h5', 'run_15107_1266_ldc7_trg2.v2.3.1.20250312-1-gc1f0fe5.HE.sophronia.h5', 'run_15107_2151_ldc7_trg2.v2.3.1.20250312-1-gc1f0fe5.HE.sophronia.h5', 'run_15107_0405_ldc7_trg2.v2.3.1.20250312-1-gc1f0fe5.HE.sophronia.h5', 'run_15107_1180_ldc7_trg2.v2.3.1.20250312-1-gc1f0fe5.HE.sophronia.h5', 'run_15107_1551_ldc7_trg2.v2.3.1.20250312-1-gc1f0fe5.HE.sophronia.h5', 'run_15107_1794_ldc7_trg2.v2.3.1.20250312-1-gc1f0fe5.HE.sophronia.h5', 'run_15107_1492_ldc7_trg2.v2.3.1.20250312-1-gc1f0fe5.HE.sophronia.h5', 'run_15107_0375_ldc7_trg2.v2.3.1.20250312-1-gc1f0fe5.HE.sophronia.h5', 'run_15107_0806_ldc7_trg2.v2.3.1.20250312-1-gc1f0fe5.HE.sophronia.h5', 'run_15107_0760_ldc7_trg2.v2.3.1.20250312-1-gc1f0fe5.HE.sophronia.h5', 'run_15107_1806_ldc7_trg2.v2.3.1.20250312-1-gc1f0fe5.HE.sophronia.h5', 'run_15107_0337_ldc7_trg2.v2.3.1.20250312-1-gc1f0fe5.HE.sophronia.h5', 'run_15107_0628_ldc7_trg2.v2.3.1.20250312-1-gc1f0fe5.HE.sophronia.h5', 'run_15107_1216_ldc7_trg2.v2.3.1.20250312-1-gc1f0fe5.HE.sophronia.h5', 'run_15107_0877_ldc7_trg2.v2.3.1.20250312-1-gc1f0fe5.HE.sophronia.h5', 'run_15107_1884_ldc7_trg2.v2.3.1.20250312-1-gc1f0fe5.HE.sophronia.h5', 'run_15107_1463_ldc7_trg2.v2.3.1.20250312-1-gc1f0fe5.HE.sophronia.h5', 'run_15107_1381_ldc7_trg2.v2.3.1.20250312-1-gc1f0fe5.HE.sophronia.h5', 'run_15107_0249_ldc7_trg2.v2.3.1.20250312-1-gc1f0fe5.HE.sophronia.h5', 'run_15107_0537_ldc7_trg2.v2.3.1.20250312-1-gc1f0fe5.HE.sophronia.h5', 'run_15107_0844_ldc7_trg2.v2.3.1.20250312-1-gc1f0fe5.HE.sophronia.h5', 'run_15107_0970_ldc7_trg2.v2.3.1.20250312-1-gc1f0fe5.HE.sophronia.h5', 'run_15107_0237_ldc7_trg2.v2.3.1.20250312-1-gc1f0fe5.HE.sophronia.h5', 'run_15107_1152_ldc7_trg2.v2.3.1.20250312-1-gc1f0fe5.HE.sophronia.h5', 'run_15107_1354_ldc7_trg2.v2.3.1.20250312-1-gc1f0fe5.HE.sophronia.h5', 'run_15107_1136_ldc7_trg2.v2.3.1.20250312-1-gc1f0fe5.HE.sophronia.h5', 'run_15107_0153_ldc7_trg2.v2.3.1.20250312-1-gc1f0fe5.HE.sophronia.h5', 'run_15107_1730_ldc7_trg2.v2.3.1.20250312-1-gc1f0fe5.HE.sophronia.h5', 'run_15107_0281_ldc7_trg2.v2.3.1.20250312-1-gc1f0fe5.HE.sophronia.h5', 'run_15107_1250_ldc7_trg2.v2.3.1.20250312-1-gc1f0fe5.HE.sophronia.h5', 'run_15107_0414_ldc7_trg2.v2.3.1.20250312-1-gc1f0fe5.HE.sophronia.h5', 'run_15107_1581_ldc7_trg2.v2.3.1.20250312-1-gc1f0fe5.HE.sophronia.h5', 'run_15107_1028_ldc7_trg2.v2.3.1.20250312-1-gc1f0fe5.HE.sophronia.h5', 'run_15107_0873_ldc7_trg2.v2.3.1.20250312-1-gc1f0fe5.HE.sophronia.h5', 'run_15107_0489_ldc7_trg2.v2.3.1.20250312-1-gc1f0fe5.HE.sophronia.h5', 'run_15107_0266_ldc7_trg2.v2.3.1.20250312-1-gc1f0fe5.HE.sophronia.h5', 'run_15107_0725_ldc7_trg2.v2.3.1.20250312-1-gc1f0fe5.HE.sophronia.h5', 'run_15107_1505_ldc7_trg2.v2.3.1.20250312-1-gc1f0fe5.HE.sophronia.h5', 'run_15107_2080_ldc7_trg2.v2.3.1.20250312-1-gc1f0fe5.HE.sophronia.h5', 'run_15107_2138_ldc7_trg2.v2.3.1.20250312-1-gc1f0fe5.HE.sophronia.h5', 'run_15107_0458_ldc7_trg2.v2.3.1.20250312-1-gc1f0fe5.HE.sophronia.h5', 'run_15107_1782_ldc7_trg2.v2.3.1.20250312-1-gc1f0fe5.HE.sophronia.h5', 'run_15107_2103_ldc7_trg2.v2.3.1.20250312-1-gc1f0fe5.HE.sophronia.h5', 'run_15107_1399_ldc7_trg2.v2.3.1.20250312-1-gc1f0fe5.HE.sophronia.h5', 'run_15107_1391_ldc7_trg2.v2.3.1.20250312-1-gc1f0fe5.HE.sophronia.h5', 'run_15107_0875_ldc7_trg2.v2.3.1.20250312-1-gc1f0fe5.HE.sophronia.h5', 'run_15107_1343_ldc7_trg2.v2.3.1.20250312-1-gc1f0fe5.HE.sophronia.h5', 'run_15107_1113_ldc7_trg2.v2.3.1.20250312-1-gc1f0fe5.HE.sophronia.h5', 'run_15107_0149_ldc7_trg2.v2.3.1.20250312-1-gc1f0fe5.HE.sophronia.h5', 'run_15107_1970_ldc7_trg2.v2.3.1.20250312-1-gc1f0fe5.HE.sophronia.h5', 'run_15107_0964_ldc7_trg2.v2.3.1.20250312-1-gc1f0fe5.HE.sophronia.h5', 'run_15107_1114_ldc7_trg2.v2.3.1.20250312-1-gc1f0fe5.HE.sophronia.h5', 'run_15107_1310_ldc7_trg2.v2.3.1.20250312-1-gc1f0fe5.HE.sophronia.h5', 'run_15107_0073_ldc7_trg2.v2.3.1.20250312-1-gc1f0fe5.HE.sophronia.h5', 'run_15107_0258_ldc7_trg2.v2.3.1.20250312-1-gc1f0fe5.HE.sophronia.h5', 'run_15107_1297_ldc7_trg2.v2.3.1.20250312-1-gc1f0fe5.HE.sophronia.h5', 'run_15107_0484_ldc7_trg2.v2.3.1.20250312-1-gc1f0fe5.HE.sophronia.h5', 'run_15107_2195_ldc7_trg2.v2.3.1.20250312-1-gc1f0fe5.HE.sophronia.h5', 'run_15107_0434_ldc7_trg2.v2.3.1.20250312-1-gc1f0fe5.HE.sophronia.h5', 'run_15107_0898_ldc7_trg2.v2.3.1.20250312-1-gc1f0fe5.HE.sophronia.h5', 'run_15107_0909_ldc7_trg2.v2.3.1.20250312-1-gc1f0fe5.HE.sophronia.h5', 'run_15107_1394_ldc7_trg2.v2.3.1.20250312-1-gc1f0fe5.HE.sophronia.h5', 'run_15107_1814_ldc7_trg2.v2.3.1.20250312-1-gc1f0fe5.HE.sophronia.h5', 'run_15107_0908_ldc7_trg2.v2.3.1.20250312-1-gc1f0fe5.HE.sophronia.h5', 'run_15107_2053_ldc7_trg2.v2.3.1.20250312-1-gc1f0fe5.HE.sophronia.h5', 'run_15107_0148_ldc7_trg2.v2.3.1.20250312-1-gc1f0fe5.HE.sophronia.h5', 'run_15107_0413_ldc7_trg2.v2.3.1.20250312-1-gc1f0fe5.HE.sophronia.h5', 'run_15107_0026_ldc7_trg2.v2.3.1.20250312-1-gc1f0fe5.HE.sophronia.h5', 'run_15107_1438_ldc7_trg2.v2.3.1.20250312-1-gc1f0fe5.HE.sophronia.h5', 'run_15107_1502_ldc7_trg2.v2.3.1.20250312-1-gc1f0fe5.HE.sophronia.h5', 'run_15107_0215_ldc7_trg2.v2.3.1.20250312-1-gc1f0fe5.HE.sophronia.h5', 'run_15107_1933_ldc7_trg2.v2.3.1.20250312-1-gc1f0fe5.HE.sophronia.h5', 'run_15107_1649_ldc7_trg2.v2.3.1.20250312-1-gc1f0fe5.HE.sophronia.h5', 'run_15107_0960_ldc7_trg2.v2.3.1.20250312-1-gc1f0fe5.HE.sophronia.h5', 'run_15107_2019_ldc7_trg2.v2.3.1.20250312-1-gc1f0fe5.HE.sophronia.h5', 'run_15107_0738_ldc7_trg2.v2.3.1.20250312-1-gc1f0fe5.HE.sophronia.h5', 'run_15107_0197_ldc7_trg2.v2.3.1.20250312-1-gc1f0fe5.HE.sophronia.h5', 'run_15107_1764_ldc7_trg2.v2.3.1.20250312-1-gc1f0fe5.HE.sophronia.h5', 'run_15107_0192_ldc7_trg2.v2.3.1.20250312-1-gc1f0fe5.HE.sophronia.h5', 'run_15107_1102_ldc7_trg2.v2.3.1.20250312-1-gc1f0fe5.HE.sophronia.h5', 'run_15107_1320_ldc7_trg2.v2.3.1.20250312-1-gc1f0fe5.HE.sophronia.h5', 'run_15107_0060_ldc7_trg2.v2.3.1.20250312-1-gc1f0fe5.HE.sophronia.h5', 'run_15107_1957_ldc7_trg2.v2.3.1.20250312-1-gc1f0fe5.HE.sophronia.h5', 'run_15107_0287_ldc7_trg2.v2.3.1.20250312-1-gc1f0fe5.HE.sophronia.h5', 'run_15107_0666_ldc7_trg2.v2.3.1.20250312-1-gc1f0fe5.HE.sophronia.h5', 'run_15107_2013_ldc7_trg2.v2.3.1.20250312-1-gc1f0fe5.HE.sophronia.h5', 'run_15107_0529_ldc7_trg2.v2.3.1.20250312-1-gc1f0fe5.HE.sophronia.h5', 'run_15107_1786_ldc7_trg2.v2.3.1.20250312-1-gc1f0fe5.HE.sophronia.h5', 'run_15107_0078_ldc7_trg2.v2.3.1.20250312-1-gc1f0fe5.HE.sophronia.h5', 'run_15107_1515_ldc7_trg2.v2.3.1.20250312-1-gc1f0fe5.HE.sophronia.h5', 'run_15107_1429_ldc7_trg2.v2.3.1.20250312-1-gc1f0fe5.HE.sophronia.h5', 'run_15107_1461_ldc7_trg2.v2.3.1.20250312-1-gc1f0fe5.HE.sophronia.h5', 'run_15107_0697_ldc7_trg2.v2.3.1.20250312-1-gc1f0fe5.HE.sophronia.h5', 'run_15107_1725_ldc7_trg2.v2.3.1.20250312-1-gc1f0fe5.HE.sophronia.h5', 'run_15107_0966_ldc7_trg2.v2.3.1.20250312-1-gc1f0fe5.HE.sophronia.h5', 'run_15107_0470_ldc7_trg2.v2.3.1.20250312-1-gc1f0fe5.HE.sophronia.h5', 'run_15107_0424_ldc7_trg2.v2.3.1.20250312-1-gc1f0fe5.HE.sophronia.h5', 'run_15107_1099_ldc7_trg2.v2.3.1.20250312-1-gc1f0fe5.HE.sophronia.h5', 'run_15107_0198_ldc7_trg2.v2.3.1.20250312-1-gc1f0fe5.HE.sophronia.h5', 'run_15107_2043_ldc7_trg2.v2.3.1.20250312-1-gc1f0fe5.HE.sophronia.h5', 'run_15107_1643_ldc7_trg2.v2.3.1.20250312-1-gc1f0fe5.HE.sophronia.h5', 'run_15107_2068_ldc7_trg2.v2.3.1.20250312-1-gc1f0fe5.HE.sophronia.h5', 'run_15107_0274_ldc7_trg2.v2.3.1.20250312-1-gc1f0fe5.HE.sophronia.h5', 'run_15107_0240_ldc7_trg2.v2.3.1.20250312-1-gc1f0fe5.HE.sophronia.h5', 'run_15107_0545_ldc7_trg2.v2.3.1.20250312-1-gc1f0fe5.HE.sophronia.h5', 'run_15107_0772_ldc7_trg2.v2.3.1.20250312-1-gc1f0fe5.HE.sophronia.h5', 'run_15107_0586_ldc7_trg2.v2.3.1.20250312-1-gc1f0fe5.HE.sophronia.h5', 'run_15107_0686_ldc7_trg2.v2.3.1.20250312-1-gc1f0fe5.HE.sophronia.h5', 'run_15107_1434_ldc7_trg2.v2.3.1.20250312-1-gc1f0fe5.HE.sophronia.h5', 'run_15107_1459_ldc7_trg2.v2.3.1.20250312-1-gc1f0fe5.HE.sophronia.h5', 'run_15107_0527_ldc7_trg2.v2.3.1.20250312-1-gc1f0fe5.HE.sophronia.h5', 'run_15107_1213_ldc7_trg2.v2.3.1.20250312-1-gc1f0fe5.HE.sophronia.h5', 'run_15107_1848_ldc7_trg2.v2.3.1.20250312-1-gc1f0fe5.HE.sophronia.h5', 'run_15107_0229_ldc7_trg2.v2.3.1.20250312-1-gc1f0fe5.HE.sophronia.h5', 'run_15107_0457_ldc7_trg2.v2.3.1.20250312-1-gc1f0fe5.HE.sophronia.h5', 'run_15107_1683_ldc7_trg2.v2.3.1.20250312-1-gc1f0fe5.HE.sophronia.h5', 'run_15107_1143_ldc7_trg2.v2.3.1.20250312-1-gc1f0fe5.HE.sophronia.h5', 'run_15107_1417_ldc7_trg2.v2.3.1.20250312-1-gc1f0fe5.HE.sophronia.h5', 'run_15107_1919_ldc7_trg2.v2.3.1.20250312-1-gc1f0fe5.HE.sophronia.h5', 'run_15107_2187_ldc7_trg2.v2.3.1.20250312-1-gc1f0fe5.HE.sophronia.h5', 'run_15107_0815_ldc7_trg2.v2.3.1.20250312-1-gc1f0fe5.HE.sophronia.h5', 'run_15107_1855_ldc7_trg2.v2.3.1.20250312-1-gc1f0fe5.HE.sophronia.h5', 'run_15107_0345_ldc7_trg2.v2.3.1.20250312-1-gc1f0fe5.HE.sophronia.h5', 'run_15107_0214_ldc7_trg2.v2.3.1.20250312-1-gc1f0fe5.HE.sophronia.h5', 'run_15107_1517_ldc7_trg2.v2.3.1.20250312-1-gc1f0fe5.HE.sophronia.h5', 'run_15107_1051_ldc7_trg2.v2.3.1.20250312-1-gc1f0fe5.HE.sophronia.h5', 'run_15107_0001_ldc7_trg2.v2.3.1.20250312-1-gc1f0fe5.HE.sophronia.h5', 'run_15107_0922_ldc7_trg2.v2.3.1.20250312-1-gc1f0fe5.HE.sophronia.h5', 'run_15107_0837_ldc7_trg2.v2.3.1.20250312-1-gc1f0fe5.HE.sophronia.h5', 'run_15107_1840_ldc7_trg2.v2.3.1.20250312-1-gc1f0fe5.HE.sophronia.h5', 'run_15107_0332_ldc7_trg2.v2.3.1.20250312-1-gc1f0fe5.HE.sophronia.h5', 'run_15107_0466_ldc7_trg2.v2.3.1.20250312-1-gc1f0fe5.HE.sophronia.h5', 'run_15107_1910_ldc7_trg2.v2.3.1.20250312-1-gc1f0fe5.HE.sophronia.h5', 'run_15107_0652_ldc7_trg2.v2.3.1.20250312-1-gc1f0fe5.HE.sophronia.h5', 'run_15107_1697_ldc7_trg2.v2.3.1.20250312-1-gc1f0fe5.HE.sophronia.h5', 'run_15107_0696_ldc7_trg2.v2.3.1.20250312-1-gc1f0fe5.HE.sophronia.h5', 'run_15107_0017_ldc7_trg2.v2.3.1.20250312-1-gc1f0fe5.HE.sophronia.h5', 'run_15107_1061_ldc7_trg2.v2.3.1.20250312-1-gc1f0fe5.HE.sophronia.h5', 'run_15107_0383_ldc7_trg2.v2.3.1.20250312-1-gc1f0fe5.HE.sophronia.h5', 'run_15107_0551_ldc7_trg2.v2.3.1.20250312-1-gc1f0fe5.HE.sophronia.h5', 'run_15107_0900_ldc7_trg2.v2.3.1.20250312-1-gc1f0fe5.HE.sophronia.h5', 'run_15107_0318_ldc7_trg2.v2.3.1.20250312-1-gc1f0fe5.HE.sophronia.h5', 'run_15107_0116_ldc7_trg2.v2.3.1.20250312-1-gc1f0fe5.HE.sophronia.h5', 'run_15107_1951_ldc7_trg2.v2.3.1.20250312-1-gc1f0fe5.HE.sophronia.h5', 'run_15107_1422_ldc7_trg2.v2.3.1.20250312-1-gc1f0fe5.HE.sophronia.h5', 'run_15107_0377_ldc7_trg2.v2.3.1.20250312-1-gc1f0fe5.HE.sophronia.h5', 'run_15107_0828_ldc7_trg2.v2.3.1.20250312-1-gc1f0fe5.HE.sophronia.h5', 'run_15107_0325_ldc7_trg2.v2.3.1.20250312-1-gc1f0fe5.HE.sophronia.h5', 'run_15107_1455_ldc7_trg2.v2.3.1.20250312-1-gc1f0fe5.HE.sophronia.h5', 'run_15107_0517_ldc7_trg2.v2.3.1.20250312-1-gc1f0fe5.HE.sophronia.h5', 'run_15107_0830_ldc7_trg2.v2.3.1.20250312-1-gc1f0fe5.HE.sophronia.h5', 'run_15107_0171_ldc7_trg2.v2.3.1.20250312-1-gc1f0fe5.HE.sophronia.h5', 'run_15107_0739_ldc7_trg2.v2.3.1.20250312-1-gc1f0fe5.HE.sophronia.h5', 'run_15107_0436_ldc7_trg2.v2.3.1.20250312-1-gc1f0fe5.HE.sophronia.h5', 'run_15107_0683_ldc7_trg2.v2.3.1.20250312-1-gc1f0fe5.HE.sophronia.h5', 'run_15107_1695_ldc7_trg2.v2.3.1.20250312-1-gc1f0fe5.HE.sophronia.h5', 'run_15107_1645_ldc7_trg2.v2.3.1.20250312-1-gc1f0fe5.HE.sophronia.h5', 'run_15107_0831_ldc7_trg2.v2.3.1.20250312-1-gc1f0fe5.HE.sophronia.h5', 'run_15107_1140_ldc7_trg2.v2.3.1.20250312-1-gc1f0fe5.HE.sophronia.h5', 'run_15107_1412_ldc7_trg2.v2.3.1.20250312-1-gc1f0fe5.HE.sophronia.h5', 'run_15107_2116_ldc7_trg2.v2.3.1.20250312-1-gc1f0fe5.HE.sophronia.h5', 'run_15107_1924_ldc7_trg2.v2.3.1.20250312-1-gc1f0fe5.HE.sophronia.h5', 'run_15107_0378_ldc7_trg2.v2.3.1.20250312-1-gc1f0fe5.HE.sophronia.h5', 'run_15107_1742_ldc7_trg2.v2.3.1.20250312-1-gc1f0fe5.HE.sophronia.h5', 'run_15107_0408_ldc7_trg2.v2.3.1.20250312-1-gc1f0fe5.HE.sophronia.h5', 'run_15107_1950_ldc7_trg2.v2.3.1.20250312-1-gc1f0fe5.HE.sophronia.h5', 'run_15107_0785_ldc7_trg2.v2.3.1.20250312-1-gc1f0fe5.HE.sophronia.h5', 'run_15107_1635_ldc7_trg2.v2.3.1.20250312-1-gc1f0fe5.HE.sophronia.h5', 'run_15107_1257_ldc7_trg2.v2.3.1.20250312-1-gc1f0fe5.HE.sophronia.h5', 'run_15107_0055_ldc7_trg2.v2.3.1.20250312-1-gc1f0fe5.HE.sophronia.h5', 'run_15107_0930_ldc7_trg2.v2.3.1.20250312-1-gc1f0fe5.HE.sophronia.h5', 'run_15107_1767_ldc7_trg2.v2.3.1.20250312-1-gc1f0fe5.HE.sophronia.h5', 'run_15107_0440_ldc7_trg2.v2.3.1.20250312-1-gc1f0fe5.HE.sophronia.h5', 'run_15107_0985_ldc7_trg2.v2.3.1.20250312-1-gc1f0fe5.HE.sophronia.h5', 'run_15107_0544_ldc7_trg2.v2.3.1.20250312-1-gc1f0fe5.HE.sophronia.h5', 'run_15107_2001_ldc7_trg2.v2.3.1.20250312-1-gc1f0fe5.HE.sophronia.h5', 'run_15107_0865_ldc7_trg2.v2.3.1.20250312-1-gc1f0fe5.HE.sophronia.h5', 'run_15107_1744_ldc7_trg2.v2.3.1.20250312-1-gc1f0fe5.HE.sophronia.h5', 'run_15107_1995_ldc7_trg2.v2.3.1.20250312-1-gc1f0fe5.HE.sophronia.h5', 'run_15107_1926_ldc7_trg2.v2.3.1.20250312-1-gc1f0fe5.HE.sophronia.h5', 'run_15107_0409_ldc7_trg2.v2.3.1.20250312-1-gc1f0fe5.HE.sophronia.h5', 'run_15107_0547_ldc7_trg2.v2.3.1.20250312-1-gc1f0fe5.HE.sophronia.h5', 'run_15107_0850_ldc7_trg2.v2.3.1.20250312-1-gc1f0fe5.HE.sophronia.h5', 'run_15107_0324_ldc7_trg2.v2.3.1.20250312-1-gc1f0fe5.HE.sophronia.h5', 'run_15107_0754_ldc7_trg2.v2.3.1.20250312-1-gc1f0fe5.HE.sophronia.h5', 'run_15107_0641_ldc7_trg2.v2.3.1.20250312-1-gc1f0fe5.HE.sophronia.h5', 'run_15107_1390_ldc7_trg2.v2.3.1.20250312-1-gc1f0fe5.HE.sophronia.h5', 'run_15107_0838_ldc7_trg2.v2.3.1.20250312-1-gc1f0fe5.HE.sophronia.h5', 'run_15107_1694_ldc7_trg2.v2.3.1.20250312-1-gc1f0fe5.HE.sophronia.h5', 'run_15107_1810_ldc7_trg2.v2.3.1.20250312-1-gc1f0fe5.HE.sophronia.h5', 'run_15107_0606_ldc7_trg2.v2.3.1.20250312-1-gc1f0fe5.HE.sophronia.h5', 'run_15107_1569_ldc7_trg2.v2.3.1.20250312-1-gc1f0fe5.HE.sophronia.h5', 'run_15107_2090_ldc7_trg2.v2.3.1.20250312-1-gc1f0fe5.HE.sophronia.h5', 'run_15107_0996_ldc7_trg2.v2.3.1.20250312-1-gc1f0fe5.HE.sophronia.h5', 'run_15107_0693_ldc7_trg2.v2.3.1.20250312-1-gc1f0fe5.HE.sophronia.h5', 'run_15107_0196_ldc7_trg2.v2.3.1.20250312-1-gc1f0fe5.HE.sophronia.h5', 'run_15107_1374_ldc7_trg2.v2.3.1.20250312-1-gc1f0fe5.HE.sophronia.h5', 'run_15107_0916_ldc7_trg2.v2.3.1.20250312-1-gc1f0fe5.HE.sophronia.h5', 'run_15107_0826_ldc7_trg2.v2.3.1.20250312-1-gc1f0fe5.HE.sophronia.h5', 'run_15107_0084_ldc7_trg2.v2.3.1.20250312-1-gc1f0fe5.HE.sophronia.h5', 'run_15107_1688_ldc7_trg2.v2.3.1.20250312-1-gc1f0fe5.HE.sophronia.h5', 'run_15107_0259_ldc7_trg2.v2.3.1.20250312-1-gc1f0fe5.HE.sophronia.h5', 'run_15107_1785_ldc7_trg2.v2.3.1.20250312-1-gc1f0fe5.HE.sophronia.h5', 'run_15107_1079_ldc7_trg2.v2.3.1.20250312-1-gc1f0fe5.HE.sophronia.h5', 'run_15107_0030_ldc7_trg2.v2.3.1.20250312-1-gc1f0fe5.HE.sophronia.h5', 'run_15107_0623_ldc7_trg2.v2.3.1.20250312-1-gc1f0fe5.HE.sophronia.h5', 'run_15107_0108_ldc7_trg2.v2.3.1.20250312-1-gc1f0fe5.HE.sophronia.h5', 'run_15107_1777_ldc7_trg2.v2.3.1.20250312-1-gc1f0fe5.HE.sophronia.h5', 'run_15107_0194_ldc7_trg2.v2.3.1.20250312-1-gc1f0fe5.HE.sophronia.h5', 'run_15107_1019_ldc7_trg2.v2.3.1.20250312-1-gc1f0fe5.HE.sophronia.h5', 'run_15107_1276_ldc7_trg2.v2.3.1.20250312-1-gc1f0fe5.HE.sophronia.h5', 'run_15107_1745_ldc7_trg2.v2.3.1.20250312-1-gc1f0fe5.HE.sophronia.h5', 'run_15107_0464_ldc7_trg2.v2.3.1.20250312-1-gc1f0fe5.HE.sophronia.h5', 'run_15107_0355_ldc7_trg2.v2.3.1.20250312-1-gc1f0fe5.HE.sophronia.h5', 'run_15107_1190_ldc7_trg2.v2.3.1.20250312-1-gc1f0fe5.HE.sophronia.h5', 'run_15107_1788_ldc7_trg2.v2.3.1.20250312-1-gc1f0fe5.HE.sophronia.h5', 'run_15107_1043_ldc7_trg2.v2.3.1.20250312-1-gc1f0fe5.HE.sophronia.h5', 'run_15107_0261_ldc7_trg2.v2.3.1.20250312-1-gc1f0fe5.HE.sophronia.h5', 'run_15107_1863_ldc7_trg2.v2.3.1.20250312-1-gc1f0fe5.HE.sophronia.h5', 'run_15107_1450_ldc7_trg2.v2.3.1.20250312-1-gc1f0fe5.HE.sophronia.h5', 'run_15107_2115_ldc7_trg2.v2.3.1.20250312-1-gc1f0fe5.HE.sophronia.h5', 'run_15107_0256_ldc7_trg2.v2.3.1.20250312-1-gc1f0fe5.HE.sophronia.h5', 'run_15107_0126_ldc7_trg2.v2.3.1.20250312-1-gc1f0fe5.HE.sophronia.h5', 'run_15107_0505_ldc7_trg2.v2.3.1.20250312-1-gc1f0fe5.HE.sophronia.h5', 'run_15107_1775_ldc7_trg2.v2.3.1.20250312-1-gc1f0fe5.HE.sophronia.h5', 'run_15107_2089_ldc7_trg2.v2.3.1.20250312-1-gc1f0fe5.HE.sophronia.h5', 'run_15107_1161_ldc7_trg2.v2.3.1.20250312-1-gc1f0fe5.HE.sophronia.h5', 'run_15107_1084_ldc7_trg2.v2.3.1.20250312-1-gc1f0fe5.HE.sophronia.h5', 'run_15107_1415_ldc7_trg2.v2.3.1.20250312-1-gc1f0fe5.HE.sophronia.h5', 'run_15107_1303_ldc7_trg2.v2.3.1.20250312-1-gc1f0fe5.HE.sophronia.h5', 'run_15107_0578_ldc7_trg2.v2.3.1.20250312-1-gc1f0fe5.HE.sophronia.h5', 'run_15107_0655_ldc7_trg2.v2.3.1.20250312-1-gc1f0fe5.HE.sophronia.h5', 'run_15107_1802_ldc7_trg2.v2.3.1.20250312-1-gc1f0fe5.HE.sophronia.h5', 'run_15107_1965_ldc7_trg2.v2.3.1.20250312-1-gc1f0fe5.HE.sophronia.h5', 'run_15107_0310_ldc7_trg2.v2.3.1.20250312-1-gc1f0fe5.HE.sophronia.h5', 'run_15107_1656_ldc7_trg2.v2.3.1.20250312-1-gc1f0fe5.HE.sophronia.h5', 'run_15107_0569_ldc7_trg2.v2.3.1.20250312-1-gc1f0fe5.HE.sophronia.h5', 'run_15107_0894_ldc7_trg2.v2.3.1.20250312-1-gc1f0fe5.HE.sophronia.h5', 'run_15107_0238_ldc7_trg2.v2.3.1.20250312-1-gc1f0fe5.HE.sophronia.h5', 'run_15107_1875_ldc7_trg2.v2.3.1.20250312-1-gc1f0fe5.HE.sophronia.h5', 'run_15107_0758_ldc7_trg2.v2.3.1.20250312-1-gc1f0fe5.HE.sophronia.h5', 'run_15107_1856_ldc7_trg2.v2.3.1.20250312-1-gc1f0fe5.HE.sophronia.h5', 'run_15107_1693_ldc7_trg2.v2.3.1.20250312-1-gc1f0fe5.HE.sophronia.h5', 'run_15107_0941_ldc7_trg2.v2.3.1.20250312-1-gc1f0fe5.HE.sophronia.h5', 'run_15107_1484_ldc7_trg2.v2.3.1.20250312-1-gc1f0fe5.HE.sophronia.h5', 'run_15107_0204_ldc7_trg2.v2.3.1.20250312-1-gc1f0fe5.HE.sophronia.h5', 'run_15107_1123_ldc7_trg2.v2.3.1.20250312-1-gc1f0fe5.HE.sophronia.h5', 'run_15107_1835_ldc7_trg2.v2.3.1.20250312-1-gc1f0fe5.HE.sophronia.h5', 'run_15107_1980_ldc7_trg2.v2.3.1.20250312-1-gc1f0fe5.HE.sophronia.h5', 'run_15107_0316_ldc7_trg2.v2.3.1.20250312-1-gc1f0fe5.HE.sophronia.h5', 'run_15107_1898_ldc7_trg2.v2.3.1.20250312-1-gc1f0fe5.HE.sophronia.h5', 'run_15107_0784_ldc7_trg2.v2.3.1.20250312-1-gc1f0fe5.HE.sophronia.h5', 'run_15107_0102_ldc7_trg2.v2.3.1.20250312-1-gc1f0fe5.HE.sophronia.h5', 'run_15107_0855_ldc7_trg2.v2.3.1.20250312-1-gc1f0fe5.HE.sophronia.h5', 'run_15107_2121_ldc7_trg2.v2.3.1.20250312-1-gc1f0fe5.HE.sophronia.h5', 'run_15107_1319_ldc7_trg2.v2.3.1.20250312-1-gc1f0fe5.HE.sophronia.h5', 'run_15107_0525_ldc7_trg2.v2.3.1.20250312-1-gc1f0fe5.HE.sophronia.h5', 'run_15107_1509_ldc7_trg2.v2.3.1.20250312-1-gc1f0fe5.HE.sophronia.h5', 'run_15107_1369_ldc7_trg2.v2.3.1.20250312-1-gc1f0fe5.HE.sophronia.h5', 'run_15107_0170_ldc7_trg2.v2.3.1.20250312-1-gc1f0fe5.HE.sophronia.h5', 'run_15107_0512_ldc7_trg2.v2.3.1.20250312-1-gc1f0fe5.HE.sophronia.h5', 'run_15107_0301_ldc7_trg2.v2.3.1.20250312-1-gc1f0fe5.HE.sophronia.h5', 'run_15107_0836_ldc7_trg2.v2.3.1.20250312-1-gc1f0fe5.HE.sophronia.h5', 'run_15107_1682_ldc7_trg2.v2.3.1.20250312-1-gc1f0fe5.HE.sophronia.h5', 'run_15107_0282_ldc7_trg2.v2.3.1.20250312-1-gc1f0fe5.HE.sophronia.h5', 'run_15107_1827_ldc7_trg2.v2.3.1.20250312-1-gc1f0fe5.HE.sophronia.h5', 'run_15107_1208_ldc7_trg2.v2.3.1.20250312-1-gc1f0fe5.HE.sophronia.h5', 'run_15107_0753_ldc7_trg2.v2.3.1.20250312-1-gc1f0fe5.HE.sophronia.h5', 'run_15107_0523_ldc7_trg2.v2.3.1.20250312-1-gc1f0fe5.HE.sophronia.h5', 'run_15107_1306_ldc7_trg2.v2.3.1.20250312-1-gc1f0fe5.HE.sophronia.h5', 'run_15107_1341_ldc7_trg2.v2.3.1.20250312-1-gc1f0fe5.HE.sophronia.h5', 'run_15107_0744_ldc7_trg2.v2.3.1.20250312-1-gc1f0fe5.HE.sophronia.h5', 'run_15107_1205_ldc7_trg2.v2.3.1.20250312-1-gc1f0fe5.HE.sophronia.h5', 'run_15107_2014_ldc7_trg2.v2.3.1.20250312-1-gc1f0fe5.HE.sophronia.h5', 'run_15107_1055_ldc7_trg2.v2.3.1.20250312-1-gc1f0fe5.HE.sophronia.h5', 'run_15107_1302_ldc7_trg2.v2.3.1.20250312-1-gc1f0fe5.HE.sophronia.h5', 'run_15107_2091_ldc7_trg2.v2.3.1.20250312-1-gc1f0fe5.HE.sophronia.h5', 'run_15107_1192_ldc7_trg2.v2.3.1.20250312-1-gc1f0fe5.HE.sophronia.h5', 'run_15107_1313_ldc7_trg2.v2.3.1.20250312-1-gc1f0fe5.HE.sophronia.h5', 'run_15107_1454_ldc7_trg2.v2.3.1.20250312-1-gc1f0fe5.HE.sophronia.h5', 'run_15107_0801_ldc7_trg2.v2.3.1.20250312-1-gc1f0fe5.HE.sophronia.h5', 'run_15107_0703_ldc7_trg2.v2.3.1.20250312-1-gc1f0fe5.HE.sophronia.h5', 'run_15107_1077_ldc7_trg2.v2.3.1.20250312-1-gc1f0fe5.HE.sophronia.h5', 'run_15107_2173_ldc7_trg2.v2.3.1.20250312-1-gc1f0fe5.HE.sophronia.h5', 'run_15107_2198_ldc7_trg2.v2.3.1.20250312-1-gc1f0fe5.HE.sophronia.h5', 'run_15107_0094_ldc7_trg2.v2.3.1.20250312-1-gc1f0fe5.HE.sophronia.h5', 'run_15107_0510_ldc7_trg2.v2.3.1.20250312-1-gc1f0fe5.HE.sophronia.h5', 'run_15107_1588_ldc7_trg2.v2.3.1.20250312-1-gc1f0fe5.HE.sophronia.h5', 'run_15107_1327_ldc7_trg2.v2.3.1.20250312-1-gc1f0fe5.HE.sophronia.h5', 'run_15107_0493_ldc7_trg2.v2.3.1.20250312-1-gc1f0fe5.HE.sophronia.h5', 'run_15107_0465_ldc7_trg2.v2.3.1.20250312-1-gc1f0fe5.HE.sophronia.h5', 'run_15107_2179_ldc7_trg2.v2.3.1.20250312-1-gc1f0fe5.HE.sophronia.h5', 'run_15107_1439_ldc7_trg2.v2.3.1.20250312-1-gc1f0fe5.HE.sophronia.h5', 'run_15107_1556_ldc7_trg2.v2.3.1.20250312-1-gc1f0fe5.HE.sophronia.h5', 'run_15107_2023_ldc7_trg2.v2.3.1.20250312-1-gc1f0fe5.HE.sophronia.h5', 'run_15107_0334_ldc7_trg2.v2.3.1.20250312-1-gc1f0fe5.HE.sophronia.h5', 'run_15107_0380_ldc7_trg2.v2.3.1.20250312-1-gc1f0fe5.HE.sophronia.h5', 'run_15107_1513_ldc7_trg2.v2.3.1.20250312-1-gc1f0fe5.HE.sophronia.h5', 'run_15107_2128_ldc7_trg2.v2.3.1.20250312-1-gc1f0fe5.HE.sophronia.h5', 'run_15107_1729_ldc7_trg2.v2.3.1.20250312-1-gc1f0fe5.HE.sophronia.h5', 'run_15107_1275_ldc7_trg2.v2.3.1.20250312-1-gc1f0fe5.HE.sophronia.h5', 'run_15107_0950_ldc7_trg2.v2.3.1.20250312-1-gc1f0fe5.HE.sophronia.h5', 'run_15107_2028_ldc7_trg2.v2.3.1.20250312-1-gc1f0fe5.HE.sophronia.h5', 'run_15107_1793_ldc7_trg2.v2.3.1.20250312-1-gc1f0fe5.HE.sophronia.h5', 'run_15107_0936_ldc7_trg2.v2.3.1.20250312-1-gc1f0fe5.HE.sophronia.h5', 'run_15107_0467_ldc7_trg2.v2.3.1.20250312-1-gc1f0fe5.HE.sophronia.h5', 'run_15107_2238_ldc7_trg2.v2.3.1.20250312-1-gc1f0fe5.HE.sophronia.h5', 'run_15107_2044_ldc7_trg2.v2.3.1.20250312-1-gc1f0fe5.HE.sophronia.h5', 'run_15107_1553_ldc7_trg2.v2.3.1.20250312-1-gc1f0fe5.HE.sophronia.h5', 'run_15107_1601_ldc7_trg2.v2.3.1.20250312-1-gc1f0fe5.HE.sophronia.h5', 'run_15107_2220_ldc7_trg2.v2.3.1.20250312-1-gc1f0fe5.HE.sophronia.h5', 'run_15107_1218_ldc7_trg2.v2.3.1.20250312-1-gc1f0fe5.HE.sophronia.h5', 'run_15107_1170_ldc7_trg2.v2.3.1.20250312-1-gc1f0fe5.HE.sophronia.h5', 'run_15107_1353_ldc7_trg2.v2.3.1.20250312-1-gc1f0fe5.HE.sophronia.h5', 'run_15107_0404_ldc7_trg2.v2.3.1.20250312-1-gc1f0fe5.HE.sophronia.h5', 'run_15107_0269_ldc7_trg2.v2.3.1.20250312-1-gc1f0fe5.HE.sophronia.h5', 'run_15107_1440_ldc7_trg2.v2.3.1.20250312-1-gc1f0fe5.HE.sophronia.h5', 'run_15107_1163_ldc7_trg2.v2.3.1.20250312-1-gc1f0fe5.HE.sophronia.h5', 'run_15107_0582_ldc7_trg2.v2.3.1.20250312-1-gc1f0fe5.HE.sophronia.h5', 'run_15107_1559_ldc7_trg2.v2.3.1.20250312-1-gc1f0fe5.HE.sophronia.h5', 'run_15107_1027_ldc7_trg2.v2.3.1.20250312-1-gc1f0fe5.HE.sophronia.h5', 'run_15107_0129_ldc7_trg2.v2.3.1.20250312-1-gc1f0fe5.HE.sophronia.h5', 'run_15107_0665_ldc7_trg2.v2.3.1.20250312-1-gc1f0fe5.HE.sophronia.h5', 'run_15107_0737_ldc7_trg2.v2.3.1.20250312-1-gc1f0fe5.HE.sophronia.h5', 'run_15107_1612_ldc7_trg2.v2.3.1.20250312-1-gc1f0fe5.HE.sophronia.h5', 'run_15107_0955_ldc7_trg2.v2.3.1.20250312-1-gc1f0fe5.HE.sophronia.h5', 'run_15107_1801_ldc7_trg2.v2.3.1.20250312-1-gc1f0fe5.HE.sophronia.h5', 'run_15107_1468_ldc7_trg2.v2.3.1.20250312-1-gc1f0fe5.HE.sophronia.h5', 'run_15107_0548_ldc7_trg2.v2.3.1.20250312-1-gc1f0fe5.HE.sophronia.h5', 'run_15107_1155_ldc7_trg2.v2.3.1.20250312-1-gc1f0fe5.HE.sophronia.h5', 'run_15107_0896_ldc7_trg2.v2.3.1.20250312-1-gc1f0fe5.HE.sophronia.h5', 'run_15107_0244_ldc7_trg2.v2.3.1.20250312-1-gc1f0fe5.HE.sophronia.h5', 'run_15107_0662_ldc7_trg2.v2.3.1.20250312-1-gc1f0fe5.HE.sophronia.h5', 'run_15107_0842_ldc7_trg2.v2.3.1.20250312-1-gc1f0fe5.HE.sophronia.h5', 'run_15107_1544_ldc7_trg2.v2.3.1.20250312-1-gc1f0fe5.HE.sophronia.h5', 'run_15107_1154_ldc7_trg2.v2.3.1.20250312-1-gc1f0fe5.HE.sophronia.h5', 'run_15107_0176_ldc7_trg2.v2.3.1.20250312-1-gc1f0fe5.HE.sophronia.h5', 'run_15107_2141_ldc7_trg2.v2.3.1.20250312-1-gc1f0fe5.HE.sophronia.h5', 'run_15107_0431_ldc7_trg2.v2.3.1.20250312-1-gc1f0fe5.HE.sophronia.h5', 'run_15107_1139_ldc7_trg2.v2.3.1.20250312-1-gc1f0fe5.HE.sophronia.h5', 'run_15107_0624_ldc7_trg2.v2.3.1.20250312-1-gc1f0fe5.HE.sophronia.h5', 'run_15107_1772_ldc7_trg2.v2.3.1.20250312-1-gc1f0fe5.HE.sophronia.h5', 'run_15107_0835_ldc7_trg2.v2.3.1.20250312-1-gc1f0fe5.HE.sophronia.h5', 'run_15107_2212_ldc7_trg2.v2.3.1.20250312-1-gc1f0fe5.HE.sophronia.h5', 'run_15107_0081_ldc7_trg2.v2.3.1.20250312-1-gc1f0fe5.HE.sophronia.h5', 'run_15107_1274_ldc7_trg2.v2.3.1.20250312-1-gc1f0fe5.HE.sophronia.h5', 'run_15107_0811_ldc7_trg2.v2.3.1.20250312-1-gc1f0fe5.HE.sophronia.h5', 'run_15107_1591_ldc7_trg2.v2.3.1.20250312-1-gc1f0fe5.HE.sophronia.h5', 'run_15107_0809_ldc7_trg2.v2.3.1.20250312-1-gc1f0fe5.HE.sophronia.h5', 'run_15107_2127_ldc7_trg2.v2.3.1.20250312-1-gc1f0fe5.HE.sophronia.h5', 'run_15107_0117_ldc7_trg2.v2.3.1.20250312-1-gc1f0fe5.HE.sophronia.h5', 'run_15107_1714_ldc7_trg2.v2.3.1.20250312-1-gc1f0fe5.HE.sophronia.h5', 'run_15107_0090_ldc7_trg2.v2.3.1.20250312-1-gc1f0fe5.HE.sophronia.h5', 'run_15107_2024_ldc7_trg2.v2.3.1.20250312-1-gc1f0fe5.HE.sophronia.h5', 'run_15107_1652_ldc7_trg2.v2.3.1.20250312-1-gc1f0fe5.HE.sophronia.h5', 'run_15107_0384_ldc7_trg2.v2.3.1.20250312-1-gc1f0fe5.HE.sophronia.h5', 'run_15107_1563_ldc7_trg2.v2.3.1.20250312-1-gc1f0fe5.HE.sophronia.h5', 'run_15107_1867_ldc7_trg2.v2.3.1.20250312-1-gc1f0fe5.HE.sophronia.h5', 'run_15107_0681_ldc7_trg2.v2.3.1.20250312-1-gc1f0fe5.HE.sophronia.h5', 'run_15107_0166_ldc7_trg2.v2.3.1.20250312-1-gc1f0fe5.HE.sophronia.h5', 'run_15107_0255_ldc7_trg2.v2.3.1.20250312-1-gc1f0fe5.HE.sophronia.h5', 'run_15107_2108_ldc7_trg2.v2.3.1.20250312-1-gc1f0fe5.HE.sophronia.h5', 'run_15107_0352_ldc7_trg2.v2.3.1.20250312-1-gc1f0fe5.HE.sophronia.h5', 'run_15107_0028_ldc7_trg2.v2.3.1.20250312-1-gc1f0fe5.HE.sophronia.h5', 'run_15107_1873_ldc7_trg2.v2.3.1.20250312-1-gc1f0fe5.HE.sophronia.h5', 'run_15107_0600_ldc7_trg2.v2.3.1.20250312-1-gc1f0fe5.HE.sophronia.h5', 'run_15107_0852_ldc7_trg2.v2.3.1.20250312-1-gc1f0fe5.HE.sophronia.h5', 'run_15107_1471_ldc7_trg2.v2.3.1.20250312-1-gc1f0fe5.HE.sophronia.h5', 'run_15107_0292_ldc7_trg2.v2.3.1.20250312-1-gc1f0fe5.HE.sophronia.h5', 'run_15107_0462_ldc7_trg2.v2.3.1.20250312-1-gc1f0fe5.HE.sophronia.h5', 'run_15107_1288_ldc7_trg2.v2.3.1.20250312-1-gc1f0fe5.HE.sophronia.h5', 'run_15107_0793_ldc7_trg2.v2.3.1.20250312-1-gc1f0fe5.HE.sophronia.h5', 'run_15107_1736_ldc7_trg2.v2.3.1.20250312-1-gc1f0fe5.HE.sophronia.h5', 'run_15107_1870_ldc7_trg2.v2.3.1.20250312-1-gc1f0fe5.HE.sophronia.h5', 'run_15107_0598_ldc7_trg2.v2.3.1.20250312-1-gc1f0fe5.HE.sophronia.h5', 'run_15107_0583_ldc7_trg2.v2.3.1.20250312-1-gc1f0fe5.HE.sophronia.h5', 'run_15107_1164_ldc7_trg2.v2.3.1.20250312-1-gc1f0fe5.HE.sophronia.h5', 'run_15107_1750_ldc7_trg2.v2.3.1.20250312-1-gc1f0fe5.HE.sophronia.h5', 'run_15107_0351_ldc7_trg2.v2.3.1.20250312-1-gc1f0fe5.HE.sophronia.h5', 'run_15107_0132_ldc7_trg2.v2.3.1.20250312-1-gc1f0fe5.HE.sophronia.h5', 'run_15107_1206_ldc7_trg2.v2.3.1.20250312-1-gc1f0fe5.HE.sophronia.h5', 'run_15107_1575_ldc7_trg2.v2.3.1.20250312-1-gc1f0fe5.HE.sophronia.h5', 'run_15107_0917_ldc7_trg2.v2.3.1.20250312-1-gc1f0fe5.HE.sophronia.h5', 'run_15107_1576_ldc7_trg2.v2.3.1.20250312-1-gc1f0fe5.HE.sophronia.h5', 'run_15107_0897_ldc7_trg2.v2.3.1.20250312-1-gc1f0fe5.HE.sophronia.h5', 'run_15107_0773_ldc7_trg2.v2.3.1.20250312-1-gc1f0fe5.HE.sophronia.h5', 'run_15107_2017_ldc7_trg2.v2.3.1.20250312-1-gc1f0fe5.HE.sophronia.h5', 'run_15107_0218_ldc7_trg2.v2.3.1.20250312-1-gc1f0fe5.HE.sophronia.h5', 'run_15107_0530_ldc7_trg2.v2.3.1.20250312-1-gc1f0fe5.HE.sophronia.h5', 'run_15107_0620_ldc7_trg2.v2.3.1.20250312-1-gc1f0fe5.HE.sophronia.h5', 'run_15107_0926_ldc7_trg2.v2.3.1.20250312-1-gc1f0fe5.HE.sophronia.h5', 'run_15107_0254_ldc7_trg2.v2.3.1.20250312-1-gc1f0fe5.HE.sophronia.h5', 'run_15107_0178_ldc7_trg2.v2.3.1.20250312-1-gc1f0fe5.HE.sophronia.h5', 'run_15107_0975_ldc7_trg2.v2.3.1.20250312-1-gc1f0fe5.HE.sophronia.h5', 'run_15107_2119_ldc7_trg2.v2.3.1.20250312-1-gc1f0fe5.HE.sophronia.h5', 'run_15107_0389_ldc7_trg2.v2.3.1.20250312-1-gc1f0fe5.HE.sophronia.h5', 'run_15107_1096_ldc7_trg2.v2.3.1.20250312-1-gc1f0fe5.HE.sophronia.h5', 'run_15107_0787_ldc7_trg2.v2.3.1.20250312-1-gc1f0fe5.HE.sophronia.h5', 'run_15107_0344_ldc7_trg2.v2.3.1.20250312-1-gc1f0fe5.HE.sophronia.h5', 'run_15107_1036_ldc7_trg2.v2.3.1.20250312-1-gc1f0fe5.HE.sophronia.h5', 'run_15107_0034_ldc7_trg2.v2.3.1.20250312-1-gc1f0fe5.HE.sophronia.h5', 'run_15107_2155_ldc7_trg2.v2.3.1.20250312-1-gc1f0fe5.HE.sophronia.h5', 'run_15107_0722_ldc7_trg2.v2.3.1.20250312-1-gc1f0fe5.HE.sophronia.h5', 'run_15107_1829_ldc7_trg2.v2.3.1.20250312-1-gc1f0fe5.HE.sophronia.h5', 'run_15107_2146_ldc7_trg2.v2.3.1.20250312-1-gc1f0fe5.HE.sophronia.h5', 'run_15107_1724_ldc7_trg2.v2.3.1.20250312-1-gc1f0fe5.HE.sophronia.h5', 'run_15107_1172_ldc7_trg2.v2.3.1.20250312-1-gc1f0fe5.HE.sophronia.h5', 'run_15107_0638_ldc7_trg2.v2.3.1.20250312-1-gc1f0fe5.HE.sophronia.h5', 'run_15107_1098_ldc7_trg2.v2.3.1.20250312-1-gc1f0fe5.HE.sophronia.h5', 'run_15107_1723_ldc7_trg2.v2.3.1.20250312-1-gc1f0fe5.HE.sophronia.h5', 'run_15107_1247_ldc7_trg2.v2.3.1.20250312-1-gc1f0fe5.HE.sophronia.h5', 'run_15107_0808_ldc7_trg2.v2.3.1.20250312-1-gc1f0fe5.HE.sophronia.h5', 'run_15107_0151_ldc7_trg2.v2.3.1.20250312-1-gc1f0fe5.HE.sophronia.h5', 'run_15107_1403_ldc7_trg2.v2.3.1.20250312-1-gc1f0fe5.HE.sophronia.h5', 'run_15107_1465_ldc7_trg2.v2.3.1.20250312-1-gc1f0fe5.HE.sophronia.h5', 'run_15107_0952_ldc7_trg2.v2.3.1.20250312-1-gc1f0fe5.HE.sophronia.h5', 'run_15107_1069_ldc7_trg2.v2.3.1.20250312-1-gc1f0fe5.HE.sophronia.h5', 'run_15107_0099_ldc7_trg2.v2.3.1.20250312-1-gc1f0fe5.HE.sophronia.h5', 'run_15107_1147_ldc7_trg2.v2.3.1.20250312-1-gc1f0fe5.HE.sophronia.h5', 'run_15107_0480_ldc7_trg2.v2.3.1.20250312-1-gc1f0fe5.HE.sophronia.h5', 'run_15107_0859_ldc7_trg2.v2.3.1.20250312-1-gc1f0fe5.HE.sophronia.h5', 'run_15107_2054_ldc7_trg2.v2.3.1.20250312-1-gc1f0fe5.HE.sophronia.h5', 'run_15107_2244_ldc7_trg2.v2.3.1.20250312-1-gc1f0fe5.HE.sophronia.h5', 'run_15107_1184_ldc7_trg2.v2.3.1.20250312-1-gc1f0fe5.HE.sophronia.h5', 'run_15107_1567_ldc7_trg2.v2.3.1.20250312-1-gc1f0fe5.HE.sophronia.h5', 'run_15107_0841_ldc7_trg2.v2.3.1.20250312-1-gc1f0fe5.HE.sophronia.h5', 'run_15107_2158_ldc7_trg2.v2.3.1.20250312-1-gc1f0fe5.HE.sophronia.h5', 'run_15107_0069_ldc7_trg2.v2.3.1.20250312-1-gc1f0fe5.HE.sophronia.h5', 'run_15107_1658_ldc7_trg2.v2.3.1.20250312-1-gc1f0fe5.HE.sophronia.h5', 'run_15107_1560_ldc7_trg2.v2.3.1.20250312-1-gc1f0fe5.HE.sophronia.h5', 'run_15107_1811_ldc7_trg2.v2.3.1.20250312-1-gc1f0fe5.HE.sophronia.h5', 'run_15107_0275_ldc7_trg2.v2.3.1.20250312-1-gc1f0fe5.HE.sophronia.h5', 'run_15107_1854_ldc7_trg2.v2.3.1.20250312-1-gc1f0fe5.HE.sophronia.h5', 'run_15107_2105_ldc7_trg2.v2.3.1.20250312-1-gc1f0fe5.HE.sophronia.h5', 'run_15107_0114_ldc7_trg2.v2.3.1.20250312-1-gc1f0fe5.HE.sophronia.h5', 'run_15107_0068_ldc7_trg2.v2.3.1.20250312-1-gc1f0fe5.HE.sophronia.h5', 'run_15107_1798_ldc7_trg2.v2.3.1.20250312-1-gc1f0fe5.HE.sophronia.h5', 'run_15107_1674_ldc7_trg2.v2.3.1.20250312-1-gc1f0fe5.HE.sophronia.h5', 'run_15107_1236_ldc7_trg2.v2.3.1.20250312-1-gc1f0fe5.HE.sophronia.h5', 'run_15107_0614_ldc7_trg2.v2.3.1.20250312-1-gc1f0fe5.HE.sophronia.h5', 'run_15107_1347_ldc7_trg2.v2.3.1.20250312-1-gc1f0fe5.HE.sophronia.h5', 'run_15107_1097_ldc7_trg2.v2.3.1.20250312-1-gc1f0fe5.HE.sophronia.h5', 'run_15107_1086_ldc7_trg2.v2.3.1.20250312-1-gc1f0fe5.HE.sophronia.h5', 'run_15107_0472_ldc7_trg2.v2.3.1.20250312-1-gc1f0fe5.HE.sophronia.h5', 'run_15107_2210_ldc7_trg2.v2.3.1.20250312-1-gc1f0fe5.HE.sophronia.h5', 'run_15107_0485_ldc7_trg2.v2.3.1.20250312-1-gc1f0fe5.HE.sophronia.h5', 'run_15107_1158_ldc7_trg2.v2.3.1.20250312-1-gc1f0fe5.HE.sophronia.h5', 'run_15107_0490_ldc7_trg2.v2.3.1.20250312-1-gc1f0fe5.HE.sophronia.h5', 'run_15107_0354_ldc7_trg2.v2.3.1.20250312-1-gc1f0fe5.HE.sophronia.h5', 'run_15107_1886_ldc7_trg2.v2.3.1.20250312-1-gc1f0fe5.HE.sophronia.h5', 'run_15107_0890_ldc7_trg2.v2.3.1.20250312-1-gc1f0fe5.HE.sophronia.h5', 'run_15107_2101_ldc7_trg2.v2.3.1.20250312-1-gc1f0fe5.HE.sophronia.h5', 'run_15107_0024_ldc7_trg2.v2.3.1.20250312-1-gc1f0fe5.HE.sophronia.h5', 'run_15107_0253_ldc7_trg2.v2.3.1.20250312-1-gc1f0fe5.HE.sophronia.h5', 'run_15107_0234_ldc7_trg2.v2.3.1.20250312-1-gc1f0fe5.HE.sophronia.h5', 'run_15107_0477_ldc7_trg2.v2.3.1.20250312-1-gc1f0fe5.HE.sophronia.h5', 'run_15107_2170_ldc7_trg2.v2.3.1.20250312-1-gc1f0fe5.HE.sophronia.h5', 'run_15107_0150_ldc7_trg2.v2.3.1.20250312-1-gc1f0fe5.HE.sophronia.h5', 'run_15107_0553_ldc7_trg2.v2.3.1.20250312-1-gc1f0fe5.HE.sophronia.h5', 'run_15107_2161_ldc7_trg2.v2.3.1.20250312-1-gc1f0fe5.HE.sophronia.h5', 'run_15107_0144_ldc7_trg2.v2.3.1.20250312-1-gc1f0fe5.HE.sophronia.h5', 'run_15107_2093_ldc7_trg2.v2.3.1.20250312-1-gc1f0fe5.HE.sophronia.h5', 'run_15107_1677_ldc7_trg2.v2.3.1.20250312-1-gc1f0fe5.HE.sophronia.h5', 'run_15107_1617_ldc7_trg2.v2.3.1.20250312-1-gc1f0fe5.HE.sophronia.h5', 'run_15107_1039_ldc7_trg2.v2.3.1.20250312-1-gc1f0fe5.HE.sophronia.h5', 'run_15107_0205_ldc7_trg2.v2.3.1.20250312-1-gc1f0fe5.HE.sophronia.h5', 'run_15107_1328_ldc7_trg2.v2.3.1.20250312-1-gc1f0fe5.HE.sophronia.h5', 'run_15107_1993_ldc7_trg2.v2.3.1.20250312-1-gc1f0fe5.HE.sophronia.h5', 'run_15107_0271_ldc7_trg2.v2.3.1.20250312-1-gc1f0fe5.HE.sophronia.h5', 'run_15107_0160_ldc7_trg2.v2.3.1.20250312-1-gc1f0fe5.HE.sophronia.h5', 'run_15107_0329_ldc7_trg2.v2.3.1.20250312-1-gc1f0fe5.HE.sophronia.h5', 'run_15107_0033_ldc7_trg2.v2.3.1.20250312-1-gc1f0fe5.HE.sophronia.h5', 'run_15107_0369_ldc7_trg2.v2.3.1.20250312-1-gc1f0fe5.HE.sophronia.h5', 'run_15107_1041_ldc7_trg2.v2.3.1.20250312-1-gc1f0fe5.HE.sophronia.h5', 'run_15107_0882_ldc7_trg2.v2.3.1.20250312-1-gc1f0fe5.HE.sophronia.h5', 'run_15107_0664_ldc7_trg2.v2.3.1.20250312-1-gc1f0fe5.HE.sophronia.h5', 'run_15107_1162_ldc7_trg2.v2.3.1.20250312-1-gc1f0fe5.HE.sophronia.h5', 'run_15107_1871_ldc7_trg2.v2.3.1.20250312-1-gc1f0fe5.HE.sophronia.h5', 'run_15107_0096_ldc7_trg2.v2.3.1.20250312-1-gc1f0fe5.HE.sophronia.h5', 'run_15107_0339_ldc7_trg2.v2.3.1.20250312-1-gc1f0fe5.HE.sophronia.h5', 'run_15107_0399_ldc7_trg2.v2.3.1.20250312-1-gc1f0fe5.HE.sophronia.h5', 'run_15107_0962_ldc7_trg2.v2.3.1.20250312-1-gc1f0fe5.HE.sophronia.h5', 'run_15107_0595_ldc7_trg2.v2.3.1.20250312-1-gc1f0fe5.HE.sophronia.h5', 'run_15107_1193_ldc7_trg2.v2.3.1.20250312-1-gc1f0fe5.HE.sophronia.h5', 'run_15107_0393_ldc7_trg2.v2.3.1.20250312-1-gc1f0fe5.HE.sophronia.h5', 'run_15107_1628_ldc7_trg2.v2.3.1.20250312-1-gc1f0fe5.HE.sophronia.h5', 'run_15107_0167_ldc7_trg2.v2.3.1.20250312-1-gc1f0fe5.HE.sophronia.h5', 'run_15107_0895_ldc7_trg2.v2.3.1.20250312-1-gc1f0fe5.HE.sophronia.h5', 'run_15107_2232_ldc7_trg2.v2.3.1.20250312-1-gc1f0fe5.HE.sophronia.h5', 'run_15107_0507_ldc7_trg2.v2.3.1.20250312-1-gc1f0fe5.HE.sophronia.h5', 'run_15107_1830_ldc7_trg2.v2.3.1.20250312-1-gc1f0fe5.HE.sophronia.h5', 'run_15107_1108_ldc7_trg2.v2.3.1.20250312-1-gc1f0fe5.HE.sophronia.h5', 'run_15107_0698_ldc7_trg2.v2.3.1.20250312-1-gc1f0fe5.HE.sophronia.h5', 'run_15107_0330_ldc7_trg2.v2.3.1.20250312-1-gc1f0fe5.HE.sophronia.h5', 'run_15107_0306_ldc7_trg2.v2.3.1.20250312-1-gc1f0fe5.HE.sophronia.h5', 'run_15107_1834_ldc7_trg2.v2.3.1.20250312-1-gc1f0fe5.HE.sophronia.h5', 'run_15107_1535_ldc7_trg2.v2.3.1.20250312-1-gc1f0fe5.HE.sophronia.h5', 'run_15107_0585_ldc7_trg2.v2.3.1.20250312-1-gc1f0fe5.HE.sophronia.h5', 'run_15107_1629_ldc7_trg2.v2.3.1.20250312-1-gc1f0fe5.HE.sophronia.h5', 'run_15107_0402_ldc7_trg2.v2.3.1.20250312-1-gc1f0fe5.HE.sophronia.h5', 'run_15107_0468_ldc7_trg2.v2.3.1.20250312-1-gc1f0fe5.HE.sophronia.h5', 'run_15107_0350_ldc7_trg2.v2.3.1.20250312-1-gc1f0fe5.HE.sophronia.h5', 'run_15107_0105_ldc7_trg2.v2.3.1.20250312-1-gc1f0fe5.HE.sophronia.h5', 'run_15107_0563_ldc7_trg2.v2.3.1.20250312-1-gc1f0fe5.HE.sophronia.h5', 'run_15107_0483_ldc7_trg2.v2.3.1.20250312-1-gc1f0fe5.HE.sophronia.h5', 'run_15107_2139_ldc7_trg2.v2.3.1.20250312-1-gc1f0fe5.HE.sophronia.h5', 'run_15107_1510_ldc7_trg2.v2.3.1.20250312-1-gc1f0fe5.HE.sophronia.h5', 'run_15107_0518_ldc7_trg2.v2.3.1.20250312-1-gc1f0fe5.HE.sophronia.h5', 'run_15107_2109_ldc7_trg2.v2.3.1.20250312-1-gc1f0fe5.HE.sophronia.h5', 'run_15107_1536_ldc7_trg2.v2.3.1.20250312-1-gc1f0fe5.HE.sophronia.h5', 'run_15107_0303_ldc7_trg2.v2.3.1.20250312-1-gc1f0fe5.HE.sophronia.h5', 'run_15107_0134_ldc7_trg2.v2.3.1.20250312-1-gc1f0fe5.HE.sophronia.h5', 'run_15107_1081_ldc7_trg2.v2.3.1.20250312-1-gc1f0fe5.HE.sophronia.h5', 'run_15107_1001_ldc7_trg2.v2.3.1.20250312-1-gc1f0fe5.HE.sophronia.h5', 'run_15107_1514_ldc7_trg2.v2.3.1.20250312-1-gc1f0fe5.HE.sophronia.h5', 'run_15107_1520_ldc7_trg2.v2.3.1.20250312-1-gc1f0fe5.HE.sophronia.h5', 'run_15107_1968_ldc7_trg2.v2.3.1.20250312-1-gc1f0fe5.HE.sophronia.h5', 'run_15107_1823_ldc7_trg2.v2.3.1.20250312-1-gc1f0fe5.HE.sophronia.h5', 'run_15107_0141_ldc7_trg2.v2.3.1.20250312-1-gc1f0fe5.HE.sophronia.h5', 'run_15107_2033_ldc7_trg2.v2.3.1.20250312-1-gc1f0fe5.HE.sophronia.h5', 'run_15107_0899_ldc7_trg2.v2.3.1.20250312-1-gc1f0fe5.HE.sophronia.h5', 'run_15107_2020_ldc7_trg2.v2.3.1.20250312-1-gc1f0fe5.HE.sophronia.h5', 'run_15107_0650_ldc7_trg2.v2.3.1.20250312-1-gc1f0fe5.HE.sophronia.h5', 'run_15107_2049_ldc7_trg2.v2.3.1.20250312-1-gc1f0fe5.HE.sophronia.h5', 'run_15107_1897_ldc7_trg2.v2.3.1.20250312-1-gc1f0fe5.HE.sophronia.h5', 'run_15107_0645_ldc7_trg2.v2.3.1.20250312-1-gc1f0fe5.HE.sophronia.h5', 'run_15107_2152_ldc7_trg2.v2.3.1.20250312-1-gc1f0fe5.HE.sophronia.h5', 'run_15107_1523_ldc7_trg2.v2.3.1.20250312-1-gc1f0fe5.HE.sophronia.h5', 'run_15107_1052_ldc7_trg2.v2.3.1.20250312-1-gc1f0fe5.HE.sophronia.h5', 'run_15107_2201_ldc7_trg2.v2.3.1.20250312-1-gc1f0fe5.HE.sophronia.h5', 'run_15107_0822_ldc7_trg2.v2.3.1.20250312-1-gc1f0fe5.HE.sophronia.h5', 'run_15107_0451_ldc7_trg2.v2.3.1.20250312-1-gc1f0fe5.HE.sophronia.h5', 'run_15107_1661_ldc7_trg2.v2.3.1.20250312-1-gc1f0fe5.HE.sophronia.h5', 'run_15107_0432_ldc7_trg2.v2.3.1.20250312-1-gc1f0fe5.HE.sophronia.h5', 'run_15107_0156_ldc7_trg2.v2.3.1.20250312-1-gc1f0fe5.HE.sophronia.h5', 'run_15107_1235_ldc7_trg2.v2.3.1.20250312-1-gc1f0fe5.HE.sophronia.h5', 'run_15107_2081_ldc7_trg2.v2.3.1.20250312-1-gc1f0fe5.HE.sophronia.h5', 'run_15107_0851_ldc7_trg2.v2.3.1.20250312-1-gc1f0fe5.HE.sophronia.h5', 'run_15107_1779_ldc7_trg2.v2.3.1.20250312-1-gc1f0fe5.HE.sophronia.h5', 'run_15107_2181_ldc7_trg2.v2.3.1.20250312-1-gc1f0fe5.HE.sophronia.h5', 'run_15107_1943_ldc7_trg2.v2.3.1.20250312-1-gc1f0fe5.HE.sophronia.h5', 'run_15107_1382_ldc7_trg2.v2.3.1.20250312-1-gc1f0fe5.HE.sophronia.h5', 'run_15107_1896_ldc7_trg2.v2.3.1.20250312-1-gc1f0fe5.HE.sophronia.h5', 'run_15107_1664_ldc7_trg2.v2.3.1.20250312-1-gc1f0fe5.HE.sophronia.h5', 'run_15107_0262_ldc7_trg2.v2.3.1.20250312-1-gc1f0fe5.HE.sophronia.h5', 'run_15107_0039_ldc7_trg2.v2.3.1.20250312-1-gc1f0fe5.HE.sophronia.h5', 'run_15107_0449_ldc7_trg2.v2.3.1.20250312-1-gc1f0fe5.HE.sophronia.h5', 'run_15107_2214_ldc7_trg2.v2.3.1.20250312-1-gc1f0fe5.HE.sophronia.h5', 'run_15107_1421_ldc7_trg2.v2.3.1.20250312-1-gc1f0fe5.HE.sophronia.h5', 'run_15107_1600_ldc7_trg2.v2.3.1.20250312-1-gc1f0fe5.HE.sophronia.h5', 'run_15107_0829_ldc7_trg2.v2.3.1.20250312-1-gc1f0fe5.HE.sophronia.h5', 'run_15107_0112_ldc7_trg2.v2.3.1.20250312-1-gc1f0fe5.HE.sophronia.h5', 'run_15107_0181_ldc7_trg2.v2.3.1.20250312-1-gc1f0fe5.HE.sophronia.h5', 'run_15107_2050_ldc7_trg2.v2.3.1.20250312-1-gc1f0fe5.HE.sophronia.h5', 'run_15107_1747_ldc7_trg2.v2.3.1.20250312-1-gc1f0fe5.HE.sophronia.h5', 'run_15107_1196_ldc7_trg2.v2.3.1.20250312-1-gc1f0fe5.HE.sophronia.h5', 'run_15107_0311_ldc7_trg2.v2.3.1.20250312-1-gc1f0fe5.HE.sophronia.h5', 'run_15107_1146_ldc7_trg2.v2.3.1.20250312-1-gc1f0fe5.HE.sophronia.h5', 'run_15107_0225_ldc7_trg2.v2.3.1.20250312-1-gc1f0fe5.HE.sophronia.h5', 'run_15107_0267_ldc7_trg2.v2.3.1.20250312-1-gc1f0fe5.HE.sophronia.h5', 'run_15107_1132_ldc7_trg2.v2.3.1.20250312-1-gc1f0fe5.HE.sophronia.h5', 'run_15107_1252_ldc7_trg2.v2.3.1.20250312-1-gc1f0fe5.HE.sophronia.h5', 'run_15107_0910_ldc7_trg2.v2.3.1.20250312-1-gc1f0fe5.HE.sophronia.h5', 'run_15107_0627_ldc7_trg2.v2.3.1.20250312-1-gc1f0fe5.HE.sophronia.h5', 'run_15107_1624_ldc7_trg2.v2.3.1.20250312-1-gc1f0fe5.HE.sophronia.h5', 'run_15107_0452_ldc7_trg2.v2.3.1.20250312-1-gc1f0fe5.HE.sophronia.h5', 'run_15107_2247_ldc7_trg2.v2.3.1.20250312-1-gc1f0fe5.HE.sophronia.h5', 'run_15107_1441_ldc7_trg2.v2.3.1.20250312-1-gc1f0fe5.HE.sophronia.h5', 'run_15107_0533_ldc7_trg2.v2.3.1.20250312-1-gc1f0fe5.HE.sophronia.h5', 'run_15107_0608_ldc7_trg2.v2.3.1.20250312-1-gc1f0fe5.HE.sophronia.h5', 'run_15107_0622_ldc7_trg2.v2.3.1.20250312-1-gc1f0fe5.HE.sophronia.h5', 'run_15107_0374_ldc7_trg2.v2.3.1.20250312-1-gc1f0fe5.HE.sophronia.h5', 'run_15107_0061_ldc7_trg2.v2.3.1.20250312-1-gc1f0fe5.HE.sophronia.h5', 'run_15107_1457_ldc7_trg2.v2.3.1.20250312-1-gc1f0fe5.HE.sophronia.h5', 'run_15107_1566_ldc7_trg2.v2.3.1.20250312-1-gc1f0fe5.HE.sophronia.h5', 'run_15107_1311_ldc7_trg2.v2.3.1.20250312-1-gc1f0fe5.HE.sophronia.h5', 'run_15107_1024_ldc7_trg2.v2.3.1.20250312-1-gc1f0fe5.HE.sophronia.h5', 'run_15107_1138_ldc7_trg2.v2.3.1.20250312-1-gc1f0fe5.HE.sophronia.h5', 'run_15107_0602_ldc7_trg2.v2.3.1.20250312-1-gc1f0fe5.HE.sophronia.h5', 'run_15107_0036_ldc7_trg2.v2.3.1.20250312-1-gc1f0fe5.HE.sophronia.h5', 'run_15107_0519_ldc7_trg2.v2.3.1.20250312-1-gc1f0fe5.HE.sophronia.h5', 'run_15107_0526_ldc7_trg2.v2.3.1.20250312-1-gc1f0fe5.HE.sophronia.h5', 'run_15107_0943_ldc7_trg2.v2.3.1.20250312-1-gc1f0fe5.HE.sophronia.h5', 'run_15107_0981_ldc7_trg2.v2.3.1.20250312-1-gc1f0fe5.HE.sophronia.h5', 'run_15107_1481_ldc7_trg2.v2.3.1.20250312-1-gc1f0fe5.HE.sophronia.h5', 'run_15107_1537_ldc7_trg2.v2.3.1.20250312-1-gc1f0fe5.HE.sophronia.h5', 'run_15107_0913_ldc7_trg2.v2.3.1.20250312-1-gc1f0fe5.HE.sophronia.h5', 'run_15107_1878_ldc7_trg2.v2.3.1.20250312-1-gc1f0fe5.HE.sophronia.h5', 'run_15107_0885_ldc7_trg2.v2.3.1.20250312-1-gc1f0fe5.HE.sophronia.h5', 'run_15107_1242_ldc7_trg2.v2.3.1.20250312-1-gc1f0fe5.HE.sophronia.h5', 'run_15107_0601_ldc7_trg2.v2.3.1.20250312-1-gc1f0fe5.HE.sophronia.h5', 'run_15107_1958_ldc7_trg2.v2.3.1.20250312-1-gc1f0fe5.HE.sophronia.h5', 'run_15107_1335_ldc7_trg2.v2.3.1.20250312-1-gc1f0fe5.HE.sophronia.h5', 'run_15107_1361_ldc7_trg2.v2.3.1.20250312-1-gc1f0fe5.HE.sophronia.h5', 'run_15107_0463_ldc7_trg2.v2.3.1.20250312-1-gc1f0fe5.HE.sophronia.h5', 'run_15107_2031_ldc7_trg2.v2.3.1.20250312-1-gc1f0fe5.HE.sophronia.h5', 'run_15107_0843_ldc7_trg2.v2.3.1.20250312-1-gc1f0fe5.HE.sophronia.h5', 'run_15107_0243_ldc7_trg2.v2.3.1.20250312-1-gc1f0fe5.HE.sophronia.h5', 'run_15107_0390_ldc7_trg2.v2.3.1.20250312-1-gc1f0fe5.HE.sophronia.h5', 'run_15107_0075_ldc7_trg2.v2.3.1.20250312-1-gc1f0fe5.HE.sophronia.h5', 'run_15107_1312_ldc7_trg2.v2.3.1.20250312-1-gc1f0fe5.HE.sophronia.h5', 'run_15107_2221_ldc7_trg2.v2.3.1.20250312-1-gc1f0fe5.HE.sophronia.h5', 'run_15107_1705_ldc7_trg2.v2.3.1.20250312-1-gc1f0fe5.HE.sophronia.h5', 'run_15107_1945_ldc7_trg2.v2.3.1.20250312-1-gc1f0fe5.HE.sophronia.h5', 'run_15107_0023_ldc7_trg2.v2.3.1.20250312-1-gc1f0fe5.HE.sophronia.h5', 'run_15107_2010_ldc7_trg2.v2.3.1.20250312-1-gc1f0fe5.HE.sophronia.h5', 'run_15107_1506_ldc7_trg2.v2.3.1.20250312-1-gc1f0fe5.HE.sophronia.h5', 'run_15107_0169_ldc7_trg2.v2.3.1.20250312-1-gc1f0fe5.HE.sophronia.h5', 'run_15107_2134_ldc7_trg2.v2.3.1.20250312-1-gc1f0fe5.HE.sophronia.h5', 'run_15107_0296_ldc7_trg2.v2.3.1.20250312-1-gc1f0fe5.HE.sophronia.h5', 'run_15107_0152_ldc7_trg2.v2.3.1.20250312-1-gc1f0fe5.HE.sophronia.h5', 'run_15107_1927_ldc7_trg2.v2.3.1.20250312-1-gc1f0fe5.HE.sophronia.h5', 'run_15107_1065_ldc7_trg2.v2.3.1.20250312-1-gc1f0fe5.HE.sophronia.h5', 'run_15107_0535_ldc7_trg2.v2.3.1.20250312-1-gc1f0fe5.HE.sophronia.h5', 'run_15107_0849_ldc7_trg2.v2.3.1.20250312-1-gc1f0fe5.HE.sophronia.h5', 'run_15107_0947_ldc7_trg2.v2.3.1.20250312-1-gc1f0fe5.HE.sophronia.h5', 'run_15107_0491_ldc7_trg2.v2.3.1.20250312-1-gc1f0fe5.HE.sophronia.h5', 'run_15107_0481_ldc7_trg2.v2.3.1.20250312-1-gc1f0fe5.HE.sophronia.h5', 'run_15107_0005_ldc7_trg2.v2.3.1.20250312-1-gc1f0fe5.HE.sophronia.h5', 'run_15107_1644_ldc7_trg2.v2.3.1.20250312-1-gc1f0fe5.HE.sophronia.h5', 'run_15107_0227_ldc7_trg2.v2.3.1.20250312-1-gc1f0fe5.HE.sophronia.h5', 'run_15107_1260_ldc7_trg2.v2.3.1.20250312-1-gc1f0fe5.HE.sophronia.h5', 'run_15107_1599_ldc7_trg2.v2.3.1.20250312-1-gc1f0fe5.HE.sophronia.h5', 'run_15107_1296_ldc7_trg2.v2.3.1.20250312-1-gc1f0fe5.HE.sophronia.h5', 'run_15107_1876_ldc7_trg2.v2.3.1.20250312-1-gc1f0fe5.HE.sophronia.h5', 'run_15107_2045_ldc7_trg2.v2.3.1.20250312-1-gc1f0fe5.HE.sophronia.h5', 'run_15107_1843_ldc7_trg2.v2.3.1.20250312-1-gc1f0fe5.HE.sophronia.h5', 'run_15107_1758_ldc7_trg2.v2.3.1.20250312-1-gc1f0fe5.HE.sophronia.h5', 'run_15107_1345_ldc7_trg2.v2.3.1.20250312-1-gc1f0fe5.HE.sophronia.h5', 'run_15107_0203_ldc7_trg2.v2.3.1.20250312-1-gc1f0fe5.HE.sophronia.h5', 'run_15107_0626_ldc7_trg2.v2.3.1.20250312-1-gc1f0fe5.HE.sophronia.h5', 'run_15107_1539_ldc7_trg2.v2.3.1.20250312-1-gc1f0fe5.HE.sophronia.h5', 'run_15107_1021_ldc7_trg2.v2.3.1.20250312-1-gc1f0fe5.HE.sophronia.h5', 'run_15107_0513_ldc7_trg2.v2.3.1.20250312-1-gc1f0fe5.HE.sophronia.h5', 'run_15107_0790_ldc7_trg2.v2.3.1.20250312-1-gc1f0fe5.HE.sophronia.h5', 'run_15107_0717_ldc7_trg2.v2.3.1.20250312-1-gc1f0fe5.HE.sophronia.h5', 'run_15107_0804_ldc7_trg2.v2.3.1.20250312-1-gc1f0fe5.HE.sophronia.h5', 'run_15107_1906_ldc7_trg2.v2.3.1.20250312-1-gc1f0fe5.HE.sophronia.h5', 'run_15107_1780_ldc7_trg2.v2.3.1.20250312-1-gc1f0fe5.HE.sophronia.h5', 'run_15107_2107_ldc7_trg2.v2.3.1.20250312-1-gc1f0fe5.HE.sophronia.h5', 'run_15107_1087_ldc7_trg2.v2.3.1.20250312-1-gc1f0fe5.HE.sophronia.h5', 'run_15107_1467_ldc7_trg2.v2.3.1.20250312-1-gc1f0fe5.HE.sophronia.h5', 'run_15107_0750_ldc7_trg2.v2.3.1.20250312-1-gc1f0fe5.HE.sophronia.h5', 'run_15107_0019_ldc7_trg2.v2.3.1.20250312-1-gc1f0fe5.HE.sophronia.h5', 'run_15107_0918_ldc7_trg2.v2.3.1.20250312-1-gc1f0fe5.HE.sophronia.h5', 'run_15107_0945_ldc7_trg2.v2.3.1.20250312-1-gc1f0fe5.HE.sophronia.h5', 'run_15107_0326_ldc7_trg2.v2.3.1.20250312-1-gc1f0fe5.HE.sophronia.h5', 'run_15107_2168_ldc7_trg2.v2.3.1.20250312-1-gc1f0fe5.HE.sophronia.h5', 'run_15107_1460_ldc7_trg2.v2.3.1.20250312-1-gc1f0fe5.HE.sophronia.h5', 'run_15107_1410_ldc7_trg2.v2.3.1.20250312-1-gc1f0fe5.HE.sophronia.h5', 'run_15107_1089_ldc7_trg2.v2.3.1.20250312-1-gc1f0fe5.HE.sophronia.h5', 'run_15107_0889_ldc7_trg2.v2.3.1.20250312-1-gc1f0fe5.HE.sophronia.h5', 'run_15107_1127_ldc7_trg2.v2.3.1.20250312-1-gc1f0fe5.HE.sophronia.h5', 'run_15107_1075_ldc7_trg2.v2.3.1.20250312-1-gc1f0fe5.HE.sophronia.h5', 'run_15107_0860_ldc7_trg2.v2.3.1.20250312-1-gc1f0fe5.HE.sophronia.h5', 'run_15107_1063_ldc7_trg2.v2.3.1.20250312-1-gc1f0fe5.HE.sophronia.h5', 'run_15107_0688_ldc7_trg2.v2.3.1.20250312-1-gc1f0fe5.HE.sophronia.h5', 'run_15107_0755_ldc7_trg2.v2.3.1.20250312-1-gc1f0fe5.HE.sophronia.h5', 'run_15107_0699_ldc7_trg2.v2.3.1.20250312-1-gc1f0fe5.HE.sophronia.h5', 'run_15107_0200_ldc7_trg2.v2.3.1.20250312-1-gc1f0fe5.HE.sophronia.h5', 'run_15107_0687_ldc7_trg2.v2.3.1.20250312-1-gc1f0fe5.HE.sophronia.h5', 'run_15107_2174_ldc7_trg2.v2.3.1.20250312-1-gc1f0fe5.HE.sophronia.h5', 'run_15107_0937_ldc7_trg2.v2.3.1.20250312-1-gc1f0fe5.HE.sophronia.h5', 'run_15107_2192_ldc7_trg2.v2.3.1.20250312-1-gc1f0fe5.HE.sophronia.h5', 'run_15107_1557_ldc7_trg2.v2.3.1.20250312-1-gc1f0fe5.HE.sophronia.h5', 'run_15107_0222_ldc7_trg2.v2.3.1.20250312-1-gc1f0fe5.HE.sophronia.h5', 'run_15107_0365_ldc7_trg2.v2.3.1.20250312-1-gc1f0fe5.HE.sophronia.h5', 'run_15107_0400_ldc7_trg2.v2.3.1.20250312-1-gc1f0fe5.HE.sophronia.h5', 'run_15107_0427_ldc7_trg2.v2.3.1.20250312-1-gc1f0fe5.HE.sophronia.h5', 'run_15107_1837_ldc7_trg2.v2.3.1.20250312-1-gc1f0fe5.HE.sophronia.h5', 'run_15107_0764_ldc7_trg2.v2.3.1.20250312-1-gc1f0fe5.HE.sophronia.h5', 'run_15107_1936_ldc7_trg2.v2.3.1.20250312-1-gc1f0fe5.HE.sophronia.h5', 'run_15107_0118_ldc7_trg2.v2.3.1.20250312-1-gc1f0fe5.HE.sophronia.h5', 'run_15107_0252_ldc7_trg2.v2.3.1.20250312-1-gc1f0fe5.HE.sophronia.h5', 'run_15107_1937_ldc7_trg2.v2.3.1.20250312-1-gc1f0fe5.HE.sophronia.h5', 'run_15107_1638_ldc7_trg2.v2.3.1.20250312-1-gc1f0fe5.HE.sophronia.h5', 'run_15107_1277_ldc7_trg2.v2.3.1.20250312-1-gc1f0fe5.HE.sophronia.h5', 'run_15107_0516_ldc7_trg2.v2.3.1.20250312-1-gc1f0fe5.HE.sophronia.h5', 'run_15107_1978_ldc7_trg2.v2.3.1.20250312-1-gc1f0fe5.HE.sophronia.h5', 'run_15107_1752_ldc7_trg2.v2.3.1.20250312-1-gc1f0fe5.HE.sophronia.h5', 'run_15107_0991_ldc7_trg2.v2.3.1.20250312-1-gc1f0fe5.HE.sophronia.h5', 'run_15107_1524_ldc7_trg2.v2.3.1.20250312-1-gc1f0fe5.HE.sophronia.h5', 'run_15107_1125_ldc7_trg2.v2.3.1.20250312-1-gc1f0fe5.HE.sophronia.h5', 'run_15107_1006_ldc7_trg2.v2.3.1.20250312-1-gc1f0fe5.HE.sophronia.h5', 'run_15107_0515_ldc7_trg2.v2.3.1.20250312-1-gc1f0fe5.HE.sophronia.h5', 'run_15107_0018_ldc7_trg2.v2.3.1.20250312-1-gc1f0fe5.HE.sophronia.h5', 'run_15107_1116_ldc7_trg2.v2.3.1.20250312-1-gc1f0fe5.HE.sophronia.h5', 'run_15107_1411_ldc7_trg2.v2.3.1.20250312-1-gc1f0fe5.HE.sophronia.h5', 'run_15107_1678_ldc7_trg2.v2.3.1.20250312-1-gc1f0fe5.HE.sophronia.h5', 'run_15107_1543_ldc7_trg2.v2.3.1.20250312-1-gc1f0fe5.HE.sophronia.h5', 'run_15107_0177_ldc7_trg2.v2.3.1.20250312-1-gc1f0fe5.HE.sophronia.h5', 'run_15107_1790_ldc7_trg2.v2.3.1.20250312-1-gc1f0fe5.HE.sophronia.h5', 'run_15107_1776_ldc7_trg2.v2.3.1.20250312-1-gc1f0fe5.HE.sophronia.h5', 'run_15107_1976_ldc7_trg2.v2.3.1.20250312-1-gc1f0fe5.HE.sophronia.h5', 'run_15107_0239_ldc7_trg2.v2.3.1.20250312-1-gc1f0fe5.HE.sophronia.h5', 'run_15107_0366_ldc7_trg2.v2.3.1.20250312-1-gc1f0fe5.HE.sophronia.h5', 'run_15107_0288_ldc7_trg2.v2.3.1.20250312-1-gc1f0fe5.HE.sophronia.h5', 'run_15107_1528_ldc7_trg2.v2.3.1.20250312-1-gc1f0fe5.HE.sophronia.h5', 'run_15107_1059_ldc7_trg2.v2.3.1.20250312-1-gc1f0fe5.HE.sophronia.h5', 'run_15107_0708_ldc7_trg2.v2.3.1.20250312-1-gc1f0fe5.HE.sophronia.h5', 'run_15107_1304_ldc7_trg2.v2.3.1.20250312-1-gc1f0fe5.HE.sophronia.h5', 'run_15107_0597_ldc7_trg2.v2.3.1.20250312-1-gc1f0fe5.HE.sophronia.h5', 'run_15107_1124_ldc7_trg2.v2.3.1.20250312-1-gc1f0fe5.HE.sophronia.h5', 'run_15107_0668_ldc7_trg2.v2.3.1.20250312-1-gc1f0fe5.HE.sophronia.h5', 'run_15107_1548_ldc7_trg2.v2.3.1.20250312-1-gc1f0fe5.HE.sophronia.h5', 'run_15107_1150_ldc7_trg2.v2.3.1.20250312-1-gc1f0fe5.HE.sophronia.h5', 'run_15107_0907_ldc7_trg2.v2.3.1.20250312-1-gc1f0fe5.HE.sophronia.h5', 'run_15107_0401_ldc7_trg2.v2.3.1.20250312-1-gc1f0fe5.HE.sophronia.h5', 'run_15107_1109_ldc7_trg2.v2.3.1.20250312-1-gc1f0fe5.HE.sophronia.h5', 'run_15107_1738_ldc7_trg2.v2.3.1.20250312-1-gc1f0fe5.HE.sophronia.h5', 'run_15107_0294_ldc7_trg2.v2.3.1.20250312-1-gc1f0fe5.HE.sophronia.h5', 'run_15107_1579_ldc7_trg2.v2.3.1.20250312-1-gc1f0fe5.HE.sophronia.h5', 'run_15107_2190_ldc7_trg2.v2.3.1.20250312-1-gc1f0fe5.HE.sophronia.h5', 'run_15107_1325_ldc7_trg2.v2.3.1.20250312-1-gc1f0fe5.HE.sophronia.h5', 'run_15107_0347_ldc7_trg2.v2.3.1.20250312-1-gc1f0fe5.HE.sophronia.h5', 'run_15107_0733_ldc7_trg2.v2.3.1.20250312-1-gc1f0fe5.HE.sophronia.h5', 'run_15107_0180_ldc7_trg2.v2.3.1.20250312-1-gc1f0fe5.HE.sophronia.h5', 'run_15107_1640_ldc7_trg2.v2.3.1.20250312-1-gc1f0fe5.HE.sophronia.h5', 'run_15107_0853_ldc7_trg2.v2.3.1.20250312-1-gc1f0fe5.HE.sophronia.h5', 'run_15107_0504_ldc7_trg2.v2.3.1.20250312-1-gc1f0fe5.HE.sophronia.h5', 'run_15107_1872_ldc7_trg2.v2.3.1.20250312-1-gc1f0fe5.HE.sophronia.h5', 'run_15107_0927_ldc7_trg2.v2.3.1.20250312-1-gc1f0fe5.HE.sophronia.h5', 'run_15107_0501_ldc7_trg2.v2.3.1.20250312-1-gc1f0fe5.HE.sophronia.h5', 'run_15107_2084_ldc7_trg2.v2.3.1.20250312-1-gc1f0fe5.HE.sophronia.h5', 'run_15107_0883_ldc7_trg2.v2.3.1.20250312-1-gc1f0fe5.HE.sophronia.h5', 'run_15107_1200_ldc7_trg2.v2.3.1.20250312-1-gc1f0fe5.HE.sophronia.h5', 'run_15107_1157_ldc7_trg2.v2.3.1.20250312-1-gc1f0fe5.HE.sophronia.h5', 'run_15107_0538_ldc7_trg2.v2.3.1.20250312-1-gc1f0fe5.HE.sophronia.h5', 'run_15107_1605_ldc7_trg2.v2.3.1.20250312-1-gc1f0fe5.HE.sophronia.h5', 'run_15107_2104_ldc7_trg2.v2.3.1.20250312-1-gc1f0fe5.HE.sophronia.h5', 'run_15107_1507_ldc7_trg2.v2.3.1.20250312-1-gc1f0fe5.HE.sophronia.h5', 'run_15107_0550_ldc7_trg2.v2.3.1.20250312-1-gc1f0fe5.HE.sophronia.h5', 'run_15107_1356_ldc7_trg2.v2.3.1.20250312-1-gc1f0fe5.HE.sophronia.h5', 'run_15107_0979_ldc7_trg2.v2.3.1.20250312-1-gc1f0fe5.HE.sophronia.h5', 'run_15107_0175_ldc7_trg2.v2.3.1.20250312-1-gc1f0fe5.HE.sophronia.h5', 'run_15107_1820_ldc7_trg2.v2.3.1.20250312-1-gc1f0fe5.HE.sophronia.h5', 'run_15107_0437_ldc7_trg2.v2.3.1.20250312-1-gc1f0fe5.HE.sophronia.h5', 'run_15107_0048_ldc7_trg2.v2.3.1.20250312-1-gc1f0fe5.HE.sophronia.h5', 'run_15107_1322_ldc7_trg2.v2.3.1.20250312-1-gc1f0fe5.HE.sophronia.h5', 'run_15107_0076_ldc7_trg2.v2.3.1.20250312-1-gc1f0fe5.HE.sophronia.h5', 'run_15107_1499_ldc7_trg2.v2.3.1.20250312-1-gc1f0fe5.HE.sophronia.h5', 'run_15107_2239_ldc7_trg2.v2.3.1.20250312-1-gc1f0fe5.HE.sophronia.h5', 'run_15107_2067_ldc7_trg2.v2.3.1.20250312-1-gc1f0fe5.HE.sophronia.h5', 'run_15107_0038_ldc7_trg2.v2.3.1.20250312-1-gc1f0fe5.HE.sophronia.h5', 'run_15107_0531_ldc7_trg2.v2.3.1.20250312-1-gc1f0fe5.HE.sophronia.h5', 'run_15107_1245_ldc7_trg2.v2.3.1.20250312-1-gc1f0fe5.HE.sophronia.h5', 'run_15107_2052_ldc7_trg2.v2.3.1.20250312-1-gc1f0fe5.HE.sophronia.h5', 'run_15107_0880_ldc7_trg2.v2.3.1.20250312-1-gc1f0fe5.HE.sophronia.h5', 'run_15107_0812_ldc7_trg2.v2.3.1.20250312-1-gc1f0fe5.HE.sophronia.h5', 'run_15107_1574_ldc7_trg2.v2.3.1.20250312-1-gc1f0fe5.HE.sophronia.h5', 'run_15107_1204_ldc7_trg2.v2.3.1.20250312-1-gc1f0fe5.HE.sophronia.h5', 'run_15107_1501_ldc7_trg2.v2.3.1.20250312-1-gc1f0fe5.HE.sophronia.h5', 'run_15107_0874_ldc7_trg2.v2.3.1.20250312-1-gc1f0fe5.HE.sophronia.h5', 'run_15107_0315_ldc7_trg2.v2.3.1.20250312-1-gc1f0fe5.HE.sophronia.h5', 'run_15107_1713_ldc7_trg2.v2.3.1.20250312-1-gc1f0fe5.HE.sophronia.h5', 'run_15107_1151_ldc7_trg2.v2.3.1.20250312-1-gc1f0fe5.HE.sophronia.h5', 'run_15107_0131_ldc7_trg2.v2.3.1.20250312-1-gc1f0fe5.HE.sophronia.h5', 'run_15107_0982_ldc7_trg2.v2.3.1.20250312-1-gc1f0fe5.HE.sophronia.h5', 'run_15107_1400_ldc7_trg2.v2.3.1.20250312-1-gc1f0fe5.HE.sophronia.h5', 'run_15107_2157_ldc7_trg2.v2.3.1.20250312-1-gc1f0fe5.HE.sophronia.h5', 'run_15107_0823_ldc7_trg2.v2.3.1.20250312-1-gc1f0fe5.HE.sophronia.h5', 'run_15107_0757_ldc7_trg2.v2.3.1.20250312-1-gc1f0fe5.HE.sophronia.h5', 'run_15107_2183_ldc7_trg2.v2.3.1.20250312-1-gc1f0fe5.HE.sophronia.h5', 'run_15107_1375_ldc7_trg2.v2.3.1.20250312-1-gc1f0fe5.HE.sophronia.h5', 'run_15107_1954_ldc7_trg2.v2.3.1.20250312-1-gc1f0fe5.HE.sophronia.h5', 'run_15107_0217_ldc7_trg2.v2.3.1.20250312-1-gc1f0fe5.HE.sophronia.h5', 'run_15107_2098_ldc7_trg2.v2.3.1.20250312-1-gc1f0fe5.HE.sophronia.h5', 'run_15107_1825_ldc7_trg2.v2.3.1.20250312-1-gc1f0fe5.HE.sophronia.h5', 'run_15107_0473_ldc7_trg2.v2.3.1.20250312-1-gc1f0fe5.HE.sophronia.h5', 'run_15107_1975_ldc7_trg2.v2.3.1.20250312-1-gc1f0fe5.HE.sophronia.h5', 'run_15107_0695_ldc7_trg2.v2.3.1.20250312-1-gc1f0fe5.HE.sophronia.h5', 'run_15107_2018_ldc7_trg2.v2.3.1.20250312-1-gc1f0fe5.HE.sophronia.h5', 'run_15107_1291_ldc7_trg2.v2.3.1.20250312-1-gc1f0fe5.HE.sophronia.h5', 'run_15107_1619_ldc7_trg2.v2.3.1.20250312-1-gc1f0fe5.HE.sophronia.h5', 'run_15107_0867_ldc7_trg2.v2.3.1.20250312-1-gc1f0fe5.HE.sophronia.h5', 'run_15107_1104_ldc7_trg2.v2.3.1.20250312-1-gc1f0fe5.HE.sophronia.h5', 'run_15107_1033_ldc7_trg2.v2.3.1.20250312-1-gc1f0fe5.HE.sophronia.h5', 'run_15107_2009_ldc7_trg2.v2.3.1.20250312-1-gc1f0fe5.HE.sophronia.h5', 'run_15107_0594_ldc7_trg2.v2.3.1.20250312-1-gc1f0fe5.HE.sophronia.h5', 'run_15107_1731_ldc7_trg2.v2.3.1.20250312-1-gc1f0fe5.HE.sophronia.h5', 'run_15107_1443_ldc7_trg2.v2.3.1.20250312-1-gc1f0fe5.HE.sophronia.h5', 'run_15107_2075_ldc7_trg2.v2.3.1.20250312-1-gc1f0fe5.HE.sophronia.h5', 'run_15107_2071_ldc7_trg2.v2.3.1.20250312-1-gc1f0fe5.HE.sophronia.h5', 'run_15107_1217_ldc7_trg2.v2.3.1.20250312-1-gc1f0fe5.HE.sophronia.h5', 'run_15107_2026_ldc7_trg2.v2.3.1.20250312-1-gc1f0fe5.HE.sophronia.h5', 'run_15107_1757_ldc7_trg2.v2.3.1.20250312-1-gc1f0fe5.HE.sophronia.h5', 'run_15107_0557_ldc7_trg2.v2.3.1.20250312-1-gc1f0fe5.HE.sophronia.h5', 'run_15107_1948_ldc7_trg2.v2.3.1.20250312-1-gc1f0fe5.HE.sophronia.h5', 'run_15107_1571_ldc7_trg2.v2.3.1.20250312-1-gc1f0fe5.HE.sophronia.h5', 'run_15107_1955_ldc7_trg2.v2.3.1.20250312-1-gc1f0fe5.HE.sophronia.h5', 'run_15107_1929_ldc7_trg2.v2.3.1.20250312-1-gc1f0fe5.HE.sophronia.h5', 'run_15107_1530_ldc7_trg2.v2.3.1.20250312-1-gc1f0fe5.HE.sophronia.h5', 'run_15107_0983_ldc7_trg2.v2.3.1.20250312-1-gc1f0fe5.HE.sophronia.h5', 'run_15107_1144_ldc7_trg2.v2.3.1.20250312-1-gc1f0fe5.HE.sophronia.h5', 'run_15107_0079_ldc7_trg2.v2.3.1.20250312-1-gc1f0fe5.HE.sophronia.h5', 'run_15107_0216_ldc7_trg2.v2.3.1.20250312-1-gc1f0fe5.HE.sophronia.h5', 'run_15107_1904_ldc7_trg2.v2.3.1.20250312-1-gc1f0fe5.HE.sophronia.h5', 'run_15107_0914_ldc7_trg2.v2.3.1.20250312-1-gc1f0fe5.HE.sophronia.h5', 'run_15107_1293_ldc7_trg2.v2.3.1.20250312-1-gc1f0fe5.HE.sophronia.h5', 'run_15107_1905_ldc7_trg2.v2.3.1.20250312-1-gc1f0fe5.HE.sophronia.h5', 'run_15107_1404_ldc7_trg2.v2.3.1.20250312-1-gc1f0fe5.HE.sophronia.h5', 'run_15107_0054_ldc7_trg2.v2.3.1.20250312-1-gc1f0fe5.HE.sophronia.h5', 'run_15107_0794_ldc7_trg2.v2.3.1.20250312-1-gc1f0fe5.HE.sophronia.h5', 'run_15107_0385_ldc7_trg2.v2.3.1.20250312-1-gc1f0fe5.HE.sophronia.h5', 'run_15107_0509_ldc7_trg2.v2.3.1.20250312-1-gc1f0fe5.HE.sophronia.h5', 'run_15107_0195_ldc7_trg2.v2.3.1.20250312-1-gc1f0fe5.HE.sophronia.h5', 'run_15107_1232_ldc7_trg2.v2.3.1.20250312-1-gc1f0fe5.HE.sophronia.h5', 'run_15107_1966_ldc7_trg2.v2.3.1.20250312-1-gc1f0fe5.HE.sophronia.h5', 'run_15107_0340_ldc7_trg2.v2.3.1.20250312-1-gc1f0fe5.HE.sophronia.h5', 'run_15107_0854_ldc7_trg2.v2.3.1.20250312-1-gc1f0fe5.HE.sophronia.h5', 'run_15107_1646_ldc7_trg2.v2.3.1.20250312-1-gc1f0fe5.HE.sophronia.h5', 'run_15107_0893_ldc7_trg2.v2.3.1.20250312-1-gc1f0fe5.HE.sophronia.h5', 'run_15107_0691_ldc7_trg2.v2.3.1.20250312-1-gc1f0fe5.HE.sophronia.h5', 'run_15107_0206_ldc7_trg2.v2.3.1.20250312-1-gc1f0fe5.HE.sophronia.h5', 'run_15107_0209_ldc7_trg2.v2.3.1.20250312-1-gc1f0fe5.HE.sophronia.h5', 'run_15107_0946_ldc7_trg2.v2.3.1.20250312-1-gc1f0fe5.HE.sophronia.h5', 'run_15107_1885_ldc7_trg2.v2.3.1.20250312-1-gc1f0fe5.HE.sophronia.h5', 'run_15107_1256_ldc7_trg2.v2.3.1.20250312-1-gc1f0fe5.HE.sophronia.h5', 'run_15107_0042_ldc7_trg2.v2.3.1.20250312-1-gc1f0fe5.HE.sophronia.h5', 'run_15107_0818_ldc7_trg2.v2.3.1.20250312-1-gc1f0fe5.HE.sophronia.h5', 'run_15107_1971_ldc7_trg2.v2.3.1.20250312-1-gc1f0fe5.HE.sophronia.h5', 'run_15107_0064_ldc7_trg2.v2.3.1.20250312-1-gc1f0fe5.HE.sophronia.h5', 'run_15107_0059_ldc7_trg2.v2.3.1.20250312-1-gc1f0fe5.HE.sophronia.h5', 'run_15107_2114_ldc7_trg2.v2.3.1.20250312-1-gc1f0fe5.HE.sophronia.h5', 'run_15107_0556_ldc7_trg2.v2.3.1.20250312-1-gc1f0fe5.HE.sophronia.h5', 'run_15107_1999_ldc7_trg2.v2.3.1.20250312-1-gc1f0fe5.HE.sophronia.h5', 'run_15107_0317_ldc7_trg2.v2.3.1.20250312-1-gc1f0fe5.HE.sophronia.h5', 'run_15107_2120_ldc7_trg2.v2.3.1.20250312-1-gc1f0fe5.HE.sophronia.h5', 'run_15107_0786_ldc7_trg2.v2.3.1.20250312-1-gc1f0fe5.HE.sophronia.h5', 'run_15107_2182_ldc7_trg2.v2.3.1.20250312-1-gc1f0fe5.HE.sophronia.h5', 'run_15107_0158_ldc7_trg2.v2.3.1.20250312-1-gc1f0fe5.HE.sophronia.h5', 'run_15107_1550_ldc7_trg2.v2.3.1.20250312-1-gc1f0fe5.HE.sophronia.h5', 'run_15107_0956_ldc7_trg2.v2.3.1.20250312-1-gc1f0fe5.HE.sophronia.h5', 'run_15107_1857_ldc7_trg2.v2.3.1.20250312-1-gc1f0fe5.HE.sophronia.h5', 'run_15107_0174_ldc7_trg2.v2.3.1.20250312-1-gc1f0fe5.HE.sophronia.h5', 'run_15107_0336_ldc7_trg2.v2.3.1.20250312-1-gc1f0fe5.HE.sophronia.h5', 'run_15107_2060_ldc7_trg2.v2.3.1.20250312-1-gc1f0fe5.HE.sophronia.h5', 'run_15107_0646_ldc7_trg2.v2.3.1.20250312-1-gc1f0fe5.HE.sophronia.h5', 'run_15107_1037_ldc7_trg2.v2.3.1.20250312-1-gc1f0fe5.HE.sophronia.h5', 'run_15107_1393_ldc7_trg2.v2.3.1.20250312-1-gc1f0fe5.HE.sophronia.h5', 'run_15107_1214_ldc7_trg2.v2.3.1.20250312-1-gc1f0fe5.HE.sophronia.h5', 'run_15107_0986_ldc7_trg2.v2.3.1.20250312-1-gc1f0fe5.HE.sophronia.h5', 'run_15107_0286_ldc7_trg2.v2.3.1.20250312-1-gc1f0fe5.HE.sophronia.h5', 'run_15107_1219_ldc7_trg2.v2.3.1.20250312-1-gc1f0fe5.HE.sophronia.h5', 'run_15107_0308_ldc7_trg2.v2.3.1.20250312-1-gc1f0fe5.HE.sophronia.h5', 'run_15107_0309_ldc7_trg2.v2.3.1.20250312-1-gc1f0fe5.HE.sophronia.h5', 'run_15107_0881_ldc7_trg2.v2.3.1.20250312-1-gc1f0fe5.HE.sophronia.h5', 'run_15107_0015_ldc7_trg2.v2.3.1.20250312-1-gc1f0fe5.HE.sophronia.h5', 'run_15107_1761_ldc7_trg2.v2.3.1.20250312-1-gc1f0fe5.HE.sophronia.h5', 'run_15107_1603_ldc7_trg2.v2.3.1.20250312-1-gc1f0fe5.HE.sophronia.h5', 'run_15107_2027_ldc7_trg2.v2.3.1.20250312-1-gc1f0fe5.HE.sophronia.h5', 'run_15107_1227_ldc7_trg2.v2.3.1.20250312-1-gc1f0fe5.HE.sophronia.h5', 'run_15107_1622_ldc7_trg2.v2.3.1.20250312-1-gc1f0fe5.HE.sophronia.h5', 'run_15107_0768_ldc7_trg2.v2.3.1.20250312-1-gc1f0fe5.HE.sophronia.h5', 'run_15107_2037_ldc7_trg2.v2.3.1.20250312-1-gc1f0fe5.HE.sophronia.h5', 'run_15107_0712_ldc7_trg2.v2.3.1.20250312-1-gc1f0fe5.HE.sophronia.h5', 'run_15107_1298_ldc7_trg2.v2.3.1.20250312-1-gc1f0fe5.HE.sophronia.h5', 'run_15107_0098_ldc7_trg2.v2.3.1.20250312-1-gc1f0fe5.HE.sophronia.h5', 'run_15107_0721_ldc7_trg2.v2.3.1.20250312-1-gc1f0fe5.HE.sophronia.h5', 'run_15107_2241_ldc7_trg2.v2.3.1.20250312-1-gc1f0fe5.HE.sophronia.h5', 'run_15107_1249_ldc7_trg2.v2.3.1.20250312-1-gc1f0fe5.HE.sophronia.h5', 'run_15107_0070_ldc7_trg2.v2.3.1.20250312-1-gc1f0fe5.HE.sophronia.h5', 'run_15107_0008_ldc7_trg2.v2.3.1.20250312-1-gc1f0fe5.HE.sophronia.h5', 'run_15107_1773_ldc7_trg2.v2.3.1.20250312-1-gc1f0fe5.HE.sophronia.h5', 'run_15107_1103_ldc7_trg2.v2.3.1.20250312-1-gc1f0fe5.HE.sophronia.h5', 'run_15107_0273_ldc7_trg2.v2.3.1.20250312-1-gc1f0fe5.HE.sophronia.h5', 'run_15107_1248_ldc7_trg2.v2.3.1.20250312-1-gc1f0fe5.HE.sophronia.h5', 'run_15107_2133_ldc7_trg2.v2.3.1.20250312-1-gc1f0fe5.HE.sophronia.h5', 'run_15107_2209_ldc7_trg2.v2.3.1.20250312-1-gc1f0fe5.HE.sophronia.h5', 'run_15107_1128_ldc7_trg2.v2.3.1.20250312-1-gc1f0fe5.HE.sophronia.h5', 'run_15107_0958_ldc7_trg2.v2.3.1.20250312-1-gc1f0fe5.HE.sophronia.h5', 'run_15107_1451_ldc7_trg2.v2.3.1.20250312-1-gc1f0fe5.HE.sophronia.h5', 'run_15107_0157_ldc7_trg2.v2.3.1.20250312-1-gc1f0fe5.HE.sophronia.h5', 'run_15107_1287_ldc7_trg2.v2.3.1.20250312-1-gc1f0fe5.HE.sophronia.h5', 'run_15107_1512_ldc7_trg2.v2.3.1.20250312-1-gc1f0fe5.HE.sophronia.h5', 'run_15107_1095_ldc7_trg2.v2.3.1.20250312-1-gc1f0fe5.HE.sophronia.h5', 'run_15107_2110_ldc7_trg2.v2.3.1.20250312-1-gc1f0fe5.HE.sophronia.h5', 'run_15107_1641_ldc7_trg2.v2.3.1.20250312-1-gc1f0fe5.HE.sophronia.h5', 'run_15107_0904_ldc7_trg2.v2.3.1.20250312-1-gc1f0fe5.HE.sophronia.h5', 'run_15107_2207_ldc7_trg2.v2.3.1.20250312-1-gc1f0fe5.HE.sophronia.h5', 'run_15107_0338_ldc7_trg2.v2.3.1.20250312-1-gc1f0fe5.HE.sophronia.h5', 'run_15107_1046_ldc7_trg2.v2.3.1.20250312-1-gc1f0fe5.HE.sophronia.h5', 'run_15107_2038_ldc7_trg2.v2.3.1.20250312-1-gc1f0fe5.HE.sophronia.h5', 'run_15107_0056_ldc7_trg2.v2.3.1.20250312-1-gc1f0fe5.HE.sophronia.h5', 'run_15107_2165_ldc7_trg2.v2.3.1.20250312-1-gc1f0fe5.HE.sophronia.h5', 'run_15107_1676_ldc7_trg2.v2.3.1.20250312-1-gc1f0fe5.HE.sophronia.h5', 'run_15107_1737_ldc7_trg2.v2.3.1.20250312-1-gc1f0fe5.HE.sophronia.h5', 'run_15107_0412_ldc7_trg2.v2.3.1.20250312-1-gc1f0fe5.HE.sophronia.h5', 'run_15107_1475_ldc7_trg2.v2.3.1.20250312-1-gc1f0fe5.HE.sophronia.h5', 'run_15107_0003_ldc7_trg2.v2.3.1.20250312-1-gc1f0fe5.HE.sophronia.h5', 'run_15107_1201_ldc7_trg2.v2.3.1.20250312-1-gc1f0fe5.HE.sophronia.h5', 'run_15107_1090_ldc7_trg2.v2.3.1.20250312-1-gc1f0fe5.HE.sophronia.h5', 'run_15107_2070_ldc7_trg2.v2.3.1.20250312-1-gc1f0fe5.HE.sophronia.h5', 'run_15107_2229_ldc7_trg2.v2.3.1.20250312-1-gc1f0fe5.HE.sophronia.h5', 'run_15107_2008_ldc7_trg2.v2.3.1.20250312-1-gc1f0fe5.HE.sophronia.h5', 'run_15107_1362_ldc7_trg2.v2.3.1.20250312-1-gc1f0fe5.HE.sophronia.h5', 'run_15107_2015_ldc7_trg2.v2.3.1.20250312-1-gc1f0fe5.HE.sophronia.h5', 'run_15107_0654_ldc7_trg2.v2.3.1.20250312-1-gc1f0fe5.HE.sophronia.h5', 'run_15107_0820_ldc7_trg2.v2.3.1.20250312-1-gc1f0fe5.HE.sophronia.h5', 'run_15107_1816_ldc7_trg2.v2.3.1.20250312-1-gc1f0fe5.HE.sophronia.h5', 'run_15107_0788_ldc7_trg2.v2.3.1.20250312-1-gc1f0fe5.HE.sophronia.h5', 'run_15107_0125_ldc7_trg2.v2.3.1.20250312-1-gc1f0fe5.HE.sophronia.h5', 'run_15107_0263_ldc7_trg2.v2.3.1.20250312-1-gc1f0fe5.HE.sophronia.h5', 'run_15107_1986_ldc7_trg2.v2.3.1.20250312-1-gc1f0fe5.HE.sophronia.h5', 'run_15107_1378_ldc7_trg2.v2.3.1.20250312-1-gc1f0fe5.HE.sophronia.h5', 'run_15107_1268_ldc7_trg2.v2.3.1.20250312-1-gc1f0fe5.HE.sophronia.h5', 'run_15107_0453_ldc7_trg2.v2.3.1.20250312-1-gc1f0fe5.HE.sophronia.h5', 'run_15107_1722_ldc7_trg2.v2.3.1.20250312-1-gc1f0fe5.HE.sophronia.h5', 'run_15107_1490_ldc7_trg2.v2.3.1.20250312-1-gc1f0fe5.HE.sophronia.h5', 'run_15107_2154_ldc7_trg2.v2.3.1.20250312-1-gc1f0fe5.HE.sophronia.h5', 'run_15107_1083_ldc7_trg2.v2.3.1.20250312-1-gc1f0fe5.HE.sophronia.h5', 'run_15107_1000_ldc7_trg2.v2.3.1.20250312-1-gc1f0fe5.HE.sophronia.h5', 'run_15107_0990_ldc7_trg2.v2.3.1.20250312-1-gc1f0fe5.HE.sophronia.h5', 'run_15107_0749_ldc7_trg2.v2.3.1.20250312-1-gc1f0fe5.HE.sophronia.h5', 'run_15107_2125_ldc7_trg2.v2.3.1.20250312-1-gc1f0fe5.HE.sophronia.h5', 'run_15107_1262_ldc7_trg2.v2.3.1.20250312-1-gc1f0fe5.HE.sophronia.h5', 'run_15107_0007_ldc7_trg2.v2.3.1.20250312-1-gc1f0fe5.HE.sophronia.h5', 'run_15107_1119_ldc7_trg2.v2.3.1.20250312-1-gc1f0fe5.HE.sophronia.h5', 'run_15107_0522_ldc7_trg2.v2.3.1.20250312-1-gc1f0fe5.HE.sophronia.h5', 'run_15107_1687_ldc7_trg2.v2.3.1.20250312-1-gc1f0fe5.HE.sophronia.h5', 'run_15107_2145_ldc7_trg2.v2.3.1.20250312-1-gc1f0fe5.HE.sophronia.h5', 'run_15107_0903_ldc7_trg2.v2.3.1.20250312-1-gc1f0fe5.HE.sophronia.h5', 'run_15107_0779_ldc7_trg2.v2.3.1.20250312-1-gc1f0fe5.HE.sophronia.h5', 'run_15107_1458_ldc7_trg2.v2.3.1.20250312-1-gc1f0fe5.HE.sophronia.h5', 'run_15107_0735_ldc7_trg2.v2.3.1.20250312-1-gc1f0fe5.HE.sophronia.h5', 'run_15107_0027_ldc7_trg2.v2.3.1.20250312-1-gc1f0fe5.HE.sophronia.h5', 'run_15107_1903_ldc7_trg2.v2.3.1.20250312-1-gc1f0fe5.HE.sophronia.h5', 'run_15107_2003_ldc7_trg2.v2.3.1.20250312-1-gc1f0fe5.HE.sophronia.h5', 'run_15107_1675_ldc7_trg2.v2.3.1.20250312-1-gc1f0fe5.HE.sophronia.h5', 'run_15107_1178_ldc7_trg2.v2.3.1.20250312-1-gc1f0fe5.HE.sophronia.h5', 'run_15107_0442_ldc7_trg2.v2.3.1.20250312-1-gc1f0fe5.HE.sophronia.h5', 'run_15107_1118_ldc7_trg2.v2.3.1.20250312-1-gc1f0fe5.HE.sophronia.h5', 'run_15107_1621_ldc7_trg2.v2.3.1.20250312-1-gc1f0fe5.HE.sophronia.h5', 'run_15107_1541_ldc7_trg2.v2.3.1.20250312-1-gc1f0fe5.HE.sophronia.h5', 'run_15107_2000_ldc7_trg2.v2.3.1.20250312-1-gc1f0fe5.HE.sophronia.h5', 'run_15107_0251_ldc7_trg2.v2.3.1.20250312-1-gc1f0fe5.HE.sophronia.h5', 'run_15107_1094_ldc7_trg2.v2.3.1.20250312-1-gc1f0fe5.HE.sophronia.h5', 'run_15107_0596_ldc7_trg2.v2.3.1.20250312-1-gc1f0fe5.HE.sophronia.h5', 'run_15107_1372_ldc7_trg2.v2.3.1.20250312-1-gc1f0fe5.HE.sophronia.h5', 'run_15107_0689_ldc7_trg2.v2.3.1.20250312-1-gc1f0fe5.HE.sophronia.h5', 'run_15107_1169_ldc7_trg2.v2.3.1.20250312-1-gc1f0fe5.HE.sophronia.h5', 'run_15107_2242_ldc7_trg2.v2.3.1.20250312-1-gc1f0fe5.HE.sophronia.h5', 'run_15107_0957_ldc7_trg2.v2.3.1.20250312-1-gc1f0fe5.HE.sophronia.h5', 'run_15107_1672_ldc7_trg2.v2.3.1.20250312-1-gc1f0fe5.HE.sophronia.h5', 'run_15107_1015_ldc7_trg2.v2.3.1.20250312-1-gc1f0fe5.HE.sophronia.h5', 'run_15107_0968_ldc7_trg2.v2.3.1.20250312-1-gc1f0fe5.HE.sophronia.h5', 'run_15107_1850_ldc7_trg2.v2.3.1.20250312-1-gc1f0fe5.HE.sophronia.h5', 'run_15107_0260_ldc7_trg2.v2.3.1.20250312-1-gc1f0fe5.HE.sophronia.h5', 'run_15107_1363_ldc7_trg2.v2.3.1.20250312-1-gc1f0fe5.HE.sophronia.h5', 'run_15107_1315_ldc7_trg2.v2.3.1.20250312-1-gc1f0fe5.HE.sophronia.h5', 'run_15107_1142_ldc7_trg2.v2.3.1.20250312-1-gc1f0fe5.HE.sophronia.h5', 'run_15107_0977_ldc7_trg2.v2.3.1.20250312-1-gc1f0fe5.HE.sophronia.h5', 'run_15107_2079_ldc7_trg2.v2.3.1.20250312-1-gc1f0fe5.HE.sophronia.h5', 'run_15107_0360_ldc7_trg2.v2.3.1.20250312-1-gc1f0fe5.HE.sophronia.h5', 'run_15107_0146_ldc7_trg2.v2.3.1.20250312-1-gc1f0fe5.HE.sophronia.h5', 'run_15107_1340_ldc7_trg2.v2.3.1.20250312-1-gc1f0fe5.HE.sophronia.h5', 'run_15107_2035_ldc7_trg2.v2.3.1.20250312-1-gc1f0fe5.HE.sophronia.h5', 'run_15107_0071_ldc7_trg2.v2.3.1.20250312-1-gc1f0fe5.HE.sophronia.h5', 'run_15107_1889_ldc7_trg2.v2.3.1.20250312-1-gc1f0fe5.HE.sophronia.h5', 'run_15107_1765_ldc7_trg2.v2.3.1.20250312-1-gc1f0fe5.HE.sophronia.h5', 'run_15107_1034_ldc7_trg2.v2.3.1.20250312-1-gc1f0fe5.HE.sophronia.h5', 'run_15107_2032_ldc7_trg2.v2.3.1.20250312-1-gc1f0fe5.HE.sophronia.h5', 'run_15107_0040_ldc7_trg2.v2.3.1.20250312-1-gc1f0fe5.HE.sophronia.h5', 'run_15107_1508_ldc7_trg2.v2.3.1.20250312-1-gc1f0fe5.HE.sophronia.h5', 'run_15107_0637_ldc7_trg2.v2.3.1.20250312-1-gc1f0fe5.HE.sophronia.h5', 'run_15107_1735_ldc7_trg2.v2.3.1.20250312-1-gc1f0fe5.HE.sophronia.h5', 'run_15107_1743_ldc7_trg2.v2.3.1.20250312-1-gc1f0fe5.HE.sophronia.h5', 'run_15107_0035_ldc7_trg2.v2.3.1.20250312-1-gc1f0fe5.HE.sophronia.h5', 'run_15107_1305_ldc7_trg2.v2.3.1.20250312-1-gc1f0fe5.HE.sophronia.h5', 'run_15107_1521_ldc7_trg2.v2.3.1.20250312-1-gc1f0fe5.HE.sophronia.h5', 'run_15107_0619_ldc7_trg2.v2.3.1.20250312-1-gc1f0fe5.HE.sophronia.h5', 'run_15107_0919_ldc7_trg2.v2.3.1.20250312-1-gc1f0fe5.HE.sophronia.h5', 'run_15107_1704_ldc7_trg2.v2.3.1.20250312-1-gc1f0fe5.HE.sophronia.h5', 'run_15107_0833_ldc7_trg2.v2.3.1.20250312-1-gc1f0fe5.HE.sophronia.h5', 'run_15107_0552_ldc7_trg2.v2.3.1.20250312-1-gc1f0fe5.HE.sophronia.h5', 'run_15107_1911_ldc7_trg2.v2.3.1.20250312-1-gc1f0fe5.HE.sophronia.h5', 'run_15107_2048_ldc7_trg2.v2.3.1.20250312-1-gc1f0fe5.HE.sophronia.h5', 'run_15107_1318_ldc7_trg2.v2.3.1.20250312-1-gc1f0fe5.HE.sophronia.h5', 'run_15107_1549_ldc7_trg2.v2.3.1.20250312-1-gc1f0fe5.HE.sophronia.h5', 'run_15107_1925_ldc7_trg2.v2.3.1.20250312-1-gc1f0fe5.HE.sophronia.h5', 'run_15107_0653_ldc7_trg2.v2.3.1.20250312-1-gc1f0fe5.HE.sophronia.h5', 'run_15107_0497_ldc7_trg2.v2.3.1.20250312-1-gc1f0fe5.HE.sophronia.h5', 'run_15107_0677_ldc7_trg2.v2.3.1.20250312-1-gc1f0fe5.HE.sophronia.h5', 'run_15107_1822_ldc7_trg2.v2.3.1.20250312-1-gc1f0fe5.HE.sophronia.h5', 'run_15107_0430_ldc7_trg2.v2.3.1.20250312-1-gc1f0fe5.HE.sophronia.h5', 'run_15107_0278_ldc7_trg2.v2.3.1.20250312-1-gc1f0fe5.HE.sophronia.h5', 'run_15107_1351_ldc7_trg2.v2.3.1.20250312-1-gc1f0fe5.HE.sophronia.h5', 'run_15107_0119_ldc7_trg2.v2.3.1.20250312-1-gc1f0fe5.HE.sophronia.h5', 'run_15107_2061_ldc7_trg2.v2.3.1.20250312-1-gc1f0fe5.HE.sophronia.h5', 'run_15107_1336_ldc7_trg2.v2.3.1.20250312-1-gc1f0fe5.HE.sophronia.h5', 'run_15107_0539_ldc7_trg2.v2.3.1.20250312-1-gc1f0fe5.HE.sophronia.h5', 'run_15107_1589_ldc7_trg2.v2.3.1.20250312-1-gc1f0fe5.HE.sophronia.h5', 'run_15107_0460_ldc7_trg2.v2.3.1.20250312-1-gc1f0fe5.HE.sophronia.h5', 'run_15107_0634_ldc7_trg2.v2.3.1.20250312-1-gc1f0fe5.HE.sophronia.h5', 'run_15107_0745_ldc7_trg2.v2.3.1.20250312-1-gc1f0fe5.HE.sophronia.h5', 'run_15107_1734_ldc7_trg2.v2.3.1.20250312-1-gc1f0fe5.HE.sophronia.h5', 'run_15107_1290_ldc7_trg2.v2.3.1.20250312-1-gc1f0fe5.HE.sophronia.h5', 'run_15107_1525_ldc7_trg2.v2.3.1.20250312-1-gc1f0fe5.HE.sophronia.h5', 'run_15107_1379_ldc7_trg2.v2.3.1.20250312-1-gc1f0fe5.HE.sophronia.h5', 'run_15107_0612_ldc7_trg2.v2.3.1.20250312-1-gc1f0fe5.HE.sophronia.h5', 'run_15107_2215_ldc7_trg2.v2.3.1.20250312-1-gc1f0fe5.HE.sophronia.h5', 'run_15107_1106_ldc7_trg2.v2.3.1.20250312-1-gc1f0fe5.HE.sophronia.h5', 'run_15107_0246_ldc7_trg2.v2.3.1.20250312-1-gc1f0fe5.HE.sophronia.h5', 'run_15107_0250_ldc7_trg2.v2.3.1.20250312-1-gc1f0fe5.HE.sophronia.h5', 'run_15107_1987_ldc7_trg2.v2.3.1.20250312-1-gc1f0fe5.HE.sophronia.h5', 'run_15107_1787_ldc7_trg2.v2.3.1.20250312-1-gc1f0fe5.HE.sophronia.h5', 'run_15107_0980_ldc7_trg2.v2.3.1.20250312-1-gc1f0fe5.HE.sophronia.h5', 'run_15107_0476_ldc7_trg2.v2.3.1.20250312-1-gc1f0fe5.HE.sophronia.h5', 'run_15107_0965_ldc7_trg2.v2.3.1.20250312-1-gc1f0fe5.HE.sophronia.h5', 'run_15107_0356_ldc7_trg2.v2.3.1.20250312-1-gc1f0fe5.HE.sophronia.h5', 'run_15107_0407_ldc7_trg2.v2.3.1.20250312-1-gc1f0fe5.HE.sophronia.h5', 'run_15107_0395_ldc7_trg2.v2.3.1.20250312-1-gc1f0fe5.HE.sophronia.h5', 'run_15107_1618_ldc7_trg2.v2.3.1.20250312-1-gc1f0fe5.HE.sophronia.h5', 'run_15107_1444_ldc7_trg2.v2.3.1.20250312-1-gc1f0fe5.HE.sophronia.h5', 'run_15107_1728_ldc7_trg2.v2.3.1.20250312-1-gc1f0fe5.HE.sophronia.h5', 'run_15107_1942_ldc7_trg2.v2.3.1.20250312-1-gc1f0fe5.HE.sophronia.h5', 'run_15107_0740_ldc7_trg2.v2.3.1.20250312-1-gc1f0fe5.HE.sophronia.h5', 'run_15107_2094_ldc7_trg2.v2.3.1.20250312-1-gc1f0fe5.HE.sophronia.h5', 'run_15107_2153_ldc7_trg2.v2.3.1.20250312-1-gc1f0fe5.HE.sophronia.h5', 'run_15107_0870_ldc7_trg2.v2.3.1.20250312-1-gc1f0fe5.HE.sophronia.h5', 'run_15107_1939_ldc7_trg2.v2.3.1.20250312-1-gc1f0fe5.HE.sophronia.h5', 'run_15107_0611_ldc7_trg2.v2.3.1.20250312-1-gc1f0fe5.HE.sophronia.h5', 'run_15107_1295_ldc7_trg2.v2.3.1.20250312-1-gc1f0fe5.HE.sophronia.h5', 'run_15107_1847_ldc7_trg2.v2.3.1.20250312-1-gc1f0fe5.HE.sophronia.h5', 'run_15107_0080_ldc7_trg2.v2.3.1.20250312-1-gc1f0fe5.HE.sophronia.h5', 'run_15107_1253_ldc7_trg2.v2.3.1.20250312-1-gc1f0fe5.HE.sophronia.h5', 'run_15107_0410_ldc7_trg2.v2.3.1.20250312-1-gc1f0fe5.HE.sophronia.h5', 'run_15107_0500_ldc7_trg2.v2.3.1.20250312-1-gc1f0fe5.HE.sophronia.h5', 'run_15107_2164_ldc7_trg2.v2.3.1.20250312-1-gc1f0fe5.HE.sophronia.h5', 'run_15107_2143_ldc7_trg2.v2.3.1.20250312-1-gc1f0fe5.HE.sophronia.h5', 'run_15107_1446_ldc7_trg2.v2.3.1.20250312-1-gc1f0fe5.HE.sophronia.h5', 'run_15107_1153_ldc7_trg2.v2.3.1.20250312-1-gc1f0fe5.HE.sophronia.h5', 'run_15107_1035_ldc7_trg2.v2.3.1.20250312-1-gc1f0fe5.HE.sophronia.h5', 'run_15107_0995_ldc7_trg2.v2.3.1.20250312-1-gc1f0fe5.HE.sophronia.h5', 'run_15107_0201_ldc7_trg2.v2.3.1.20250312-1-gc1f0fe5.HE.sophronia.h5', 'run_15107_0969_ldc7_trg2.v2.3.1.20250312-1-gc1f0fe5.HE.sophronia.h5', 'run_15107_0702_ldc7_trg2.v2.3.1.20250312-1-gc1f0fe5.HE.sophronia.h5', 'run_15107_2129_ldc7_trg2.v2.3.1.20250312-1-gc1f0fe5.HE.sophronia.h5', 'run_15107_1879_ldc7_trg2.v2.3.1.20250312-1-gc1f0fe5.HE.sophronia.h5', 'run_15107_1874_ldc7_trg2.v2.3.1.20250312-1-gc1f0fe5.HE.sophronia.h5', 'run_15107_0482_ldc7_trg2.v2.3.1.20250312-1-gc1f0fe5.HE.sophronia.h5', 'run_15107_1960_ldc7_trg2.v2.3.1.20250312-1-gc1f0fe5.HE.sophronia.h5', 'run_15107_0791_ldc7_trg2.v2.3.1.20250312-1-gc1f0fe5.HE.sophronia.h5', 'run_15107_0187_ldc7_trg2.v2.3.1.20250312-1-gc1f0fe5.HE.sophronia.h5', 'run_15107_2177_ldc7_trg2.v2.3.1.20250312-1-gc1f0fe5.HE.sophronia.h5', 'run_15107_0478_ldc7_trg2.v2.3.1.20250312-1-gc1f0fe5.HE.sophronia.h5', 'run_15107_2057_ldc7_trg2.v2.3.1.20250312-1-gc1f0fe5.HE.sophronia.h5', 'run_15107_1423_ldc7_trg2.v2.3.1.20250312-1-gc1f0fe5.HE.sophronia.h5', 'run_15107_0568_ldc7_trg2.v2.3.1.20250312-1-gc1f0fe5.HE.sophronia.h5', 'run_15107_1663_ldc7_trg2.v2.3.1.20250312-1-gc1f0fe5.HE.sophronia.h5', 'run_15107_1784_ldc7_trg2.v2.3.1.20250312-1-gc1f0fe5.HE.sophronia.h5', 'run_15107_0997_ldc7_trg2.v2.3.1.20250312-1-gc1f0fe5.HE.sophronia.h5', 'run_15107_0223_ldc7_trg2.v2.3.1.20250312-1-gc1f0fe5.HE.sophronia.h5', 'run_15107_1031_ldc7_trg2.v2.3.1.20250312-1-gc1f0fe5.HE.sophronia.h5', 'run_15107_2178_ldc7_trg2.v2.3.1.20250312-1-gc1f0fe5.HE.sophronia.h5', 'run_15107_0676_ldc7_trg2.v2.3.1.20250312-1-gc1f0fe5.HE.sophronia.h5', 'run_15107_1631_ldc7_trg2.v2.3.1.20250312-1-gc1f0fe5.HE.sophronia.h5', 'run_15107_1657_ldc7_trg2.v2.3.1.20250312-1-gc1f0fe5.HE.sophronia.h5', 'run_15107_1284_ldc7_trg2.v2.3.1.20250312-1-gc1f0fe5.HE.sophronia.h5', 'run_15107_0348_ldc7_trg2.v2.3.1.20250312-1-gc1f0fe5.HE.sophronia.h5', 'run_15107_1202_ldc7_trg2.v2.3.1.20250312-1-gc1f0fe5.HE.sophronia.h5', 'run_15107_2240_ldc7_trg2.v2.3.1.20250312-1-gc1f0fe5.HE.sophronia.h5', 'run_15107_0901_ldc7_trg2.v2.3.1.20250312-1-gc1f0fe5.HE.sophronia.h5', 'run_15107_1482_ldc7_trg2.v2.3.1.20250312-1-gc1f0fe5.HE.sophronia.h5', 'run_15107_0792_ldc7_trg2.v2.3.1.20250312-1-gc1f0fe5.HE.sophronia.h5', 'run_15107_2135_ldc7_trg2.v2.3.1.20250312-1-gc1f0fe5.HE.sophronia.h5', 'run_15107_0333_ldc7_trg2.v2.3.1.20250312-1-gc1f0fe5.HE.sophronia.h5', 'run_15107_0573_ldc7_trg2.v2.3.1.20250312-1-gc1f0fe5.HE.sophronia.h5', 'run_15107_0511_ldc7_trg2.v2.3.1.20250312-1-gc1f0fe5.HE.sophronia.h5', 'run_15107_0940_ldc7_trg2.v2.3.1.20250312-1-gc1f0fe5.HE.sophronia.h5', 'run_15107_1014_ldc7_trg2.v2.3.1.20250312-1-gc1f0fe5.HE.sophronia.h5', 'run_15107_0599_ldc7_trg2.v2.3.1.20250312-1-gc1f0fe5.HE.sophronia.h5', 'run_15107_0819_ldc7_trg2.v2.3.1.20250312-1-gc1f0fe5.HE.sophronia.h5', 'run_15107_0145_ldc7_trg2.v2.3.1.20250312-1-gc1f0fe5.HE.sophronia.h5', 'run_15107_1930_ldc7_trg2.v2.3.1.20250312-1-gc1f0fe5.HE.sophronia.h5', 'run_15107_1405_ldc7_trg2.v2.3.1.20250312-1-gc1f0fe5.HE.sophronia.h5', 'run_15107_2113_ldc7_trg2.v2.3.1.20250312-1-gc1f0fe5.HE.sophronia.h5', 'run_15107_1616_ldc7_trg2.v2.3.1.20250312-1-gc1f0fe5.HE.sophronia.h5', 'run_15107_1561_ldc7_trg2.v2.3.1.20250312-1-gc1f0fe5.HE.sophronia.h5', 'run_15107_1182_ldc7_trg2.v2.3.1.20250312-1-gc1f0fe5.HE.sophronia.h5', 'run_15107_0247_ldc7_trg2.v2.3.1.20250312-1-gc1f0fe5.HE.sophronia.h5', 'run_15107_0032_ldc7_trg2.v2.3.1.20250312-1-gc1f0fe5.HE.sophronia.h5', 'run_15107_1488_ldc7_trg2.v2.3.1.20250312-1-gc1f0fe5.HE.sophronia.h5', 'run_15107_0706_ldc7_trg2.v2.3.1.20250312-1-gc1f0fe5.HE.sophronia.h5', 'run_15107_0562_ldc7_trg2.v2.3.1.20250312-1-gc1f0fe5.HE.sophronia.h5', 'run_15107_1691_ldc7_trg2.v2.3.1.20250312-1-gc1f0fe5.HE.sophronia.h5', 'run_15107_1900_ldc7_trg2.v2.3.1.20250312-1-gc1f0fe5.HE.sophronia.h5', 'run_15107_2237_ldc7_trg2.v2.3.1.20250312-1-gc1f0fe5.HE.sophronia.h5', 'run_15107_2065_ldc7_trg2.v2.3.1.20250312-1-gc1f0fe5.HE.sophronia.h5', 'run_15107_1050_ldc7_trg2.v2.3.1.20250312-1-gc1f0fe5.HE.sophronia.h5', 'run_15107_1639_ldc7_trg2.v2.3.1.20250312-1-gc1f0fe5.HE.sophronia.h5', 'run_15107_1718_ldc7_trg2.v2.3.1.20250312-1-gc1f0fe5.HE.sophronia.h5', 'run_15107_0728_ldc7_trg2.v2.3.1.20250312-1-gc1f0fe5.HE.sophronia.h5', 'run_15107_1189_ldc7_trg2.v2.3.1.20250312-1-gc1f0fe5.HE.sophronia.h5', 'run_15107_0361_ldc7_trg2.v2.3.1.20250312-1-gc1f0fe5.HE.sophronia.h5', 'run_15107_0328_ldc7_trg2.v2.3.1.20250312-1-gc1f0fe5.HE.sophronia.h5', 'run_15107_1815_ldc7_trg2.v2.3.1.20250312-1-gc1f0fe5.HE.sophronia.h5', 'run_15107_0636_ldc7_trg2.v2.3.1.20250312-1-gc1f0fe5.HE.sophronia.h5', 'run_15107_0074_ldc7_trg2.v2.3.1.20250312-1-gc1f0fe5.HE.sophronia.h5', 'run_15107_1495_ldc7_trg2.v2.3.1.20250312-1-gc1f0fe5.HE.sophronia.h5', 'run_15107_0285_ldc7_trg2.v2.3.1.20250312-1-gc1f0fe5.HE.sophronia.h5', 'run_15107_0362_ldc7_trg2.v2.3.1.20250312-1-gc1f0fe5.HE.sophronia.h5', 'run_15107_1529_ldc7_trg2.v2.3.1.20250312-1-gc1f0fe5.HE.sophronia.h5', 'run_15107_2074_ldc7_trg2.v2.3.1.20250312-1-gc1f0fe5.HE.sophronia.h5', 'run_15107_0727_ldc7_trg2.v2.3.1.20250312-1-gc1f0fe5.HE.sophronia.h5', 'run_15107_1054_ldc7_trg2.v2.3.1.20250312-1-gc1f0fe5.HE.sophronia.h5', 'run_15107_2171_ldc7_trg2.v2.3.1.20250312-1-gc1f0fe5.HE.sophronia.h5', 'run_15107_1186_ldc7_trg2.v2.3.1.20250312-1-gc1f0fe5.HE.sophronia.h5', 'run_15107_2005_ldc7_trg2.v2.3.1.20250312-1-gc1f0fe5.HE.sophronia.h5', 'run_15107_2062_ldc7_trg2.v2.3.1.20250312-1-gc1f0fe5.HE.sophronia.h5', 'run_15107_1497_ldc7_trg2.v2.3.1.20250312-1-gc1f0fe5.HE.sophronia.h5', 'run_15107_1062_ldc7_trg2.v2.3.1.20250312-1-gc1f0fe5.HE.sophronia.h5', 'run_15107_1944_ldc7_trg2.v2.3.1.20250312-1-gc1f0fe5.HE.sophronia.h5', 'run_15107_0746_ldc7_trg2.v2.3.1.20250312-1-gc1f0fe5.HE.sophronia.h5', 'run_15107_1746_ldc7_trg2.v2.3.1.20250312-1-gc1f0fe5.HE.sophronia.h5', 'run_15107_1246_ldc7_trg2.v2.3.1.20250312-1-gc1f0fe5.HE.sophronia.h5', 'run_15107_1011_ldc7_trg2.v2.3.1.20250312-1-gc1f0fe5.HE.sophronia.h5', 'run_15107_1762_ldc7_trg2.v2.3.1.20250312-1-gc1f0fe5.HE.sophronia.h5', 'run_15107_0613_ldc7_trg2.v2.3.1.20250312-1-gc1f0fe5.HE.sophronia.h5', 'run_15107_1425_ldc7_trg2.v2.3.1.20250312-1-gc1f0fe5.HE.sophronia.h5', 'run_15107_0973_ldc7_trg2.v2.3.1.20250312-1-gc1f0fe5.HE.sophronia.h5', 'run_15107_1890_ldc7_trg2.v2.3.1.20250312-1-gc1f0fe5.HE.sophronia.h5', 'run_15107_0767_ldc7_trg2.v2.3.1.20250312-1-gc1f0fe5.HE.sophronia.h5', 'run_15107_1406_ldc7_trg2.v2.3.1.20250312-1-gc1f0fe5.HE.sophronia.h5', 'run_15107_1636_ldc7_trg2.v2.3.1.20250312-1-gc1f0fe5.HE.sophronia.h5', 'run_15107_0858_ldc7_trg2.v2.3.1.20250312-1-gc1f0fe5.HE.sophronia.h5', 'run_15107_0454_ldc7_trg2.v2.3.1.20250312-1-gc1f0fe5.HE.sophronia.h5', 'run_15107_2022_ldc7_trg2.v2.3.1.20250312-1-gc1f0fe5.HE.sophronia.h5', 'run_15107_0976_ldc7_trg2.v2.3.1.20250312-1-gc1f0fe5.HE.sophronia.h5', 'run_15107_0010_ldc7_trg2.v2.3.1.20250312-1-gc1f0fe5.HE.sophronia.h5', 'run_15107_0656_ldc7_trg2.v2.3.1.20250312-1-gc1f0fe5.HE.sophronia.h5', 'run_15107_1651_ldc7_trg2.v2.3.1.20250312-1-gc1f0fe5.HE.sophronia.h5', 'run_15107_0561_ldc7_trg2.v2.3.1.20250312-1-gc1f0fe5.HE.sophronia.h5', 'run_15107_1797_ldc7_trg2.v2.3.1.20250312-1-gc1f0fe5.HE.sophronia.h5', 'run_15107_1582_ldc7_trg2.v2.3.1.20250312-1-gc1f0fe5.HE.sophronia.h5', 'run_15107_1167_ldc7_trg2.v2.3.1.20250312-1-gc1f0fe5.HE.sophronia.h5', 'run_15107_0775_ldc7_trg2.v2.3.1.20250312-1-gc1f0fe5.HE.sophronia.h5', 'run_15107_2099_ldc7_trg2.v2.3.1.20250312-1-gc1f0fe5.HE.sophronia.h5', 'run_15107_0184_ldc7_trg2.v2.3.1.20250312-1-gc1f0fe5.HE.sophronia.h5', 'run_15107_2064_ldc7_trg2.v2.3.1.20250312-1-gc1f0fe5.HE.sophronia.h5', 'run_15107_0000_ldc7_trg2.v2.3.1.20250312-1-gc1f0fe5.HE.sophronia.h5', 'run_15107_0933_ldc7_trg2.v2.3.1.20250312-1-gc1f0fe5.HE.sophronia.h5', 'run_15107_1045_ldc7_trg2.v2.3.1.20250312-1-gc1f0fe5.HE.sophronia.h5', 'run_15107_0450_ldc7_trg2.v2.3.1.20250312-1-gc1f0fe5.HE.sophronia.h5', 'run_15107_0268_ldc7_trg2.v2.3.1.20250312-1-gc1f0fe5.HE.sophronia.h5', 'run_15107_2219_ldc7_trg2.v2.3.1.20250312-1-gc1f0fe5.HE.sophronia.h5', 'run_15107_1552_ldc7_trg2.v2.3.1.20250312-1-gc1f0fe5.HE.sophronia.h5', 'run_15107_0857_ldc7_trg2.v2.3.1.20250312-1-gc1f0fe5.HE.sophronia.h5', 'run_15107_0021_ldc7_trg2.v2.3.1.20250312-1-gc1f0fe5.HE.sophronia.h5', 'run_15107_0716_ldc7_trg2.v2.3.1.20250312-1-gc1f0fe5.HE.sophronia.h5', 'run_15107_1832_ldc7_trg2.v2.3.1.20250312-1-gc1f0fe5.HE.sophronia.h5', 'run_15107_0630_ldc7_trg2.v2.3.1.20250312-1-gc1f0fe5.HE.sophronia.h5', 'run_15107_1647_ldc7_trg2.v2.3.1.20250312-1-gc1f0fe5.HE.sophronia.h5', 'run_15107_0751_ldc7_trg2.v2.3.1.20250312-1-gc1f0fe5.HE.sophronia.h5', 'run_15107_0051_ldc7_trg2.v2.3.1.20250312-1-gc1f0fe5.HE.sophronia.h5', 'run_15107_1479_ldc7_trg2.v2.3.1.20250312-1-gc1f0fe5.HE.sophronia.h5', 'run_15107_0635_ldc7_trg2.v2.3.1.20250312-1-gc1f0fe5.HE.sophronia.h5', 'run_15107_0824_ldc7_trg2.v2.3.1.20250312-1-gc1f0fe5.HE.sophronia.h5', 'run_15107_0572_ldc7_trg2.v2.3.1.20250312-1-gc1f0fe5.HE.sophronia.h5', 'run_15107_1997_ldc7_trg2.v2.3.1.20250312-1-gc1f0fe5.HE.sophronia.h5', 'run_15107_0802_ldc7_trg2.v2.3.1.20250312-1-gc1f0fe5.HE.sophronia.h5', 'run_15107_0692_ldc7_trg2.v2.3.1.20250312-1-gc1f0fe5.HE.sophronia.h5', 'run_15107_2076_ldc7_trg2.v2.3.1.20250312-1-gc1f0fe5.HE.sophronia.h5', 'run_15107_1496_ldc7_trg2.v2.3.1.20250312-1-gc1f0fe5.HE.sophronia.h5', 'run_15107_0319_ldc7_trg2.v2.3.1.20250312-1-gc1f0fe5.HE.sophronia.h5', 'run_15107_0448_ldc7_trg2.v2.3.1.20250312-1-gc1f0fe5.HE.sophronia.h5', 'run_15107_0934_ldc7_trg2.v2.3.1.20250312-1-gc1f0fe5.HE.sophronia.h5', 'run_15107_1430_ldc7_trg2.v2.3.1.20250312-1-gc1f0fe5.HE.sophronia.h5', 'run_15107_2088_ldc7_trg2.v2.3.1.20250312-1-gc1f0fe5.HE.sophronia.h5', 'run_15107_0736_ldc7_trg2.v2.3.1.20250312-1-gc1f0fe5.HE.sophronia.h5', 'run_15107_2184_ldc7_trg2.v2.3.1.20250312-1-gc1f0fe5.HE.sophronia.h5', 'run_15107_1462_ldc7_trg2.v2.3.1.20250312-1-gc1f0fe5.HE.sophronia.h5', 'run_15107_0297_ldc7_trg2.v2.3.1.20250312-1-gc1f0fe5.HE.sophronia.h5', 'run_15107_1022_ldc7_trg2.v2.3.1.20250312-1-gc1f0fe5.HE.sophronia.h5', 'run_15107_1358_ldc7_trg2.v2.3.1.20250312-1-gc1f0fe5.HE.sophronia.h5', 'run_15107_1700_ldc7_trg2.v2.3.1.20250312-1-gc1f0fe5.HE.sophronia.h5', 'run_15107_1922_ldc7_trg2.v2.3.1.20250312-1-gc1f0fe5.HE.sophronia.h5', 'run_15107_1485_ldc7_trg2.v2.3.1.20250312-1-gc1f0fe5.HE.sophronia.h5', 'run_15107_1259_ldc7_trg2.v2.3.1.20250312-1-gc1f0fe5.HE.sophronia.h5', 'run_15107_1809_ldc7_trg2.v2.3.1.20250312-1-gc1f0fe5.HE.sophronia.h5', 'run_15107_0207_ldc7_trg2.v2.3.1.20250312-1-gc1f0fe5.HE.sophronia.h5', 'run_15107_1981_ldc7_trg2.v2.3.1.20250312-1-gc1f0fe5.HE.sophronia.h5', 'run_15107_1719_ldc7_trg2.v2.3.1.20250312-1-gc1f0fe5.HE.sophronia.h5', 'run_15107_0657_ldc7_trg2.v2.3.1.20250312-1-gc1f0fe5.HE.sophronia.h5', 'run_15107_0341_ldc7_trg2.v2.3.1.20250312-1-gc1f0fe5.HE.sophronia.h5', 'run_15107_1670_ldc7_trg2.v2.3.1.20250312-1-gc1f0fe5.HE.sophronia.h5', 'run_15107_1751_ldc7_trg2.v2.3.1.20250312-1-gc1f0fe5.HE.sophronia.h5', 'run_15107_1637_ldc7_trg2.v2.3.1.20250312-1-gc1f0fe5.HE.sophronia.h5', 'run_15107_0774_ldc7_trg2.v2.3.1.20250312-1-gc1f0fe5.HE.sophronia.h5', 'run_15107_1671_ldc7_trg2.v2.3.1.20250312-1-gc1f0fe5.HE.sophronia.h5', 'run_15107_1269_ldc7_trg2.v2.3.1.20250312-1-gc1f0fe5.HE.sophronia.h5', 'run_15107_0417_ldc7_trg2.v2.3.1.20250312-1-gc1f0fe5.HE.sophronia.h5', 'run_15107_0210_ldc7_trg2.v2.3.1.20250312-1-gc1f0fe5.HE.sophronia.h5', 'run_15107_1642_ldc7_trg2.v2.3.1.20250312-1-gc1f0fe5.HE.sophronia.h5', 'run_15107_1004_ldc7_trg2.v2.3.1.20250312-1-gc1f0fe5.HE.sophronia.h5', 'run_15107_1088_ldc7_trg2.v2.3.1.20250312-1-gc1f0fe5.HE.sophronia.h5', 'run_15107_1796_ldc7_trg2.v2.3.1.20250312-1-gc1f0fe5.HE.sophronia.h5', 'run_15107_0143_ldc7_trg2.v2.3.1.20250312-1-gc1f0fe5.HE.sophronia.h5', 'run_15107_1964_ldc7_trg2.v2.3.1.20250312-1-gc1f0fe5.HE.sophronia.h5', 'run_15107_2169_ldc7_trg2.v2.3.1.20250312-1-gc1f0fe5.HE.sophronia.h5', 'run_15107_1002_ldc7_trg2.v2.3.1.20250312-1-gc1f0fe5.HE.sophronia.h5', 'run_15107_0381_ldc7_trg2.v2.3.1.20250312-1-gc1f0fe5.HE.sophronia.h5', 'run_15107_0398_ldc7_trg2.v2.3.1.20250312-1-gc1f0fe5.HE.sophronia.h5', 'run_15107_0679_ldc7_trg2.v2.3.1.20250312-1-gc1f0fe5.HE.sophronia.h5', 'run_15107_1988_ldc7_trg2.v2.3.1.20250312-1-gc1f0fe5.HE.sophronia.h5', 'run_15107_1858_ldc7_trg2.v2.3.1.20250312-1-gc1f0fe5.HE.sophronia.h5', 'run_15107_1928_ldc7_trg2.v2.3.1.20250312-1-gc1f0fe5.HE.sophronia.h5', 'run_15107_1255_ldc7_trg2.v2.3.1.20250312-1-gc1f0fe5.HE.sophronia.h5', 'run_15107_0382_ldc7_trg2.v2.3.1.20250312-1-gc1f0fe5.HE.sophronia.h5', 'run_15107_1350_ldc7_trg2.v2.3.1.20250312-1-gc1f0fe5.HE.sophronia.h5', 'run_15107_1594_ldc7_trg2.v2.3.1.20250312-1-gc1f0fe5.HE.sophronia.h5', 'run_15107_0103_ldc7_trg2.v2.3.1.20250312-1-gc1f0fe5.HE.sophronia.h5', 'run_15107_1241_ldc7_trg2.v2.3.1.20250312-1-gc1f0fe5.HE.sophronia.h5', 'run_15107_1042_ldc7_trg2.v2.3.1.20250312-1-gc1f0fe5.HE.sophronia.h5', 'run_15107_0508_ldc7_trg2.v2.3.1.20250312-1-gc1f0fe5.HE.sophronia.h5', 'run_15107_0771_ldc7_trg2.v2.3.1.20250312-1-gc1f0fe5.HE.sophronia.h5', 'run_15107_0701_ldc7_trg2.v2.3.1.20250312-1-gc1f0fe5.HE.sophronia.h5', 'run_15107_0322_ldc7_trg2.v2.3.1.20250312-1-gc1f0fe5.HE.sophronia.h5', 'run_15107_0565_ldc7_trg2.v2.3.1.20250312-1-gc1f0fe5.HE.sophronia.h5', 'run_15107_1258_ldc7_trg2.v2.3.1.20250312-1-gc1f0fe5.HE.sophronia.h5', 'run_15107_1498_ldc7_trg2.v2.3.1.20250312-1-gc1f0fe5.HE.sophronia.h5', 'run_15107_0571_ldc7_trg2.v2.3.1.20250312-1-gc1f0fe5.HE.sophronia.h5', 'run_15107_0840_ldc7_trg2.v2.3.1.20250312-1-gc1f0fe5.HE.sophronia.h5', 'run_15107_0058_ldc7_trg2.v2.3.1.20250312-1-gc1f0fe5.HE.sophronia.h5', 'run_15107_1093_ldc7_trg2.v2.3.1.20250312-1-gc1f0fe5.HE.sophronia.h5', 'run_15107_1824_ldc7_trg2.v2.3.1.20250312-1-gc1f0fe5.HE.sophronia.h5', 'run_15107_1653_ldc7_trg2.v2.3.1.20250312-1-gc1f0fe5.HE.sophronia.h5', 'run_15107_1592_ldc7_trg2.v2.3.1.20250312-1-gc1f0fe5.HE.sophronia.h5', 'run_15107_0065_ldc7_trg2.v2.3.1.20250312-1-gc1f0fe5.HE.sophronia.h5', 'run_15107_0213_ldc7_trg2.v2.3.1.20250312-1-gc1f0fe5.HE.sophronia.h5', 'run_15107_1606_ldc7_trg2.v2.3.1.20250312-1-gc1f0fe5.HE.sophronia.h5', 'run_15107_1373_ldc7_trg2.v2.3.1.20250312-1-gc1f0fe5.HE.sophronia.h5', 'run_15107_1891_ldc7_trg2.v2.3.1.20250312-1-gc1f0fe5.HE.sophronia.h5', 'run_15107_0101_ldc7_trg2.v2.3.1.20250312-1-gc1f0fe5.HE.sophronia.h5', 'run_15107_0920_ldc7_trg2.v2.3.1.20250312-1-gc1f0fe5.HE.sophronia.h5', 'run_15107_1032_ldc7_trg2.v2.3.1.20250312-1-gc1f0fe5.HE.sophronia.h5', 'run_15107_0648_ldc7_trg2.v2.3.1.20250312-1-gc1f0fe5.HE.sophronia.h5', 'run_15107_2208_ldc7_trg2.v2.3.1.20250312-1-gc1f0fe5.HE.sophronia.h5', 'run_15107_2222_ldc7_trg2.v2.3.1.20250312-1-gc1f0fe5.HE.sophronia.h5', 'run_15107_1385_ldc7_trg2.v2.3.1.20250312-1-gc1f0fe5.HE.sophronia.h5', 'run_15107_1082_ldc7_trg2.v2.3.1.20250312-1-gc1f0fe5.HE.sophronia.h5', 'run_15107_1707_ldc7_trg2.v2.3.1.20250312-1-gc1f0fe5.HE.sophronia.h5', 'run_15107_1614_ldc7_trg2.v2.3.1.20250312-1-gc1f0fe5.HE.sophronia.h5', 'run_15107_0566_ldc7_trg2.v2.3.1.20250312-1-gc1f0fe5.HE.sophronia.h5', 'run_15107_2200_ldc7_trg2.v2.3.1.20250312-1-gc1f0fe5.HE.sophronia.h5', 'run_15107_1812_ldc7_trg2.v2.3.1.20250312-1-gc1f0fe5.HE.sophronia.h5', 'run_15107_0020_ldc7_trg2.v2.3.1.20250312-1-gc1f0fe5.HE.sophronia.h5', 'run_15107_1931_ldc7_trg2.v2.3.1.20250312-1-gc1f0fe5.HE.sophronia.h5', 'run_15107_1680_ldc7_trg2.v2.3.1.20250312-1-gc1f0fe5.HE.sophronia.h5', 'run_15107_0419_ldc7_trg2.v2.3.1.20250312-1-gc1f0fe5.HE.sophronia.h5', 'run_15107_1273_ldc7_trg2.v2.3.1.20250312-1-gc1f0fe5.HE.sophronia.h5', 'run_15107_1733_ldc7_trg2.v2.3.1.20250312-1-gc1f0fe5.HE.sophronia.h5', 'run_15107_1932_ldc7_trg2.v2.3.1.20250312-1-gc1f0fe5.HE.sophronia.h5', 'run_15107_0649_ldc7_trg2.v2.3.1.20250312-1-gc1f0fe5.HE.sophronia.h5', 'run_15107_1739_ldc7_trg2.v2.3.1.20250312-1-gc1f0fe5.HE.sophronia.h5', 'run_15107_0127_ldc7_trg2.v2.3.1.20250312-1-gc1f0fe5.HE.sophronia.h5', 'run_15107_1852_ldc7_trg2.v2.3.1.20250312-1-gc1f0fe5.HE.sophronia.h5', 'run_15107_0992_ldc7_trg2.v2.3.1.20250312-1-gc1f0fe5.HE.sophronia.h5', 'run_15107_0264_ldc7_trg2.v2.3.1.20250312-1-gc1f0fe5.HE.sophronia.h5', 'run_15107_1487_ldc7_trg2.v2.3.1.20250312-1-gc1f0fe5.HE.sophronia.h5', 'run_15107_1254_ldc7_trg2.v2.3.1.20250312-1-gc1f0fe5.HE.sophronia.h5', 'run_15107_0931_ldc7_trg2.v2.3.1.20250312-1-gc1f0fe5.HE.sophronia.h5', 'run_15107_0528_ldc7_trg2.v2.3.1.20250312-1-gc1f0fe5.HE.sophronia.h5', 'run_15107_0987_ldc7_trg2.v2.3.1.20250312-1-gc1f0fe5.HE.sophronia.h5', 'run_15107_0474_ldc7_trg2.v2.3.1.20250312-1-gc1f0fe5.HE.sophronia.h5', 'run_15107_0680_ldc7_trg2.v2.3.1.20250312-1-gc1f0fe5.HE.sophronia.h5', 'run_15107_0761_ldc7_trg2.v2.3.1.20250312-1-gc1f0fe5.HE.sophronia.h5', 'run_15107_0782_ldc7_trg2.v2.3.1.20250312-1-gc1f0fe5.HE.sophronia.h5', 'run_15107_0588_ldc7_trg2.v2.3.1.20250312-1-gc1f0fe5.HE.sophronia.h5', 'run_15107_1323_ldc7_trg2.v2.3.1.20250312-1-gc1f0fe5.HE.sophronia.h5', 'run_15107_0025_ldc7_trg2.v2.3.1.20250312-1-gc1f0fe5.HE.sophronia.h5', 'run_15107_1570_ldc7_trg2.v2.3.1.20250312-1-gc1f0fe5.HE.sophronia.h5', 'run_15107_0359_ldc7_trg2.v2.3.1.20250312-1-gc1f0fe5.HE.sophronia.h5', 'run_15107_0607_ldc7_trg2.v2.3.1.20250312-1-gc1f0fe5.HE.sophronia.h5', 'run_15107_1792_ldc7_trg2.v2.3.1.20250312-1-gc1f0fe5.HE.sophronia.h5', 'run_15107_1278_ldc7_trg2.v2.3.1.20250312-1-gc1f0fe5.HE.sophronia.h5', 'run_15107_1367_ldc7_trg2.v2.3.1.20250312-1-gc1f0fe5.HE.sophronia.h5', 'run_15107_1133_ldc7_trg2.v2.3.1.20250312-1-gc1f0fe5.HE.sophronia.h5', 'run_15107_1047_ldc7_trg2.v2.3.1.20250312-1-gc1f0fe5.HE.sophronia.h5', 'run_15107_2175_ldc7_trg2.v2.3.1.20250312-1-gc1f0fe5.HE.sophronia.h5', 'run_15107_1662_ldc7_trg2.v2.3.1.20250312-1-gc1f0fe5.HE.sophronia.h5', 'run_15107_1893_ldc7_trg2.v2.3.1.20250312-1-gc1f0fe5.HE.sophronia.h5', 'run_15107_1771_ldc7_trg2.v2.3.1.20250312-1-gc1f0fe5.HE.sophronia.h5', 'run_15107_2007_ldc7_trg2.v2.3.1.20250312-1-gc1f0fe5.HE.sophronia.h5', 'run_15107_2106_ldc7_trg2.v2.3.1.20250312-1-gc1f0fe5.HE.sophronia.h5', 'run_15107_1489_ldc7_trg2.v2.3.1.20250312-1-gc1f0fe5.HE.sophronia.h5', 'run_15107_0163_ldc7_trg2.v2.3.1.20250312-1-gc1f0fe5.HE.sophronia.h5', 'run_15107_0219_ldc7_trg2.v2.3.1.20250312-1-gc1f0fe5.HE.sophronia.h5', 'run_15107_1573_ldc7_trg2.v2.3.1.20250312-1-gc1f0fe5.HE.sophronia.h5', 'run_15107_1237_ldc7_trg2.v2.3.1.20250312-1-gc1f0fe5.HE.sophronia.h5', 'run_15107_0813_ldc7_trg2.v2.3.1.20250312-1-gc1f0fe5.HE.sophronia.h5', 'run_15107_0700_ldc7_trg2.v2.3.1.20250312-1-gc1f0fe5.HE.sophronia.h5', 'run_15107_1324_ldc7_trg2.v2.3.1.20250312-1-gc1f0fe5.HE.sophronia.h5', 'run_15107_0799_ldc7_trg2.v2.3.1.20250312-1-gc1f0fe5.HE.sophronia.h5', 'run_15107_0113_ldc7_trg2.v2.3.1.20250312-1-gc1f0fe5.HE.sophronia.h5', 'run_15107_0280_ldc7_trg2.v2.3.1.20250312-1-gc1f0fe5.HE.sophronia.h5', 'run_15107_1990_ldc7_trg2.v2.3.1.20250312-1-gc1f0fe5.HE.sophronia.h5', 'run_15107_0012_ldc7_trg2.v2.3.1.20250312-1-gc1f0fe5.HE.sophronia.h5', 'run_15107_0967_ldc7_trg2.v2.3.1.20250312-1-gc1f0fe5.HE.sophronia.h5', 'run_15107_0173_ldc7_trg2.v2.3.1.20250312-1-gc1f0fe5.HE.sophronia.h5', 'run_15107_0115_ldc7_trg2.v2.3.1.20250312-1-gc1f0fe5.HE.sophronia.h5', 'run_15107_0834_ldc7_trg2.v2.3.1.20250312-1-gc1f0fe5.HE.sophronia.h5', 'run_15107_0591_ldc7_trg2.v2.3.1.20250312-1-gc1f0fe5.HE.sophronia.h5', 'run_15107_1474_ldc7_trg2.v2.3.1.20250312-1-gc1f0fe5.HE.sophronia.h5', 'run_15107_0906_ldc7_trg2.v2.3.1.20250312-1-gc1f0fe5.HE.sophronia.h5', 'run_15107_0130_ldc7_trg2.v2.3.1.20250312-1-gc1f0fe5.HE.sophronia.h5', 'run_15107_1137_ldc7_trg2.v2.3.1.20250312-1-gc1f0fe5.HE.sophronia.h5', 'run_15107_1348_ldc7_trg2.v2.3.1.20250312-1-gc1f0fe5.HE.sophronia.h5', 'run_15107_1243_ldc7_trg2.v2.3.1.20250312-1-gc1f0fe5.HE.sophronia.h5', 'run_15107_1058_ldc7_trg2.v2.3.1.20250312-1-gc1f0fe5.HE.sophronia.h5', 'run_15107_1056_ldc7_trg2.v2.3.1.20250312-1-gc1f0fe5.HE.sophronia.h5', 'run_15107_1668_ldc7_trg2.v2.3.1.20250312-1-gc1f0fe5.HE.sophronia.h5', 'run_15107_0549_ldc7_trg2.v2.3.1.20250312-1-gc1f0fe5.HE.sophronia.h5', 'run_15107_1938_ldc7_trg2.v2.3.1.20250312-1-gc1f0fe5.HE.sophronia.h5', 'run_15107_2172_ldc7_trg2.v2.3.1.20250312-1-gc1f0fe5.HE.sophronia.h5', 'run_15107_0314_ldc7_trg2.v2.3.1.20250312-1-gc1f0fe5.HE.sophronia.h5', 'run_15107_1709_ldc7_trg2.v2.3.1.20250312-1-gc1f0fe5.HE.sophronia.h5', 'run_15107_0734_ldc7_trg2.v2.3.1.20250312-1-gc1f0fe5.HE.sophronia.h5', 'run_15107_1755_ldc7_trg2.v2.3.1.20250312-1-gc1f0fe5.HE.sophronia.h5', 'run_15107_1299_ldc7_trg2.v2.3.1.20250312-1-gc1f0fe5.HE.sophronia.h5', 'run_15107_1292_ldc7_trg2.v2.3.1.20250312-1-gc1f0fe5.HE.sophronia.h5', 'run_15107_1025_ldc7_trg2.v2.3.1.20250312-1-gc1f0fe5.HE.sophronia.h5', 'run_15107_1546_ldc7_trg2.v2.3.1.20250312-1-gc1f0fe5.HE.sophronia.h5', 'run_15107_1859_ldc7_trg2.v2.3.1.20250312-1-gc1f0fe5.HE.sophronia.h5', 'run_15107_0499_ldc7_trg2.v2.3.1.20250312-1-gc1f0fe5.HE.sophronia.h5', 'run_15107_1946_ldc7_trg2.v2.3.1.20250312-1-gc1f0fe5.HE.sophronia.h5', 'run_15107_0659_ldc7_trg2.v2.3.1.20250312-1-gc1f0fe5.HE.sophronia.h5', 'run_15107_0226_ldc7_trg2.v2.3.1.20250312-1-gc1f0fe5.HE.sophronia.h5', 'run_15107_0168_ldc7_trg2.v2.3.1.20250312-1-gc1f0fe5.HE.sophronia.h5', 'run_15107_0707_ldc7_trg2.v2.3.1.20250312-1-gc1f0fe5.HE.sophronia.h5', 'run_15107_1160_ldc7_trg2.v2.3.1.20250312-1-gc1f0fe5.HE.sophronia.h5', 'run_15107_1281_ldc7_trg2.v2.3.1.20250312-1-gc1f0fe5.HE.sophronia.h5', 'run_15107_0872_ldc7_trg2.v2.3.1.20250312-1-gc1f0fe5.HE.sophronia.h5', 'run_15107_1819_ldc7_trg2.v2.3.1.20250312-1-gc1f0fe5.HE.sophronia.h5', 'run_15107_0891_ldc7_trg2.v2.3.1.20250312-1-gc1f0fe5.HE.sophronia.h5', 'run_15107_1433_ldc7_trg2.v2.3.1.20250312-1-gc1f0fe5.HE.sophronia.h5', 'run_15107_1979_ldc7_trg2.v2.3.1.20250312-1-gc1f0fe5.HE.sophronia.h5', 'run_15107_1339_ldc7_trg2.v2.3.1.20250312-1-gc1f0fe5.HE.sophronia.h5', 'run_15107_2004_ldc7_trg2.v2.3.1.20250312-1-gc1f0fe5.HE.sophronia.h5', 'run_15107_1329_ldc7_trg2.v2.3.1.20250312-1-gc1f0fe5.HE.sophronia.h5', 'run_15107_1660_ldc7_trg2.v2.3.1.20250312-1-gc1f0fe5.HE.sophronia.h5', 'run_15107_0397_ldc7_trg2.v2.3.1.20250312-1-gc1f0fe5.HE.sophronia.h5', 'run_15107_0994_ldc7_trg2.v2.3.1.20250312-1-gc1f0fe5.HE.sophronia.h5', 'run_15107_0172_ldc7_trg2.v2.3.1.20250312-1-gc1f0fe5.HE.sophronia.h5', 'run_15107_2160_ldc7_trg2.v2.3.1.20250312-1-gc1f0fe5.HE.sophronia.h5', 'run_15107_2030_ldc7_trg2.v2.3.1.20250312-1-gc1f0fe5.HE.sophronia.h5', 'run_15107_1973_ldc7_trg2.v2.3.1.20250312-1-gc1f0fe5.HE.sophronia.h5', 'run_15107_1135_ldc7_trg2.v2.3.1.20250312-1-gc1f0fe5.HE.sophronia.h5', 'run_15107_0212_ldc7_trg2.v2.3.1.20250312-1-gc1f0fe5.HE.sophronia.h5', 'run_15107_1818_ldc7_trg2.v2.3.1.20250312-1-gc1f0fe5.HE.sophronia.h5', 'run_15107_2206_ldc7_trg2.v2.3.1.20250312-1-gc1f0fe5.HE.sophronia.h5', 'run_15107_1844_ldc7_trg2.v2.3.1.20250312-1-gc1f0fe5.HE.sophronia.h5', 'run_15107_2072_ldc7_trg2.v2.3.1.20250312-1-gc1f0fe5.HE.sophronia.h5', 'run_15107_0925_ldc7_trg2.v2.3.1.20250312-1-gc1f0fe5.HE.sophronia.h5', 'run_15107_0503_ldc7_trg2.v2.3.1.20250312-1-gc1f0fe5.HE.sophronia.h5', 'run_15107_0428_ldc7_trg2.v2.3.1.20250312-1-gc1f0fe5.HE.sophronia.h5', 'run_15107_0228_ldc7_trg2.v2.3.1.20250312-1-gc1f0fe5.HE.sophronia.h5', 'run_15107_2039_ldc7_trg2.v2.3.1.20250312-1-gc1f0fe5.HE.sophronia.h5', 'run_15107_1597_ldc7_trg2.v2.3.1.20250312-1-gc1f0fe5.HE.sophronia.h5', 'run_15107_1915_ldc7_trg2.v2.3.1.20250312-1-gc1f0fe5.HE.sophronia.h5', 'run_15107_0579_ldc7_trg2.v2.3.1.20250312-1-gc1f0fe5.HE.sophronia.h5', 'run_15107_0416_ldc7_trg2.v2.3.1.20250312-1-gc1f0fe5.HE.sophronia.h5', 'run_15107_1587_ldc7_trg2.v2.3.1.20250312-1-gc1f0fe5.HE.sophronia.h5', 'run_15107_1914_ldc7_trg2.v2.3.1.20250312-1-gc1f0fe5.HE.sophronia.h5', 'run_15107_0998_ldc7_trg2.v2.3.1.20250312-1-gc1f0fe5.HE.sophronia.h5', 'run_15107_1071_ldc7_trg2.v2.3.1.20250312-1-gc1f0fe5.HE.sophronia.h5', 'run_15107_1224_ldc7_trg2.v2.3.1.20250312-1-gc1f0fe5.HE.sophronia.h5', 'run_15107_0313_ldc7_trg2.v2.3.1.20250312-1-gc1f0fe5.HE.sophronia.h5', 'run_15107_1538_ldc7_trg2.v2.3.1.20250312-1-gc1f0fe5.HE.sophronia.h5', 'run_15107_0821_ldc7_trg2.v2.3.1.20250312-1-gc1f0fe5.HE.sophronia.h5', 'run_15107_0013_ldc7_trg2.v2.3.1.20250312-1-gc1f0fe5.HE.sophronia.h5', 'run_15107_0471_ldc7_trg2.v2.3.1.20250312-1-gc1f0fe5.HE.sophronia.h5', 'run_15107_2118_ldc7_trg2.v2.3.1.20250312-1-gc1f0fe5.HE.sophronia.h5', 'run_15107_1314_ldc7_trg2.v2.3.1.20250312-1-gc1f0fe5.HE.sophronia.h5', 'run_15107_1826_ldc7_trg2.v2.3.1.20250312-1-gc1f0fe5.HE.sophronia.h5', 'run_15107_1648_ldc7_trg2.v2.3.1.20250312-1-gc1f0fe5.HE.sophronia.h5', 'run_15107_1842_ldc7_trg2.v2.3.1.20250312-1-gc1f0fe5.HE.sophronia.h5', 'run_15107_1562_ldc7_trg2.v2.3.1.20250312-1-gc1f0fe5.HE.sophronia.h5', 'run_15107_0136_ldc7_trg2.v2.3.1.20250312-1-gc1f0fe5.HE.sophronia.h5', 'run_15107_1392_ldc7_trg2.v2.3.1.20250312-1-gc1f0fe5.HE.sophronia.h5', 'run_15107_1555_ldc7_trg2.v2.3.1.20250312-1-gc1f0fe5.HE.sophronia.h5', 'run_15107_1134_ldc7_trg2.v2.3.1.20250312-1-gc1f0fe5.HE.sophronia.h5', 'run_15107_0162_ldc7_trg2.v2.3.1.20250312-1-gc1f0fe5.HE.sophronia.h5', 'run_15107_0418_ldc7_trg2.v2.3.1.20250312-1-gc1f0fe5.HE.sophronia.h5', 'run_15107_0888_ldc7_trg2.v2.3.1.20250312-1-gc1f0fe5.HE.sophronia.h5', 'run_15107_0011_ldc7_trg2.v2.3.1.20250312-1-gc1f0fe5.HE.sophronia.h5', 'run_15107_2036_ldc7_trg2.v2.3.1.20250312-1-gc1f0fe5.HE.sophronia.h5', 'run_15107_1578_ldc7_trg2.v2.3.1.20250312-1-gc1f0fe5.HE.sophronia.h5', 'run_15107_1431_ldc7_trg2.v2.3.1.20250312-1-gc1f0fe5.HE.sophronia.h5', 'run_15107_1959_ldc7_trg2.v2.3.1.20250312-1-gc1f0fe5.HE.sophronia.h5', 'run_15107_0839_ldc7_trg2.v2.3.1.20250312-1-gc1f0fe5.HE.sophronia.h5', 'run_15107_1882_ldc7_trg2.v2.3.1.20250312-1-gc1f0fe5.HE.sophronia.h5', 'run_15107_2100_ldc7_trg2.v2.3.1.20250312-1-gc1f0fe5.HE.sophronia.h5', 'run_15107_1175_ldc7_trg2.v2.3.1.20250312-1-gc1f0fe5.HE.sophronia.h5', 'run_15107_0581_ldc7_trg2.v2.3.1.20250312-1-gc1f0fe5.HE.sophronia.h5', 'run_15107_0423_ldc7_trg2.v2.3.1.20250312-1-gc1f0fe5.HE.sophronia.h5', 'run_15107_1768_ldc7_trg2.v2.3.1.20250312-1-gc1f0fe5.HE.sophronia.h5', 'run_15107_1210_ldc7_trg2.v2.3.1.20250312-1-gc1f0fe5.HE.sophronia.h5', 'run_15107_1803_ldc7_trg2.v2.3.1.20250312-1-gc1f0fe5.HE.sophronia.h5', 'run_15107_0052_ldc7_trg2.v2.3.1.20250312-1-gc1f0fe5.HE.sophronia.h5', 'run_15107_1949_ldc7_trg2.v2.3.1.20250312-1-gc1f0fe5.HE.sophronia.h5', 'run_15107_1732_ldc7_trg2.v2.3.1.20250312-1-gc1f0fe5.HE.sophronia.h5', 'run_15107_0086_ldc7_trg2.v2.3.1.20250312-1-gc1f0fe5.HE.sophronia.h5', 'run_15107_1165_ldc7_trg2.v2.3.1.20250312-1-gc1f0fe5.HE.sophronia.h5', 'run_15107_2011_ldc7_trg2.v2.3.1.20250312-1-gc1f0fe5.HE.sophronia.h5', 'run_15107_1294_ldc7_trg2.v2.3.1.20250312-1-gc1f0fe5.HE.sophronia.h5', 'run_15107_1598_ldc7_trg2.v2.3.1.20250312-1-gc1f0fe5.HE.sophronia.h5', 'run_15107_0208_ldc7_trg2.v2.3.1.20250312-1-gc1f0fe5.HE.sophronia.h5', 'run_15107_0248_ldc7_trg2.v2.3.1.20250312-1-gc1f0fe5.HE.sophronia.h5', 'run_15107_1272_ldc7_trg2.v2.3.1.20250312-1-gc1f0fe5.HE.sophronia.h5', 'run_15107_1309_ldc7_trg2.v2.3.1.20250312-1-gc1f0fe5.HE.sophronia.h5', 'run_15107_1346_ldc7_trg2.v2.3.1.20250312-1-gc1f0fe5.HE.sophronia.h5', 'run_15107_0283_ldc7_trg2.v2.3.1.20250312-1-gc1f0fe5.HE.sophronia.h5', 'run_15107_2073_ldc7_trg2.v2.3.1.20250312-1-gc1f0fe5.HE.sophronia.h5', 'run_15107_0346_ldc7_trg2.v2.3.1.20250312-1-gc1f0fe5.HE.sophronia.h5', 'run_15107_0211_ldc7_trg2.v2.3.1.20250312-1-gc1f0fe5.HE.sophronia.h5', 'run_15107_0093_ldc7_trg2.v2.3.1.20250312-1-gc1f0fe5.HE.sophronia.h5', 'run_15107_0988_ldc7_trg2.v2.3.1.20250312-1-gc1f0fe5.HE.sophronia.h5', 'run_15107_0097_ldc7_trg2.v2.3.1.20250312-1-gc1f0fe5.HE.sophronia.h5', 'run_15107_1148_ldc7_trg2.v2.3.1.20250312-1-gc1f0fe5.HE.sophronia.h5', 'run_15107_1470_ldc7_trg2.v2.3.1.20250312-1-gc1f0fe5.HE.sophronia.h5', 'run_15107_1145_ldc7_trg2.v2.3.1.20250312-1-gc1f0fe5.HE.sophronia.h5', 'run_15107_1593_ldc7_trg2.v2.3.1.20250312-1-gc1f0fe5.HE.sophronia.h5', 'run_15107_2002_ldc7_trg2.v2.3.1.20250312-1-gc1f0fe5.HE.sophronia.h5', 'run_15107_1934_ldc7_trg2.v2.3.1.20250312-1-gc1f0fe5.HE.sophronia.h5', 'run_15107_2228_ldc7_trg2.v2.3.1.20250312-1-gc1f0fe5.HE.sophronia.h5', 'run_15107_0461_ldc7_trg2.v2.3.1.20250312-1-gc1f0fe5.HE.sophronia.h5', 'run_15107_0766_ldc7_trg2.v2.3.1.20250312-1-gc1f0fe5.HE.sophronia.h5', 'run_15107_0763_ldc7_trg2.v2.3.1.20250312-1-gc1f0fe5.HE.sophronia.h5', 'run_15107_2063_ldc7_trg2.v2.3.1.20250312-1-gc1f0fe5.HE.sophronia.h5', 'run_15107_0087_ldc7_trg2.v2.3.1.20250312-1-gc1f0fe5.HE.sophronia.h5', 'run_15107_1708_ldc7_trg2.v2.3.1.20250312-1-gc1f0fe5.HE.sophronia.h5', 'run_15107_1185_ldc7_trg2.v2.3.1.20250312-1-gc1f0fe5.HE.sophronia.h5', 'run_15107_1689_ldc7_trg2.v2.3.1.20250312-1-gc1f0fe5.HE.sophronia.h5', 'run_15107_0137_ldc7_trg2.v2.3.1.20250312-1-gc1f0fe5.HE.sophronia.h5', 'run_15107_1962_ldc7_trg2.v2.3.1.20250312-1-gc1f0fe5.HE.sophronia.h5', 'run_15107_2131_ldc7_trg2.v2.3.1.20250312-1-gc1f0fe5.HE.sophronia.h5', 'run_15107_0388_ldc7_trg2.v2.3.1.20250312-1-gc1f0fe5.HE.sophronia.h5', 'run_15107_0302_ldc7_trg2.v2.3.1.20250312-1-gc1f0fe5.HE.sophronia.h5', 'run_15107_0049_ldc7_trg2.v2.3.1.20250312-1-gc1f0fe5.HE.sophronia.h5', 'run_15107_1608_ldc7_trg2.v2.3.1.20250312-1-gc1f0fe5.HE.sophronia.h5', 'run_15107_0299_ldc7_trg2.v2.3.1.20250312-1-gc1f0fe5.HE.sophronia.h5', 'run_15107_1424_ldc7_trg2.v2.3.1.20250312-1-gc1f0fe5.HE.sophronia.h5', 'run_15107_1413_ldc7_trg2.v2.3.1.20250312-1-gc1f0fe5.HE.sophronia.h5', 'run_15107_0370_ldc7_trg2.v2.3.1.20250312-1-gc1f0fe5.HE.sophronia.h5', 'run_15107_0044_ldc7_trg2.v2.3.1.20250312-1-gc1f0fe5.HE.sophronia.h5', 'run_15107_1398_ldc7_trg2.v2.3.1.20250312-1-gc1f0fe5.HE.sophronia.h5', 'run_15107_1486_ldc7_trg2.v2.3.1.20250312-1-gc1f0fe5.HE.sophronia.h5', 'run_15107_0188_ldc7_trg2.v2.3.1.20250312-1-gc1f0fe5.HE.sophronia.h5', 'run_15107_1301_ldc7_trg2.v2.3.1.20250312-1-gc1f0fe5.HE.sophronia.h5', 'run_15107_2025_ldc7_trg2.v2.3.1.20250312-1-gc1f0fe5.HE.sophronia.h5', 'run_15107_1721_ldc7_trg2.v2.3.1.20250312-1-gc1f0fe5.HE.sophronia.h5', 'run_15107_1554_ldc7_trg2.v2.3.1.20250312-1-gc1f0fe5.HE.sophronia.h5', 'run_15107_0321_ldc7_trg2.v2.3.1.20250312-1-gc1f0fe5.HE.sophronia.h5', 'run_15107_0305_ldc7_trg2.v2.3.1.20250312-1-gc1f0fe5.HE.sophronia.h5', 'run_15107_0827_ldc7_trg2.v2.3.1.20250312-1-gc1f0fe5.HE.sophronia.h5', 'run_15107_0720_ldc7_trg2.v2.3.1.20250312-1-gc1f0fe5.HE.sophronia.h5', 'run_15107_1068_ldc7_trg2.v2.3.1.20250312-1-gc1f0fe5.HE.sophronia.h5', 'run_15107_0232_ldc7_trg2.v2.3.1.20250312-1-gc1f0fe5.HE.sophronia.h5', 'run_15107_1602_ldc7_trg2.v2.3.1.20250312-1-gc1f0fe5.HE.sophronia.h5', 'run_15107_1952_ldc7_trg2.v2.3.1.20250312-1-gc1f0fe5.HE.sophronia.h5', 'run_15107_1012_ldc7_trg2.v2.3.1.20250312-1-gc1f0fe5.HE.sophronia.h5', 'run_15107_1534_ldc7_trg2.v2.3.1.20250312-1-gc1f0fe5.HE.sophronia.h5', 'run_15107_1129_ldc7_trg2.v2.3.1.20250312-1-gc1f0fe5.HE.sophronia.h5', 'run_15107_0621_ldc7_trg2.v2.3.1.20250312-1-gc1f0fe5.HE.sophronia.h5', 'run_15107_1261_ldc7_trg2.v2.3.1.20250312-1-gc1f0fe5.HE.sophronia.h5', 'run_15107_1427_ldc7_trg2.v2.3.1.20250312-1-gc1f0fe5.HE.sophronia.h5', 'run_15107_0391_ldc7_trg2.v2.3.1.20250312-1-gc1f0fe5.HE.sophronia.h5', 'run_15107_1344_ldc7_trg2.v2.3.1.20250312-1-gc1f0fe5.HE.sophronia.h5', 'run_15107_0077_ldc7_trg2.v2.3.1.20250312-1-gc1f0fe5.HE.sophronia.h5', 'run_15107_0037_ldc7_trg2.v2.3.1.20250312-1-gc1f0fe5.HE.sophronia.h5', 'run_15107_1483_ldc7_trg2.v2.3.1.20250312-1-gc1f0fe5.HE.sophronia.h5', 'run_15107_1017_ldc7_trg2.v2.3.1.20250312-1-gc1f0fe5.HE.sophronia.h5', 'run_15107_0759_ldc7_trg2.v2.3.1.20250312-1-gc1f0fe5.HE.sophronia.h5', 'run_15107_0082_ldc7_trg2.v2.3.1.20250312-1-gc1f0fe5.HE.sophronia.h5', 'run_15107_1585_ldc7_trg2.v2.3.1.20250312-1-gc1f0fe5.HE.sophronia.h5', 'run_15107_1982_ldc7_trg2.v2.3.1.20250312-1-gc1f0fe5.HE.sophronia.h5', 'run_15107_0748_ldc7_trg2.v2.3.1.20250312-1-gc1f0fe5.HE.sophronia.h5', 'run_15107_2203_ldc7_trg2.v2.3.1.20250312-1-gc1f0fe5.HE.sophronia.h5', 'run_15107_0803_ldc7_trg2.v2.3.1.20250312-1-gc1f0fe5.HE.sophronia.h5', 'run_15107_0781_ldc7_trg2.v2.3.1.20250312-1-gc1f0fe5.HE.sophronia.h5', 'run_15107_0387_ldc7_trg2.v2.3.1.20250312-1-gc1f0fe5.HE.sophronia.h5', 'run_15107_1448_ldc7_trg2.v2.3.1.20250312-1-gc1f0fe5.HE.sophronia.h5', 'run_15107_1076_ldc7_trg2.v2.3.1.20250312-1-gc1f0fe5.HE.sophronia.h5', 'run_15107_1913_ldc7_trg2.v2.3.1.20250312-1-gc1f0fe5.HE.sophronia.h5', 'run_15107_0576_ldc7_trg2.v2.3.1.20250312-1-gc1f0fe5.HE.sophronia.h5', 'run_15107_0358_ldc7_trg2.v2.3.1.20250312-1-gc1f0fe5.HE.sophronia.h5', 'run_15107_2058_ldc7_trg2.v2.3.1.20250312-1-gc1f0fe5.HE.sophronia.h5', 'run_15107_0221_ldc7_trg2.v2.3.1.20250312-1-gc1f0fe5.HE.sophronia.h5', 'run_15107_0796_ldc7_trg2.v2.3.1.20250312-1-gc1f0fe5.HE.sophronia.h5', 'run_15107_1935_ldc7_trg2.v2.3.1.20250312-1-gc1f0fe5.HE.sophronia.h5', 'run_15107_2016_ldc7_trg2.v2.3.1.20250312-1-gc1f0fe5.HE.sophronia.h5', 'run_15107_0492_ldc7_trg2.v2.3.1.20250312-1-gc1f0fe5.HE.sophronia.h5', 'run_15107_0479_ldc7_trg2.v2.3.1.20250312-1-gc1f0fe5.HE.sophronia.h5', 'run_15107_1717_ldc7_trg2.v2.3.1.20250312-1-gc1f0fe5.HE.sophronia.h5', 'run_15107_2150_ldc7_trg2.v2.3.1.20250312-1-gc1f0fe5.HE.sophronia.h5', 'run_15107_2124_ldc7_trg2.v2.3.1.20250312-1-gc1f0fe5.HE.sophronia.h5', 'run_15107_2196_ldc7_trg2.v2.3.1.20250312-1-gc1f0fe5.HE.sophronia.h5', 'run_15107_0675_ldc7_trg2.v2.3.1.20250312-1-gc1f0fe5.HE.sophronia.h5', 'run_15107_1191_ldc7_trg2.v2.3.1.20250312-1-gc1f0fe5.HE.sophronia.h5', 'run_15107_2188_ldc7_trg2.v2.3.1.20250312-1-gc1f0fe5.HE.sophronia.h5', 'run_15107_0376_ldc7_trg2.v2.3.1.20250312-1-gc1f0fe5.HE.sophronia.h5', 'run_15107_0142_ldc7_trg2.v2.3.1.20250312-1-gc1f0fe5.HE.sophronia.h5', 'run_15107_1907_ldc7_trg2.v2.3.1.20250312-1-gc1f0fe5.HE.sophronia.h5', 'run_15107_0715_ldc7_trg2.v2.3.1.20250312-1-gc1f0fe5.HE.sophronia.h5', 'run_15107_2204_ldc7_trg2.v2.3.1.20250312-1-gc1f0fe5.HE.sophronia.h5', 'run_15107_1610_ldc7_trg2.v2.3.1.20250312-1-gc1f0fe5.HE.sophronia.h5', 'run_15107_2083_ldc7_trg2.v2.3.1.20250312-1-gc1f0fe5.HE.sophronia.h5', 'run_15107_0186_ldc7_trg2.v2.3.1.20250312-1-gc1f0fe5.HE.sophronia.h5', 'run_15107_0441_ldc7_trg2.v2.3.1.20250312-1-gc1f0fe5.HE.sophronia.h5', 'run_15107_1387_ldc7_trg2.v2.3.1.20250312-1-gc1f0fe5.HE.sophronia.h5', 'run_15107_0868_ldc7_trg2.v2.3.1.20250312-1-gc1f0fe5.HE.sophronia.h5', 'run_15107_1334_ldc7_trg2.v2.3.1.20250312-1-gc1f0fe5.HE.sophronia.h5', 'run_15107_0047_ldc7_trg2.v2.3.1.20250312-1-gc1f0fe5.HE.sophronia.h5', 'run_15107_1894_ldc7_trg2.v2.3.1.20250312-1-gc1f0fe5.HE.sophronia.h5', 'run_15107_1625_ldc7_trg2.v2.3.1.20250312-1-gc1f0fe5.HE.sophronia.h5', 'run_15107_0866_ldc7_trg2.v2.3.1.20250312-1-gc1f0fe5.HE.sophronia.h5', 'run_15107_1234_ldc7_trg2.v2.3.1.20250312-1-gc1f0fe5.HE.sophronia.h5', 'run_15107_0373_ldc7_trg2.v2.3.1.20250312-1-gc1f0fe5.HE.sophronia.h5', 'run_15107_1841_ldc7_trg2.v2.3.1.20250312-1-gc1f0fe5.HE.sophronia.h5', 'run_15107_0618_ldc7_trg2.v2.3.1.20250312-1-gc1f0fe5.HE.sophronia.h5', 'run_15107_1397_ldc7_trg2.v2.3.1.20250312-1-gc1f0fe5.HE.sophronia.h5', 'run_15107_1159_ldc7_trg2.v2.3.1.20250312-1-gc1f0fe5.HE.sophronia.h5', 'run_15107_0191_ldc7_trg2.v2.3.1.20250312-1-gc1f0fe5.HE.sophronia.h5', 'run_15107_1862_ldc7_trg2.v2.3.1.20250312-1-gc1f0fe5.HE.sophronia.h5', 'run_15107_1654_ldc7_trg2.v2.3.1.20250312-1-gc1f0fe5.HE.sophronia.h5', 'run_15107_2136_ldc7_trg2.v2.3.1.20250312-1-gc1f0fe5.HE.sophronia.h5', 'run_15107_0290_ldc7_trg2.v2.3.1.20250312-1-gc1f0fe5.HE.sophronia.h5', 'run_15107_1280_ldc7_trg2.v2.3.1.20250312-1-gc1f0fe5.HE.sophronia.h5', 'run_15107_0053_ldc7_trg2.v2.3.1.20250312-1-gc1f0fe5.HE.sophronia.h5', 'run_15107_1188_ldc7_trg2.v2.3.1.20250312-1-gc1f0fe5.HE.sophronia.h5', 'run_15107_1231_ldc7_trg2.v2.3.1.20250312-1-gc1f0fe5.HE.sophronia.h5', 'run_15107_1008_ldc7_trg2.v2.3.1.20250312-1-gc1f0fe5.HE.sophronia.h5', 'run_15107_1580_ldc7_trg2.v2.3.1.20250312-1-gc1f0fe5.HE.sophronia.h5', 'run_15107_1531_ldc7_trg2.v2.3.1.20250312-1-gc1f0fe5.HE.sophronia.h5', 'run_15107_1337_ldc7_trg2.v2.3.1.20250312-1-gc1f0fe5.HE.sophronia.h5', 'run_15107_1972_ldc7_trg2.v2.3.1.20250312-1-gc1f0fe5.HE.sophronia.h5', 'run_15107_0671_ldc7_trg2.v2.3.1.20250312-1-gc1f0fe5.HE.sophronia.h5', 'run_15107_1584_ldc7_trg2.v2.3.1.20250312-1-gc1f0fe5.HE.sophronia.h5', 'run_15107_2056_ldc7_trg2.v2.3.1.20250312-1-gc1f0fe5.HE.sophronia.h5', 'run_15107_0848_ldc7_trg2.v2.3.1.20250312-1-gc1f0fe5.HE.sophronia.h5', 'run_15107_1892_ldc7_trg2.v2.3.1.20250312-1-gc1f0fe5.HE.sophronia.h5', 'run_15107_0502_ldc7_trg2.v2.3.1.20250312-1-gc1f0fe5.HE.sophronia.h5', 'run_15107_1547_ldc7_trg2.v2.3.1.20250312-1-gc1f0fe5.HE.sophronia.h5', 'run_15107_1545_ldc7_trg2.v2.3.1.20250312-1-gc1f0fe5.HE.sophronia.h5', 'run_15107_1615_ldc7_trg2.v2.3.1.20250312-1-gc1f0fe5.HE.sophronia.h5', 'run_15107_1804_ldc7_trg2.v2.3.1.20250312-1-gc1f0fe5.HE.sophronia.h5', 'run_15107_1836_ldc7_trg2.v2.3.1.20250312-1-gc1f0fe5.HE.sophronia.h5', 'run_15107_1130_ldc7_trg2.v2.3.1.20250312-1-gc1f0fe5.HE.sophronia.h5', 'run_15107_2034_ldc7_trg2.v2.3.1.20250312-1-gc1f0fe5.HE.sophronia.h5', 'run_15107_0845_ldc7_trg2.v2.3.1.20250312-1-gc1f0fe5.HE.sophronia.h5', 'run_15107_2102_ldc7_trg2.v2.3.1.20250312-1-gc1f0fe5.HE.sophronia.h5', 'run_15107_0554_ldc7_trg2.v2.3.1.20250312-1-gc1f0fe5.HE.sophronia.h5', 'run_15107_0682_ldc7_trg2.v2.3.1.20250312-1-gc1f0fe5.HE.sophronia.h5', 'run_15107_0978_ldc7_trg2.v2.3.1.20250312-1-gc1f0fe5.HE.sophronia.h5', 'run_15107_1282_ldc7_trg2.v2.3.1.20250312-1-gc1f0fe5.HE.sophronia.h5', 'run_15107_0704_ldc7_trg2.v2.3.1.20250312-1-gc1f0fe5.HE.sophronia.h5', 'run_15107_0445_ldc7_trg2.v2.3.1.20250312-1-gc1f0fe5.HE.sophronia.h5', 'run_15107_1122_ldc7_trg2.v2.3.1.20250312-1-gc1f0fe5.HE.sophronia.h5', 'run_15107_0752_ldc7_trg2.v2.3.1.20250312-1-gc1f0fe5.HE.sophronia.h5', 'run_15107_1003_ldc7_trg2.v2.3.1.20250312-1-gc1f0fe5.HE.sophronia.h5', 'run_15107_1383_ldc7_trg2.v2.3.1.20250312-1-gc1f0fe5.HE.sophronia.h5', 'run_15107_0674_ldc7_trg2.v2.3.1.20250312-1-gc1f0fe5.HE.sophronia.h5', 'run_15107_1748_ldc7_trg2.v2.3.1.20250312-1-gc1f0fe5.HE.sophronia.h5', 'run_15107_0045_ldc7_trg2.v2.3.1.20250312-1-gc1f0fe5.HE.sophronia.h5', 'run_15107_0684_ldc7_trg2.v2.3.1.20250312-1-gc1f0fe5.HE.sophronia.h5', 'run_15107_2059_ldc7_trg2.v2.3.1.20250312-1-gc1f0fe5.HE.sophronia.h5', 'run_15107_0289_ldc7_trg2.v2.3.1.20250312-1-gc1f0fe5.HE.sophronia.h5', 'run_15107_0783_ldc7_trg2.v2.3.1.20250312-1-gc1f0fe5.HE.sophronia.h5', 'run_15107_1716_ldc7_trg2.v2.3.1.20250312-1-gc1f0fe5.HE.sophronia.h5', 'run_15107_1414_ldc7_trg2.v2.3.1.20250312-1-gc1f0fe5.HE.sophronia.h5', 'run_15107_0100_ldc7_trg2.v2.3.1.20250312-1-gc1f0fe5.HE.sophronia.h5', 'run_15107_0293_ldc7_trg2.v2.3.1.20250312-1-gc1f0fe5.HE.sophronia.h5', 'run_15107_0426_ldc7_trg2.v2.3.1.20250312-1-gc1f0fe5.HE.sophronia.h5', 'run_15107_1464_ldc7_trg2.v2.3.1.20250312-1-gc1f0fe5.HE.sophronia.h5', 'run_15107_1176_ldc7_trg2.v2.3.1.20250312-1-gc1f0fe5.HE.sophronia.h5', 'run_15107_0155_ldc7_trg2.v2.3.1.20250312-1-gc1f0fe5.HE.sophronia.h5', 'run_15107_0876_ldc7_trg2.v2.3.1.20250312-1-gc1f0fe5.HE.sophronia.h5', 'run_15107_0307_ldc7_trg2.v2.3.1.20250312-1-gc1f0fe5.HE.sophronia.h5', 'run_15107_1985_ldc7_trg2.v2.3.1.20250312-1-gc1f0fe5.HE.sophronia.h5', 'run_15107_1895_ldc7_trg2.v2.3.1.20250312-1-gc1f0fe5.HE.sophronia.h5', 'run_15107_1229_ldc7_trg2.v2.3.1.20250312-1-gc1f0fe5.HE.sophronia.h5', 'run_15107_0154_ldc7_trg2.v2.3.1.20250312-1-gc1f0fe5.HE.sophronia.h5', 'run_15107_0660_ldc7_trg2.v2.3.1.20250312-1-gc1f0fe5.HE.sophronia.h5', 'run_15107_0673_ldc7_trg2.v2.3.1.20250312-1-gc1f0fe5.HE.sophronia.h5', 'run_15107_0928_ldc7_trg2.v2.3.1.20250312-1-gc1f0fe5.HE.sophronia.h5', 'run_15107_0447_ldc7_trg2.v2.3.1.20250312-1-gc1f0fe5.HE.sophronia.h5', 'run_15107_0911_ldc7_trg2.v2.3.1.20250312-1-gc1f0fe5.HE.sophronia.h5', 'run_15107_0392_ldc7_trg2.v2.3.1.20250312-1-gc1f0fe5.HE.sophronia.h5', 'run_15107_0231_ldc7_trg2.v2.3.1.20250312-1-gc1f0fe5.HE.sophronia.h5', 'run_15107_0420_ldc7_trg2.v2.3.1.20250312-1-gc1f0fe5.HE.sophronia.h5', 'run_15107_1494_ldc7_trg2.v2.3.1.20250312-1-gc1f0fe5.HE.sophronia.h5', 'run_15107_1632_ldc7_trg2.v2.3.1.20250312-1-gc1f0fe5.HE.sophronia.h5', 'run_15107_1665_ldc7_trg2.v2.3.1.20250312-1-gc1f0fe5.HE.sophronia.h5', 'run_15107_1316_ldc7_trg2.v2.3.1.20250312-1-gc1f0fe5.HE.sophronia.h5', 'run_15107_2096_ldc7_trg2.v2.3.1.20250312-1-gc1f0fe5.HE.sophronia.h5', 'run_15107_1238_ldc7_trg2.v2.3.1.20250312-1-gc1f0fe5.HE.sophronia.h5', 'run_15107_1120_ldc7_trg2.v2.3.1.20250312-1-gc1f0fe5.HE.sophronia.h5', 'run_15107_1368_ldc7_trg2.v2.3.1.20250312-1-gc1f0fe5.HE.sophronia.h5', 'run_15107_0567_ldc7_trg2.v2.3.1.20250312-1-gc1f0fe5.HE.sophronia.h5', 'run_15107_1701_ldc7_trg2.v2.3.1.20250312-1-gc1f0fe5.HE.sophronia.h5', 'run_15107_0335_ldc7_trg2.v2.3.1.20250312-1-gc1f0fe5.HE.sophronia.h5', 'run_15107_2122_ldc7_trg2.v2.3.1.20250312-1-gc1f0fe5.HE.sophronia.h5', 'run_15107_0953_ldc7_trg2.v2.3.1.20250312-1-gc1f0fe5.HE.sophronia.h5', 'run_15107_1100_ldc7_trg2.v2.3.1.20250312-1-gc1f0fe5.HE.sophronia.h5', 'run_15107_0041_ldc7_trg2.v2.3.1.20250312-1-gc1f0fe5.HE.sophronia.h5', 'run_15107_0179_ldc7_trg2.v2.3.1.20250312-1-gc1f0fe5.HE.sophronia.h5', 'run_15107_0705_ldc7_trg2.v2.3.1.20250312-1-gc1f0fe5.HE.sophronia.h5', 'run_15107_1984_ldc7_trg2.v2.3.1.20250312-1-gc1f0fe5.HE.sophronia.h5', 'run_15107_1740_ldc7_trg2.v2.3.1.20250312-1-gc1f0fe5.HE.sophronia.h5', 'run_15107_0559_ldc7_trg2.v2.3.1.20250312-1-gc1f0fe5.HE.sophronia.h5', 'run_15107_0938_ldc7_trg2.v2.3.1.20250312-1-gc1f0fe5.HE.sophronia.h5', 'run_15107_2041_ldc7_trg2.v2.3.1.20250312-1-gc1f0fe5.HE.sophronia.h5', 'run_15107_2047_ldc7_trg2.v2.3.1.20250312-1-gc1f0fe5.HE.sophronia.h5', 'run_15107_0046_ldc7_trg2.v2.3.1.20250312-1-gc1f0fe5.HE.sophronia.h5', 'run_15107_1923_ldc7_trg2.v2.3.1.20250312-1-gc1f0fe5.HE.sophronia.h5', 'run_15107_2066_ldc7_trg2.v2.3.1.20250312-1-gc1f0fe5.HE.sophronia.h5', 'run_15107_0961_ldc7_trg2.v2.3.1.20250312-1-gc1f0fe5.HE.sophronia.h5', 'run_15107_1918_ldc7_trg2.v2.3.1.20250312-1-gc1f0fe5.HE.sophronia.h5', 'run_15107_1115_ldc7_trg2.v2.3.1.20250312-1-gc1f0fe5.HE.sophronia.h5', 'run_15107_0603_ldc7_trg2.v2.3.1.20250312-1-gc1f0fe5.HE.sophronia.h5', 'run_15107_1503_ldc7_trg2.v2.3.1.20250312-1-gc1f0fe5.HE.sophronia.h5', 'run_15107_0265_ldc7_trg2.v2.3.1.20250312-1-gc1f0fe5.HE.sophronia.h5', 'run_15107_2055_ldc7_trg2.v2.3.1.20250312-1-gc1f0fe5.HE.sophronia.h5', 'run_15107_2085_ldc7_trg2.v2.3.1.20250312-1-gc1f0fe5.HE.sophronia.h5', 'run_15107_1251_ldc7_trg2.v2.3.1.20250312-1-gc1f0fe5.HE.sophronia.h5', 'run_15107_0110_ldc7_trg2.v2.3.1.20250312-1-gc1f0fe5.HE.sophronia.h5', 'run_15107_1199_ldc7_trg2.v2.3.1.20250312-1-gc1f0fe5.HE.sophronia.h5', 'run_15107_1864_ldc7_trg2.v2.3.1.20250312-1-gc1f0fe5.HE.sophronia.h5', 'run_15107_1380_ldc7_trg2.v2.3.1.20250312-1-gc1f0fe5.HE.sophronia.h5', 'run_15107_0756_ldc7_trg2.v2.3.1.20250312-1-gc1f0fe5.HE.sophronia.h5', 'run_15107_1800_ldc7_trg2.v2.3.1.20250312-1-gc1f0fe5.HE.sophronia.h5', 'run_15107_2092_ldc7_trg2.v2.3.1.20250312-1-gc1f0fe5.HE.sophronia.h5', 'run_15107_1611_ldc7_trg2.v2.3.1.20250312-1-gc1f0fe5.HE.sophronia.h5', 'run_15107_1265_ldc7_trg2.v2.3.1.20250312-1-gc1f0fe5.HE.sophronia.h5', 'run_15107_1402_ldc7_trg2.v2.3.1.20250312-1-gc1f0fe5.HE.sophronia.h5', 'run_15107_0257_ldc7_trg2.v2.3.1.20250312-1-gc1f0fe5.HE.sophronia.h5', 'run_15107_1741_ldc7_trg2.v2.3.1.20250312-1-gc1f0fe5.HE.sophronia.h5', 'run_15107_1230_ldc7_trg2.v2.3.1.20250312-1-gc1f0fe5.HE.sophronia.h5', 'run_15107_2186_ldc7_trg2.v2.3.1.20250312-1-gc1f0fe5.HE.sophronia.h5', 'run_15107_0825_ldc7_trg2.v2.3.1.20250312-1-gc1f0fe5.HE.sophronia.h5', 'run_15107_0778_ldc7_trg2.v2.3.1.20250312-1-gc1f0fe5.HE.sophronia.h5', 'run_15107_0590_ldc7_trg2.v2.3.1.20250312-1-gc1f0fe5.HE.sophronia.h5', 'run_15107_1476_ldc7_trg2.v2.3.1.20250312-1-gc1f0fe5.HE.sophronia.h5', 'run_15107_0879_ldc7_trg2.v2.3.1.20250312-1-gc1f0fe5.HE.sophronia.h5', 'run_15107_1769_ldc7_trg2.v2.3.1.20250312-1-gc1f0fe5.HE.sophronia.h5', 'run_15107_1760_ldc7_trg2.v2.3.1.20250312-1-gc1f0fe5.HE.sophronia.h5', 'run_15107_0592_ldc7_trg2.v2.3.1.20250312-1-gc1f0fe5.HE.sophronia.h5', 'run_15107_1909_ldc7_trg2.v2.3.1.20250312-1-gc1f0fe5.HE.sophronia.h5', 'run_15107_1442_ldc7_trg2.v2.3.1.20250312-1-gc1f0fe5.HE.sophronia.h5', 'run_15107_0863_ldc7_trg2.v2.3.1.20250312-1-gc1f0fe5.HE.sophronia.h5', 'run_15107_0016_ldc7_trg2.v2.3.1.20250312-1-gc1f0fe5.HE.sophronia.h5', 'run_15107_1267_ldc7_trg2.v2.3.1.20250312-1-gc1f0fe5.HE.sophronia.h5', 'run_15107_0667_ldc7_trg2.v2.3.1.20250312-1-gc1f0fe5.HE.sophronia.h5', 'run_15107_0935_ldc7_trg2.v2.3.1.20250312-1-gc1f0fe5.HE.sophronia.h5', 'run_15107_1426_ldc7_trg2.v2.3.1.20250312-1-gc1f0fe5.HE.sophronia.h5', 'run_15107_0534_ldc7_trg2.v2.3.1.20250312-1-gc1f0fe5.HE.sophronia.h5', 'run_15107_0776_ldc7_trg2.v2.3.1.20250312-1-gc1f0fe5.HE.sophronia.h5', 'run_15107_1833_ldc7_trg2.v2.3.1.20250312-1-gc1f0fe5.HE.sophronia.h5', 'run_15107_0610_ldc7_trg2.v2.3.1.20250312-1-gc1f0fe5.HE.sophronia.h5', 'run_15107_0546_ldc7_trg2.v2.3.1.20250312-1-gc1f0fe5.HE.sophronia.h5', 'run_15107_1223_ldc7_trg2.v2.3.1.20250312-1-gc1f0fe5.HE.sophronia.h5', 'run_15107_0678_ldc7_trg2.v2.3.1.20250312-1-gc1f0fe5.HE.sophronia.h5', 'run_15107_1048_ldc7_trg2.v2.3.1.20250312-1-gc1f0fe5.HE.sophronia.h5', 'run_15107_1880_ldc7_trg2.v2.3.1.20250312-1-gc1f0fe5.HE.sophronia.h5', 'run_15107_0092_ldc7_trg2.v2.3.1.20250312-1-gc1f0fe5.HE.sophronia.h5', 'run_15107_2216_ldc7_trg2.v2.3.1.20250312-1-gc1f0fe5.HE.sophronia.h5', 'run_15107_2166_ldc7_trg2.v2.3.1.20250312-1-gc1f0fe5.HE.sophronia.h5', 'run_15107_0006_ldc7_trg2.v2.3.1.20250312-1-gc1f0fe5.HE.sophronia.h5', 'run_15107_0429_ldc7_trg2.v2.3.1.20250312-1-gc1f0fe5.HE.sophronia.h5', 'run_15107_1703_ldc7_trg2.v2.3.1.20250312-1-gc1f0fe5.HE.sophronia.h5', 'run_15107_2156_ldc7_trg2.v2.3.1.20250312-1-gc1f0fe5.HE.sophronia.h5', 'run_15107_1726_ldc7_trg2.v2.3.1.20250312-1-gc1f0fe5.HE.sophronia.h5', 'run_15107_2147_ldc7_trg2.v2.3.1.20250312-1-gc1f0fe5.HE.sophronia.h5', 'run_15107_1504_ldc7_trg2.v2.3.1.20250312-1-gc1f0fe5.HE.sophronia.h5', 'run_15107_0009_ldc7_trg2.v2.3.1.20250312-1-gc1f0fe5.HE.sophronia.h5', 'run_15107_2097_ldc7_trg2.v2.3.1.20250312-1-gc1f0fe5.HE.sophronia.h5', 'run_15107_0139_ldc7_trg2.v2.3.1.20250312-1-gc1f0fe5.HE.sophronia.h5', 'run_15107_1240_ldc7_trg2.v2.3.1.20250312-1-gc1f0fe5.HE.sophronia.h5', 'run_15107_1846_ldc7_trg2.v2.3.1.20250312-1-gc1f0fe5.HE.sophronia.h5', 'run_15107_1627_ldc7_trg2.v2.3.1.20250312-1-gc1f0fe5.HE.sophronia.h5', 'run_15107_1480_ldc7_trg2.v2.3.1.20250312-1-gc1f0fe5.HE.sophronia.h5', 'run_15107_1049_ldc7_trg2.v2.3.1.20250312-1-gc1f0fe5.HE.sophronia.h5', 'run_15107_2167_ldc7_trg2.v2.3.1.20250312-1-gc1f0fe5.HE.sophronia.h5', 'run_15107_0902_ldc7_trg2.v2.3.1.20250312-1-gc1f0fe5.HE.sophronia.h5', 'run_15107_0798_ldc7_trg2.v2.3.1.20250312-1-gc1f0fe5.HE.sophronia.h5', 'run_15107_1271_ldc7_trg2.v2.3.1.20250312-1-gc1f0fe5.HE.sophronia.h5', 'run_15107_2191_ldc7_trg2.v2.3.1.20250312-1-gc1f0fe5.HE.sophronia.h5', 'run_15107_1030_ldc7_trg2.v2.3.1.20250312-1-gc1f0fe5.HE.sophronia.h5', 'run_15107_0642_ldc7_trg2.v2.3.1.20250312-1-gc1f0fe5.HE.sophronia.h5', 'run_15107_1940_ldc7_trg2.v2.3.1.20250312-1-gc1f0fe5.HE.sophronia.h5', 'run_15107_0615_ldc7_trg2.v2.3.1.20250312-1-gc1f0fe5.HE.sophronia.h5', 'run_15107_0729_ldc7_trg2.v2.3.1.20250312-1-gc1f0fe5.HE.sophronia.h5', 'run_15107_2180_ldc7_trg2.v2.3.1.20250312-1-gc1f0fe5.HE.sophronia.h5', 'run_15107_1384_ldc7_trg2.v2.3.1.20250312-1-gc1f0fe5.HE.sophronia.h5', 'run_15107_2193_ldc7_trg2.v2.3.1.20250312-1-gc1f0fe5.HE.sophronia.h5', 'run_15107_0864_ldc7_trg2.v2.3.1.20250312-1-gc1f0fe5.HE.sophronia.h5', 'run_15107_0241_ldc7_trg2.v2.3.1.20250312-1-gc1f0fe5.HE.sophronia.h5', 'run_15107_0496_ldc7_trg2.v2.3.1.20250312-1-gc1f0fe5.HE.sophronia.h5', 'run_15107_1684_ldc7_trg2.v2.3.1.20250312-1-gc1f0fe5.HE.sophronia.h5', 'run_15107_1749_ldc7_trg2.v2.3.1.20250312-1-gc1f0fe5.HE.sophronia.h5', 'run_15107_0724_ldc7_trg2.v2.3.1.20250312-1-gc1f0fe5.HE.sophronia.h5', 'run_15107_0439_ldc7_trg2.v2.3.1.20250312-1-gc1f0fe5.HE.sophronia.h5', 'run_15107_0193_ldc7_trg2.v2.3.1.20250312-1-gc1f0fe5.HE.sophronia.h5', 'run_15107_1263_ldc7_trg2.v2.3.1.20250312-1-gc1f0fe5.HE.sophronia.h5', 'run_15107_1285_ldc7_trg2.v2.3.1.20250312-1-gc1f0fe5.HE.sophronia.h5', 'run_15107_1330_ldc7_trg2.v2.3.1.20250312-1-gc1f0fe5.HE.sophronia.h5', 'run_15107_0647_ldc7_trg2.v2.3.1.20250312-1-gc1f0fe5.HE.sophronia.h5', 'run_15107_0871_ldc7_trg2.v2.3.1.20250312-1-gc1f0fe5.HE.sophronia.h5', 'run_15107_2235_ldc7_trg2.v2.3.1.20250312-1-gc1f0fe5.HE.sophronia.h5', 'run_15107_1401_ldc7_trg2.v2.3.1.20250312-1-gc1f0fe5.HE.sophronia.h5', 'run_15107_1073_ldc7_trg2.v2.3.1.20250312-1-gc1f0fe5.HE.sophronia.h5', 'run_15107_1807_ldc7_trg2.v2.3.1.20250312-1-gc1f0fe5.HE.sophronia.h5', 'run_15107_1756_ldc7_trg2.v2.3.1.20250312-1-gc1f0fe5.HE.sophronia.h5', 'run_15107_0443_ldc7_trg2.v2.3.1.20250312-1-gc1f0fe5.HE.sophronia.h5', 'run_15107_1428_ldc7_trg2.v2.3.1.20250312-1-gc1f0fe5.HE.sophronia.h5', 'run_15107_1445_ldc7_trg2.v2.3.1.20250312-1-gc1f0fe5.HE.sophronia.h5', 'run_15107_1558_ldc7_trg2.v2.3.1.20250312-1-gc1f0fe5.HE.sophronia.h5', 'run_15107_1279_ldc7_trg2.v2.3.1.20250312-1-gc1f0fe5.HE.sophronia.h5', 'run_15107_1883_ldc7_trg2.v2.3.1.20250312-1-gc1f0fe5.HE.sophronia.h5', 'run_15107_0236_ldc7_trg2.v2.3.1.20250312-1-gc1f0fe5.HE.sophronia.h5', 'run_15107_1331_ldc7_trg2.v2.3.1.20250312-1-gc1f0fe5.HE.sophronia.h5', 'run_15107_1289_ldc7_trg2.v2.3.1.20250312-1-gc1f0fe5.HE.sophronia.h5', 'run_15107_0050_ldc7_trg2.v2.3.1.20250312-1-gc1f0fe5.HE.sophronia.h5', 'run_15107_0564_ldc7_trg2.v2.3.1.20250312-1-gc1f0fe5.HE.sophronia.h5', 'run_15107_1770_ldc7_trg2.v2.3.1.20250312-1-gc1f0fe5.HE.sophronia.h5', 'run_15107_2149_ldc7_trg2.v2.3.1.20250312-1-gc1f0fe5.HE.sophronia.h5', 'run_15107_1994_ldc7_trg2.v2.3.1.20250312-1-gc1f0fe5.HE.sophronia.h5', 'run_15107_0372_ldc7_trg2.v2.3.1.20250312-1-gc1f0fe5.HE.sophronia.h5', 'run_15107_0185_ldc7_trg2.v2.3.1.20250312-1-gc1f0fe5.HE.sophronia.h5', 'run_15107_0972_ldc7_trg2.v2.3.1.20250312-1-gc1f0fe5.HE.sophronia.h5', 'run_15107_0022_ldc7_trg2.v2.3.1.20250312-1-gc1f0fe5.HE.sophronia.h5', 'run_15107_0379_ldc7_trg2.v2.3.1.20250312-1-gc1f0fe5.HE.sophronia.h5', 'run_15107_1211_ldc7_trg2.v2.3.1.20250312-1-gc1f0fe5.HE.sophronia.h5', 'run_15107_2021_ldc7_trg2.v2.3.1.20250312-1-gc1f0fe5.HE.sophronia.h5', 'run_15107_0124_ldc7_trg2.v2.3.1.20250312-1-gc1f0fe5.HE.sophronia.h5', 'run_15107_2142_ldc7_trg2.v2.3.1.20250312-1-gc1f0fe5.HE.sophronia.h5', 'run_15107_0438_ldc7_trg2.v2.3.1.20250312-1-gc1f0fe5.HE.sophronia.h5', 'run_15107_0357_ldc7_trg2.v2.3.1.20250312-1-gc1f0fe5.HE.sophronia.h5', 'run_15107_0856_ldc7_trg2.v2.3.1.20250312-1-gc1f0fe5.HE.sophronia.h5', 'run_15107_1659_ldc7_trg2.v2.3.1.20250312-1-gc1f0fe5.HE.sophronia.h5', 'run_15107_0004_ldc7_trg2.v2.3.1.20250312-1-gc1f0fe5.HE.sophronia.h5', 'run_15107_1851_ldc7_trg2.v2.3.1.20250312-1-gc1f0fe5.HE.sophronia.h5', 'run_15107_1057_ldc7_trg2.v2.3.1.20250312-1-gc1f0fe5.HE.sophronia.h5', 'run_15107_1839_ldc7_trg2.v2.3.1.20250312-1-gc1f0fe5.HE.sophronia.h5', 'run_15107_1171_ldc7_trg2.v2.3.1.20250312-1-gc1f0fe5.HE.sophronia.h5', 'run_15107_1365_ldc7_trg2.v2.3.1.20250312-1-gc1f0fe5.HE.sophronia.h5', 'run_15107_2046_ldc7_trg2.v2.3.1.20250312-1-gc1f0fe5.HE.sophronia.h5', 'run_15107_1244_ldc7_trg2.v2.3.1.20250312-1-gc1f0fe5.HE.sophronia.h5', 'run_15107_2159_ldc7_trg2.v2.3.1.20250312-1-gc1f0fe5.HE.sophronia.h5', 'run_15107_1865_ldc7_trg2.v2.3.1.20250312-1-gc1f0fe5.HE.sophronia.h5', 'run_15107_0371_ldc7_trg2.v2.3.1.20250312-1-gc1f0fe5.HE.sophronia.h5', 'run_15107_1967_ldc7_trg2.v2.3.1.20250312-1-gc1f0fe5.HE.sophronia.h5', 'run_15107_2095_ldc7_trg2.v2.3.1.20250312-1-gc1f0fe5.HE.sophronia.h5', 'run_15107_1838_ldc7_trg2.v2.3.1.20250312-1-gc1f0fe5.HE.sophronia.h5', 'run_15107_1692_ldc7_trg2.v2.3.1.20250312-1-gc1f0fe5.HE.sophronia.h5', 'run_15107_1711_ldc7_trg2.v2.3.1.20250312-1-gc1f0fe5.HE.sophronia.h5', 'run_15107_0963_ldc7_trg2.v2.3.1.20250312-1-gc1f0fe5.HE.sophronia.h5', 'run_15107_1783_ldc7_trg2.v2.3.1.20250312-1-gc1f0fe5.HE.sophronia.h5', 'run_15107_1902_ldc7_trg2.v2.3.1.20250312-1-gc1f0fe5.HE.sophronia.h5', 'run_15107_0279_ldc7_trg2.v2.3.1.20250312-1-gc1f0fe5.HE.sophronia.h5', 'run_15107_0089_ldc7_trg2.v2.3.1.20250312-1-gc1f0fe5.HE.sophronia.h5', 'run_15107_1453_ldc7_trg2.v2.3.1.20250312-1-gc1f0fe5.HE.sophronia.h5', 'run_15107_2236_ldc7_trg2.v2.3.1.20250312-1-gc1f0fe5.HE.sophronia.h5', 'run_15107_1067_ldc7_trg2.v2.3.1.20250312-1-gc1f0fe5.HE.sophronia.h5', 'run_15107_1633_ldc7_trg2.v2.3.1.20250312-1-gc1f0fe5.HE.sophronia.h5', 'run_15107_1111_ldc7_trg2.v2.3.1.20250312-1-gc1f0fe5.HE.sophronia.h5', 'run_15107_0747_ldc7_trg2.v2.3.1.20250312-1-gc1f0fe5.HE.sophronia.h5', 'run_15107_0939_ldc7_trg2.v2.3.1.20250312-1-gc1f0fe5.HE.sophronia.h5', 'run_15107_0672_ldc7_trg2.v2.3.1.20250312-1-gc1f0fe5.HE.sophronia.h5', 'run_15107_0644_ldc7_trg2.v2.3.1.20250312-1-gc1f0fe5.HE.sophronia.h5', 'run_15107_0846_ldc7_trg2.v2.3.1.20250312-1-gc1f0fe5.HE.sophronia.h5', 'run_15107_1131_ldc7_trg2.v2.3.1.20250312-1-gc1f0fe5.HE.sophronia.h5', 'run_15107_1126_ldc7_trg2.v2.3.1.20250312-1-gc1f0fe5.HE.sophronia.h5', 'run_15107_1436_ldc7_trg2.v2.3.1.20250312-1-gc1f0fe5.HE.sophronia.h5', 'run_15107_1371_ldc7_trg2.v2.3.1.20250312-1-gc1f0fe5.HE.sophronia.h5', 'run_15107_0002_ldc7_trg2.v2.3.1.20250312-1-gc1f0fe5.HE.sophronia.h5', 'run_15107_2123_ldc7_trg2.v2.3.1.20250312-1-gc1f0fe5.HE.sophronia.h5', 'run_15107_0905_ldc7_trg2.v2.3.1.20250312-1-gc1f0fe5.HE.sophronia.h5', 'run_15107_0224_ldc7_trg2.v2.3.1.20250312-1-gc1f0fe5.HE.sophronia.h5', 'run_15107_1754_ldc7_trg2.v2.3.1.20250312-1-gc1f0fe5.HE.sophronia.h5', 'run_15107_1333_ldc7_trg2.v2.3.1.20250312-1-gc1f0fe5.HE.sophronia.h5', 'run_15107_0959_ldc7_trg2.v2.3.1.20250312-1-gc1f0fe5.HE.sophronia.h5', 'run_15107_1565_ldc7_trg2.v2.3.1.20250312-1-gc1f0fe5.HE.sophronia.h5', 'run_15107_1396_ldc7_trg2.v2.3.1.20250312-1-gc1f0fe5.HE.sophronia.h5', 'run_15107_0780_ldc7_trg2.v2.3.1.20250312-1-gc1f0fe5.HE.sophronia.h5', 'run_15107_1072_ldc7_trg2.v2.3.1.20250312-1-gc1f0fe5.HE.sophronia.h5', 'run_15107_0718_ldc7_trg2.v2.3.1.20250312-1-gc1f0fe5.HE.sophronia.h5', 'run_15107_2224_ldc7_trg2.v2.3.1.20250312-1-gc1f0fe5.HE.sophronia.h5', 'run_15107_0135_ldc7_trg2.v2.3.1.20250312-1-gc1f0fe5.HE.sophronia.h5', 'run_15107_0570_ldc7_trg2.v2.3.1.20250312-1-gc1f0fe5.HE.sophronia.h5', 'run_15107_0276_ldc7_trg2.v2.3.1.20250312-1-gc1f0fe5.HE.sophronia.h5']\n"
     ]
    }
   ],
   "source": [
    "n100_dir = '/media/e78368jw/T7 Shield/N100_runs/15107/sophronia/trigger2/'\n",
    "folder_path = n100_dir + 'ldc' + str(i) + '/'\n",
    "file_names = [f for f in os.listdir(folder_path) if os.path.isfile(os.path.join(folder_path, f)) and f.endswith('.h5')]\n",
    "print(file_names)"
   ]
  },
  {
   "cell_type": "markdown",
   "metadata": {},
   "source": [
    "## Load in, calculate energies, move on"
   ]
  },
  {
   "cell_type": "code",
   "execution_count": 9,
   "metadata": {},
   "outputs": [
    {
     "data": {
      "text/html": [
       "<div>\n",
       "<style scoped>\n",
       "    .dataframe tbody tr th:only-of-type {\n",
       "        vertical-align: middle;\n",
       "    }\n",
       "\n",
       "    .dataframe tbody tr th {\n",
       "        vertical-align: top;\n",
       "    }\n",
       "\n",
       "    .dataframe thead th {\n",
       "        text-align: right;\n",
       "    }\n",
       "</style>\n",
       "<table border=\"1\" class=\"dataframe\">\n",
       "  <thead>\n",
       "    <tr style=\"text-align: right;\">\n",
       "      <th></th>\n",
       "      <th>event</th>\n",
       "      <th>time</th>\n",
       "      <th>npeak</th>\n",
       "      <th>Xpeak</th>\n",
       "      <th>Ypeak</th>\n",
       "      <th>nsipm</th>\n",
       "      <th>X</th>\n",
       "      <th>Y</th>\n",
       "      <th>Xrms</th>\n",
       "      <th>Yrms</th>\n",
       "      <th>Z</th>\n",
       "      <th>Q</th>\n",
       "      <th>E</th>\n",
       "      <th>Qc</th>\n",
       "      <th>Ec</th>\n",
       "      <th>track_id</th>\n",
       "      <th>Ep</th>\n",
       "    </tr>\n",
       "  </thead>\n",
       "  <tbody>\n",
       "    <tr>\n",
       "      <th>0</th>\n",
       "      <td>72039</td>\n",
       "      <td>1.742936e+09</td>\n",
       "      <td>39</td>\n",
       "      <td>36.779894</td>\n",
       "      <td>28.985958</td>\n",
       "      <td>1</td>\n",
       "      <td>212.125</td>\n",
       "      <td>492.725</td>\n",
       "      <td>0.0</td>\n",
       "      <td>0.0</td>\n",
       "      <td>1273.912250</td>\n",
       "      <td>5.661029</td>\n",
       "      <td>-1.417413</td>\n",
       "      <td>-1.0</td>\n",
       "      <td>NaN</td>\n",
       "      <td>-1</td>\n",
       "      <td>-1.0</td>\n",
       "    </tr>\n",
       "    <tr>\n",
       "      <th>1</th>\n",
       "      <td>72039</td>\n",
       "      <td>1.742936e+09</td>\n",
       "      <td>39</td>\n",
       "      <td>36.779894</td>\n",
       "      <td>28.985958</td>\n",
       "      <td>1</td>\n",
       "      <td>-265.925</td>\n",
       "      <td>-201.525</td>\n",
       "      <td>0.0</td>\n",
       "      <td>0.0</td>\n",
       "      <td>1276.345375</td>\n",
       "      <td>7.444304</td>\n",
       "      <td>-4.517760</td>\n",
       "      <td>-1.0</td>\n",
       "      <td>-1.418547e-05</td>\n",
       "      <td>-1</td>\n",
       "      <td>-1.0</td>\n",
       "    </tr>\n",
       "    <tr>\n",
       "      <th>2</th>\n",
       "      <td>72039</td>\n",
       "      <td>1.742936e+09</td>\n",
       "      <td>39</td>\n",
       "      <td>36.779894</td>\n",
       "      <td>28.985958</td>\n",
       "      <td>1</td>\n",
       "      <td>57.625</td>\n",
       "      <td>122.525</td>\n",
       "      <td>0.0</td>\n",
       "      <td>0.0</td>\n",
       "      <td>1276.345375</td>\n",
       "      <td>5.150627</td>\n",
       "      <td>-3.125785</td>\n",
       "      <td>-1.0</td>\n",
       "      <td>-9.277920e-06</td>\n",
       "      <td>-1</td>\n",
       "      <td>-1.0</td>\n",
       "    </tr>\n",
       "    <tr>\n",
       "      <th>3</th>\n",
       "      <td>72039</td>\n",
       "      <td>1.742936e+09</td>\n",
       "      <td>39</td>\n",
       "      <td>36.779894</td>\n",
       "      <td>28.985958</td>\n",
       "      <td>1</td>\n",
       "      <td>-142.525</td>\n",
       "      <td>-47.525</td>\n",
       "      <td>0.0</td>\n",
       "      <td>0.0</td>\n",
       "      <td>1279.630500</td>\n",
       "      <td>5.096115</td>\n",
       "      <td>5.277097</td>\n",
       "      <td>-1.0</td>\n",
       "      <td>1.564889e-05</td>\n",
       "      <td>-1</td>\n",
       "      <td>-1.0</td>\n",
       "    </tr>\n",
       "    <tr>\n",
       "      <th>4</th>\n",
       "      <td>72039</td>\n",
       "      <td>1.742936e+09</td>\n",
       "      <td>39</td>\n",
       "      <td>36.779894</td>\n",
       "      <td>28.985958</td>\n",
       "      <td>1</td>\n",
       "      <td>-389.325</td>\n",
       "      <td>90.925</td>\n",
       "      <td>0.0</td>\n",
       "      <td>0.0</td>\n",
       "      <td>1281.775250</td>\n",
       "      <td>5.943045</td>\n",
       "      <td>-3.181359</td>\n",
       "      <td>-1.0</td>\n",
       "      <td>-1.035510e-05</td>\n",
       "      <td>-1</td>\n",
       "      <td>-1.0</td>\n",
       "    </tr>\n",
       "    <tr>\n",
       "      <th>...</th>\n",
       "      <td>...</td>\n",
       "      <td>...</td>\n",
       "      <td>...</td>\n",
       "      <td>...</td>\n",
       "      <td>...</td>\n",
       "      <td>...</td>\n",
       "      <td>...</td>\n",
       "      <td>...</td>\n",
       "      <td>...</td>\n",
       "      <td>...</td>\n",
       "      <td>...</td>\n",
       "      <td>...</td>\n",
       "      <td>...</td>\n",
       "      <td>...</td>\n",
       "      <td>...</td>\n",
       "      <td>...</td>\n",
       "      <td>...</td>\n",
       "    </tr>\n",
       "    <tr>\n",
       "      <th>3124</th>\n",
       "      <td>72193</td>\n",
       "      <td>1.742936e+09</td>\n",
       "      <td>29</td>\n",
       "      <td>74.357555</td>\n",
       "      <td>48.673427</td>\n",
       "      <td>1</td>\n",
       "      <td>-81.325</td>\n",
       "      <td>-139.825</td>\n",
       "      <td>0.0</td>\n",
       "      <td>0.0</td>\n",
       "      <td>149.439500</td>\n",
       "      <td>6.901906</td>\n",
       "      <td>-0.007938</td>\n",
       "      <td>-1.0</td>\n",
       "      <td>-2.066010e-08</td>\n",
       "      <td>-1</td>\n",
       "      <td>-1.0</td>\n",
       "    </tr>\n",
       "    <tr>\n",
       "      <th>3125</th>\n",
       "      <td>72193</td>\n",
       "      <td>1.742936e+09</td>\n",
       "      <td>29</td>\n",
       "      <td>74.357555</td>\n",
       "      <td>48.673427</td>\n",
       "      <td>1</td>\n",
       "      <td>10.975</td>\n",
       "      <td>29.225</td>\n",
       "      <td>0.0</td>\n",
       "      <td>0.0</td>\n",
       "      <td>149.439500</td>\n",
       "      <td>5.011463</td>\n",
       "      <td>-0.005764</td>\n",
       "      <td>-1.0</td>\n",
       "      <td>-1.486475e-08</td>\n",
       "      <td>-1</td>\n",
       "      <td>-1.0</td>\n",
       "    </tr>\n",
       "    <tr>\n",
       "      <th>3126</th>\n",
       "      <td>72193</td>\n",
       "      <td>1.742936e+09</td>\n",
       "      <td>29</td>\n",
       "      <td>74.357555</td>\n",
       "      <td>48.673427</td>\n",
       "      <td>1</td>\n",
       "      <td>212.125</td>\n",
       "      <td>-309.875</td>\n",
       "      <td>0.0</td>\n",
       "      <td>0.0</td>\n",
       "      <td>149.439500</td>\n",
       "      <td>5.098453</td>\n",
       "      <td>-0.005864</td>\n",
       "      <td>-1.0</td>\n",
       "      <td>-1.624381e-08</td>\n",
       "      <td>-1</td>\n",
       "      <td>-1.0</td>\n",
       "    </tr>\n",
       "    <tr>\n",
       "      <th>3127</th>\n",
       "      <td>72193</td>\n",
       "      <td>1.742936e+09</td>\n",
       "      <td>29</td>\n",
       "      <td>74.357555</td>\n",
       "      <td>48.673427</td>\n",
       "      <td>1</td>\n",
       "      <td>-250.375</td>\n",
       "      <td>-171.425</td>\n",
       "      <td>0.0</td>\n",
       "      <td>0.0</td>\n",
       "      <td>154.442125</td>\n",
       "      <td>5.020531</td>\n",
       "      <td>2.892402</td>\n",
       "      <td>-1.0</td>\n",
       "      <td>7.907618e-06</td>\n",
       "      <td>-1</td>\n",
       "      <td>-1.0</td>\n",
       "    </tr>\n",
       "    <tr>\n",
       "      <th>3128</th>\n",
       "      <td>72193</td>\n",
       "      <td>1.742936e+09</td>\n",
       "      <td>29</td>\n",
       "      <td>74.357555</td>\n",
       "      <td>48.673427</td>\n",
       "      <td>1</td>\n",
       "      <td>57.625</td>\n",
       "      <td>-186.475</td>\n",
       "      <td>0.0</td>\n",
       "      <td>0.0</td>\n",
       "      <td>156.152125</td>\n",
       "      <td>6.115097</td>\n",
       "      <td>-1.719289</td>\n",
       "      <td>-1.0</td>\n",
       "      <td>-4.455659e-06</td>\n",
       "      <td>-1</td>\n",
       "      <td>-1.0</td>\n",
       "    </tr>\n",
       "  </tbody>\n",
       "</table>\n",
       "<p>3129 rows × 17 columns</p>\n",
       "</div>"
      ],
      "text/plain": [
       "      event          time  npeak      Xpeak      Ypeak  nsipm        X  \\\n",
       "0     72039  1.742936e+09     39  36.779894  28.985958      1  212.125   \n",
       "1     72039  1.742936e+09     39  36.779894  28.985958      1 -265.925   \n",
       "2     72039  1.742936e+09     39  36.779894  28.985958      1   57.625   \n",
       "3     72039  1.742936e+09     39  36.779894  28.985958      1 -142.525   \n",
       "4     72039  1.742936e+09     39  36.779894  28.985958      1 -389.325   \n",
       "...     ...           ...    ...        ...        ...    ...      ...   \n",
       "3124  72193  1.742936e+09     29  74.357555  48.673427      1  -81.325   \n",
       "3125  72193  1.742936e+09     29  74.357555  48.673427      1   10.975   \n",
       "3126  72193  1.742936e+09     29  74.357555  48.673427      1  212.125   \n",
       "3127  72193  1.742936e+09     29  74.357555  48.673427      1 -250.375   \n",
       "3128  72193  1.742936e+09     29  74.357555  48.673427      1   57.625   \n",
       "\n",
       "            Y  Xrms  Yrms            Z         Q         E   Qc            Ec  \\\n",
       "0     492.725   0.0   0.0  1273.912250  5.661029 -1.417413 -1.0           NaN   \n",
       "1    -201.525   0.0   0.0  1276.345375  7.444304 -4.517760 -1.0 -1.418547e-05   \n",
       "2     122.525   0.0   0.0  1276.345375  5.150627 -3.125785 -1.0 -9.277920e-06   \n",
       "3     -47.525   0.0   0.0  1279.630500  5.096115  5.277097 -1.0  1.564889e-05   \n",
       "4      90.925   0.0   0.0  1281.775250  5.943045 -3.181359 -1.0 -1.035510e-05   \n",
       "...       ...   ...   ...          ...       ...       ...  ...           ...   \n",
       "3124 -139.825   0.0   0.0   149.439500  6.901906 -0.007938 -1.0 -2.066010e-08   \n",
       "3125   29.225   0.0   0.0   149.439500  5.011463 -0.005764 -1.0 -1.486475e-08   \n",
       "3126 -309.875   0.0   0.0   149.439500  5.098453 -0.005864 -1.0 -1.624381e-08   \n",
       "3127 -171.425   0.0   0.0   154.442125  5.020531  2.892402 -1.0  7.907618e-06   \n",
       "3128 -186.475   0.0   0.0   156.152125  6.115097 -1.719289 -1.0 -4.455659e-06   \n",
       "\n",
       "      track_id   Ep  \n",
       "0           -1 -1.0  \n",
       "1           -1 -1.0  \n",
       "2           -1 -1.0  \n",
       "3           -1 -1.0  \n",
       "4           -1 -1.0  \n",
       "...        ...  ...  \n",
       "3124        -1 -1.0  \n",
       "3125        -1 -1.0  \n",
       "3126        -1 -1.0  \n",
       "3127        -1 -1.0  \n",
       "3128        -1 -1.0  \n",
       "\n",
       "[3129 rows x 17 columns]"
      ]
     },
     "metadata": {},
     "output_type": "display_data"
    },
    {
     "data": {
      "text/html": [
       "<div>\n",
       "<style scoped>\n",
       "    .dataframe tbody tr th:only-of-type {\n",
       "        vertical-align: middle;\n",
       "    }\n",
       "\n",
       "    .dataframe tbody tr th {\n",
       "        vertical-align: top;\n",
       "    }\n",
       "\n",
       "    .dataframe thead th {\n",
       "        text-align: right;\n",
       "    }\n",
       "</style>\n",
       "<table border=\"1\" class=\"dataframe\">\n",
       "  <thead>\n",
       "    <tr style=\"text-align: right;\">\n",
       "      <th></th>\n",
       "      <th>event</th>\n",
       "      <th>time</th>\n",
       "      <th>npeak</th>\n",
       "      <th>Xpeak</th>\n",
       "      <th>Ypeak</th>\n",
       "      <th>nsipm</th>\n",
       "      <th>X</th>\n",
       "      <th>Y</th>\n",
       "      <th>Xrms</th>\n",
       "      <th>Yrms</th>\n",
       "      <th>Z</th>\n",
       "      <th>Q</th>\n",
       "      <th>E</th>\n",
       "      <th>Qc</th>\n",
       "      <th>Ec</th>\n",
       "      <th>track_id</th>\n",
       "      <th>Ep</th>\n",
       "    </tr>\n",
       "  </thead>\n",
       "  <tbody>\n",
       "    <tr>\n",
       "      <th>0</th>\n",
       "      <td>71406</td>\n",
       "      <td>1.742936e+09</td>\n",
       "      <td>32</td>\n",
       "      <td>-68.780725</td>\n",
       "      <td>33.802080</td>\n",
       "      <td>1</td>\n",
       "      <td>196.575</td>\n",
       "      <td>230.375</td>\n",
       "      <td>0.0</td>\n",
       "      <td>0.0</td>\n",
       "      <td>611.153375</td>\n",
       "      <td>5.376445</td>\n",
       "      <td>40.956380</td>\n",
       "      <td>-1.0</td>\n",
       "      <td>0.000116</td>\n",
       "      <td>-1</td>\n",
       "      <td>-1.0</td>\n",
       "    </tr>\n",
       "    <tr>\n",
       "      <th>1</th>\n",
       "      <td>71406</td>\n",
       "      <td>1.742936e+09</td>\n",
       "      <td>32</td>\n",
       "      <td>-68.780725</td>\n",
       "      <td>33.802080</td>\n",
       "      <td>1</td>\n",
       "      <td>-65.775</td>\n",
       "      <td>430.525</td>\n",
       "      <td>0.0</td>\n",
       "      <td>0.0</td>\n",
       "      <td>612.684875</td>\n",
       "      <td>5.924339</td>\n",
       "      <td>83.250165</td>\n",
       "      <td>-1.0</td>\n",
       "      <td>0.000257</td>\n",
       "      <td>-1</td>\n",
       "      <td>-1.0</td>\n",
       "    </tr>\n",
       "    <tr>\n",
       "      <th>2</th>\n",
       "      <td>71406</td>\n",
       "      <td>1.742936e+09</td>\n",
       "      <td>32</td>\n",
       "      <td>-68.780725</td>\n",
       "      <td>33.802080</td>\n",
       "      <td>1</td>\n",
       "      <td>57.625</td>\n",
       "      <td>-16.425</td>\n",
       "      <td>0.0</td>\n",
       "      <td>0.0</td>\n",
       "      <td>614.663250</td>\n",
       "      <td>5.005696</td>\n",
       "      <td>137.803660</td>\n",
       "      <td>-1.0</td>\n",
       "      <td>0.000375</td>\n",
       "      <td>-1</td>\n",
       "      <td>-1.0</td>\n",
       "    </tr>\n",
       "    <tr>\n",
       "      <th>3</th>\n",
       "      <td>71406</td>\n",
       "      <td>1.742936e+09</td>\n",
       "      <td>32</td>\n",
       "      <td>-68.780725</td>\n",
       "      <td>33.802080</td>\n",
       "      <td>1</td>\n",
       "      <td>490.025</td>\n",
       "      <td>198.775</td>\n",
       "      <td>0.0</td>\n",
       "      <td>0.0</td>\n",
       "      <td>614.663250</td>\n",
       "      <td>5.396718</td>\n",
       "      <td>148.568242</td>\n",
       "      <td>-1.0</td>\n",
       "      <td>NaN</td>\n",
       "      <td>-1</td>\n",
       "      <td>-1.0</td>\n",
       "    </tr>\n",
       "    <tr>\n",
       "      <th>4</th>\n",
       "      <td>71406</td>\n",
       "      <td>1.742936e+09</td>\n",
       "      <td>32</td>\n",
       "      <td>-68.780725</td>\n",
       "      <td>33.802080</td>\n",
       "      <td>1</td>\n",
       "      <td>257.775</td>\n",
       "      <td>-48.025</td>\n",
       "      <td>0.0</td>\n",
       "      <td>0.0</td>\n",
       "      <td>616.684750</td>\n",
       "      <td>5.151527</td>\n",
       "      <td>748.788081</td>\n",
       "      <td>-1.0</td>\n",
       "      <td>0.002121</td>\n",
       "      <td>-1</td>\n",
       "      <td>-1.0</td>\n",
       "    </tr>\n",
       "    <tr>\n",
       "      <th>...</th>\n",
       "      <td>...</td>\n",
       "      <td>...</td>\n",
       "      <td>...</td>\n",
       "      <td>...</td>\n",
       "      <td>...</td>\n",
       "      <td>...</td>\n",
       "      <td>...</td>\n",
       "      <td>...</td>\n",
       "      <td>...</td>\n",
       "      <td>...</td>\n",
       "      <td>...</td>\n",
       "      <td>...</td>\n",
       "      <td>...</td>\n",
       "      <td>...</td>\n",
       "      <td>...</td>\n",
       "      <td>...</td>\n",
       "      <td>...</td>\n",
       "    </tr>\n",
       "    <tr>\n",
       "      <th>1548</th>\n",
       "      <td>71819</td>\n",
       "      <td>1.742936e+09</td>\n",
       "      <td>28</td>\n",
       "      <td>49.519816</td>\n",
       "      <td>43.048527</td>\n",
       "      <td>1</td>\n",
       "      <td>149.925</td>\n",
       "      <td>-448.825</td>\n",
       "      <td>0.0</td>\n",
       "      <td>0.0</td>\n",
       "      <td>1433.594625</td>\n",
       "      <td>5.176731</td>\n",
       "      <td>58.132433</td>\n",
       "      <td>-1.0</td>\n",
       "      <td>0.000189</td>\n",
       "      <td>-1</td>\n",
       "      <td>-1.0</td>\n",
       "    </tr>\n",
       "    <tr>\n",
       "      <th>1549</th>\n",
       "      <td>71819</td>\n",
       "      <td>1.742936e+09</td>\n",
       "      <td>28</td>\n",
       "      <td>49.519816</td>\n",
       "      <td>43.048527</td>\n",
       "      <td>1</td>\n",
       "      <td>-81.325</td>\n",
       "      <td>13.675</td>\n",
       "      <td>0.0</td>\n",
       "      <td>0.0</td>\n",
       "      <td>1435.859625</td>\n",
       "      <td>5.042746</td>\n",
       "      <td>46.389733</td>\n",
       "      <td>-1.0</td>\n",
       "      <td>0.000139</td>\n",
       "      <td>-1</td>\n",
       "      <td>-1.0</td>\n",
       "    </tr>\n",
       "    <tr>\n",
       "      <th>1550</th>\n",
       "      <td>71819</td>\n",
       "      <td>1.742936e+09</td>\n",
       "      <td>28</td>\n",
       "      <td>49.519816</td>\n",
       "      <td>43.048527</td>\n",
       "      <td>1</td>\n",
       "      <td>-420.425</td>\n",
       "      <td>-109.225</td>\n",
       "      <td>0.0</td>\n",
       "      <td>0.0</td>\n",
       "      <td>1437.452750</td>\n",
       "      <td>5.074253</td>\n",
       "      <td>25.215837</td>\n",
       "      <td>-1.0</td>\n",
       "      <td>0.000087</td>\n",
       "      <td>-1</td>\n",
       "      <td>-1.0</td>\n",
       "    </tr>\n",
       "    <tr>\n",
       "      <th>1551</th>\n",
       "      <td>71819</td>\n",
       "      <td>1.742936e+09</td>\n",
       "      <td>28</td>\n",
       "      <td>49.519816</td>\n",
       "      <td>43.048527</td>\n",
       "      <td>1</td>\n",
       "      <td>-235.825</td>\n",
       "      <td>13.675</td>\n",
       "      <td>0.0</td>\n",
       "      <td>0.0</td>\n",
       "      <td>1441.780250</td>\n",
       "      <td>5.255337</td>\n",
       "      <td>-6.816120</td>\n",
       "      <td>-1.0</td>\n",
       "      <td>-0.000021</td>\n",
       "      <td>-1</td>\n",
       "      <td>-1.0</td>\n",
       "    </tr>\n",
       "    <tr>\n",
       "      <th>1552</th>\n",
       "      <td>71819</td>\n",
       "      <td>1.742936e+09</td>\n",
       "      <td>28</td>\n",
       "      <td>49.519816</td>\n",
       "      <td>43.048527</td>\n",
       "      <td>1</td>\n",
       "      <td>427.825</td>\n",
       "      <td>-93.675</td>\n",
       "      <td>0.0</td>\n",
       "      <td>0.0</td>\n",
       "      <td>1441.780250</td>\n",
       "      <td>5.793258</td>\n",
       "      <td>-7.513799</td>\n",
       "      <td>-1.0</td>\n",
       "      <td>-0.000026</td>\n",
       "      <td>-1</td>\n",
       "      <td>-1.0</td>\n",
       "    </tr>\n",
       "  </tbody>\n",
       "</table>\n",
       "<p>1553 rows × 17 columns</p>\n",
       "</div>"
      ],
      "text/plain": [
       "      event          time  npeak      Xpeak      Ypeak  nsipm        X  \\\n",
       "0     71406  1.742936e+09     32 -68.780725  33.802080      1  196.575   \n",
       "1     71406  1.742936e+09     32 -68.780725  33.802080      1  -65.775   \n",
       "2     71406  1.742936e+09     32 -68.780725  33.802080      1   57.625   \n",
       "3     71406  1.742936e+09     32 -68.780725  33.802080      1  490.025   \n",
       "4     71406  1.742936e+09     32 -68.780725  33.802080      1  257.775   \n",
       "...     ...           ...    ...        ...        ...    ...      ...   \n",
       "1548  71819  1.742936e+09     28  49.519816  43.048527      1  149.925   \n",
       "1549  71819  1.742936e+09     28  49.519816  43.048527      1  -81.325   \n",
       "1550  71819  1.742936e+09     28  49.519816  43.048527      1 -420.425   \n",
       "1551  71819  1.742936e+09     28  49.519816  43.048527      1 -235.825   \n",
       "1552  71819  1.742936e+09     28  49.519816  43.048527      1  427.825   \n",
       "\n",
       "            Y  Xrms  Yrms            Z         Q           E   Qc        Ec  \\\n",
       "0     230.375   0.0   0.0   611.153375  5.376445   40.956380 -1.0  0.000116   \n",
       "1     430.525   0.0   0.0   612.684875  5.924339   83.250165 -1.0  0.000257   \n",
       "2     -16.425   0.0   0.0   614.663250  5.005696  137.803660 -1.0  0.000375   \n",
       "3     198.775   0.0   0.0   614.663250  5.396718  148.568242 -1.0       NaN   \n",
       "4     -48.025   0.0   0.0   616.684750  5.151527  748.788081 -1.0  0.002121   \n",
       "...       ...   ...   ...          ...       ...         ...  ...       ...   \n",
       "1548 -448.825   0.0   0.0  1433.594625  5.176731   58.132433 -1.0  0.000189   \n",
       "1549   13.675   0.0   0.0  1435.859625  5.042746   46.389733 -1.0  0.000139   \n",
       "1550 -109.225   0.0   0.0  1437.452750  5.074253   25.215837 -1.0  0.000087   \n",
       "1551   13.675   0.0   0.0  1441.780250  5.255337   -6.816120 -1.0 -0.000021   \n",
       "1552  -93.675   0.0   0.0  1441.780250  5.793258   -7.513799 -1.0 -0.000026   \n",
       "\n",
       "      track_id   Ep  \n",
       "0           -1 -1.0  \n",
       "1           -1 -1.0  \n",
       "2           -1 -1.0  \n",
       "3           -1 -1.0  \n",
       "4           -1 -1.0  \n",
       "...        ...  ...  \n",
       "1548        -1 -1.0  \n",
       "1549        -1 -1.0  \n",
       "1550        -1 -1.0  \n",
       "1551        -1 -1.0  \n",
       "1552        -1 -1.0  \n",
       "\n",
       "[1553 rows x 17 columns]"
      ]
     },
     "metadata": {},
     "output_type": "display_data"
    }
   ],
   "source": [
    "display(load_dst(n100_dir + 'ldc1/run_15107_0104_ldc1_trg2.v2.3.1.20250312-1-gc1f0fe5.HE.sophronia.h5', 'RECO', 'Events'))\n",
    "display(load_dst(n100_dir + 'ldc7/run_15107_0104_ldc7_trg2.v2.3.1.20250312-1-gc1f0fe5.HE.sophronia.h5', 'RECO', 'Events'))"
   ]
  },
  {
   "cell_type": "code",
   "execution_count": 13,
   "metadata": {},
   "outputs": [
    {
     "name": "stdout",
     "output_type": "stream",
     "text": [
      "LDC 1\n",
      "run_15107_1203_ldc1_trg2.v2.3.1.20250312-1-gc1f0fe5.HE.sophronia.h5\n",
      "LDC 2\n",
      "run_15107_1086_ldc2_trg2.v2.3.1.20250312-1-gc1f0fe5.HE.sophronia.h5\n",
      "LDC 3\n",
      "run_15107_1055_ldc3_trg2.v2.3.1.20250312-1-gc1f0fe5.HE.sophronia.h5\n",
      "LDC 4\n",
      "run_15107_1288_ldc4_trg2.v2.3.1.20250312-1-gc1f0fe5.HE.sophronia.h5\n",
      "LDC 5\n",
      "run_15107_2247_ldc5_trg2.v2.3.1.20250312-1-gc1f0fe5.HE.sophronia.h5\n",
      "LDC 6\n",
      "run_15107_1485_ldc6_trg2.v2.3.1.20250312-1-gc1f0fe5.HE.sophronia.h5\n",
      "LDC 7\n",
      "run_15107_0104_ldc7_trg2.v2.3.1.20250312-1-gc1f0fe5.HE.sophronia.h5\n"
     ]
    }
   ],
   "source": [
    "# load in\n",
    "full_dst = []\n",
    "\n",
    "sophronia_E = []\n",
    "sophronia_Ec = []\n",
    "sophronia_Z = []\n",
    "\n",
    "for i in range(1, 8):\n",
    "\n",
    "    print(f\"LDC {i}\")\n",
    "    folder_path = n100_dir + 'ldc' + str(i) + '/'\n",
    "    file_names = [f for f in os.listdir(folder_path) if os.path.isfile(os.path.join(folder_path, f)) and f.endswith('.h5')]\n",
    "\n",
    "    for file in file_names:\n",
    "        sophronia_E.append(load_dst(folder_path + file, 'RECO', 'Events').groupby('event').E.sum().to_list())\n",
    "\n",
    "        #df = load_dst(folder_path + file, 'RECO', 'Events')\n",
    "        #for evt, df1 in df.groupby('events'):\n",
    "\n",
    "        #    sophronia_E.append(df.E.sum())\n",
    "        #    sophronia_Ec.append(df.Ec.sum())\n",
    "        \n",
    "        sophronia_Z.append(load_dst(folder_path + file, 'DST', 'Events').groupby('event').Z.mean().to_list())\n",
    "\n",
    "    #full_dst = load_dsts([folder_path + x for x in file_names], 'RECO', 'Events')\n",
    "    #for event, df in full_dst.groupby('event'):\n",
    "    #    sophronia_E.append(df.E.sum())\n",
    "        #sophronia_Ec.append(df.Ec.sum())\n",
    "    #display(full_dst)\n",
    "    #print(f'Number of events: {full_dst.event.nunique()}')\n",
    "\n"
   ]
  },
  {
   "cell_type": "code",
   "execution_count": 15,
   "metadata": {},
   "outputs": [],
   "source": [
    "def flatten(xss):\n",
    "    return [x for xs in xss for x in xs]\n",
    "\n",
    "sophronia_Z = flatten(sophronia_Z)\n",
    "sophronia_E = flatten(sophronia_E)\n",
    "#plt.hist2d()"
   ]
  },
  {
   "cell_type": "code",
   "execution_count": 34,
   "metadata": {},
   "outputs": [
    {
     "data": {
      "image/png": "[encoded data removed]",
      "text/plain": [
       "<Figure size 1000x800 with 1 Axes>"
      ]
     },
     "metadata": {},
     "output_type": "display_data"
    }
   ],
   "source": [
    "sophronia_E = np.array(sophronia_E)\n",
    "sophronia_E[np.isnan(sophronia_E)] = 0\n",
    "\n",
    "sophronia_Z = np.array(sophronia_Z)\n",
    "sophronia_Z[np.isnan(sophronia_Z)] = 0\n",
    "\n",
    "plt.hist2d(sophronia_E, sophronia_Z, range = [[0, 1e6],[-200, 1000]], bins = 50)\n",
    "plt.xlabel('E')\n",
    "plt.ylabel('Z')\n",
    "plt.show()"
   ]
  },
  {
   "cell_type": "code",
   "execution_count": 14,
   "metadata": {},
   "outputs": [
    {
     "data": {
      "image/png": "[encoded data removed]",
      "text/plain": [
       "<Figure size 1000x800 with 1 Axes>"
      ]
     },
     "metadata": {},
     "output_type": "display_data"
    }
   ],
   "source": [
    "log_check= True\n",
    "# plot energy of hits as histograms.\n",
    "plt.hist(sophronia_E, bins = 100, log = log_check, label = 'R15107', range = [0, 2e6])\n",
    "plt.title(\"{}\".format('Sophronia uncorrected energy per event'))\n",
    "plt.legend()\n",
    "plt.xlabel('arbitrary energy units')\n",
    "plt.show()"
   ]
  },
  {
   "cell_type": "code",
   "execution_count": null,
   "metadata": {},
   "outputs": [],
   "source": [
    "log_check= True\n",
    "# plot energy of hits as histograms.\n",
    "plt.hist(sophronia_Ec, bins = 50, log = log_check, label = 'R15107', range = [0, 4])\n",
    "plt.title(\"{}\".format('Sophronia corrected energy per event'))\n",
    "plt.legend()\n",
    "plt.xlabel('MeV')\n",
    "plt.show()"
   ]
  },
  {
   "cell_type": "code",
   "execution_count": 10,
   "metadata": {},
   "outputs": [
    {
     "data": {
      "text/html": [
       "<div>\n",
       "<style scoped>\n",
       "    .dataframe tbody tr th:only-of-type {\n",
       "        vertical-align: middle;\n",
       "    }\n",
       "\n",
       "    .dataframe tbody tr th {\n",
       "        vertical-align: top;\n",
       "    }\n",
       "\n",
       "    .dataframe thead th {\n",
       "        text-align: right;\n",
       "    }\n",
       "</style>\n",
       "<table border=\"1\" class=\"dataframe\">\n",
       "  <thead>\n",
       "    <tr style=\"text-align: right;\">\n",
       "      <th></th>\n",
       "      <th>event</th>\n",
       "      <th>time</th>\n",
       "      <th>npeak</th>\n",
       "      <th>Xpeak</th>\n",
       "      <th>Ypeak</th>\n",
       "      <th>nsipm</th>\n",
       "      <th>X</th>\n",
       "      <th>Y</th>\n",
       "      <th>Xrms</th>\n",
       "      <th>Yrms</th>\n",
       "      <th>Z</th>\n",
       "      <th>Q</th>\n",
       "      <th>E</th>\n",
       "      <th>Qc</th>\n",
       "      <th>Ec</th>\n",
       "      <th>track_id</th>\n",
       "      <th>Ep</th>\n",
       "    </tr>\n",
       "  </thead>\n",
       "  <tbody>\n",
       "    <tr>\n",
       "      <th>0</th>\n",
       "      <td>71406</td>\n",
       "      <td>1.742936e+09</td>\n",
       "      <td>32</td>\n",
       "      <td>-68.780725</td>\n",
       "      <td>33.802080</td>\n",
       "      <td>1</td>\n",
       "      <td>196.575</td>\n",
       "      <td>230.375</td>\n",
       "      <td>0.0</td>\n",
       "      <td>0.0</td>\n",
       "      <td>611.153375</td>\n",
       "      <td>5.376445</td>\n",
       "      <td>40.956380</td>\n",
       "      <td>-1.0</td>\n",
       "      <td>0.000116</td>\n",
       "      <td>-1</td>\n",
       "      <td>-1.0</td>\n",
       "    </tr>\n",
       "    <tr>\n",
       "      <th>1</th>\n",
       "      <td>71406</td>\n",
       "      <td>1.742936e+09</td>\n",
       "      <td>32</td>\n",
       "      <td>-68.780725</td>\n",
       "      <td>33.802080</td>\n",
       "      <td>1</td>\n",
       "      <td>-65.775</td>\n",
       "      <td>430.525</td>\n",
       "      <td>0.0</td>\n",
       "      <td>0.0</td>\n",
       "      <td>612.684875</td>\n",
       "      <td>5.924339</td>\n",
       "      <td>83.250165</td>\n",
       "      <td>-1.0</td>\n",
       "      <td>0.000257</td>\n",
       "      <td>-1</td>\n",
       "      <td>-1.0</td>\n",
       "    </tr>\n",
       "    <tr>\n",
       "      <th>2</th>\n",
       "      <td>71406</td>\n",
       "      <td>1.742936e+09</td>\n",
       "      <td>32</td>\n",
       "      <td>-68.780725</td>\n",
       "      <td>33.802080</td>\n",
       "      <td>1</td>\n",
       "      <td>57.625</td>\n",
       "      <td>-16.425</td>\n",
       "      <td>0.0</td>\n",
       "      <td>0.0</td>\n",
       "      <td>614.663250</td>\n",
       "      <td>5.005696</td>\n",
       "      <td>137.803660</td>\n",
       "      <td>-1.0</td>\n",
       "      <td>0.000375</td>\n",
       "      <td>-1</td>\n",
       "      <td>-1.0</td>\n",
       "    </tr>\n",
       "    <tr>\n",
       "      <th>3</th>\n",
       "      <td>71406</td>\n",
       "      <td>1.742936e+09</td>\n",
       "      <td>32</td>\n",
       "      <td>-68.780725</td>\n",
       "      <td>33.802080</td>\n",
       "      <td>1</td>\n",
       "      <td>490.025</td>\n",
       "      <td>198.775</td>\n",
       "      <td>0.0</td>\n",
       "      <td>0.0</td>\n",
       "      <td>614.663250</td>\n",
       "      <td>5.396718</td>\n",
       "      <td>148.568242</td>\n",
       "      <td>-1.0</td>\n",
       "      <td>NaN</td>\n",
       "      <td>-1</td>\n",
       "      <td>-1.0</td>\n",
       "    </tr>\n",
       "    <tr>\n",
       "      <th>4</th>\n",
       "      <td>71406</td>\n",
       "      <td>1.742936e+09</td>\n",
       "      <td>32</td>\n",
       "      <td>-68.780725</td>\n",
       "      <td>33.802080</td>\n",
       "      <td>1</td>\n",
       "      <td>257.775</td>\n",
       "      <td>-48.025</td>\n",
       "      <td>0.0</td>\n",
       "      <td>0.0</td>\n",
       "      <td>616.684750</td>\n",
       "      <td>5.151527</td>\n",
       "      <td>748.788081</td>\n",
       "      <td>-1.0</td>\n",
       "      <td>0.002121</td>\n",
       "      <td>-1</td>\n",
       "      <td>-1.0</td>\n",
       "    </tr>\n",
       "    <tr>\n",
       "      <th>...</th>\n",
       "      <td>...</td>\n",
       "      <td>...</td>\n",
       "      <td>...</td>\n",
       "      <td>...</td>\n",
       "      <td>...</td>\n",
       "      <td>...</td>\n",
       "      <td>...</td>\n",
       "      <td>...</td>\n",
       "      <td>...</td>\n",
       "      <td>...</td>\n",
       "      <td>...</td>\n",
       "      <td>...</td>\n",
       "      <td>...</td>\n",
       "      <td>...</td>\n",
       "      <td>...</td>\n",
       "      <td>...</td>\n",
       "      <td>...</td>\n",
       "    </tr>\n",
       "    <tr>\n",
       "      <th>14181125</th>\n",
       "      <td>189986</td>\n",
       "      <td>1.742938e+09</td>\n",
       "      <td>0</td>\n",
       "      <td>113.622751</td>\n",
       "      <td>168.588762</td>\n",
       "      <td>1</td>\n",
       "      <td>212.125</td>\n",
       "      <td>338.225</td>\n",
       "      <td>0.0</td>\n",
       "      <td>0.0</td>\n",
       "      <td>453.901000</td>\n",
       "      <td>11.884424</td>\n",
       "      <td>116.160586</td>\n",
       "      <td>-1.0</td>\n",
       "      <td>0.000338</td>\n",
       "      <td>-1</td>\n",
       "      <td>-1.0</td>\n",
       "    </tr>\n",
       "    <tr>\n",
       "      <th>14181126</th>\n",
       "      <td>189986</td>\n",
       "      <td>1.742938e+09</td>\n",
       "      <td>0</td>\n",
       "      <td>113.622751</td>\n",
       "      <td>168.588762</td>\n",
       "      <td>1</td>\n",
       "      <td>227.675</td>\n",
       "      <td>322.675</td>\n",
       "      <td>0.0</td>\n",
       "      <td>0.0</td>\n",
       "      <td>453.901000</td>\n",
       "      <td>6.994064</td>\n",
       "      <td>68.361293</td>\n",
       "      <td>-1.0</td>\n",
       "      <td>0.000203</td>\n",
       "      <td>-1</td>\n",
       "      <td>-1.0</td>\n",
       "    </tr>\n",
       "    <tr>\n",
       "      <th>14181127</th>\n",
       "      <td>189986</td>\n",
       "      <td>1.742938e+09</td>\n",
       "      <td>0</td>\n",
       "      <td>113.622751</td>\n",
       "      <td>168.588762</td>\n",
       "      <td>1</td>\n",
       "      <td>119.825</td>\n",
       "      <td>230.375</td>\n",
       "      <td>0.0</td>\n",
       "      <td>0.0</td>\n",
       "      <td>455.824875</td>\n",
       "      <td>5.013052</td>\n",
       "      <td>32.119377</td>\n",
       "      <td>-1.0</td>\n",
       "      <td>0.000090</td>\n",
       "      <td>-1</td>\n",
       "      <td>-1.0</td>\n",
       "    </tr>\n",
       "    <tr>\n",
       "      <th>14181128</th>\n",
       "      <td>189986</td>\n",
       "      <td>1.742938e+09</td>\n",
       "      <td>0</td>\n",
       "      <td>113.622751</td>\n",
       "      <td>168.588762</td>\n",
       "      <td>1</td>\n",
       "      <td>134.375</td>\n",
       "      <td>199.275</td>\n",
       "      <td>0.0</td>\n",
       "      <td>0.0</td>\n",
       "      <td>455.824875</td>\n",
       "      <td>5.599377</td>\n",
       "      <td>35.876044</td>\n",
       "      <td>-1.0</td>\n",
       "      <td>0.000098</td>\n",
       "      <td>-1</td>\n",
       "      <td>-1.0</td>\n",
       "    </tr>\n",
       "    <tr>\n",
       "      <th>14181129</th>\n",
       "      <td>189986</td>\n",
       "      <td>1.742938e+09</td>\n",
       "      <td>0</td>\n",
       "      <td>113.622751</td>\n",
       "      <td>168.588762</td>\n",
       "      <td>1</td>\n",
       "      <td>212.125</td>\n",
       "      <td>322.675</td>\n",
       "      <td>0.0</td>\n",
       "      <td>0.0</td>\n",
       "      <td>455.824875</td>\n",
       "      <td>5.115374</td>\n",
       "      <td>32.774964</td>\n",
       "      <td>-1.0</td>\n",
       "      <td>0.000095</td>\n",
       "      <td>-1</td>\n",
       "      <td>-1.0</td>\n",
       "    </tr>\n",
       "  </tbody>\n",
       "</table>\n",
       "<p>14181130 rows × 17 columns</p>\n",
       "</div>"
      ],
      "text/plain": [
       "           event          time  npeak       Xpeak       Ypeak  nsipm        X  \\\n",
       "0          71406  1.742936e+09     32  -68.780725   33.802080      1  196.575   \n",
       "1          71406  1.742936e+09     32  -68.780725   33.802080      1  -65.775   \n",
       "2          71406  1.742936e+09     32  -68.780725   33.802080      1   57.625   \n",
       "3          71406  1.742936e+09     32  -68.780725   33.802080      1  490.025   \n",
       "4          71406  1.742936e+09     32  -68.780725   33.802080      1  257.775   \n",
       "...          ...           ...    ...         ...         ...    ...      ...   \n",
       "14181125  189986  1.742938e+09      0  113.622751  168.588762      1  212.125   \n",
       "14181126  189986  1.742938e+09      0  113.622751  168.588762      1  227.675   \n",
       "14181127  189986  1.742938e+09      0  113.622751  168.588762      1  119.825   \n",
       "14181128  189986  1.742938e+09      0  113.622751  168.588762      1  134.375   \n",
       "14181129  189986  1.742938e+09      0  113.622751  168.588762      1  212.125   \n",
       "\n",
       "                Y  Xrms  Yrms           Z          Q           E   Qc  \\\n",
       "0         230.375   0.0   0.0  611.153375   5.376445   40.956380 -1.0   \n",
       "1         430.525   0.0   0.0  612.684875   5.924339   83.250165 -1.0   \n",
       "2         -16.425   0.0   0.0  614.663250   5.005696  137.803660 -1.0   \n",
       "3         198.775   0.0   0.0  614.663250   5.396718  148.568242 -1.0   \n",
       "4         -48.025   0.0   0.0  616.684750   5.151527  748.788081 -1.0   \n",
       "...           ...   ...   ...         ...        ...         ...  ...   \n",
       "14181125  338.225   0.0   0.0  453.901000  11.884424  116.160586 -1.0   \n",
       "14181126  322.675   0.0   0.0  453.901000   6.994064   68.361293 -1.0   \n",
       "14181127  230.375   0.0   0.0  455.824875   5.013052   32.119377 -1.0   \n",
       "14181128  199.275   0.0   0.0  455.824875   5.599377   35.876044 -1.0   \n",
       "14181129  322.675   0.0   0.0  455.824875   5.115374   32.774964 -1.0   \n",
       "\n",
       "                Ec  track_id   Ep  \n",
       "0         0.000116        -1 -1.0  \n",
       "1         0.000257        -1 -1.0  \n",
       "2         0.000375        -1 -1.0  \n",
       "3              NaN        -1 -1.0  \n",
       "4         0.002121        -1 -1.0  \n",
       "...            ...       ...  ...  \n",
       "14181125  0.000338        -1 -1.0  \n",
       "14181126  0.000203        -1 -1.0  \n",
       "14181127  0.000090        -1 -1.0  \n",
       "14181128  0.000098        -1 -1.0  \n",
       "14181129  0.000095        -1 -1.0  \n",
       "\n",
       "[14181130 rows x 17 columns]"
      ]
     },
     "metadata": {},
     "output_type": "display_data"
    }
   ],
   "source": [
    "display(full_dst)"
   ]
  },
  {
   "cell_type": "markdown",
   "metadata": {},
   "source": [
    "# lets plot a bunch"
   ]
  },
  {
   "cell_type": "code",
   "execution_count": 27,
   "metadata": {},
   "outputs": [],
   "source": [
    "q_cut = 7\n",
    "drop_dist       = [16, 16]\n",
    "cut_sensors       = beerfun.cut_over_Q   (q_cut, ['E', 'Ec'])\n",
    "drop_sensors      = beerfun.drop_isolated(drop_dist, ['E', 'Ec'])\n"
   ]
  },
  {
   "cell_type": "code",
   "execution_count": 41,
   "metadata": {},
   "outputs": [
    {
     "name": "stdout",
     "output_type": "stream",
     "text": [
      "1\n",
      "1\n",
      "2\n",
      "5\n",
      "8\n",
      "24\n",
      "27\n",
      "38\n",
      "45\n",
      "49\n",
      "53\n",
      "56\n",
      "63\n",
      "59\n",
      "57\n",
      "62\n",
      "62\n",
      "53\n",
      "56\n",
      "54\n",
      "45\n",
      "40\n",
      "37\n",
      "28\n",
      "30\n",
      "22\n",
      "22\n",
      "16\n",
      "9\n",
      "9\n",
      "3\n",
      "3\n",
      "5\n",
      "2\n",
      "1\n",
      "1\n",
      "1\n",
      "1\n",
      "2\n",
      "1\n",
      "2\n",
      "2\n",
      "1\n",
      "1\n",
      "3\n",
      "3\n",
      "2\n"
     ]
    },
    {
     "data": {
      "text/plain": [
       "Text(0, 0.5, 'nSiPMs')"
      ]
     },
     "execution_count": 41,
     "metadata": {},
     "output_type": "execute_result"
    },
    {
     "data": {
      "image/png": "[encoded data removed]",
      "text/plain": [
       "<Figure size 1000x800 with 1 Axes>"
      ]
     },
     "metadata": {},
     "output_type": "display_data"
    }
   ],
   "source": [
    "for z, df2 in df.groupby('Z'):\n",
    "    #print(z)\n",
    "    #display(df2)\n",
    "    print(df2.nsipm.sum())\n",
    "\n",
    "plt.plot(df.groupby('Z').sum().filter(like='nsipm'))\n",
    "plt.title('nSiPMs per Z')\n",
    "plt.xlabel('Z (mm)')\n",
    "plt.ylabel('nSiPMs')"
   ]
  },
  {
   "cell_type": "code",
   "execution_count": 43,
   "metadata": {},
   "outputs": [
    {
     "name": "stderr",
     "output_type": "stream",
     "text": [
      "  0%|          | 0/87 [00:00<?, ?it/s]"
     ]
    },
    {
     "name": "stdout",
     "output_type": "stream",
     "text": [
      "Time spent in cut_over_Q: 0.012312889099121094 s\n",
      "Time spent in drop_isolated: 0.01594066619873047 s\n"
     ]
    },
    {
     "name": "stderr",
     "output_type": "stream",
     "text": [
      "  1%|          | 1/87 [00:00<00:30,  2.84it/s]"
     ]
    },
    {
     "name": "stdout",
     "output_type": "stream",
     "text": [
      "Time spent in cut_over_Q: 0.011516809463500977 s\n",
      "Time spent in drop_isolated: 0.00875401496887207 s\n"
     ]
    },
    {
     "name": "stderr",
     "output_type": "stream",
     "text": [
      "  2%|▏         | 2/87 [00:00<00:24,  3.52it/s]"
     ]
    },
    {
     "name": "stdout",
     "output_type": "stream",
     "text": [
      "Time spent in cut_over_Q: 0.019709348678588867 s\n",
      "Time spent in drop_isolated: 0.022823810577392578 s\n"
     ]
    },
    {
     "name": "stderr",
     "output_type": "stream",
     "text": [
      "  3%|▎         | 3/87 [00:00<00:25,  3.33it/s]"
     ]
    },
    {
     "name": "stdout",
     "output_type": "stream",
     "text": [
      "Time spent in cut_over_Q: 0.039895057678222656 s\n",
      "Time spent in drop_isolated: 0.012499332427978516 s\n"
     ]
    },
    {
     "name": "stderr",
     "output_type": "stream",
     "text": [
      "  5%|▍         | 4/87 [00:01<00:27,  2.98it/s]"
     ]
    },
    {
     "name": "stdout",
     "output_type": "stream",
     "text": [
      "Time spent in cut_over_Q: 0.02223658561706543 s\n",
      "Time spent in drop_isolated: 0.07843565940856934 s\n"
     ]
    },
    {
     "name": "stderr",
     "output_type": "stream",
     "text": [
      "  6%|▌         | 5/87 [00:01<00:30,  2.65it/s]"
     ]
    },
    {
     "name": "stdout",
     "output_type": "stream",
     "text": [
      "Time spent in cut_over_Q: 0.019657135009765625 s\n",
      "Time spent in drop_isolated: 0.02051568031311035 s\n"
     ]
    },
    {
     "name": "stderr",
     "output_type": "stream",
     "text": [
      "  7%|▋         | 6/87 [00:02<00:31,  2.57it/s]"
     ]
    },
    {
     "name": "stdout",
     "output_type": "stream",
     "text": [
      "Time spent in cut_over_Q: 0.022525548934936523 s\n",
      "Time spent in drop_isolated: 0.022649526596069336 s\n"
     ]
    },
    {
     "name": "stderr",
     "output_type": "stream",
     "text": [
      "  8%|▊         | 7/87 [00:02<00:29,  2.69it/s]"
     ]
    },
    {
     "name": "stdout",
     "output_type": "stream",
     "text": [
      "Time spent in cut_over_Q: 0.010069847106933594 s\n",
      "Time spent in drop_isolated: 0.013087034225463867 s\n"
     ]
    },
    {
     "name": "stderr",
     "output_type": "stream",
     "text": [
      "  9%|▉         | 8/87 [00:02<00:28,  2.74it/s]"
     ]
    },
    {
     "name": "stdout",
     "output_type": "stream",
     "text": [
      "Time spent in cut_over_Q: 0.030109882354736328 s\n",
      "Time spent in drop_isolated: 0.03244519233703613 s\n"
     ]
    },
    {
     "name": "stderr",
     "output_type": "stream",
     "text": [
      " 10%|█         | 9/87 [00:03<00:28,  2.71it/s]"
     ]
    },
    {
     "name": "stdout",
     "output_type": "stream",
     "text": [
      "Time spent in cut_over_Q: 0.02350616455078125 s\n",
      "Time spent in drop_isolated: 0.029203414916992188 s\n"
     ]
    },
    {
     "name": "stderr",
     "output_type": "stream",
     "text": [
      " 11%|█▏        | 10/87 [00:03<00:27,  2.82it/s]"
     ]
    },
    {
     "name": "stdout",
     "output_type": "stream",
     "text": [
      "Time spent in cut_over_Q: 0.02671194076538086 s\n",
      "Time spent in drop_isolated: 0.06533670425415039 s\n"
     ]
    },
    {
     "name": "stderr",
     "output_type": "stream",
     "text": [
      " 13%|█▎        | 11/87 [00:03<00:26,  2.85it/s]"
     ]
    },
    {
     "name": "stdout",
     "output_type": "stream",
     "text": [
      "Time spent in cut_over_Q: 0.03289914131164551 s\n",
      "Time spent in drop_isolated: 0.03247332572937012 s\n"
     ]
    },
    {
     "name": "stderr",
     "output_type": "stream",
     "text": [
      " 14%|█▍        | 12/87 [00:04<00:27,  2.77it/s]"
     ]
    },
    {
     "name": "stdout",
     "output_type": "stream",
     "text": [
      "Time spent in cut_over_Q: 0.026718854904174805 s\n",
      "Time spent in drop_isolated: 0.026536941528320312 s\n"
     ]
    },
    {
     "name": "stderr",
     "output_type": "stream",
     "text": [
      " 15%|█▍        | 13/87 [00:04<00:27,  2.65it/s]"
     ]
    },
    {
     "name": "stdout",
     "output_type": "stream",
     "text": [
      "Time spent in cut_over_Q: 0.011841773986816406 s\n",
      "Time spent in drop_isolated: 0.016405820846557617 s\n"
     ]
    },
    {
     "name": "stderr",
     "output_type": "stream",
     "text": [
      " 16%|█▌        | 14/87 [00:05<00:27,  2.63it/s]"
     ]
    },
    {
     "name": "stdout",
     "output_type": "stream",
     "text": [
      "Time spent in cut_over_Q: 0.012041330337524414 s\n",
      "Time spent in drop_isolated: 0.01270747184753418 s\n"
     ]
    },
    {
     "name": "stderr",
     "output_type": "stream",
     "text": [
      " 17%|█▋        | 15/87 [00:05<00:27,  2.66it/s]"
     ]
    },
    {
     "name": "stdout",
     "output_type": "stream",
     "text": [
      "Time spent in cut_over_Q: 0.0263674259185791 s\n",
      "Time spent in drop_isolated: 0.030651330947875977 s\n"
     ]
    },
    {
     "name": "stderr",
     "output_type": "stream",
     "text": [
      " 18%|█▊        | 16/87 [00:05<00:27,  2.62it/s]"
     ]
    },
    {
     "name": "stdout",
     "output_type": "stream",
     "text": [
      "Time spent in cut_over_Q: 0.010168075561523438 s\n",
      "Time spent in drop_isolated: 0.01332855224609375 s\n"
     ]
    },
    {
     "name": "stderr",
     "output_type": "stream",
     "text": [
      " 20%|█▉        | 17/87 [00:07<00:46,  1.52it/s]"
     ]
    },
    {
     "name": "stdout",
     "output_type": "stream",
     "text": [
      "Time spent in cut_over_Q: 0.014731884002685547 s\n",
      "Time spent in drop_isolated: 0.016665220260620117 s\n"
     ]
    },
    {
     "name": "stderr",
     "output_type": "stream",
     "text": [
      " 21%|██        | 18/87 [00:07<00:37,  1.84it/s]"
     ]
    },
    {
     "name": "stdout",
     "output_type": "stream",
     "text": [
      "Time spent in cut_over_Q: 0.046854257583618164 s\n",
      "Time spent in drop_isolated: 0.046491146087646484 s\n"
     ]
    },
    {
     "name": "stderr",
     "output_type": "stream",
     "text": [
      " 22%|██▏       | 19/87 [00:07<00:35,  1.94it/s]"
     ]
    },
    {
     "name": "stdout",
     "output_type": "stream",
     "text": [
      "Time spent in cut_over_Q: 0.014350652694702148 s\n",
      "Time spent in drop_isolated: 0.026281356811523438 s\n"
     ]
    },
    {
     "name": "stderr",
     "output_type": "stream",
     "text": [
      " 23%|██▎       | 20/87 [00:08<00:32,  2.06it/s]"
     ]
    },
    {
     "name": "stdout",
     "output_type": "stream",
     "text": [
      "Time spent in cut_over_Q: 0.03733181953430176 s\n",
      "Time spent in drop_isolated: 0.03196239471435547 s\n"
     ]
    },
    {
     "name": "stderr",
     "output_type": "stream",
     "text": [
      " 24%|██▍       | 21/87 [00:08<00:31,  2.11it/s]"
     ]
    },
    {
     "name": "stdout",
     "output_type": "stream",
     "text": [
      "Time spent in cut_over_Q: 0.05168914794921875 s\n",
      "Time spent in drop_isolated: 0.04566669464111328 s\n"
     ]
    },
    {
     "name": "stderr",
     "output_type": "stream",
     "text": [
      " 25%|██▌       | 22/87 [00:09<00:30,  2.14it/s]"
     ]
    },
    {
     "name": "stdout",
     "output_type": "stream",
     "text": [
      "Time spent in cut_over_Q: 0.011727094650268555 s\n",
      "Time spent in drop_isolated: 0.04428672790527344 s\n"
     ]
    },
    {
     "name": "stderr",
     "output_type": "stream",
     "text": [
      " 26%|██▋       | 23/87 [00:09<00:28,  2.23it/s]"
     ]
    },
    {
     "name": "stdout",
     "output_type": "stream",
     "text": [
      "Time spent in cut_over_Q: 0.012310028076171875 s\n",
      "Time spent in drop_isolated: 0.036451101303100586 s\n"
     ]
    },
    {
     "name": "stderr",
     "output_type": "stream",
     "text": [
      " 28%|██▊       | 24/87 [00:09<00:27,  2.29it/s]"
     ]
    },
    {
     "name": "stdout",
     "output_type": "stream",
     "text": [
      "Time spent in cut_over_Q: 0.05570721626281738 s\n",
      "Time spent in drop_isolated: 0.0967111587524414 s\n"
     ]
    },
    {
     "name": "stderr",
     "output_type": "stream",
     "text": [
      " 29%|██▊       | 25/87 [00:10<00:27,  2.25it/s]"
     ]
    },
    {
     "name": "stdout",
     "output_type": "stream",
     "text": [
      "Time spent in cut_over_Q: 0.00925445556640625 s\n",
      "Time spent in drop_isolated: 0.011881113052368164 s\n"
     ]
    },
    {
     "name": "stderr",
     "output_type": "stream",
     "text": [
      " 30%|██▉       | 26/87 [00:10<00:25,  2.37it/s]"
     ]
    },
    {
     "name": "stdout",
     "output_type": "stream",
     "text": [
      "Time spent in cut_over_Q: 0.021975278854370117 s\n",
      "Time spent in drop_isolated: 0.06748723983764648 s\n"
     ]
    },
    {
     "name": "stderr",
     "output_type": "stream",
     "text": [
      " 31%|███       | 27/87 [00:11<00:25,  2.37it/s]"
     ]
    },
    {
     "name": "stdout",
     "output_type": "stream",
     "text": [
      "Time spent in cut_over_Q: 0.04760241508483887 s\n",
      "Time spent in drop_isolated: 0.036278486251831055 s\n"
     ]
    },
    {
     "name": "stderr",
     "output_type": "stream",
     "text": [
      " 32%|███▏      | 28/87 [00:11<00:24,  2.44it/s]"
     ]
    },
    {
     "name": "stdout",
     "output_type": "stream",
     "text": [
      "Time spent in cut_over_Q: 0.014146566390991211 s\n",
      "Time spent in drop_isolated: 0.015864849090576172 s\n"
     ]
    },
    {
     "name": "stderr",
     "output_type": "stream",
     "text": [
      " 33%|███▎      | 29/87 [00:12<00:27,  2.11it/s]"
     ]
    },
    {
     "name": "stdout",
     "output_type": "stream",
     "text": [
      "Time spent in cut_over_Q: 0.014379501342773438 s\n",
      "Time spent in drop_isolated: 0.011608123779296875 s\n"
     ]
    },
    {
     "name": "stderr",
     "output_type": "stream",
     "text": [
      " 34%|███▍      | 30/87 [00:12<00:23,  2.41it/s]"
     ]
    },
    {
     "name": "stdout",
     "output_type": "stream",
     "text": [
      "Time spent in cut_over_Q: 0.008420944213867188 s\n",
      "Time spent in drop_isolated: 0.013667106628417969 s\n"
     ]
    },
    {
     "name": "stderr",
     "output_type": "stream",
     "text": [
      " 36%|███▌      | 31/87 [00:12<00:21,  2.64it/s]"
     ]
    },
    {
     "name": "stdout",
     "output_type": "stream",
     "text": [
      "Time spent in cut_over_Q: 0.04350996017456055 s\n",
      "Time spent in drop_isolated: 0.049634456634521484 s\n"
     ]
    },
    {
     "name": "stderr",
     "output_type": "stream",
     "text": [
      " 37%|███▋      | 32/87 [00:13<00:23,  2.39it/s]"
     ]
    },
    {
     "name": "stdout",
     "output_type": "stream",
     "text": [
      "Time spent in cut_over_Q: 0.020069122314453125 s\n",
      "Time spent in drop_isolated: 0.030197620391845703 s\n"
     ]
    },
    {
     "name": "stderr",
     "output_type": "stream",
     "text": [
      " 38%|███▊      | 33/87 [00:13<00:22,  2.39it/s]"
     ]
    },
    {
     "name": "stdout",
     "output_type": "stream",
     "text": [
      "Time spent in cut_over_Q: 0.012064456939697266 s\n",
      "Time spent in drop_isolated: 0.0534060001373291 s\n"
     ]
    },
    {
     "name": "stderr",
     "output_type": "stream",
     "text": [
      " 39%|███▉      | 34/87 [00:14<00:22,  2.38it/s]"
     ]
    },
    {
     "name": "stdout",
     "output_type": "stream",
     "text": [
      "Time spent in cut_over_Q: 0.012442827224731445 s\n",
      "Time spent in drop_isolated: 0.01988506317138672 s\n"
     ]
    },
    {
     "name": "stderr",
     "output_type": "stream",
     "text": [
      " 40%|████      | 35/87 [00:14<00:19,  2.65it/s]"
     ]
    },
    {
     "name": "stdout",
     "output_type": "stream",
     "text": [
      "Time spent in cut_over_Q: 0.01063990592956543 s\n",
      "Time spent in drop_isolated: 0.00834202766418457 s\n"
     ]
    },
    {
     "name": "stderr",
     "output_type": "stream",
     "text": [
      " 41%|████▏     | 36/87 [00:14<00:17,  2.88it/s]"
     ]
    },
    {
     "name": "stdout",
     "output_type": "stream",
     "text": [
      "Time spent in cut_over_Q: 0.010335206985473633 s\n",
      "Time spent in drop_isolated: 0.011873483657836914 s\n"
     ]
    },
    {
     "name": "stderr",
     "output_type": "stream",
     "text": [
      " 43%|████▎     | 37/87 [00:15<00:16,  3.03it/s]"
     ]
    },
    {
     "name": "stdout",
     "output_type": "stream",
     "text": [
      "Time spent in cut_over_Q: 0.03423285484313965 s\n",
      "Time spent in drop_isolated: 0.05596637725830078 s\n"
     ]
    },
    {
     "name": "stderr",
     "output_type": "stream",
     "text": [
      " 44%|████▎     | 38/87 [00:15<00:16,  2.89it/s]"
     ]
    },
    {
     "name": "stdout",
     "output_type": "stream",
     "text": [
      "Time spent in cut_over_Q: 0.024399280548095703 s\n",
      "Time spent in drop_isolated: 0.10034728050231934 s\n"
     ]
    },
    {
     "name": "stderr",
     "output_type": "stream",
     "text": [
      " 45%|████▍     | 39/87 [00:15<00:17,  2.74it/s]"
     ]
    },
    {
     "name": "stdout",
     "output_type": "stream",
     "text": [
      "Time spent in cut_over_Q: 0.03792142868041992 s\n",
      "Time spent in drop_isolated: 0.030302762985229492 s\n"
     ]
    },
    {
     "name": "stderr",
     "output_type": "stream",
     "text": [
      " 46%|████▌     | 40/87 [00:16<00:17,  2.65it/s]"
     ]
    },
    {
     "name": "stdout",
     "output_type": "stream",
     "text": [
      "Time spent in cut_over_Q: 0.010589599609375 s\n",
      "Time spent in drop_isolated: 0.00905919075012207 s\n"
     ]
    },
    {
     "name": "stderr",
     "output_type": "stream",
     "text": [
      " 47%|████▋     | 41/87 [00:16<00:16,  2.81it/s]"
     ]
    },
    {
     "name": "stdout",
     "output_type": "stream",
     "text": [
      "Time spent in cut_over_Q: 0.02424907684326172 s\n",
      "Time spent in drop_isolated: 0.02812814712524414 s\n"
     ]
    },
    {
     "name": "stderr",
     "output_type": "stream",
     "text": [
      " 48%|████▊     | 42/87 [00:16<00:16,  2.80it/s]"
     ]
    },
    {
     "name": "stdout",
     "output_type": "stream",
     "text": [
      "Time spent in cut_over_Q: 0.011196374893188477 s\n",
      "Time spent in drop_isolated: 0.009313821792602539 s\n"
     ]
    },
    {
     "name": "stderr",
     "output_type": "stream",
     "text": [
      " 49%|████▉     | 43/87 [00:17<00:15,  2.83it/s]"
     ]
    },
    {
     "name": "stdout",
     "output_type": "stream",
     "text": [
      "Time spent in cut_over_Q: 0.012601137161254883 s\n",
      "Time spent in drop_isolated: 0.008392810821533203 s\n"
     ]
    },
    {
     "name": "stderr",
     "output_type": "stream",
     "text": [
      " 51%|█████     | 44/87 [00:17<00:14,  3.00it/s]"
     ]
    },
    {
     "name": "stdout",
     "output_type": "stream",
     "text": [
      "Time spent in cut_over_Q: 0.016101598739624023 s\n",
      "Time spent in drop_isolated: 0.015094757080078125 s\n"
     ]
    },
    {
     "name": "stderr",
     "output_type": "stream",
     "text": [
      " 52%|█████▏    | 45/87 [00:18<00:19,  2.11it/s]"
     ]
    },
    {
     "name": "stdout",
     "output_type": "stream",
     "text": [
      "Time spent in cut_over_Q: 0.02240896224975586 s\n",
      "Time spent in drop_isolated: 0.08595514297485352 s\n"
     ]
    },
    {
     "name": "stderr",
     "output_type": "stream",
     "text": [
      " 53%|█████▎    | 46/87 [00:18<00:18,  2.20it/s]"
     ]
    },
    {
     "name": "stdout",
     "output_type": "stream",
     "text": [
      "Time spent in cut_over_Q: 0.033930063247680664 s\n",
      "Time spent in drop_isolated: 0.07510566711425781 s\n"
     ]
    },
    {
     "name": "stderr",
     "output_type": "stream",
     "text": [
      " 54%|█████▍    | 47/87 [00:19<00:18,  2.19it/s]"
     ]
    },
    {
     "name": "stdout",
     "output_type": "stream",
     "text": [
      "Time spent in cut_over_Q: 0.019956588745117188 s\n",
      "Time spent in drop_isolated: 0.01716136932373047 s\n"
     ]
    },
    {
     "name": "stderr",
     "output_type": "stream",
     "text": [
      " 55%|█████▌    | 48/87 [00:19<00:16,  2.31it/s]"
     ]
    },
    {
     "name": "stdout",
     "output_type": "stream",
     "text": [
      "Time spent in cut_over_Q: 0.016655921936035156 s\n",
      "Time spent in drop_isolated: 0.02465057373046875 s\n"
     ]
    },
    {
     "name": "stderr",
     "output_type": "stream",
     "text": [
      " 56%|█████▋    | 49/87 [00:19<00:15,  2.40it/s]"
     ]
    },
    {
     "name": "stdout",
     "output_type": "stream",
     "text": [
      "Time spent in cut_over_Q: 0.009428024291992188 s\n",
      "Time spent in drop_isolated: 0.010663747787475586 s\n"
     ]
    },
    {
     "name": "stderr",
     "output_type": "stream",
     "text": [
      " 57%|█████▋    | 50/87 [00:20<00:14,  2.57it/s]"
     ]
    },
    {
     "name": "stdout",
     "output_type": "stream",
     "text": [
      "Time spent in cut_over_Q: 0.04728412628173828 s\n",
      "Time spent in drop_isolated: 0.04093742370605469 s\n"
     ]
    },
    {
     "name": "stderr",
     "output_type": "stream",
     "text": [
      " 59%|█████▊    | 51/87 [00:20<00:14,  2.49it/s]"
     ]
    },
    {
     "name": "stdout",
     "output_type": "stream",
     "text": [
      "Time spent in cut_over_Q: 0.021706819534301758 s\n",
      "Time spent in drop_isolated: 0.019022464752197266 s\n"
     ]
    },
    {
     "name": "stderr",
     "output_type": "stream",
     "text": [
      " 60%|█████▉    | 52/87 [00:21<00:13,  2.54it/s]"
     ]
    },
    {
     "name": "stdout",
     "output_type": "stream",
     "text": [
      "Time spent in cut_over_Q: 0.06122159957885742 s\n",
      "Time spent in drop_isolated: 0.06880760192871094 s\n"
     ]
    },
    {
     "name": "stderr",
     "output_type": "stream",
     "text": [
      " 61%|██████    | 53/87 [00:21<00:13,  2.49it/s]"
     ]
    },
    {
     "name": "stdout",
     "output_type": "stream",
     "text": [
      "Time spent in cut_over_Q: 0.008340597152709961 s\n",
      "Time spent in drop_isolated: 0.02597355842590332 s\n"
     ]
    },
    {
     "name": "stderr",
     "output_type": "stream",
     "text": [
      " 62%|██████▏   | 54/87 [00:21<00:12,  2.56it/s]"
     ]
    },
    {
     "name": "stdout",
     "output_type": "stream",
     "text": [
      "Time spent in cut_over_Q: 0.028158187866210938 s\n",
      "Time spent in drop_isolated: 0.03145956993103027 s\n"
     ]
    },
    {
     "name": "stderr",
     "output_type": "stream",
     "text": [
      " 63%|██████▎   | 55/87 [00:22<00:11,  2.75it/s]"
     ]
    },
    {
     "name": "stdout",
     "output_type": "stream",
     "text": [
      "Time spent in cut_over_Q: 0.015882492065429688 s\n",
      "Time spent in drop_isolated: 0.033330678939819336 s\n"
     ]
    },
    {
     "name": "stderr",
     "output_type": "stream",
     "text": [
      " 64%|██████▍   | 56/87 [00:22<00:11,  2.80it/s]"
     ]
    },
    {
     "name": "stdout",
     "output_type": "stream",
     "text": [
      "Time spent in cut_over_Q: 0.031846046447753906 s\n",
      "Time spent in drop_isolated: 0.02536940574645996 s\n"
     ]
    },
    {
     "name": "stderr",
     "output_type": "stream",
     "text": [
      " 66%|██████▌   | 57/87 [00:22<00:11,  2.71it/s]"
     ]
    },
    {
     "name": "stdout",
     "output_type": "stream",
     "text": [
      "Time spent in cut_over_Q: 0.01527547836303711 s\n",
      "Time spent in drop_isolated: 0.014870882034301758 s\n"
     ]
    },
    {
     "name": "stderr",
     "output_type": "stream",
     "text": [
      " 67%|██████▋   | 58/87 [00:23<00:10,  2.75it/s]"
     ]
    },
    {
     "name": "stdout",
     "output_type": "stream",
     "text": [
      "Time spent in cut_over_Q: 0.019791364669799805 s\n",
      "Time spent in drop_isolated: 0.02952432632446289 s\n"
     ]
    },
    {
     "name": "stderr",
     "output_type": "stream",
     "text": [
      " 68%|██████▊   | 59/87 [00:23<00:10,  2.70it/s]"
     ]
    },
    {
     "name": "stdout",
     "output_type": "stream",
     "text": [
      "Time spent in cut_over_Q: 0.020299911499023438 s\n",
      "Time spent in drop_isolated: 0.036309242248535156 s\n"
     ]
    },
    {
     "name": "stderr",
     "output_type": "stream",
     "text": [
      " 69%|██████▉   | 60/87 [00:24<00:10,  2.67it/s]"
     ]
    },
    {
     "name": "stdout",
     "output_type": "stream",
     "text": [
      "Time spent in cut_over_Q: 0.01843571662902832 s\n",
      "Time spent in drop_isolated: 0.10492920875549316 s\n"
     ]
    },
    {
     "name": "stderr",
     "output_type": "stream",
     "text": [
      " 70%|███████   | 61/87 [00:24<00:10,  2.50it/s]"
     ]
    },
    {
     "name": "stdout",
     "output_type": "stream",
     "text": [
      "Time spent in cut_over_Q: 0.019626140594482422 s\n",
      "Time spent in drop_isolated: 0.027396678924560547 s\n"
     ]
    },
    {
     "name": "stderr",
     "output_type": "stream",
     "text": [
      " 71%|███████▏  | 62/87 [00:24<00:09,  2.55it/s]"
     ]
    },
    {
     "name": "stdout",
     "output_type": "stream",
     "text": [
      "Time spent in cut_over_Q: 0.019447803497314453 s\n",
      "Time spent in drop_isolated: 0.01910567283630371 s\n"
     ]
    },
    {
     "name": "stderr",
     "output_type": "stream",
     "text": [
      " 72%|███████▏  | 63/87 [00:25<00:09,  2.50it/s]"
     ]
    },
    {
     "name": "stdout",
     "output_type": "stream",
     "text": [
      "Time spent in cut_over_Q: 0.013601303100585938 s\n",
      "Time spent in drop_isolated: 0.01578378677368164 s\n"
     ]
    },
    {
     "name": "stderr",
     "output_type": "stream",
     "text": [
      " 74%|███████▎  | 64/87 [00:26<00:12,  1.87it/s]"
     ]
    },
    {
     "name": "stdout",
     "output_type": "stream",
     "text": [
      "Time spent in cut_over_Q: 0.014464855194091797 s\n",
      "Time spent in drop_isolated: 0.01632857322692871 s\n"
     ]
    },
    {
     "name": "stderr",
     "output_type": "stream",
     "text": [
      " 75%|███████▍  | 65/87 [00:26<00:10,  2.04it/s]"
     ]
    },
    {
     "name": "stdout",
     "output_type": "stream",
     "text": [
      "Time spent in cut_over_Q: 0.03567194938659668 s\n",
      "Time spent in drop_isolated: 0.02725958824157715 s\n"
     ]
    },
    {
     "name": "stderr",
     "output_type": "stream",
     "text": [
      " 76%|███████▌  | 66/87 [00:27<00:10,  2.02it/s]"
     ]
    },
    {
     "name": "stdout",
     "output_type": "stream",
     "text": [
      "Time spent in cut_over_Q: 0.028733015060424805 s\n",
      "Time spent in drop_isolated: 0.03281259536743164 s\n"
     ]
    },
    {
     "name": "stderr",
     "output_type": "stream",
     "text": [
      " 77%|███████▋  | 67/87 [00:27<00:09,  2.10it/s]"
     ]
    },
    {
     "name": "stdout",
     "output_type": "stream",
     "text": [
      "Time spent in cut_over_Q: 0.012203216552734375 s\n",
      "Time spent in drop_isolated: 0.014822959899902344 s\n"
     ]
    },
    {
     "name": "stderr",
     "output_type": "stream",
     "text": [
      " 78%|███████▊  | 68/87 [00:27<00:07,  2.44it/s]"
     ]
    },
    {
     "name": "stdout",
     "output_type": "stream",
     "text": [
      "Time spent in cut_over_Q: 0.018749237060546875 s\n",
      "Time spent in drop_isolated: 0.019423723220825195 s\n"
     ]
    },
    {
     "name": "stderr",
     "output_type": "stream",
     "text": [
      " 79%|███████▉  | 69/87 [00:28<00:07,  2.56it/s]"
     ]
    },
    {
     "name": "stdout",
     "output_type": "stream",
     "text": [
      "Time spent in cut_over_Q: 0.00984501838684082 s\n",
      "Time spent in drop_isolated: 0.01891303062438965 s\n"
     ]
    },
    {
     "name": "stderr",
     "output_type": "stream",
     "text": [
      " 80%|████████  | 70/87 [00:28<00:05,  2.86it/s]"
     ]
    },
    {
     "name": "stdout",
     "output_type": "stream",
     "text": [
      "Time spent in cut_over_Q: 0.018941640853881836 s\n",
      "Time spent in drop_isolated: 0.016897201538085938 s\n"
     ]
    },
    {
     "name": "stderr",
     "output_type": "stream",
     "text": [
      " 82%|████████▏ | 71/87 [00:28<00:05,  2.77it/s]"
     ]
    },
    {
     "name": "stdout",
     "output_type": "stream",
     "text": [
      "Time spent in cut_over_Q: 0.0210726261138916 s\n",
      "Time spent in drop_isolated: 0.02610921859741211 s\n"
     ]
    },
    {
     "name": "stderr",
     "output_type": "stream",
     "text": [
      " 83%|████████▎ | 72/87 [00:29<00:05,  2.80it/s]"
     ]
    },
    {
     "name": "stdout",
     "output_type": "stream",
     "text": [
      "Time spent in cut_over_Q: 0.012411117553710938 s\n",
      "Time spent in drop_isolated: 0.012621641159057617 s\n"
     ]
    },
    {
     "name": "stderr",
     "output_type": "stream",
     "text": [
      " 84%|████████▍ | 73/87 [00:29<00:04,  2.94it/s]"
     ]
    },
    {
     "name": "stdout",
     "output_type": "stream",
     "text": [
      "Time spent in cut_over_Q: 0.023279905319213867 s\n",
      "Time spent in drop_isolated: 0.029091835021972656 s\n"
     ]
    },
    {
     "name": "stderr",
     "output_type": "stream",
     "text": [
      " 85%|████████▌ | 74/87 [00:29<00:04,  3.07it/s]"
     ]
    },
    {
     "name": "stdout",
     "output_type": "stream",
     "text": [
      "Time spent in cut_over_Q: 0.010278940200805664 s\n",
      "Time spent in drop_isolated: 0.012244224548339844 s\n"
     ]
    },
    {
     "name": "stderr",
     "output_type": "stream",
     "text": [
      " 86%|████████▌ | 75/87 [00:29<00:03,  3.10it/s]"
     ]
    },
    {
     "name": "stdout",
     "output_type": "stream",
     "text": [
      "Time spent in cut_over_Q: 0.011171340942382812 s\n",
      "Time spent in drop_isolated: 0.014456748962402344 s\n"
     ]
    },
    {
     "name": "stderr",
     "output_type": "stream",
     "text": [
      " 87%|████████▋ | 76/87 [00:30<00:04,  2.64it/s]"
     ]
    },
    {
     "name": "stdout",
     "output_type": "stream",
     "text": [
      "Time spent in cut_over_Q: 0.05823993682861328 s\n",
      "Time spent in drop_isolated: 0.0846703052520752 s\n"
     ]
    },
    {
     "name": "stderr",
     "output_type": "stream",
     "text": [
      " 89%|████████▊ | 77/87 [00:30<00:04,  2.40it/s]"
     ]
    },
    {
     "name": "stdout",
     "output_type": "stream",
     "text": [
      "Time spent in cut_over_Q: 0.02436661720275879 s\n",
      "Time spent in drop_isolated: 0.0265655517578125 s\n"
     ]
    },
    {
     "name": "stderr",
     "output_type": "stream",
     "text": [
      " 90%|████████▉ | 78/87 [00:31<00:03,  2.38it/s]"
     ]
    },
    {
     "name": "stdout",
     "output_type": "stream",
     "text": [
      "Time spent in cut_over_Q: 0.05254077911376953 s\n",
      "Time spent in drop_isolated: 0.07266783714294434 s\n"
     ]
    },
    {
     "name": "stderr",
     "output_type": "stream",
     "text": [
      " 91%|█████████ | 79/87 [00:31<00:03,  2.36it/s]"
     ]
    },
    {
     "name": "stdout",
     "output_type": "stream",
     "text": [
      "Time spent in cut_over_Q: 0.009414196014404297 s\n",
      "Time spent in drop_isolated: 0.028734683990478516 s\n"
     ]
    },
    {
     "name": "stderr",
     "output_type": "stream",
     "text": [
      " 92%|█████████▏| 80/87 [00:32<00:02,  2.62it/s]"
     ]
    },
    {
     "name": "stdout",
     "output_type": "stream",
     "text": [
      "Time spent in cut_over_Q: 0.016421079635620117 s\n",
      "Time spent in drop_isolated: 0.07677483558654785 s\n"
     ]
    },
    {
     "name": "stderr",
     "output_type": "stream",
     "text": [
      " 93%|█████████▎| 81/87 [00:32<00:02,  2.70it/s]"
     ]
    },
    {
     "name": "stdout",
     "output_type": "stream",
     "text": [
      "Time spent in cut_over_Q: 0.011837482452392578 s\n",
      "Time spent in drop_isolated: 0.011429309844970703 s\n"
     ]
    },
    {
     "name": "stderr",
     "output_type": "stream",
     "text": [
      " 94%|█████████▍| 82/87 [00:32<00:01,  2.85it/s]"
     ]
    },
    {
     "name": "stdout",
     "output_type": "stream",
     "text": [
      "Time spent in cut_over_Q: 0.011223554611206055 s\n",
      "Time spent in drop_isolated: 0.009724855422973633 s\n"
     ]
    },
    {
     "name": "stderr",
     "output_type": "stream",
     "text": [
      " 95%|█████████▌| 83/87 [00:33<00:01,  2.92it/s]"
     ]
    },
    {
     "name": "stdout",
     "output_type": "stream",
     "text": [
      "Time spent in cut_over_Q: 0.027931690216064453 s\n",
      "Time spent in drop_isolated: 0.032633304595947266 s\n"
     ]
    },
    {
     "name": "stderr",
     "output_type": "stream",
     "text": [
      " 97%|█████████▋| 84/87 [00:33<00:01,  2.74it/s]"
     ]
    },
    {
     "name": "stdout",
     "output_type": "stream",
     "text": [
      "Time spent in cut_over_Q: 0.009777069091796875 s\n",
      "Time spent in drop_isolated: 0.011504173278808594 s\n"
     ]
    },
    {
     "name": "stderr",
     "output_type": "stream",
     "text": [
      " 98%|█████████▊| 85/87 [00:33<00:00,  2.89it/s]"
     ]
    },
    {
     "name": "stdout",
     "output_type": "stream",
     "text": [
      "Time spent in cut_over_Q: 0.01309061050415039 s\n",
      "Time spent in drop_isolated: 0.042236328125 s\n"
     ]
    },
    {
     "name": "stderr",
     "output_type": "stream",
     "text": [
      " 99%|█████████▉| 86/87 [00:34<00:00,  2.97it/s]"
     ]
    },
    {
     "name": "stdout",
     "output_type": "stream",
     "text": [
      "Time spent in cut_over_Q: 0.009380102157592773 s\n",
      "Time spent in drop_isolated: 0.02503681182861328 s\n"
     ]
    },
    {
     "name": "stderr",
     "output_type": "stream",
     "text": [
      "100%|██████████| 87/87 [00:34<00:00,  2.49it/s]\n"
     ]
    }
   ],
   "source": [
    "for i, df in tqdm(full_dst.groupby('event')):\n",
    "    hits_cut = coref.timefunc(cut_sensors)(df.copy())\n",
    "    hits_drop = coref.timefunc(drop_sensors)(hits_cut.copy())\n",
    "    pitch = 15.55\n",
    "    # then applying transformations to convert to 'SiPM outputs'\n",
    "    fig, axes = plt.subplots(1, 3, figsize=(18, 6))\n",
    "\n",
    "\n",
    "    xx = np.arange(hits_drop.X.min(), hits_drop.X.max() + pitch, pitch)\n",
    "    yy = np.arange(hits_drop.Y.min(), hits_drop.Y.max() + pitch, pitch)\n",
    "    zz = hits_cut.Z.unique()\n",
    "\n",
    "    axes[0].hist2d(hits_drop.X, hits_drop.Y, bins=[xx, yy], weights=hits_drop.Q, cmin=0.0001);\n",
    "    axes[0].set_xlabel('X (mm)');\n",
    "    axes[0].set_ylabel('Y (mm)');\n",
    "\n",
    "    axes[1].hist2d(hits_drop.X, hits_drop.Z, bins=[xx, zz], weights=hits_drop.Q, cmin=0.0001);\n",
    "    axes[1].set_xlabel('X (mm)');\n",
    "    axes[1].set_ylabel('Z (mm)');\n",
    "\n",
    "\n",
    "    axes[2].hist2d(hits_drop.Y, hits_drop.Z, bins=[yy, zz], weights=hits_drop.Q, cmin=0.0001);\n",
    "    axes[2].set_xlabel('Y (mm)');\n",
    "    axes[2].set_ylabel('Z (mm)');\n",
    "\n",
    "    fig.suptitle('Processed Sensors Signal_' + str(i), fontsize=30)\n",
    "    fig.savefig(f'plots/15107/hits/evt_{i}.png')\n",
    "    plt.close(fig)\n",
    "\n",
    "\n",
    "    # then extract the number of sipms per z slice for each also\n",
    "    plt.plot(df.groupby('Z').sum().filter(like='nsipm'))\n",
    "    plt.title(f'nSiPMs_per_Z_' + str(i), fontsize = 30)\n",
    "    plt.xlabel('Z (mm)')\n",
    "    plt.ylabel('nSiPMs')\n",
    "    plt.savefig(f'plots/15107/nsipms/evt_{i}.png')\n",
    "    plt.close()\n",
    "    "
   ]
  },
  {
   "cell_type": "code",
   "execution_count": null,
   "metadata": {},
   "outputs": [],
   "source": [
    "dst = load_dsts([folder_path + x for x in file_names], 'DST', '')"
   ]
  }
 ],
 "metadata": {
  "kernelspec": {
   "display_name": "IC-3.8-2024-06-08",
   "language": "python",
   "name": "python3"
  },
  "language_info": {
   "codemirror_mode": {
    "name": "ipython",
    "version": 3
   },
   "file_extension": ".py",
   "mimetype": "text/x-python",
   "name": "python",
   "nbconvert_exporter": "python",
   "pygments_lexer": "ipython3",
   "version": "3.8.20"
  }
 },
 "nbformat": 4,
 "nbformat_minor": 2
}
