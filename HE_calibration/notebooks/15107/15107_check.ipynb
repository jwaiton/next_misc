{
 "cells": [
  {
   "cell_type": "markdown",
   "metadata": {},
   "source": [
    "# Check R15107 files"
   ]
  },
  {
   "cell_type": "code",
   "execution_count": 8,
   "metadata": {},
   "outputs": [],
   "source": [
    "import sys,os,os.path\n",
    "sys.path.append(\"../../../../\") # if you move files around, you need to adjust this!\n",
    "sys.path.append(os.path.expanduser('~/code/eol_hsrl_python'))\n",
    "os.environ['ICTDIR']='/home/e78368jw/Documents/NEXT_CODE/IC'"
   ]
  },
  {
   "cell_type": "code",
   "execution_count": 9,
   "metadata": {},
   "outputs": [],
   "source": [
    "from matplotlib.lines import Line2D\n",
    "import matplotlib.pyplot as plt\n",
    "from matplotlib import rcParams\n",
    "rcParams['mathtext.fontset'] = 'stix'\n",
    "rcParams['font.family'] = 'STIXGeneral'\n",
    "rcParams['figure.figsize'] = [10, 8]\n",
    "rcParams['font.size'] = 22\n",
    "\n",
    "import pandas as pd\n",
    "import numpy  as np\n",
    "import tables as tb\n",
    "\n",
    "import matplotlib.pyplot as plt\n",
    "from mpl_toolkits.mplot3d import Axes3D\n",
    "import matplotlib.colors as clrs\n",
    "\n",
    "import IC.invisible_cities.core.core_functions                   as     coref\n",
    "import IC.invisible_cities.io.dst_io                           as     dstio\n",
    "from IC.invisible_cities.cities                 import beersheba as beerfun\n",
    "\n",
    "from IC.invisible_cities.io.dst_io import load_dsts\n",
    "\n",
    "from tqdm import tqdm"
   ]
  },
  {
   "cell_type": "code",
   "execution_count": 10,
   "metadata": {},
   "outputs": [
    {
     "name": "stdout",
     "output_type": "stream",
     "text": [
      "['run_15107_0012_ldc1_trg2.v2.3.1.20250312-1-gc1f0fe5.HE.sophronia.h5', 'run_15107_0013_ldc1_trg2.v2.3.1.20250312-1-gc1f0fe5.HE.sophronia.h5', 'run_15107_0010_ldc1_trg2.v2.3.1.20250312-1-gc1f0fe5.HE.sophronia.h5', 'run_15107_0015_ldc1_trg2.v2.3.1.20250312-1-gc1f0fe5.HE.sophronia.h5', 'run_15107_0005_ldc1_trg2.v2.3.1.20250312-1-gc1f0fe5.HE.sophronia.h5', 'run_15107_0011_ldc1_trg2.v2.3.1.20250312-1-gc1f0fe5.HE.sophronia.h5', 'run_15107_0009_ldc1_trg2.v2.3.1.20250312-1-gc1f0fe5.HE.sophronia.h5', 'run_15107_0003_ldc1_trg2.v2.3.1.20250312-1-gc1f0fe5.HE.sophronia.h5', 'run_15107_0008_ldc1_trg2.v2.3.1.20250312-1-gc1f0fe5.HE.sophronia.h5', 'run_15107_0002_ldc1_trg2.v2.3.1.20250312-1-gc1f0fe5.HE.sophronia.h5', 'run_15107_0001_ldc1_trg2.v2.3.1.20250312-1-gc1f0fe5.HE.sophronia.h5', 'run_15107_0007_ldc1_trg2.v2.3.1.20250312-1-gc1f0fe5.HE.sophronia.h5', 'run_15107_0016_ldc1_trg2.v2.3.1.20250312-1-gc1f0fe5.HE.sophronia.h5', 'run_15107_0006_ldc1_trg2.v2.3.1.20250312-1-gc1f0fe5.HE.sophronia.h5', 'run_15107_0014_ldc1_trg2.v2.3.1.20250312-1-gc1f0fe5.HE.sophronia.h5', 'run_15107_0004_ldc1_trg2.v2.3.1.20250312-1-gc1f0fe5.HE.sophronia.h5', 'run_15107_0000_ldc1_trg2.v2.3.1.20250312-1-gc1f0fe5.HE.sophronia.h5']\n"
     ]
    }
   ],
   "source": [
    "folder_path = '../../data/15107/sophronia/trigger2/ldc1/'\n",
    "file_names = [f for f in os.listdir(folder_path) if os.path.isfile(os.path.join(folder_path, f)) and f.endswith('.h5')]\n",
    "print(file_names)"
   ]
  },
  {
   "cell_type": "code",
   "execution_count": 11,
   "metadata": {},
   "outputs": [
    {
     "data": {
      "text/html": [
       "<div>\n",
       "<style scoped>\n",
       "    .dataframe tbody tr th:only-of-type {\n",
       "        vertical-align: middle;\n",
       "    }\n",
       "\n",
       "    .dataframe tbody tr th {\n",
       "        vertical-align: top;\n",
       "    }\n",
       "\n",
       "    .dataframe thead th {\n",
       "        text-align: right;\n",
       "    }\n",
       "</style>\n",
       "<table border=\"1\" class=\"dataframe\">\n",
       "  <thead>\n",
       "    <tr style=\"text-align: right;\">\n",
       "      <th></th>\n",
       "      <th>event</th>\n",
       "      <th>time</th>\n",
       "      <th>npeak</th>\n",
       "      <th>Xpeak</th>\n",
       "      <th>Ypeak</th>\n",
       "      <th>nsipm</th>\n",
       "      <th>X</th>\n",
       "      <th>Y</th>\n",
       "      <th>Xrms</th>\n",
       "      <th>Yrms</th>\n",
       "      <th>Z</th>\n",
       "      <th>Q</th>\n",
       "      <th>E</th>\n",
       "      <th>Qc</th>\n",
       "      <th>Ec</th>\n",
       "      <th>track_id</th>\n",
       "      <th>Ep</th>\n",
       "    </tr>\n",
       "  </thead>\n",
       "  <tbody>\n",
       "    <tr>\n",
       "      <th>0</th>\n",
       "      <td>8570</td>\n",
       "      <td>1.742935e+09</td>\n",
       "      <td>30</td>\n",
       "      <td>-151.630826</td>\n",
       "      <td>18.373069</td>\n",
       "      <td>1</td>\n",
       "      <td>104.275</td>\n",
       "      <td>-155.375</td>\n",
       "      <td>0.0</td>\n",
       "      <td>0.0</td>\n",
       "      <td>527.063000</td>\n",
       "      <td>5.068394</td>\n",
       "      <td>-7.550122</td>\n",
       "      <td>-1.0</td>\n",
       "      <td>-0.000021</td>\n",
       "      <td>-1</td>\n",
       "      <td>-1.0</td>\n",
       "    </tr>\n",
       "    <tr>\n",
       "      <th>1</th>\n",
       "      <td>8570</td>\n",
       "      <td>1.742935e+09</td>\n",
       "      <td>30</td>\n",
       "      <td>-151.630826</td>\n",
       "      <td>18.373069</td>\n",
       "      <td>1</td>\n",
       "      <td>-81.325</td>\n",
       "      <td>122.525</td>\n",
       "      <td>0.0</td>\n",
       "      <td>0.0</td>\n",
       "      <td>529.394500</td>\n",
       "      <td>6.378646</td>\n",
       "      <td>111.951553</td>\n",
       "      <td>-1.0</td>\n",
       "      <td>0.000305</td>\n",
       "      <td>-1</td>\n",
       "      <td>-1.0</td>\n",
       "    </tr>\n",
       "    <tr>\n",
       "      <th>2</th>\n",
       "      <td>8570</td>\n",
       "      <td>1.742935e+09</td>\n",
       "      <td>30</td>\n",
       "      <td>-151.630826</td>\n",
       "      <td>18.373069</td>\n",
       "      <td>1</td>\n",
       "      <td>-19.125</td>\n",
       "      <td>322.675</td>\n",
       "      <td>0.0</td>\n",
       "      <td>0.0</td>\n",
       "      <td>529.394500</td>\n",
       "      <td>5.152550</td>\n",
       "      <td>90.432353</td>\n",
       "      <td>-1.0</td>\n",
       "      <td>0.000256</td>\n",
       "      <td>-1</td>\n",
       "      <td>-1.0</td>\n",
       "    </tr>\n",
       "    <tr>\n",
       "      <th>3</th>\n",
       "      <td>8570</td>\n",
       "      <td>1.742935e+09</td>\n",
       "      <td>30</td>\n",
       "      <td>-151.630826</td>\n",
       "      <td>18.373069</td>\n",
       "      <td>1</td>\n",
       "      <td>-297.025</td>\n",
       "      <td>153.125</td>\n",
       "      <td>0.0</td>\n",
       "      <td>0.0</td>\n",
       "      <td>533.179125</td>\n",
       "      <td>7.022198</td>\n",
       "      <td>150.685082</td>\n",
       "      <td>-1.0</td>\n",
       "      <td>0.000427</td>\n",
       "      <td>-1</td>\n",
       "      <td>-1.0</td>\n",
       "    </tr>\n",
       "    <tr>\n",
       "      <th>4</th>\n",
       "      <td>8570</td>\n",
       "      <td>1.742935e+09</td>\n",
       "      <td>30</td>\n",
       "      <td>-151.630826</td>\n",
       "      <td>18.373069</td>\n",
       "      <td>1</td>\n",
       "      <td>-343.675</td>\n",
       "      <td>292.075</td>\n",
       "      <td>0.0</td>\n",
       "      <td>0.0</td>\n",
       "      <td>533.179125</td>\n",
       "      <td>5.748483</td>\n",
       "      <td>123.353204</td>\n",
       "      <td>-1.0</td>\n",
       "      <td>0.000402</td>\n",
       "      <td>-1</td>\n",
       "      <td>-1.0</td>\n",
       "    </tr>\n",
       "    <tr>\n",
       "      <th>...</th>\n",
       "      <td>...</td>\n",
       "      <td>...</td>\n",
       "      <td>...</td>\n",
       "      <td>...</td>\n",
       "      <td>...</td>\n",
       "      <td>...</td>\n",
       "      <td>...</td>\n",
       "      <td>...</td>\n",
       "      <td>...</td>\n",
       "      <td>...</td>\n",
       "      <td>...</td>\n",
       "      <td>...</td>\n",
       "      <td>...</td>\n",
       "      <td>...</td>\n",
       "      <td>...</td>\n",
       "      <td>...</td>\n",
       "      <td>...</td>\n",
       "    </tr>\n",
       "    <tr>\n",
       "      <th>120523</th>\n",
       "      <td>674</td>\n",
       "      <td>1.742935e+09</td>\n",
       "      <td>25</td>\n",
       "      <td>38.743186</td>\n",
       "      <td>131.437557</td>\n",
       "      <td>1</td>\n",
       "      <td>10.975</td>\n",
       "      <td>414.975</td>\n",
       "      <td>0.0</td>\n",
       "      <td>0.0</td>\n",
       "      <td>970.261500</td>\n",
       "      <td>5.621337</td>\n",
       "      <td>3.056281</td>\n",
       "      <td>-1.0</td>\n",
       "      <td>0.000010</td>\n",
       "      <td>-1</td>\n",
       "      <td>-1.0</td>\n",
       "    </tr>\n",
       "    <tr>\n",
       "      <th>120524</th>\n",
       "      <td>674</td>\n",
       "      <td>1.742935e+09</td>\n",
       "      <td>25</td>\n",
       "      <td>38.743186</td>\n",
       "      <td>131.437557</td>\n",
       "      <td>1</td>\n",
       "      <td>-50.225</td>\n",
       "      <td>-247.675</td>\n",
       "      <td>0.0</td>\n",
       "      <td>0.0</td>\n",
       "      <td>972.601500</td>\n",
       "      <td>5.139459</td>\n",
       "      <td>3.968747</td>\n",
       "      <td>-1.0</td>\n",
       "      <td>0.000012</td>\n",
       "      <td>-1</td>\n",
       "      <td>-1.0</td>\n",
       "    </tr>\n",
       "    <tr>\n",
       "      <th>120525</th>\n",
       "      <td>674</td>\n",
       "      <td>1.742935e+09</td>\n",
       "      <td>25</td>\n",
       "      <td>38.743186</td>\n",
       "      <td>131.437557</td>\n",
       "      <td>1</td>\n",
       "      <td>57.625</td>\n",
       "      <td>-464.375</td>\n",
       "      <td>0.0</td>\n",
       "      <td>0.0</td>\n",
       "      <td>972.601500</td>\n",
       "      <td>5.033332</td>\n",
       "      <td>3.886794</td>\n",
       "      <td>-1.0</td>\n",
       "      <td>0.000014</td>\n",
       "      <td>-1</td>\n",
       "      <td>-1.0</td>\n",
       "    </tr>\n",
       "    <tr>\n",
       "      <th>120526</th>\n",
       "      <td>674</td>\n",
       "      <td>1.742935e+09</td>\n",
       "      <td>25</td>\n",
       "      <td>38.743186</td>\n",
       "      <td>131.437557</td>\n",
       "      <td>1</td>\n",
       "      <td>-126.975</td>\n",
       "      <td>260.475</td>\n",
       "      <td>0.0</td>\n",
       "      <td>0.0</td>\n",
       "      <td>976.143875</td>\n",
       "      <td>5.499087</td>\n",
       "      <td>-1.678771</td>\n",
       "      <td>-1.0</td>\n",
       "      <td>-0.000005</td>\n",
       "      <td>-1</td>\n",
       "      <td>-1.0</td>\n",
       "    </tr>\n",
       "    <tr>\n",
       "      <th>120527</th>\n",
       "      <td>674</td>\n",
       "      <td>1.742935e+09</td>\n",
       "      <td>25</td>\n",
       "      <td>38.743186</td>\n",
       "      <td>131.437557</td>\n",
       "      <td>1</td>\n",
       "      <td>196.575</td>\n",
       "      <td>-247.675</td>\n",
       "      <td>0.0</td>\n",
       "      <td>0.0</td>\n",
       "      <td>978.607250</td>\n",
       "      <td>6.473441</td>\n",
       "      <td>-6.741126</td>\n",
       "      <td>-1.0</td>\n",
       "      <td>-0.000020</td>\n",
       "      <td>-1</td>\n",
       "      <td>-1.0</td>\n",
       "    </tr>\n",
       "  </tbody>\n",
       "</table>\n",
       "<p>120528 rows × 17 columns</p>\n",
       "</div>"
      ],
      "text/plain": [
       "        event          time  npeak       Xpeak       Ypeak  nsipm        X  \\\n",
       "0        8570  1.742935e+09     30 -151.630826   18.373069      1  104.275   \n",
       "1        8570  1.742935e+09     30 -151.630826   18.373069      1  -81.325   \n",
       "2        8570  1.742935e+09     30 -151.630826   18.373069      1  -19.125   \n",
       "3        8570  1.742935e+09     30 -151.630826   18.373069      1 -297.025   \n",
       "4        8570  1.742935e+09     30 -151.630826   18.373069      1 -343.675   \n",
       "...       ...           ...    ...         ...         ...    ...      ...   \n",
       "120523    674  1.742935e+09     25   38.743186  131.437557      1   10.975   \n",
       "120524    674  1.742935e+09     25   38.743186  131.437557      1  -50.225   \n",
       "120525    674  1.742935e+09     25   38.743186  131.437557      1   57.625   \n",
       "120526    674  1.742935e+09     25   38.743186  131.437557      1 -126.975   \n",
       "120527    674  1.742935e+09     25   38.743186  131.437557      1  196.575   \n",
       "\n",
       "              Y  Xrms  Yrms           Z         Q           E   Qc        Ec  \\\n",
       "0      -155.375   0.0   0.0  527.063000  5.068394   -7.550122 -1.0 -0.000021   \n",
       "1       122.525   0.0   0.0  529.394500  6.378646  111.951553 -1.0  0.000305   \n",
       "2       322.675   0.0   0.0  529.394500  5.152550   90.432353 -1.0  0.000256   \n",
       "3       153.125   0.0   0.0  533.179125  7.022198  150.685082 -1.0  0.000427   \n",
       "4       292.075   0.0   0.0  533.179125  5.748483  123.353204 -1.0  0.000402   \n",
       "...         ...   ...   ...         ...       ...         ...  ...       ...   \n",
       "120523  414.975   0.0   0.0  970.261500  5.621337    3.056281 -1.0  0.000010   \n",
       "120524 -247.675   0.0   0.0  972.601500  5.139459    3.968747 -1.0  0.000012   \n",
       "120525 -464.375   0.0   0.0  972.601500  5.033332    3.886794 -1.0  0.000014   \n",
       "120526  260.475   0.0   0.0  976.143875  5.499087   -1.678771 -1.0 -0.000005   \n",
       "120527 -247.675   0.0   0.0  978.607250  6.473441   -6.741126 -1.0 -0.000020   \n",
       "\n",
       "        track_id   Ep  \n",
       "0             -1 -1.0  \n",
       "1             -1 -1.0  \n",
       "2             -1 -1.0  \n",
       "3             -1 -1.0  \n",
       "4             -1 -1.0  \n",
       "...          ...  ...  \n",
       "120523        -1 -1.0  \n",
       "120524        -1 -1.0  \n",
       "120525        -1 -1.0  \n",
       "120526        -1 -1.0  \n",
       "120527        -1 -1.0  \n",
       "\n",
       "[120528 rows x 17 columns]"
      ]
     },
     "metadata": {},
     "output_type": "display_data"
    },
    {
     "name": "stdout",
     "output_type": "stream",
     "text": [
      "Number of events: 87\n"
     ]
    }
   ],
   "source": [
    "# load in\n",
    "\n",
    "full_dst = load_dsts([folder_path + x for x in file_names], 'RECO', 'Events')\n",
    "display(full_dst)\n",
    "print(f'Number of events: {full_dst.event.nunique()}')"
   ]
  },
  {
   "cell_type": "markdown",
   "metadata": {},
   "source": [
    "# lets plot a bunch"
   ]
  },
  {
   "cell_type": "code",
   "execution_count": 27,
   "metadata": {},
   "outputs": [],
   "source": [
    "q_cut = 7\n",
    "drop_dist       = [16, 16]\n",
    "cut_sensors       = beerfun.cut_over_Q   (q_cut, ['E', 'Ec'])\n",
    "drop_sensors      = beerfun.drop_isolated(drop_dist, ['E', 'Ec'])\n"
   ]
  },
  {
   "cell_type": "code",
   "execution_count": 41,
   "metadata": {},
   "outputs": [
    {
     "name": "stdout",
     "output_type": "stream",
     "text": [
      "1\n",
      "1\n",
      "2\n",
      "5\n",
      "8\n",
      "24\n",
      "27\n",
      "38\n",
      "45\n",
      "49\n",
      "53\n",
      "56\n",
      "63\n",
      "59\n",
      "57\n",
      "62\n",
      "62\n",
      "53\n",
      "56\n",
      "54\n",
      "45\n",
      "40\n",
      "37\n",
      "28\n",
      "30\n",
      "22\n",
      "22\n",
      "16\n",
      "9\n",
      "9\n",
      "3\n",
      "3\n",
      "5\n",
      "2\n",
      "1\n",
      "1\n",
      "1\n",
      "1\n",
      "2\n",
      "1\n",
      "2\n",
      "2\n",
      "1\n",
      "1\n",
      "3\n",
      "3\n",
      "2\n"
     ]
    },
    {
     "data": {
      "text/plain": [
       "Text(0, 0.5, 'nSiPMs')"
      ]
     },
     "execution_count": 41,
     "metadata": {},
     "output_type": "execute_result"
    },
    {
     "data": {
      "image/png": "[encoded data removed]",
      "text/plain": [
       "<Figure size 1000x800 with 1 Axes>"
      ]
     },
     "metadata": {},
     "output_type": "display_data"
    }
   ],
   "source": [
    "for z, df2 in df.groupby('Z'):\n",
    "    #print(z)\n",
    "    #display(df2)\n",
    "    print(df2.nsipm.sum())\n",
    "\n",
    "plt.plot(df.groupby('Z').sum().filter(like='nsipm'))\n",
    "plt.title('nSiPMs per Z')\n",
    "plt.xlabel('Z (mm)')\n",
    "plt.ylabel('nSiPMs')"
   ]
  },
  {
   "cell_type": "code",
   "execution_count": 43,
   "metadata": {},
   "outputs": [
    {
     "name": "stderr",
     "output_type": "stream",
     "text": [
      "  0%|          | 0/87 [00:00<?, ?it/s]"
     ]
    },
    {
     "name": "stdout",
     "output_type": "stream",
     "text": [
      "Time spent in cut_over_Q: 0.012312889099121094 s\n",
      "Time spent in drop_isolated: 0.01594066619873047 s\n"
     ]
    },
    {
     "name": "stderr",
     "output_type": "stream",
     "text": [
      "  1%|          | 1/87 [00:00<00:30,  2.84it/s]"
     ]
    },
    {
     "name": "stdout",
     "output_type": "stream",
     "text": [
      "Time spent in cut_over_Q: 0.011516809463500977 s\n",
      "Time spent in drop_isolated: 0.00875401496887207 s\n"
     ]
    },
    {
     "name": "stderr",
     "output_type": "stream",
     "text": [
      "  2%|▏         | 2/87 [00:00<00:24,  3.52it/s]"
     ]
    },
    {
     "name": "stdout",
     "output_type": "stream",
     "text": [
      "Time spent in cut_over_Q: 0.019709348678588867 s\n",
      "Time spent in drop_isolated: 0.022823810577392578 s\n"
     ]
    },
    {
     "name": "stderr",
     "output_type": "stream",
     "text": [
      "  3%|▎         | 3/87 [00:00<00:25,  3.33it/s]"
     ]
    },
    {
     "name": "stdout",
     "output_type": "stream",
     "text": [
      "Time spent in cut_over_Q: 0.039895057678222656 s\n",
      "Time spent in drop_isolated: 0.012499332427978516 s\n"
     ]
    },
    {
     "name": "stderr",
     "output_type": "stream",
     "text": [
      "  5%|▍         | 4/87 [00:01<00:27,  2.98it/s]"
     ]
    },
    {
     "name": "stdout",
     "output_type": "stream",
     "text": [
      "Time spent in cut_over_Q: 0.02223658561706543 s\n",
      "Time spent in drop_isolated: 0.07843565940856934 s\n"
     ]
    },
    {
     "name": "stderr",
     "output_type": "stream",
     "text": [
      "  6%|▌         | 5/87 [00:01<00:30,  2.65it/s]"
     ]
    },
    {
     "name": "stdout",
     "output_type": "stream",
     "text": [
      "Time spent in cut_over_Q: 0.019657135009765625 s\n",
      "Time spent in drop_isolated: 0.02051568031311035 s\n"
     ]
    },
    {
     "name": "stderr",
     "output_type": "stream",
     "text": [
      "  7%|▋         | 6/87 [00:02<00:31,  2.57it/s]"
     ]
    },
    {
     "name": "stdout",
     "output_type": "stream",
     "text": [
      "Time spent in cut_over_Q: 0.022525548934936523 s\n",
      "Time spent in drop_isolated: 0.022649526596069336 s\n"
     ]
    },
    {
     "name": "stderr",
     "output_type": "stream",
     "text": [
      "  8%|▊         | 7/87 [00:02<00:29,  2.69it/s]"
     ]
    },
    {
     "name": "stdout",
     "output_type": "stream",
     "text": [
      "Time spent in cut_over_Q: 0.010069847106933594 s\n",
      "Time spent in drop_isolated: 0.013087034225463867 s\n"
     ]
    },
    {
     "name": "stderr",
     "output_type": "stream",
     "text": [
      "  9%|▉         | 8/87 [00:02<00:28,  2.74it/s]"
     ]
    },
    {
     "name": "stdout",
     "output_type": "stream",
     "text": [
      "Time spent in cut_over_Q: 0.030109882354736328 s\n",
      "Time spent in drop_isolated: 0.03244519233703613 s\n"
     ]
    },
    {
     "name": "stderr",
     "output_type": "stream",
     "text": [
      " 10%|█         | 9/87 [00:03<00:28,  2.71it/s]"
     ]
    },
    {
     "name": "stdout",
     "output_type": "stream",
     "text": [
      "Time spent in cut_over_Q: 0.02350616455078125 s\n",
      "Time spent in drop_isolated: 0.029203414916992188 s\n"
     ]
    },
    {
     "name": "stderr",
     "output_type": "stream",
     "text": [
      " 11%|█▏        | 10/87 [00:03<00:27,  2.82it/s]"
     ]
    },
    {
     "name": "stdout",
     "output_type": "stream",
     "text": [
      "Time spent in cut_over_Q: 0.02671194076538086 s\n",
      "Time spent in drop_isolated: 0.06533670425415039 s\n"
     ]
    },
    {
     "name": "stderr",
     "output_type": "stream",
     "text": [
      " 13%|█▎        | 11/87 [00:03<00:26,  2.85it/s]"
     ]
    },
    {
     "name": "stdout",
     "output_type": "stream",
     "text": [
      "Time spent in cut_over_Q: 0.03289914131164551 s\n",
      "Time spent in drop_isolated: 0.03247332572937012 s\n"
     ]
    },
    {
     "name": "stderr",
     "output_type": "stream",
     "text": [
      " 14%|█▍        | 12/87 [00:04<00:27,  2.77it/s]"
     ]
    },
    {
     "name": "stdout",
     "output_type": "stream",
     "text": [
      "Time spent in cut_over_Q: 0.026718854904174805 s\n",
      "Time spent in drop_isolated: 0.026536941528320312 s\n"
     ]
    },
    {
     "name": "stderr",
     "output_type": "stream",
     "text": [
      " 15%|█▍        | 13/87 [00:04<00:27,  2.65it/s]"
     ]
    },
    {
     "name": "stdout",
     "output_type": "stream",
     "text": [
      "Time spent in cut_over_Q: 0.011841773986816406 s\n",
      "Time spent in drop_isolated: 0.016405820846557617 s\n"
     ]
    },
    {
     "name": "stderr",
     "output_type": "stream",
     "text": [
      " 16%|█▌        | 14/87 [00:05<00:27,  2.63it/s]"
     ]
    },
    {
     "name": "stdout",
     "output_type": "stream",
     "text": [
      "Time spent in cut_over_Q: 0.012041330337524414 s\n",
      "Time spent in drop_isolated: 0.01270747184753418 s\n"
     ]
    },
    {
     "name": "stderr",
     "output_type": "stream",
     "text": [
      " 17%|█▋        | 15/87 [00:05<00:27,  2.66it/s]"
     ]
    },
    {
     "name": "stdout",
     "output_type": "stream",
     "text": [
      "Time spent in cut_over_Q: 0.0263674259185791 s\n",
      "Time spent in drop_isolated: 0.030651330947875977 s\n"
     ]
    },
    {
     "name": "stderr",
     "output_type": "stream",
     "text": [
      " 18%|█▊        | 16/87 [00:05<00:27,  2.62it/s]"
     ]
    },
    {
     "name": "stdout",
     "output_type": "stream",
     "text": [
      "Time spent in cut_over_Q: 0.010168075561523438 s\n",
      "Time spent in drop_isolated: 0.01332855224609375 s\n"
     ]
    },
    {
     "name": "stderr",
     "output_type": "stream",
     "text": [
      " 20%|█▉        | 17/87 [00:07<00:46,  1.52it/s]"
     ]
    },
    {
     "name": "stdout",
     "output_type": "stream",
     "text": [
      "Time spent in cut_over_Q: 0.014731884002685547 s\n",
      "Time spent in drop_isolated: 0.016665220260620117 s\n"
     ]
    },
    {
     "name": "stderr",
     "output_type": "stream",
     "text": [
      " 21%|██        | 18/87 [00:07<00:37,  1.84it/s]"
     ]
    },
    {
     "name": "stdout",
     "output_type": "stream",
     "text": [
      "Time spent in cut_over_Q: 0.046854257583618164 s\n",
      "Time spent in drop_isolated: 0.046491146087646484 s\n"
     ]
    },
    {
     "name": "stderr",
     "output_type": "stream",
     "text": [
      " 22%|██▏       | 19/87 [00:07<00:35,  1.94it/s]"
     ]
    },
    {
     "name": "stdout",
     "output_type": "stream",
     "text": [
      "Time spent in cut_over_Q: 0.014350652694702148 s\n",
      "Time spent in drop_isolated: 0.026281356811523438 s\n"
     ]
    },
    {
     "name": "stderr",
     "output_type": "stream",
     "text": [
      " 23%|██▎       | 20/87 [00:08<00:32,  2.06it/s]"
     ]
    },
    {
     "name": "stdout",
     "output_type": "stream",
     "text": [
      "Time spent in cut_over_Q: 0.03733181953430176 s\n",
      "Time spent in drop_isolated: 0.03196239471435547 s\n"
     ]
    },
    {
     "name": "stderr",
     "output_type": "stream",
     "text": [
      " 24%|██▍       | 21/87 [00:08<00:31,  2.11it/s]"
     ]
    },
    {
     "name": "stdout",
     "output_type": "stream",
     "text": [
      "Time spent in cut_over_Q: 0.05168914794921875 s\n",
      "Time spent in drop_isolated: 0.04566669464111328 s\n"
     ]
    },
    {
     "name": "stderr",
     "output_type": "stream",
     "text": [
      " 25%|██▌       | 22/87 [00:09<00:30,  2.14it/s]"
     ]
    },
    {
     "name": "stdout",
     "output_type": "stream",
     "text": [
      "Time spent in cut_over_Q: 0.011727094650268555 s\n",
      "Time spent in drop_isolated: 0.04428672790527344 s\n"
     ]
    },
    {
     "name": "stderr",
     "output_type": "stream",
     "text": [
      " 26%|██▋       | 23/87 [00:09<00:28,  2.23it/s]"
     ]
    },
    {
     "name": "stdout",
     "output_type": "stream",
     "text": [
      "Time spent in cut_over_Q: 0.012310028076171875 s\n",
      "Time spent in drop_isolated: 0.036451101303100586 s\n"
     ]
    },
    {
     "name": "stderr",
     "output_type": "stream",
     "text": [
      " 28%|██▊       | 24/87 [00:09<00:27,  2.29it/s]"
     ]
    },
    {
     "name": "stdout",
     "output_type": "stream",
     "text": [
      "Time spent in cut_over_Q: 0.05570721626281738 s\n",
      "Time spent in drop_isolated: 0.0967111587524414 s\n"
     ]
    },
    {
     "name": "stderr",
     "output_type": "stream",
     "text": [
      " 29%|██▊       | 25/87 [00:10<00:27,  2.25it/s]"
     ]
    },
    {
     "name": "stdout",
     "output_type": "stream",
     "text": [
      "Time spent in cut_over_Q: 0.00925445556640625 s\n",
      "Time spent in drop_isolated: 0.011881113052368164 s\n"
     ]
    },
    {
     "name": "stderr",
     "output_type": "stream",
     "text": [
      " 30%|██▉       | 26/87 [00:10<00:25,  2.37it/s]"
     ]
    },
    {
     "name": "stdout",
     "output_type": "stream",
     "text": [
      "Time spent in cut_over_Q: 0.021975278854370117 s\n",
      "Time spent in drop_isolated: 0.06748723983764648 s\n"
     ]
    },
    {
     "name": "stderr",
     "output_type": "stream",
     "text": [
      " 31%|███       | 27/87 [00:11<00:25,  2.37it/s]"
     ]
    },
    {
     "name": "stdout",
     "output_type": "stream",
     "text": [
      "Time spent in cut_over_Q: 0.04760241508483887 s\n",
      "Time spent in drop_isolated: 0.036278486251831055 s\n"
     ]
    },
    {
     "name": "stderr",
     "output_type": "stream",
     "text": [
      " 32%|███▏      | 28/87 [00:11<00:24,  2.44it/s]"
     ]
    },
    {
     "name": "stdout",
     "output_type": "stream",
     "text": [
      "Time spent in cut_over_Q: 0.014146566390991211 s\n",
      "Time spent in drop_isolated: 0.015864849090576172 s\n"
     ]
    },
    {
     "name": "stderr",
     "output_type": "stream",
     "text": [
      " 33%|███▎      | 29/87 [00:12<00:27,  2.11it/s]"
     ]
    },
    {
     "name": "stdout",
     "output_type": "stream",
     "text": [
      "Time spent in cut_over_Q: 0.014379501342773438 s\n",
      "Time spent in drop_isolated: 0.011608123779296875 s\n"
     ]
    },
    {
     "name": "stderr",
     "output_type": "stream",
     "text": [
      " 34%|███▍      | 30/87 [00:12<00:23,  2.41it/s]"
     ]
    },
    {
     "name": "stdout",
     "output_type": "stream",
     "text": [
      "Time spent in cut_over_Q: 0.008420944213867188 s\n",
      "Time spent in drop_isolated: 0.013667106628417969 s\n"
     ]
    },
    {
     "name": "stderr",
     "output_type": "stream",
     "text": [
      " 36%|███▌      | 31/87 [00:12<00:21,  2.64it/s]"
     ]
    },
    {
     "name": "stdout",
     "output_type": "stream",
     "text": [
      "Time spent in cut_over_Q: 0.04350996017456055 s\n",
      "Time spent in drop_isolated: 0.049634456634521484 s\n"
     ]
    },
    {
     "name": "stderr",
     "output_type": "stream",
     "text": [
      " 37%|███▋      | 32/87 [00:13<00:23,  2.39it/s]"
     ]
    },
    {
     "name": "stdout",
     "output_type": "stream",
     "text": [
      "Time spent in cut_over_Q: 0.020069122314453125 s\n",
      "Time spent in drop_isolated: 0.030197620391845703 s\n"
     ]
    },
    {
     "name": "stderr",
     "output_type": "stream",
     "text": [
      " 38%|███▊      | 33/87 [00:13<00:22,  2.39it/s]"
     ]
    },
    {
     "name": "stdout",
     "output_type": "stream",
     "text": [
      "Time spent in cut_over_Q: 0.012064456939697266 s\n",
      "Time spent in drop_isolated: 0.0534060001373291 s\n"
     ]
    },
    {
     "name": "stderr",
     "output_type": "stream",
     "text": [
      " 39%|███▉      | 34/87 [00:14<00:22,  2.38it/s]"
     ]
    },
    {
     "name": "stdout",
     "output_type": "stream",
     "text": [
      "Time spent in cut_over_Q: 0.012442827224731445 s\n",
      "Time spent in drop_isolated: 0.01988506317138672 s\n"
     ]
    },
    {
     "name": "stderr",
     "output_type": "stream",
     "text": [
      " 40%|████      | 35/87 [00:14<00:19,  2.65it/s]"
     ]
    },
    {
     "name": "stdout",
     "output_type": "stream",
     "text": [
      "Time spent in cut_over_Q: 0.01063990592956543 s\n",
      "Time spent in drop_isolated: 0.00834202766418457 s\n"
     ]
    },
    {
     "name": "stderr",
     "output_type": "stream",
     "text": [
      " 41%|████▏     | 36/87 [00:14<00:17,  2.88it/s]"
     ]
    },
    {
     "name": "stdout",
     "output_type": "stream",
     "text": [
      "Time spent in cut_over_Q: 0.010335206985473633 s\n",
      "Time spent in drop_isolated: 0.011873483657836914 s\n"
     ]
    },
    {
     "name": "stderr",
     "output_type": "stream",
     "text": [
      " 43%|████▎     | 37/87 [00:15<00:16,  3.03it/s]"
     ]
    },
    {
     "name": "stdout",
     "output_type": "stream",
     "text": [
      "Time spent in cut_over_Q: 0.03423285484313965 s\n",
      "Time spent in drop_isolated: 0.05596637725830078 s\n"
     ]
    },
    {
     "name": "stderr",
     "output_type": "stream",
     "text": [
      " 44%|████▎     | 38/87 [00:15<00:16,  2.89it/s]"
     ]
    },
    {
     "name": "stdout",
     "output_type": "stream",
     "text": [
      "Time spent in cut_over_Q: 0.024399280548095703 s\n",
      "Time spent in drop_isolated: 0.10034728050231934 s\n"
     ]
    },
    {
     "name": "stderr",
     "output_type": "stream",
     "text": [
      " 45%|████▍     | 39/87 [00:15<00:17,  2.74it/s]"
     ]
    },
    {
     "name": "stdout",
     "output_type": "stream",
     "text": [
      "Time spent in cut_over_Q: 0.03792142868041992 s\n",
      "Time spent in drop_isolated: 0.030302762985229492 s\n"
     ]
    },
    {
     "name": "stderr",
     "output_type": "stream",
     "text": [
      " 46%|████▌     | 40/87 [00:16<00:17,  2.65it/s]"
     ]
    },
    {
     "name": "stdout",
     "output_type": "stream",
     "text": [
      "Time spent in cut_over_Q: 0.010589599609375 s\n",
      "Time spent in drop_isolated: 0.00905919075012207 s\n"
     ]
    },
    {
     "name": "stderr",
     "output_type": "stream",
     "text": [
      " 47%|████▋     | 41/87 [00:16<00:16,  2.81it/s]"
     ]
    },
    {
     "name": "stdout",
     "output_type": "stream",
     "text": [
      "Time spent in cut_over_Q: 0.02424907684326172 s\n",
      "Time spent in drop_isolated: 0.02812814712524414 s\n"
     ]
    },
    {
     "name": "stderr",
     "output_type": "stream",
     "text": [
      " 48%|████▊     | 42/87 [00:16<00:16,  2.80it/s]"
     ]
    },
    {
     "name": "stdout",
     "output_type": "stream",
     "text": [
      "Time spent in cut_over_Q: 0.011196374893188477 s\n",
      "Time spent in drop_isolated: 0.009313821792602539 s\n"
     ]
    },
    {
     "name": "stderr",
     "output_type": "stream",
     "text": [
      " 49%|████▉     | 43/87 [00:17<00:15,  2.83it/s]"
     ]
    },
    {
     "name": "stdout",
     "output_type": "stream",
     "text": [
      "Time spent in cut_over_Q: 0.012601137161254883 s\n",
      "Time spent in drop_isolated: 0.008392810821533203 s\n"
     ]
    },
    {
     "name": "stderr",
     "output_type": "stream",
     "text": [
      " 51%|█████     | 44/87 [00:17<00:14,  3.00it/s]"
     ]
    },
    {
     "name": "stdout",
     "output_type": "stream",
     "text": [
      "Time spent in cut_over_Q: 0.016101598739624023 s\n",
      "Time spent in drop_isolated: 0.015094757080078125 s\n"
     ]
    },
    {
     "name": "stderr",
     "output_type": "stream",
     "text": [
      " 52%|█████▏    | 45/87 [00:18<00:19,  2.11it/s]"
     ]
    },
    {
     "name": "stdout",
     "output_type": "stream",
     "text": [
      "Time spent in cut_over_Q: 0.02240896224975586 s\n",
      "Time spent in drop_isolated: 0.08595514297485352 s\n"
     ]
    },
    {
     "name": "stderr",
     "output_type": "stream",
     "text": [
      " 53%|█████▎    | 46/87 [00:18<00:18,  2.20it/s]"
     ]
    },
    {
     "name": "stdout",
     "output_type": "stream",
     "text": [
      "Time spent in cut_over_Q: 0.033930063247680664 s\n",
      "Time spent in drop_isolated: 0.07510566711425781 s\n"
     ]
    },
    {
     "name": "stderr",
     "output_type": "stream",
     "text": [
      " 54%|█████▍    | 47/87 [00:19<00:18,  2.19it/s]"
     ]
    },
    {
     "name": "stdout",
     "output_type": "stream",
     "text": [
      "Time spent in cut_over_Q: 0.019956588745117188 s\n",
      "Time spent in drop_isolated: 0.01716136932373047 s\n"
     ]
    },
    {
     "name": "stderr",
     "output_type": "stream",
     "text": [
      " 55%|█████▌    | 48/87 [00:19<00:16,  2.31it/s]"
     ]
    },
    {
     "name": "stdout",
     "output_type": "stream",
     "text": [
      "Time spent in cut_over_Q: 0.016655921936035156 s\n",
      "Time spent in drop_isolated: 0.02465057373046875 s\n"
     ]
    },
    {
     "name": "stderr",
     "output_type": "stream",
     "text": [
      " 56%|█████▋    | 49/87 [00:19<00:15,  2.40it/s]"
     ]
    },
    {
     "name": "stdout",
     "output_type": "stream",
     "text": [
      "Time spent in cut_over_Q: 0.009428024291992188 s\n",
      "Time spent in drop_isolated: 0.010663747787475586 s\n"
     ]
    },
    {
     "name": "stderr",
     "output_type": "stream",
     "text": [
      " 57%|█████▋    | 50/87 [00:20<00:14,  2.57it/s]"
     ]
    },
    {
     "name": "stdout",
     "output_type": "stream",
     "text": [
      "Time spent in cut_over_Q: 0.04728412628173828 s\n",
      "Time spent in drop_isolated: 0.04093742370605469 s\n"
     ]
    },
    {
     "name": "stderr",
     "output_type": "stream",
     "text": [
      " 59%|█████▊    | 51/87 [00:20<00:14,  2.49it/s]"
     ]
    },
    {
     "name": "stdout",
     "output_type": "stream",
     "text": [
      "Time spent in cut_over_Q: 0.021706819534301758 s\n",
      "Time spent in drop_isolated: 0.019022464752197266 s\n"
     ]
    },
    {
     "name": "stderr",
     "output_type": "stream",
     "text": [
      " 60%|█████▉    | 52/87 [00:21<00:13,  2.54it/s]"
     ]
    },
    {
     "name": "stdout",
     "output_type": "stream",
     "text": [
      "Time spent in cut_over_Q: 0.06122159957885742 s\n",
      "Time spent in drop_isolated: 0.06880760192871094 s\n"
     ]
    },
    {
     "name": "stderr",
     "output_type": "stream",
     "text": [
      " 61%|██████    | 53/87 [00:21<00:13,  2.49it/s]"
     ]
    },
    {
     "name": "stdout",
     "output_type": "stream",
     "text": [
      "Time spent in cut_over_Q: 0.008340597152709961 s\n",
      "Time spent in drop_isolated: 0.02597355842590332 s\n"
     ]
    },
    {
     "name": "stderr",
     "output_type": "stream",
     "text": [
      " 62%|██████▏   | 54/87 [00:21<00:12,  2.56it/s]"
     ]
    },
    {
     "name": "stdout",
     "output_type": "stream",
     "text": [
      "Time spent in cut_over_Q: 0.028158187866210938 s\n",
      "Time spent in drop_isolated: 0.03145956993103027 s\n"
     ]
    },
    {
     "name": "stderr",
     "output_type": "stream",
     "text": [
      " 63%|██████▎   | 55/87 [00:22<00:11,  2.75it/s]"
     ]
    },
    {
     "name": "stdout",
     "output_type": "stream",
     "text": [
      "Time spent in cut_over_Q: 0.015882492065429688 s\n",
      "Time spent in drop_isolated: 0.033330678939819336 s\n"
     ]
    },
    {
     "name": "stderr",
     "output_type": "stream",
     "text": [
      " 64%|██████▍   | 56/87 [00:22<00:11,  2.80it/s]"
     ]
    },
    {
     "name": "stdout",
     "output_type": "stream",
     "text": [
      "Time spent in cut_over_Q: 0.031846046447753906 s\n",
      "Time spent in drop_isolated: 0.02536940574645996 s\n"
     ]
    },
    {
     "name": "stderr",
     "output_type": "stream",
     "text": [
      " 66%|██████▌   | 57/87 [00:22<00:11,  2.71it/s]"
     ]
    },
    {
     "name": "stdout",
     "output_type": "stream",
     "text": [
      "Time spent in cut_over_Q: 0.01527547836303711 s\n",
      "Time spent in drop_isolated: 0.014870882034301758 s\n"
     ]
    },
    {
     "name": "stderr",
     "output_type": "stream",
     "text": [
      " 67%|██████▋   | 58/87 [00:23<00:10,  2.75it/s]"
     ]
    },
    {
     "name": "stdout",
     "output_type": "stream",
     "text": [
      "Time spent in cut_over_Q: 0.019791364669799805 s\n",
      "Time spent in drop_isolated: 0.02952432632446289 s\n"
     ]
    },
    {
     "name": "stderr",
     "output_type": "stream",
     "text": [
      " 68%|██████▊   | 59/87 [00:23<00:10,  2.70it/s]"
     ]
    },
    {
     "name": "stdout",
     "output_type": "stream",
     "text": [
      "Time spent in cut_over_Q: 0.020299911499023438 s\n",
      "Time spent in drop_isolated: 0.036309242248535156 s\n"
     ]
    },
    {
     "name": "stderr",
     "output_type": "stream",
     "text": [
      " 69%|██████▉   | 60/87 [00:24<00:10,  2.67it/s]"
     ]
    },
    {
     "name": "stdout",
     "output_type": "stream",
     "text": [
      "Time spent in cut_over_Q: 0.01843571662902832 s\n",
      "Time spent in drop_isolated: 0.10492920875549316 s\n"
     ]
    },
    {
     "name": "stderr",
     "output_type": "stream",
     "text": [
      " 70%|███████   | 61/87 [00:24<00:10,  2.50it/s]"
     ]
    },
    {
     "name": "stdout",
     "output_type": "stream",
     "text": [
      "Time spent in cut_over_Q: 0.019626140594482422 s\n",
      "Time spent in drop_isolated: 0.027396678924560547 s\n"
     ]
    },
    {
     "name": "stderr",
     "output_type": "stream",
     "text": [
      " 71%|███████▏  | 62/87 [00:24<00:09,  2.55it/s]"
     ]
    },
    {
     "name": "stdout",
     "output_type": "stream",
     "text": [
      "Time spent in cut_over_Q: 0.019447803497314453 s\n",
      "Time spent in drop_isolated: 0.01910567283630371 s\n"
     ]
    },
    {
     "name": "stderr",
     "output_type": "stream",
     "text": [
      " 72%|███████▏  | 63/87 [00:25<00:09,  2.50it/s]"
     ]
    },
    {
     "name": "stdout",
     "output_type": "stream",
     "text": [
      "Time spent in cut_over_Q: 0.013601303100585938 s\n",
      "Time spent in drop_isolated: 0.01578378677368164 s\n"
     ]
    },
    {
     "name": "stderr",
     "output_type": "stream",
     "text": [
      " 74%|███████▎  | 64/87 [00:26<00:12,  1.87it/s]"
     ]
    },
    {
     "name": "stdout",
     "output_type": "stream",
     "text": [
      "Time spent in cut_over_Q: 0.014464855194091797 s\n",
      "Time spent in drop_isolated: 0.01632857322692871 s\n"
     ]
    },
    {
     "name": "stderr",
     "output_type": "stream",
     "text": [
      " 75%|███████▍  | 65/87 [00:26<00:10,  2.04it/s]"
     ]
    },
    {
     "name": "stdout",
     "output_type": "stream",
     "text": [
      "Time spent in cut_over_Q: 0.03567194938659668 s\n",
      "Time spent in drop_isolated: 0.02725958824157715 s\n"
     ]
    },
    {
     "name": "stderr",
     "output_type": "stream",
     "text": [
      " 76%|███████▌  | 66/87 [00:27<00:10,  2.02it/s]"
     ]
    },
    {
     "name": "stdout",
     "output_type": "stream",
     "text": [
      "Time spent in cut_over_Q: 0.028733015060424805 s\n",
      "Time spent in drop_isolated: 0.03281259536743164 s\n"
     ]
    },
    {
     "name": "stderr",
     "output_type": "stream",
     "text": [
      " 77%|███████▋  | 67/87 [00:27<00:09,  2.10it/s]"
     ]
    },
    {
     "name": "stdout",
     "output_type": "stream",
     "text": [
      "Time spent in cut_over_Q: 0.012203216552734375 s\n",
      "Time spent in drop_isolated: 0.014822959899902344 s\n"
     ]
    },
    {
     "name": "stderr",
     "output_type": "stream",
     "text": [
      " 78%|███████▊  | 68/87 [00:27<00:07,  2.44it/s]"
     ]
    },
    {
     "name": "stdout",
     "output_type": "stream",
     "text": [
      "Time spent in cut_over_Q: 0.018749237060546875 s\n",
      "Time spent in drop_isolated: 0.019423723220825195 s\n"
     ]
    },
    {
     "name": "stderr",
     "output_type": "stream",
     "text": [
      " 79%|███████▉  | 69/87 [00:28<00:07,  2.56it/s]"
     ]
    },
    {
     "name": "stdout",
     "output_type": "stream",
     "text": [
      "Time spent in cut_over_Q: 0.00984501838684082 s\n",
      "Time spent in drop_isolated: 0.01891303062438965 s\n"
     ]
    },
    {
     "name": "stderr",
     "output_type": "stream",
     "text": [
      " 80%|████████  | 70/87 [00:28<00:05,  2.86it/s]"
     ]
    },
    {
     "name": "stdout",
     "output_type": "stream",
     "text": [
      "Time spent in cut_over_Q: 0.018941640853881836 s\n",
      "Time spent in drop_isolated: 0.016897201538085938 s\n"
     ]
    },
    {
     "name": "stderr",
     "output_type": "stream",
     "text": [
      " 82%|████████▏ | 71/87 [00:28<00:05,  2.77it/s]"
     ]
    },
    {
     "name": "stdout",
     "output_type": "stream",
     "text": [
      "Time spent in cut_over_Q: 0.0210726261138916 s\n",
      "Time spent in drop_isolated: 0.02610921859741211 s\n"
     ]
    },
    {
     "name": "stderr",
     "output_type": "stream",
     "text": [
      " 83%|████████▎ | 72/87 [00:29<00:05,  2.80it/s]"
     ]
    },
    {
     "name": "stdout",
     "output_type": "stream",
     "text": [
      "Time spent in cut_over_Q: 0.012411117553710938 s\n",
      "Time spent in drop_isolated: 0.012621641159057617 s\n"
     ]
    },
    {
     "name": "stderr",
     "output_type": "stream",
     "text": [
      " 84%|████████▍ | 73/87 [00:29<00:04,  2.94it/s]"
     ]
    },
    {
     "name": "stdout",
     "output_type": "stream",
     "text": [
      "Time spent in cut_over_Q: 0.023279905319213867 s\n",
      "Time spent in drop_isolated: 0.029091835021972656 s\n"
     ]
    },
    {
     "name": "stderr",
     "output_type": "stream",
     "text": [
      " 85%|████████▌ | 74/87 [00:29<00:04,  3.07it/s]"
     ]
    },
    {
     "name": "stdout",
     "output_type": "stream",
     "text": [
      "Time spent in cut_over_Q: 0.010278940200805664 s\n",
      "Time spent in drop_isolated: 0.012244224548339844 s\n"
     ]
    },
    {
     "name": "stderr",
     "output_type": "stream",
     "text": [
      " 86%|████████▌ | 75/87 [00:29<00:03,  3.10it/s]"
     ]
    },
    {
     "name": "stdout",
     "output_type": "stream",
     "text": [
      "Time spent in cut_over_Q: 0.011171340942382812 s\n",
      "Time spent in drop_isolated: 0.014456748962402344 s\n"
     ]
    },
    {
     "name": "stderr",
     "output_type": "stream",
     "text": [
      " 87%|████████▋ | 76/87 [00:30<00:04,  2.64it/s]"
     ]
    },
    {
     "name": "stdout",
     "output_type": "stream",
     "text": [
      "Time spent in cut_over_Q: 0.05823993682861328 s\n",
      "Time spent in drop_isolated: 0.0846703052520752 s\n"
     ]
    },
    {
     "name": "stderr",
     "output_type": "stream",
     "text": [
      " 89%|████████▊ | 77/87 [00:30<00:04,  2.40it/s]"
     ]
    },
    {
     "name": "stdout",
     "output_type": "stream",
     "text": [
      "Time spent in cut_over_Q: 0.02436661720275879 s\n",
      "Time spent in drop_isolated: 0.0265655517578125 s\n"
     ]
    },
    {
     "name": "stderr",
     "output_type": "stream",
     "text": [
      " 90%|████████▉ | 78/87 [00:31<00:03,  2.38it/s]"
     ]
    },
    {
     "name": "stdout",
     "output_type": "stream",
     "text": [
      "Time spent in cut_over_Q: 0.05254077911376953 s\n",
      "Time spent in drop_isolated: 0.07266783714294434 s\n"
     ]
    },
    {
     "name": "stderr",
     "output_type": "stream",
     "text": [
      " 91%|█████████ | 79/87 [00:31<00:03,  2.36it/s]"
     ]
    },
    {
     "name": "stdout",
     "output_type": "stream",
     "text": [
      "Time spent in cut_over_Q: 0.009414196014404297 s\n",
      "Time spent in drop_isolated: 0.028734683990478516 s\n"
     ]
    },
    {
     "name": "stderr",
     "output_type": "stream",
     "text": [
      " 92%|█████████▏| 80/87 [00:32<00:02,  2.62it/s]"
     ]
    },
    {
     "name": "stdout",
     "output_type": "stream",
     "text": [
      "Time spent in cut_over_Q: 0.016421079635620117 s\n",
      "Time spent in drop_isolated: 0.07677483558654785 s\n"
     ]
    },
    {
     "name": "stderr",
     "output_type": "stream",
     "text": [
      " 93%|█████████▎| 81/87 [00:32<00:02,  2.70it/s]"
     ]
    },
    {
     "name": "stdout",
     "output_type": "stream",
     "text": [
      "Time spent in cut_over_Q: 0.011837482452392578 s\n",
      "Time spent in drop_isolated: 0.011429309844970703 s\n"
     ]
    },
    {
     "name": "stderr",
     "output_type": "stream",
     "text": [
      " 94%|█████████▍| 82/87 [00:32<00:01,  2.85it/s]"
     ]
    },
    {
     "name": "stdout",
     "output_type": "stream",
     "text": [
      "Time spent in cut_over_Q: 0.011223554611206055 s\n",
      "Time spent in drop_isolated: 0.009724855422973633 s\n"
     ]
    },
    {
     "name": "stderr",
     "output_type": "stream",
     "text": [
      " 95%|█████████▌| 83/87 [00:33<00:01,  2.92it/s]"
     ]
    },
    {
     "name": "stdout",
     "output_type": "stream",
     "text": [
      "Time spent in cut_over_Q: 0.027931690216064453 s\n",
      "Time spent in drop_isolated: 0.032633304595947266 s\n"
     ]
    },
    {
     "name": "stderr",
     "output_type": "stream",
     "text": [
      " 97%|█████████▋| 84/87 [00:33<00:01,  2.74it/s]"
     ]
    },
    {
     "name": "stdout",
     "output_type": "stream",
     "text": [
      "Time spent in cut_over_Q: 0.009777069091796875 s\n",
      "Time spent in drop_isolated: 0.011504173278808594 s\n"
     ]
    },
    {
     "name": "stderr",
     "output_type": "stream",
     "text": [
      " 98%|█████████▊| 85/87 [00:33<00:00,  2.89it/s]"
     ]
    },
    {
     "name": "stdout",
     "output_type": "stream",
     "text": [
      "Time spent in cut_over_Q: 0.01309061050415039 s\n",
      "Time spent in drop_isolated: 0.042236328125 s\n"
     ]
    },
    {
     "name": "stderr",
     "output_type": "stream",
     "text": [
      " 99%|█████████▉| 86/87 [00:34<00:00,  2.97it/s]"
     ]
    },
    {
     "name": "stdout",
     "output_type": "stream",
     "text": [
      "Time spent in cut_over_Q: 0.009380102157592773 s\n",
      "Time spent in drop_isolated: 0.02503681182861328 s\n"
     ]
    },
    {
     "name": "stderr",
     "output_type": "stream",
     "text": [
      "100%|██████████| 87/87 [00:34<00:00,  2.49it/s]\n"
     ]
    }
   ],
   "source": [
    "for i, df in tqdm(full_dst.groupby('event')):\n",
    "    hits_cut = coref.timefunc(cut_sensors)(df.copy())\n",
    "    hits_drop = coref.timefunc(drop_sensors)(hits_cut.copy())\n",
    "    pitch = 15.55\n",
    "    # then applying transformations to convert to 'SiPM outputs'\n",
    "    fig, axes = plt.subplots(1, 3, figsize=(18, 6))\n",
    "\n",
    "\n",
    "    xx = np.arange(hits_drop.X.min(), hits_drop.X.max() + pitch, pitch)\n",
    "    yy = np.arange(hits_drop.Y.min(), hits_drop.Y.max() + pitch, pitch)\n",
    "    zz = hits_cut.Z.unique()\n",
    "\n",
    "    axes[0].hist2d(hits_drop.X, hits_drop.Y, bins=[xx, yy], weights=hits_drop.Q, cmin=0.0001);\n",
    "    axes[0].set_xlabel('X (mm)');\n",
    "    axes[0].set_ylabel('Y (mm)');\n",
    "\n",
    "    axes[1].hist2d(hits_drop.X, hits_drop.Z, bins=[xx, zz], weights=hits_drop.Q, cmin=0.0001);\n",
    "    axes[1].set_xlabel('X (mm)');\n",
    "    axes[1].set_ylabel('Z (mm)');\n",
    "\n",
    "\n",
    "    axes[2].hist2d(hits_drop.Y, hits_drop.Z, bins=[yy, zz], weights=hits_drop.Q, cmin=0.0001);\n",
    "    axes[2].set_xlabel('Y (mm)');\n",
    "    axes[2].set_ylabel('Z (mm)');\n",
    "\n",
    "    fig.suptitle('Processed Sensors Signal_' + str(i), fontsize=30)\n",
    "    fig.savefig(f'plots/15107/hits/evt_{i}.png')\n",
    "    plt.close(fig)\n",
    "\n",
    "\n",
    "    # then extract the number of sipms per z slice for each also\n",
    "    plt.plot(df.groupby('Z').sum().filter(like='nsipm'))\n",
    "    plt.title(f'nSiPMs_per_Z_' + str(i), fontsize = 30)\n",
    "    plt.xlabel('Z (mm)')\n",
    "    plt.ylabel('nSiPMs')\n",
    "    plt.savefig(f'plots/15107/nsipms/evt_{i}.png')\n",
    "    plt.close()\n",
    "    "
   ]
  },
  {
   "cell_type": "code",
   "execution_count": null,
   "metadata": {},
   "outputs": [],
   "source": [
    "dst = load_dsts([folder_path + x for x in file_names], 'DST', '')"
   ]
  }
 ],
 "metadata": {
  "kernelspec": {
   "display_name": "IC-3.8-2024-06-08",
   "language": "python",
   "name": "python3"
  },
  "language_info": {
   "codemirror_mode": {
    "name": "ipython",
    "version": 3
   },
   "file_extension": ".py",
   "mimetype": "text/x-python",
   "name": "python",
   "nbconvert_exporter": "python",
   "pygments_lexer": "ipython3",
   "version": "3.8.20"
  }
 },
 "nbformat": 4,
 "nbformat_minor": 2
}
