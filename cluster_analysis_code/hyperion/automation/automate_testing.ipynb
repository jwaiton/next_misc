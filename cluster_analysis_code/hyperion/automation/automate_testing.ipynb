{
 "cells": [
  {
   "cell_type": "code",
   "execution_count": 11,
   "metadata": {},
   "outputs": [],
   "source": [
    "import numpy as np\n",
    "from typing          import List\n"
   ]
  },
  {
   "cell_type": "code",
   "execution_count": 37,
   "metadata": {},
   "outputs": [
    {
     "name": "stdout",
     "output_type": "stream",
     "text": [
      "20250722_143441_775658\n",
      "20250722_143441_775781\n",
      "20250722_143441_775815\n"
     ]
    }
   ],
   "source": [
    "from datetime import datetime\n",
    "\n",
    "# timestamp generator\n",
    "\n",
    "# Generate and print the current timestamp\n",
    "print(datetime.now().strftime('%Y%m%d_%H%M%S_%f'))\n",
    "print(datetime.now().strftime('%Y%m%d_%H%M%S_%f'))\n",
    "print(datetime.now().strftime('%Y%m%d_%H%M%S_%f'))\n",
    "\n",
    "def gen_timestamps(run_numbers : List[int]):\n",
    "    '''\n",
    "    Generates timestamps for each of the runs provided in a list\n",
    "    '''\n",
    "    TIMESTAMPS = []\n",
    "    for RN in run_numbers:\n",
    "        TIMESTAMPS.append(datetime.now().strftime('%Y%m%d_%H%M%S_%f'))\n",
    "\n",
    "    return TIMESTAMPS"
   ]
  },
  {
   "cell_type": "code",
   "execution_count": 38,
   "metadata": {},
   "outputs": [],
   "source": [
    "\n",
    "RUN_NUMBER = '15589, 15590, 15591, 15592, 15593'\n",
    "RUN_NUMBER = [int(x) for x in RUN_NUMBER.split(',')]\n",
    "TIMESTAMPS = gen_timestamps(RUN_NUMBER)"
   ]
  },
  {
   "cell_type": "code",
   "execution_count": 41,
   "metadata": {},
   "outputs": [
    {
     "name": "stdout",
     "output_type": "stream",
     "text": [
      "15589: 20250722_143441_927042\n",
      "15590: 20250722_143441_927075\n",
      "15591: 20250722_143441_927078\n",
      "15592: 20250722_143441_927081\n",
      "15593: 20250722_143441_927083\n"
     ]
    }
   ],
   "source": [
    "for rn, ts in zip(RUN_NUMBER, TIMESTAMPS):\n",
    "    print(f'{rn}: {ts}')"
   ]
  },
  {
   "cell_type": "code",
   "execution_count": null,
   "metadata": {},
   "outputs": [
    {
     "name": "stdout",
     "output_type": "stream",
     "text": [
      "1\n",
      "2\n",
      "3\n",
      "4\n",
      "5\n",
      "6\n",
      "7\n"
     ]
    }
   ],
   "source": []
  },
  {
   "cell_type": "code",
   "execution_count": null,
   "metadata": {},
   "outputs": [],
   "source": []
  }
 ],
 "metadata": {
  "kernelspec": {
   "display_name": "IC-3.8-2024-06-08",
   "language": "python",
   "name": "ic-3.8-2024-06-08"
  },
  "language_info": {
   "codemirror_mode": {
    "name": "ipython",
    "version": 3
   },
   "file_extension": ".py",
   "mimetype": "text/x-python",
   "name": "python",
   "nbconvert_exporter": "python",
   "pygments_lexer": "ipython3",
   "version": "3.10.9"
  }
 },
 "nbformat": 4,
 "nbformat_minor": 2
}
