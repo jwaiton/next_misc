{
 "cells": [
  {
   "cell_type": "markdown",
   "id": "0c293d48-8484-4689-a674-5f14237b1d7c",
   "metadata": {},
   "source": [
    "### Plot 2D histograms for various value. Here we care about FOM, for example"
   ]
  },
  {
   "cell_type": "code",
   "execution_count": 1,
   "id": "f279b658-3b42-420e-b394-1c7db76464ed",
   "metadata": {},
   "outputs": [],
   "source": [
    "import matplotlib.pyplot as plt\n",
    "import numpy as np\n",
    "import matplotlib.ticker as ticker\n",
    "import pandas as pd\n",
    "# import stuff\n",
    "import sys,os,os.path"
   ]
  },
  {
   "cell_type": "code",
   "execution_count": 2,
   "id": "b3c2db71-37a6-4fee-aedf-5a1e56c2aa9d",
   "metadata": {},
   "outputs": [],
   "source": [
    "# this one differs, it allows you to scrape any data and make a 2D FOM plot\n",
    "def scrape_any_data(data_path, string_1, string_2, plot_title):\n",
    "    '''\n",
    "    Similar to function 'scrape_FOM_data', \n",
    "    but works with any row and column from efficiency h5 file.\n",
    "\n",
    "    Args:\n",
    "        data_path           :           data path leading to relevant h5 file\n",
    "        string_1            :           row of interest\n",
    "        string_2            :           column of interest\n",
    "        plot_title          :           plot title\n",
    "    \n",
    "    Returns:\n",
    "        None                :           empty return\n",
    "    '''\n",
    "\n",
    "    # collect data\n",
    "    hold = pd.HDFStore(data_path)\n",
    "    store = hold.keys()\n",
    "    hold.close()\n",
    "    # sanitise\n",
    "    remove = [x.replace(\"/\", \"\") for x in store]\n",
    "    split = [(x.split(\"_\")) for x in remove]\n",
    "\n",
    "    # collect all unique first elements (n_iter)\n",
    "    unique_0s = list(set([x[0] for i, x in enumerate(split)]))\n",
    "    # and second elements\n",
    "    unique_1s = list(set([x[1] for i, x in enumerate(split)]))\n",
    "\n",
    "    # organise and add leading zero to column (1s)\n",
    "    unique_0s_ = sorted(unique_0s, key=float)\n",
    "    unique_1s_ = sorted(unique_1s, key=float)\n",
    "    unique_1s_ = [\"n_iter\"] + unique_1s_\n",
    "    \n",
    "    # create pandas dataframe with these as the axis\n",
    "    df = pd.DataFrame(columns = unique_1s_)\n",
    "    \n",
    "    # start adding rows babee\n",
    "    for i in range(len(unique_0s_)):\n",
    "    \tdf.loc[i] = [unique_0s_[i]] + list(np.full(shape=len(unique_1s), fill_value=np.nan))\n",
    "\n",
    "    # set it as the index as well\n",
    "    df.set_index('n_iter', inplace=True)\n",
    "    \n",
    "    # collect the data from each table in the h5 dataframe\n",
    "    for i in range(len(store)):\n",
    "        # reformat store data to allow for correct indexing\n",
    "        remove = store[i].replace(\"/\", \"\")\n",
    "        split = remove.split(\"_\")\n",
    "\n",
    "        play_thing = pd.read_hdf(data_path,key=store[i])\n",
    "        play_thing.set_index('Cut', inplace=True)\n",
    "        fom_val = play_thing.loc[str(string_1), str(string_2)]\n",
    "            \n",
    "        df.at[split[0], split[1]] = fom_val\n",
    "\t\n",
    "    fom_list = []\n",
    "    for i in range(len(df.index)):\n",
    "        fom_list.append(df.loc[df.index[i]].to_numpy())\n",
    "    \n",
    "    fom_list = np.array(fom_list)\n",
    "    #reshape into x,y array\n",
    "    x_vals = (df.columns).to_list()\n",
    "    y_vals = (df.index).to_list()\n",
    "    \n",
    "    # set nans to zeros\n",
    "    fom_list[np.isnan(fom_list.astype(float))] = 0\n",
    "    \n",
    "    fom_list = np.round(fom_list.astype(float), decimals=2)\n",
    "\n",
    "    plot_2Dhist(fom_list, x_vals, y_vals, title = str(plot_title), xlabel_title = 'e_cut', ylabel_title = 'number of iterations')\n"
   ]
  },
  {
   "cell_type": "code",
   "execution_count": null,
   "id": "79371347-c6b1-48cb-ad92-b0439e2adbb9",
   "metadata": {},
   "outputs": [],
   "source": [
    "scrape_any_data()"
   ]
  }
 ],
 "metadata": {
  "kernelspec": {
   "display_name": "Python 3 (ipykernel)",
   "language": "python",
   "name": "python3"
  },
  "language_info": {
   "codemirror_mode": {
    "name": "ipython",
    "version": 3
   },
   "file_extension": ".py",
   "mimetype": "text/x-python",
   "name": "python",
   "nbconvert_exporter": "python",
   "pygments_lexer": "ipython3",
   "version": "3.8.18"
  }
 },
 "nbformat": 4,
 "nbformat_minor": 5
}
