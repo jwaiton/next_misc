{
 "cells": [
  {
   "cell_type": "markdown",
   "id": "7fd515dd-b3cc-4c04-9d74-635de8a33b24",
   "metadata": {},
   "source": [
    "# Correct the sophronia hits of interest based on selection\n",
    "selection found from DSTs in `files/DST_15107_passing.h5`"
   ]
  },
  {
   "cell_type": "code",
   "execution_count": null,
   "id": "2d2350cd-d894-42c5-9cc7-ceafd051a139",
   "metadata": {},
   "outputs": [],
   "source": [
    "import numpy as np\n",
    "import pandas as pd\n",
    "import matplotlib.pyplot as plt\n",
    "from tqdm import tqdm\n",
    "import tables as tb\n",
    "from matplotlib import colors \n",
    "\n",
    "import sys,os,os.path\n",
    "sys.path.append(\"/gluster/data/next/software/IC_311024/\")\n",
    "sys.path.append(os.path.expanduser('~/code/eol_hsrl_python'))\n",
    "#sys.path.append(\"/home/e78368jw/Documents/NEXT_CODE/next_misc/\")\n",
    "os.environ['ICTDIR']='/gluster/data/next/software/IC_311024/'\n",
    "\n",
    "from invisible_cities.io.dst_io           import load_dst, load_dsts, df_writer\n",
    "from invisible_cities.io.hits_io          import hits_writer\n",
    "from invisible_cities.reco                import tbl_functions   as tbl\n",
    "from invisible_cities.core.core_functions import in_range\n",
    "from invisible_cities.evm.nh5             import HitsTable\n",
    "from invisible_cities.reco.corrections    import read_maps, get_df_to_z_converter, apply_all_correction\n",
    "\n",
    "from tqdm import tqdm"
   ]
  },
  {
   "cell_type": "code",
   "execution_count": null,
   "id": "1e112471-1714-4115-a812-c6b2c3b5c8d8",
   "metadata": {},
   "outputs": [],
   "source": []
  }
 ],
 "metadata": {
  "kernelspec": {
   "display_name": "Python 3 (ipykernel)",
   "language": "python",
   "name": "python3"
  },
  "language_info": {
   "codemirror_mode": {
    "name": "ipython",
    "version": 3
   },
   "file_extension": ".py",
   "mimetype": "text/x-python",
   "name": "python",
   "nbconvert_exporter": "python",
   "pygments_lexer": "ipython3",
   "version": "3.8.18"
  }
 },
 "nbformat": 4,
 "nbformat_minor": 5
}
