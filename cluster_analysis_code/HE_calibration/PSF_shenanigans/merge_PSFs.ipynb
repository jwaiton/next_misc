{
 "cells": [
  {
   "cell_type": "code",
   "execution_count": null,
   "metadata": {},
   "outputs": [],
   "source": [
    "import os\n",
    "import sys\n",
    "\n",
    "from glob      import glob\n",
    "from functools import reduce\n",
    "\n",
    "\n",
    "sys.path.append(\"/gluster/data/next/software/IC_311024/\")\n",
    "sys.path.append(os.path.expanduser('~/code/eol_hsrl_python'))\n",
    "#sys.path.append(\"/home/e78368jw/Documents/NEXT_CODE/next_misc/\")\n",
    "os.environ['ICTDIR']='/gluster/data/next/software/IC_311024/'\n",
    "\n",
    "from invisible_cities.io.dst_io import load_dst\n",
    "from invisible_cities.io.dst_io import df_writer\n",
    "\n",
    "import numpy  as np\n",
    "import pandas as pd\n",
    "import tables as tb\n",
    "\n",
    "\n",
    "def load_psf(file):\n",
    "    return load_dst(file, \"PSF\", \"PSFs\")\n",
    "\n",
    "\n",
    "def combine_psfs(acc, new):\n",
    "    columns  = [\"xr\", \"yr\", \"zr\", \"x\", \"y\", \"z\"]\n",
    "    acc      = acc.assign(factor=acc.factor * acc.nevt)\n",
    "    new      = new.assign(factor=new.factor * new.nevt)\n",
    "    combined = pd.concat( [acc, new]\n",
    "                        , ignore_index = True\n",
    "                        , sort         = False\n",
    "                        )\n",
    "    combined = combined.groupby(columns, as_index=False).agg(\"sum\")\n",
    "    average  = combined.factor / combined.nevt\n",
    "    acc      = combined.assign(factor = np.nan_to_num(average))\n",
    "    return acc\n",
    "\n",
    "\n",
    "input_folder = sys.argv[1]\n",
    "output_file  = sys.argv[2] if len(sys.argv) > 2 else \"merged.psf\"\n",
    "\n",
    "files_in     = glob(os.path.join(input_folder, \"*.psf\"))\n",
    "combined_psf = reduce(combine_psfs, map(load_psf, files_in))\n",
    "\n",
    "with tb.open_file(files_in[0]) as file:\n",
    "    title = file.root.PSF.PSFs.title\n",
    "\n",
    "with tb.open_file(output_file, 'w') as h5out:\n",
    "    df_writer(h5out, combined_psf\n",
    "             , \"PSF\", \"PSFs\"\n",
    "             , compression = \"ZLIB4\"\n",
    "             , descriptive_string = title\n",
    "             )"
   ]
  }
 ],
 "metadata": {
  "kernelspec": {
   "display_name": "IC-3.8-2024-06-08",
   "language": "python",
   "name": "python3"
  },
  "language_info": {
   "name": "python",
   "version": "3.8.20"
  }
 },
 "nbformat": 4,
 "nbformat_minor": 2
}
