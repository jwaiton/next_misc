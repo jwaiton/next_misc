{
 "cells": [
  {
   "cell_type": "markdown",
   "metadata": {},
   "source": [
    "# This notebook is made to only include events that pass the appropriate cuts\n",
    "\n",
    "From the DSTs:\n",
    "- 0 < DT < 1500\n",
    "- S2e > 3k (to not lose x-rays, *CHECK THIS!!!*)\n",
    "- Recalculate the nS1s and nS2s\n",
    "- 1 S1 + 1 S2\n",
    "\n",
    "\n",
    "Then from the hits (I think?):\n",
    "- Z < 1370mm\n",
    "- $\\Delta Z$ < 150 mm\n",
    "\n",
    "$\\Delta Z$ is defined as the total range in Z of the track"
   ]
  },
  {
   "cell_type": "code",
   "execution_count": 1,
   "metadata": {},
   "outputs": [],
   "source": [
    "import numpy as np\n",
    "import pandas as pd\n",
    "import matplotlib.pyplot as plt\n",
    "from tqdm import tqdm\n",
    "import tables as tb\n",
    "from matplotlib import colors \n",
    "\n",
    "from typing          import Optional\n",
    "from typing          import Union\n",
    "from typing          import Callable\n",
    "\n",
    "from concurrent.futures import ProcessPoolExecutor\n",
    "\n",
    "import sys,os,os.path\n",
    "sys.path.append(\"/gluster/data/next/software/IC_311024/\")\n",
    "sys.path.append(os.path.expanduser('~/code/eol_hsrl_python'))\n",
    "#sys.path.append(\"/home/e78368jw/Documents/NEXT_CODE/next_misc/\")\n",
    "os.environ['ICTDIR']='/gluster/data/next/software/IC_311024/'\n",
    "\n",
    "from invisible_cities.io.dst_io           import load_dst, load_dsts, df_writer\n",
    "from invisible_cities.io.hits_io          import hits_writer\n",
    "from invisible_cities.core                import tbl_functions   as tbl\n",
    "from invisible_cities.core.core_functions import in_range\n",
    "from invisible_cities.cities.beersheba    import hitc_to_df_\n",
    "from invisible_cities.io.hits_io          import hits_from_df\n",
    "from invisible_cities.evm.nh5             import HitsTable\n",
    "from invisible_cities.types.symbols       import NormStrategy\n",
    "from invisible_cities.types.ic_types      import NoneType\n",
    "from invisible_cities.reco.corrections    import read_maps, get_df_to_z_converter, apply_all_correction\n",
    "from invisible_cities.evm.event_model     import HitCollection\n",
    "\n",
    "from tqdm import tqdm\n",
    "\n",
    "import functions_HE as func\n",
    "\n",
    "%load_ext autoreload\n",
    "%autoreload 2"
   ]
  },
  {
   "cell_type": "code",
   "execution_count": 4,
   "metadata": {},
   "outputs": [],
   "source": [
    "RUN_NUMBER = 15107\n",
    "TIMESTAMP  = 140425"
   ]
  },
  {
   "cell_type": "code",
   "execution_count": 7,
   "metadata": {},
   "outputs": [
    {
     "name": "stderr",
     "output_type": "stream",
     "text": [
      "  0%|          | 0/7 [00:00<?, ?it/s]"
     ]
    },
    {
     "name": "stdout",
     "output_type": "stream",
     "text": [
      "LDC 1\n"
     ]
    },
    {
     "name": "stderr",
     "output_type": "stream",
     "text": [
      "100%|██████████| 2225/2225 [01:29<00:00, 24.92it/s]\n",
      " 14%|█▍        | 1/7 [01:29<08:58, 89.80s/it]"
     ]
    },
    {
     "name": "stdout",
     "output_type": "stream",
     "text": [
      "LDC 2\n"
     ]
    },
    {
     "name": "stderr",
     "output_type": "stream",
     "text": [
      "100%|██████████| 2232/2232 [01:56<00:00, 19.23it/s]\n",
      " 29%|██▊       | 2/7 [03:26<08:47, 105.59s/it]"
     ]
    },
    {
     "name": "stdout",
     "output_type": "stream",
     "text": [
      "LDC 3\n"
     ]
    },
    {
     "name": "stderr",
     "output_type": "stream",
     "text": [
      "100%|██████████| 2078/2078 [01:54<00:00, 18.07it/s]\n",
      " 43%|████▎     | 3/7 [05:22<07:20, 110.17s/it]"
     ]
    },
    {
     "name": "stdout",
     "output_type": "stream",
     "text": [
      "LDC 4\n"
     ]
    },
    {
     "name": "stderr",
     "output_type": "stream",
     "text": [
      "100%|██████████| 2085/2085 [01:50<00:00, 18.90it/s]\n",
      " 57%|█████▋    | 4/7 [07:12<05:31, 110.47s/it]"
     ]
    },
    {
     "name": "stdout",
     "output_type": "stream",
     "text": [
      "LDC 5\n"
     ]
    },
    {
     "name": "stderr",
     "output_type": "stream",
     "text": [
      "100%|██████████| 2231/2231 [01:59<00:00, 18.67it/s]\n",
      " 71%|███████▏  | 5/7 [09:13<03:47, 113.96s/it]"
     ]
    },
    {
     "name": "stdout",
     "output_type": "stream",
     "text": [
      "LDC 6\n"
     ]
    },
    {
     "name": "stderr",
     "output_type": "stream",
     "text": [
      "100%|██████████| 2212/2212 [01:59<00:00, 18.53it/s]\n",
      " 86%|████████▌ | 6/7 [11:13<01:56, 116.03s/it]"
     ]
    },
    {
     "name": "stdout",
     "output_type": "stream",
     "text": [
      "LDC 7\n"
     ]
    },
    {
     "name": "stderr",
     "output_type": "stream",
     "text": [
      "100%|██████████| 2226/2226 [02:03<00:00, 18.03it/s]\n",
      "100%|██████████| 7/7 [13:17<00:00, 113.90s/it]\n"
     ]
    }
   ],
   "source": [
    "# Load in DSTs,\n",
    "# whole thing\n",
    "n100_dir = f'/gluster/data/next/files/TOPOLOGY_John/N100_data/{RUN_NUMBER}/sophronia/trigger2/'\n",
    "\n",
    "hdst = []\n",
    "\n",
    "for i in tqdm(range(1,8)):\n",
    "    print(f\"LDC {i}\")\n",
    "    folder_path = n100_dir + 'ldc' + str(i) + '/'\n",
    "    file_names = [f for f in os.listdir(folder_path) if os.path.isfile(os.path.join(folder_path, f)) and f.endswith('.h5')]\n",
    "    for file in tqdm(file_names):\n",
    "        try:\n",
    "            hdst.append(load_dst(folder_path + file, 'DST', 'Events'))\n",
    "        except Exception as e:\n",
    "            print(f'File {file} broke with error:\\n{e}')        \n",
    "\n",
    "hdst = pd.concat(hdst)"
   ]
  },
  {
   "cell_type": "code",
   "execution_count": 8,
   "metadata": {},
   "outputs": [
    {
     "data": {
      "text/html": [
       "<div>\n",
       "<style scoped>\n",
       "    .dataframe tbody tr th:only-of-type {\n",
       "        vertical-align: middle;\n",
       "    }\n",
       "\n",
       "    .dataframe tbody tr th {\n",
       "        vertical-align: top;\n",
       "    }\n",
       "\n",
       "    .dataframe thead th {\n",
       "        text-align: right;\n",
       "    }\n",
       "</style>\n",
       "<table border=\"1\" class=\"dataframe\">\n",
       "  <thead>\n",
       "    <tr style=\"text-align: right;\">\n",
       "      <th></th>\n",
       "      <th>event</th>\n",
       "      <th>time</th>\n",
       "      <th>s1_peak</th>\n",
       "      <th>s2_peak</th>\n",
       "      <th>nS1</th>\n",
       "      <th>nS2</th>\n",
       "      <th>S1w</th>\n",
       "      <th>S1h</th>\n",
       "      <th>S1e</th>\n",
       "      <th>S1t</th>\n",
       "      <th>...</th>\n",
       "      <th>Nsipm</th>\n",
       "      <th>DT</th>\n",
       "      <th>Z</th>\n",
       "      <th>Zrms</th>\n",
       "      <th>X</th>\n",
       "      <th>Y</th>\n",
       "      <th>R</th>\n",
       "      <th>Phi</th>\n",
       "      <th>Xrms</th>\n",
       "      <th>Yrms</th>\n",
       "    </tr>\n",
       "  </thead>\n",
       "  <tbody>\n",
       "    <tr>\n",
       "      <th>0</th>\n",
       "      <td>156</td>\n",
       "      <td>1.742935e+09</td>\n",
       "      <td>0</td>\n",
       "      <td>0</td>\n",
       "      <td>1</td>\n",
       "      <td>2</td>\n",
       "      <td>600.0</td>\n",
       "      <td>24.381660</td>\n",
       "      <td>136.866943</td>\n",
       "      <td>619825.0</td>\n",
       "      <td>...</td>\n",
       "      <td>2111</td>\n",
       "      <td>-218.339066</td>\n",
       "      <td>-218.339066</td>\n",
       "      <td>19.622758</td>\n",
       "      <td>137.029985</td>\n",
       "      <td>27.834735</td>\n",
       "      <td>139.828428</td>\n",
       "      <td>0.200402</td>\n",
       "      <td>240.724924</td>\n",
       "      <td>195.344402</td>\n",
       "    </tr>\n",
       "    <tr>\n",
       "      <th>1</th>\n",
       "      <td>156</td>\n",
       "      <td>1.742935e+09</td>\n",
       "      <td>0</td>\n",
       "      <td>1</td>\n",
       "      <td>1</td>\n",
       "      <td>2</td>\n",
       "      <td>600.0</td>\n",
       "      <td>24.381660</td>\n",
       "      <td>136.866943</td>\n",
       "      <td>619825.0</td>\n",
       "      <td>...</td>\n",
       "      <td>2152</td>\n",
       "      <td>787.668030</td>\n",
       "      <td>787.668030</td>\n",
       "      <td>18.626027</td>\n",
       "      <td>116.011572</td>\n",
       "      <td>-55.936634</td>\n",
       "      <td>128.792826</td>\n",
       "      <td>-0.449277</td>\n",
       "      <td>221.975949</td>\n",
       "      <td>200.956738</td>\n",
       "    </tr>\n",
       "    <tr>\n",
       "      <th>2</th>\n",
       "      <td>275</td>\n",
       "      <td>1.742935e+09</td>\n",
       "      <td>0</td>\n",
       "      <td>0</td>\n",
       "      <td>1</td>\n",
       "      <td>1</td>\n",
       "      <td>375.0</td>\n",
       "      <td>20.105528</td>\n",
       "      <td>130.680893</td>\n",
       "      <td>1217525.0</td>\n",
       "      <td>...</td>\n",
       "      <td>2539</td>\n",
       "      <td>185.960632</td>\n",
       "      <td>185.960632</td>\n",
       "      <td>18.371055</td>\n",
       "      <td>15.761644</td>\n",
       "      <td>-65.178615</td>\n",
       "      <td>67.057299</td>\n",
       "      <td>-1.333529</td>\n",
       "      <td>190.955556</td>\n",
       "      <td>208.454665</td>\n",
       "    </tr>\n",
       "    <tr>\n",
       "      <th>3</th>\n",
       "      <td>317</td>\n",
       "      <td>1.742935e+09</td>\n",
       "      <td>0</td>\n",
       "      <td>0</td>\n",
       "      <td>3</td>\n",
       "      <td>3</td>\n",
       "      <td>225.0</td>\n",
       "      <td>19.746523</td>\n",
       "      <td>148.996826</td>\n",
       "      <td>562650.0</td>\n",
       "      <td>...</td>\n",
       "      <td>776</td>\n",
       "      <td>-3.149063</td>\n",
       "      <td>-3.149063</td>\n",
       "      <td>3.503168</td>\n",
       "      <td>66.337331</td>\n",
       "      <td>2.219122</td>\n",
       "      <td>66.374438</td>\n",
       "      <td>0.033440</td>\n",
       "      <td>211.118392</td>\n",
       "      <td>194.975194</td>\n",
       "    </tr>\n",
       "    <tr>\n",
       "      <th>4</th>\n",
       "      <td>317</td>\n",
       "      <td>1.742935e+09</td>\n",
       "      <td>0</td>\n",
       "      <td>1</td>\n",
       "      <td>3</td>\n",
       "      <td>3</td>\n",
       "      <td>225.0</td>\n",
       "      <td>19.746523</td>\n",
       "      <td>148.996826</td>\n",
       "      <td>562650.0</td>\n",
       "      <td>...</td>\n",
       "      <td>724</td>\n",
       "      <td>452.851776</td>\n",
       "      <td>452.851776</td>\n",
       "      <td>6.683204</td>\n",
       "      <td>17.697822</td>\n",
       "      <td>39.607853</td>\n",
       "      <td>43.381966</td>\n",
       "      <td>1.150585</td>\n",
       "      <td>253.569501</td>\n",
       "      <td>263.959456</td>\n",
       "    </tr>\n",
       "    <tr>\n",
       "      <th>...</th>\n",
       "      <td>...</td>\n",
       "      <td>...</td>\n",
       "      <td>...</td>\n",
       "      <td>...</td>\n",
       "      <td>...</td>\n",
       "      <td>...</td>\n",
       "      <td>...</td>\n",
       "      <td>...</td>\n",
       "      <td>...</td>\n",
       "      <td>...</td>\n",
       "      <td>...</td>\n",
       "      <td>...</td>\n",
       "      <td>...</td>\n",
       "      <td>...</td>\n",
       "      <td>...</td>\n",
       "      <td>...</td>\n",
       "      <td>...</td>\n",
       "      <td>...</td>\n",
       "      <td>...</td>\n",
       "      <td>...</td>\n",
       "      <td>...</td>\n",
       "    </tr>\n",
       "    <tr>\n",
       "      <th>8</th>\n",
       "      <td>391495</td>\n",
       "      <td>1.742940e+09</td>\n",
       "      <td>65535</td>\n",
       "      <td>5</td>\n",
       "      <td>0</td>\n",
       "      <td>6</td>\n",
       "      <td>NaN</td>\n",
       "      <td>NaN</td>\n",
       "      <td>NaN</td>\n",
       "      <td>NaN</td>\n",
       "      <td>...</td>\n",
       "      <td>856</td>\n",
       "      <td>NaN</td>\n",
       "      <td>NaN</td>\n",
       "      <td>3.964980</td>\n",
       "      <td>-80.113536</td>\n",
       "      <td>134.404147</td>\n",
       "      <td>156.469337</td>\n",
       "      <td>2.108317</td>\n",
       "      <td>242.908390</td>\n",
       "      <td>271.176978</td>\n",
       "    </tr>\n",
       "    <tr>\n",
       "      <th>9</th>\n",
       "      <td>391810</td>\n",
       "      <td>1.742940e+09</td>\n",
       "      <td>0</td>\n",
       "      <td>0</td>\n",
       "      <td>1</td>\n",
       "      <td>4</td>\n",
       "      <td>725.0</td>\n",
       "      <td>35.936073</td>\n",
       "      <td>198.177307</td>\n",
       "      <td>754925.0</td>\n",
       "      <td>...</td>\n",
       "      <td>381</td>\n",
       "      <td>569.543152</td>\n",
       "      <td>569.543152</td>\n",
       "      <td>4.456573</td>\n",
       "      <td>-47.094804</td>\n",
       "      <td>33.190097</td>\n",
       "      <td>57.615129</td>\n",
       "      <td>2.527685</td>\n",
       "      <td>233.144656</td>\n",
       "      <td>219.503977</td>\n",
       "    </tr>\n",
       "    <tr>\n",
       "      <th>10</th>\n",
       "      <td>391810</td>\n",
       "      <td>1.742940e+09</td>\n",
       "      <td>0</td>\n",
       "      <td>1</td>\n",
       "      <td>1</td>\n",
       "      <td>4</td>\n",
       "      <td>725.0</td>\n",
       "      <td>35.936073</td>\n",
       "      <td>198.177307</td>\n",
       "      <td>754925.0</td>\n",
       "      <td>...</td>\n",
       "      <td>2237</td>\n",
       "      <td>647.567139</td>\n",
       "      <td>647.567139</td>\n",
       "      <td>8.598272</td>\n",
       "      <td>16.955107</td>\n",
       "      <td>33.760311</td>\n",
       "      <td>37.778754</td>\n",
       "      <td>1.105374</td>\n",
       "      <td>243.084097</td>\n",
       "      <td>206.085915</td>\n",
       "    </tr>\n",
       "    <tr>\n",
       "      <th>11</th>\n",
       "      <td>391810</td>\n",
       "      <td>1.742940e+09</td>\n",
       "      <td>0</td>\n",
       "      <td>2</td>\n",
       "      <td>1</td>\n",
       "      <td>4</td>\n",
       "      <td>725.0</td>\n",
       "      <td>35.936073</td>\n",
       "      <td>198.177307</td>\n",
       "      <td>754925.0</td>\n",
       "      <td>...</td>\n",
       "      <td>1914</td>\n",
       "      <td>865.564148</td>\n",
       "      <td>865.564148</td>\n",
       "      <td>8.254498</td>\n",
       "      <td>-112.437175</td>\n",
       "      <td>60.467513</td>\n",
       "      <td>127.665338</td>\n",
       "      <td>2.648173</td>\n",
       "      <td>249.455369</td>\n",
       "      <td>211.893678</td>\n",
       "    </tr>\n",
       "    <tr>\n",
       "      <th>12</th>\n",
       "      <td>391810</td>\n",
       "      <td>1.742940e+09</td>\n",
       "      <td>0</td>\n",
       "      <td>3</td>\n",
       "      <td>1</td>\n",
       "      <td>4</td>\n",
       "      <td>725.0</td>\n",
       "      <td>35.936073</td>\n",
       "      <td>198.177307</td>\n",
       "      <td>754925.0</td>\n",
       "      <td>...</td>\n",
       "      <td>351</td>\n",
       "      <td>1058.562500</td>\n",
       "      <td>1058.562500</td>\n",
       "      <td>6.228166</td>\n",
       "      <td>63.353932</td>\n",
       "      <td>0.765341</td>\n",
       "      <td>63.358555</td>\n",
       "      <td>0.012080</td>\n",
       "      <td>266.173222</td>\n",
       "      <td>233.200932</td>\n",
       "    </tr>\n",
       "  </tbody>\n",
       "</table>\n",
       "<p>174567 rows × 26 columns</p>\n",
       "</div>"
      ],
      "text/plain": [
       "     event          time  s1_peak  s2_peak  nS1  nS2    S1w        S1h  \\\n",
       "0      156  1.742935e+09        0        0    1    2  600.0  24.381660   \n",
       "1      156  1.742935e+09        0        1    1    2  600.0  24.381660   \n",
       "2      275  1.742935e+09        0        0    1    1  375.0  20.105528   \n",
       "3      317  1.742935e+09        0        0    3    3  225.0  19.746523   \n",
       "4      317  1.742935e+09        0        1    3    3  225.0  19.746523   \n",
       "..     ...           ...      ...      ...  ...  ...    ...        ...   \n",
       "8   391495  1.742940e+09    65535        5    0    6    NaN        NaN   \n",
       "9   391810  1.742940e+09        0        0    1    4  725.0  35.936073   \n",
       "10  391810  1.742940e+09        0        1    1    4  725.0  35.936073   \n",
       "11  391810  1.742940e+09        0        2    1    4  725.0  35.936073   \n",
       "12  391810  1.742940e+09        0        3    1    4  725.0  35.936073   \n",
       "\n",
       "           S1e        S1t  ...  Nsipm           DT            Z       Zrms  \\\n",
       "0   136.866943   619825.0  ...   2111  -218.339066  -218.339066  19.622758   \n",
       "1   136.866943   619825.0  ...   2152   787.668030   787.668030  18.626027   \n",
       "2   130.680893  1217525.0  ...   2539   185.960632   185.960632  18.371055   \n",
       "3   148.996826   562650.0  ...    776    -3.149063    -3.149063   3.503168   \n",
       "4   148.996826   562650.0  ...    724   452.851776   452.851776   6.683204   \n",
       "..         ...        ...  ...    ...          ...          ...        ...   \n",
       "8          NaN        NaN  ...    856          NaN          NaN   3.964980   \n",
       "9   198.177307   754925.0  ...    381   569.543152   569.543152   4.456573   \n",
       "10  198.177307   754925.0  ...   2237   647.567139   647.567139   8.598272   \n",
       "11  198.177307   754925.0  ...   1914   865.564148   865.564148   8.254498   \n",
       "12  198.177307   754925.0  ...    351  1058.562500  1058.562500   6.228166   \n",
       "\n",
       "             X           Y           R       Phi        Xrms        Yrms  \n",
       "0   137.029985   27.834735  139.828428  0.200402  240.724924  195.344402  \n",
       "1   116.011572  -55.936634  128.792826 -0.449277  221.975949  200.956738  \n",
       "2    15.761644  -65.178615   67.057299 -1.333529  190.955556  208.454665  \n",
       "3    66.337331    2.219122   66.374438  0.033440  211.118392  194.975194  \n",
       "4    17.697822   39.607853   43.381966  1.150585  253.569501  263.959456  \n",
       "..         ...         ...         ...       ...         ...         ...  \n",
       "8   -80.113536  134.404147  156.469337  2.108317  242.908390  271.176978  \n",
       "9   -47.094804   33.190097   57.615129  2.527685  233.144656  219.503977  \n",
       "10   16.955107   33.760311   37.778754  1.105374  243.084097  206.085915  \n",
       "11 -112.437175   60.467513  127.665338  2.648173  249.455369  211.893678  \n",
       "12   63.353932    0.765341   63.358555  0.012080  266.173222  233.200932  \n",
       "\n",
       "[174567 rows x 26 columns]"
      ]
     },
     "metadata": {},
     "output_type": "display_data"
    }
   ],
   "source": [
    "display(hdst)"
   ]
  },
  {
   "cell_type": "markdown",
   "metadata": {},
   "source": [
    "### DT removal"
   ]
  },
  {
   "cell_type": "code",
   "execution_count": 11,
   "metadata": {},
   "outputs": [
    {
     "name": "stdout",
     "output_type": "stream",
     "text": [
      "Efficiency:\n",
      "90.79%\n"
     ]
    }
   ],
   "source": [
    "low_DT = hdst[hdst.DT < 1500]\n",
    "low_DT = low_DT[low_DT.DT > 0]\n",
    "\n",
    "print(f'Efficiency:')\n",
    "print(f'{100*(len(low_DT.event.unique())/len(hdst.event.unique())):.2f}%')"
   ]
  },
  {
   "cell_type": "markdown",
   "metadata": {},
   "source": [
    "### Low s2e removal"
   ]
  },
  {
   "cell_type": "code",
   "execution_count": 20,
   "metadata": {},
   "outputs": [
    {
     "data": {
      "text/plain": [
       "Text(0.5, 0, 's2e')"
      ]
     },
     "execution_count": 20,
     "metadata": {},
     "output_type": "execute_result"
    },
    {
     "data": {
      "image/png": "[encoded data removed]",
      "text/plain": [
       "<Figure size 1000x800 with 1 Axes>"
      ]
     },
     "metadata": {},
     "output_type": "display_data"
    }
   ],
   "source": [
    "plt.hist(low_DT.S2e.values, bins = 50, range = (0, 100000))\n",
    "plt.scatter(3000, 1000, s = 100, c = 'red')\n",
    "plt.xlabel('s2e')\n"
   ]
  },
  {
   "cell_type": "code",
   "execution_count": 21,
   "metadata": {},
   "outputs": [
    {
     "name": "stdout",
     "output_type": "stream",
     "text": [
      "Relative Efficiency:\n",
      "100.00%\n",
      "Absolute Efficiency:\n",
      "90.79%\n"
     ]
    }
   ],
   "source": [
    "# need to check this\n",
    "high_s2e = low_DT[low_DT.S2e > 10000]\n",
    "\n",
    "print(f'Relative Efficiency:')\n",
    "print(f'{100*(len(high_s2e.event.unique())/len(low_DT.event.unique())):.2f}%')\n",
    "\n",
    "print(f'Absolute Efficiency:')\n",
    "print(f'{100*(len(high_s2e.event.unique())/len(hdst.event.unique())):.2f}%')"
   ]
  },
  {
   "cell_type": "code",
   "execution_count": null,
   "metadata": {},
   "outputs": [],
   "source": []
  },
  {
   "cell_type": "code",
   "execution_count": null,
   "metadata": {},
   "outputs": [],
   "source": []
  },
  {
   "cell_type": "code",
   "execution_count": null,
   "metadata": {},
   "outputs": [],
   "source": []
  },
  {
   "cell_type": "code",
   "execution_count": null,
   "metadata": {},
   "outputs": [],
   "source": []
  },
  {
   "cell_type": "markdown",
   "metadata": {},
   "source": []
  }
 ],
 "metadata": {
  "kernelspec": {
   "display_name": "IC-3.8-2024-06-08",
   "language": "python",
   "name": "python3"
  },
  "language_info": {
   "codemirror_mode": {
    "name": "ipython",
    "version": 3
   },
   "file_extension": ".py",
   "mimetype": "text/x-python",
   "name": "python",
   "nbconvert_exporter": "python",
   "pygments_lexer": "ipython3",
   "version": "3.8.20"
  }
 },
 "nbformat": 4,
 "nbformat_minor": 2
}
