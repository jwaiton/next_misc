{
 "cells": [
  {
   "cell_type": "markdown",
   "metadata": {},
   "source": [
    "### testing PR 896\n",
    "\n",
    "**Improve utilites for structure comparison in tests**\n",
    "\n",
    "https://github.com/next-exp/IC/pull/896/\n",
    "\n",
    "The comparison expects both tables provided to be the same. Areas I'm testing:\n",
    "- tables have the same names\n",
    "- tables with differing lengths/widths provides correct assertion\n",
    "- differing column names \n",
    "- differing data types/values\n",
    "- edge case in line 158. If two dataframes provided are empty, what happens?\n"
   ]
  },
  {
   "cell_type": "code",
   "execution_count": 6,
   "metadata": {},
   "outputs": [],
   "source": [
    "import sys,os,os.path\n",
    "sys.path.append(\"../../\") # if you move files around, you need to adjust this!\n",
    "sys.path.append(os.path.expanduser('~/code/eol_hsrl_python'))\n",
    "sys.path.append(\"/home/e78368jw/Documents/NEXT_CODE/next_misc/\")\n",
    "os.environ['ICTDIR']='/home/e78368jw/Documents/NEXT_CODE/IC'\n",
    "\n",
    "\n",
    "import os\n",
    "import sys\n",
    "import random\n",
    "import tables as tb\n",
    "import numpy  as np\n",
    "import pandas as pd\n",
    "\n",
    "from invisible_cities.core.testing_utils import _get_table_name\n",
    "from invisible_cities.core.testing_utils import assert_tables_equality\n"
   ]
  },
  {
   "cell_type": "markdown",
   "metadata": {},
   "source": [
    "# This should be provided in tests (it now is). So im just testing that the output looks as desired."
   ]
  },
  {
   "cell_type": "code",
   "execution_count": 7,
   "metadata": {},
   "outputs": [],
   "source": [
    "dtypes1 = [('text', 'U10'), ('integer', 'i4'), ('float', 'f4')]\n",
    "table1  = np.array([ ('one', 1, 1.0)\n",
    "                    , ('two', 2, 2.0)],\n",
    "                    dtype=dtypes1)\n",
    "\n",
    "dtypes2 = [('different_name', 'U10'), ('integer', 'i4'), ('float', 'f4')]\n",
    "table2  = np.array([ ('one', 1, 1.0)\n",
    "                    , ('two', 2, 2.0)],\n",
    "                    dtype=dtypes2)"
   ]
  },
  {
   "cell_type": "code",
   "execution_count": 8,
   "metadata": {},
   "outputs": [
    {
     "ename": "AssertionError",
     "evalue": "Column text missing in unknown",
     "output_type": "error",
     "traceback": [
      "\u001b[0;31m---------------------------------------------------------------------------\u001b[0m",
      "\u001b[0;31mAssertionError\u001b[0m                            Traceback (most recent call last)",
      "Cell \u001b[0;32mIn[8], line 1\u001b[0m\n\u001b[0;32m----> 1\u001b[0m \u001b[43massert_tables_equality\u001b[49m\u001b[43m(\u001b[49m\u001b[43mtable1\u001b[49m\u001b[43m,\u001b[49m\u001b[43m \u001b[49m\u001b[43mtable2\u001b[49m\u001b[43m)\u001b[49m\n",
      "File \u001b[0;32m~/Documents/NEXT_CODE/IC/invisible_cities/core/testing_utils.py:145\u001b[0m, in \u001b[0;36massert_tables_equality\u001b[0;34m(got_table, expected_table, rtol, atol)\u001b[0m\n\u001b[1;32m    143\u001b[0m \u001b[38;5;28;01mif\u001b[39;00m table_got\u001b[38;5;241m.\u001b[39mdtype\u001b[38;5;241m.\u001b[39mnames \u001b[38;5;129;01mis\u001b[39;00m \u001b[38;5;129;01mnot\u001b[39;00m \u001b[38;5;28;01mNone\u001b[39;00m:\n\u001b[1;32m    144\u001b[0m     \u001b[38;5;28;01mfor\u001b[39;00m col_name \u001b[38;5;129;01min\u001b[39;00m table_got\u001b[38;5;241m.\u001b[39mdtype\u001b[38;5;241m.\u001b[39mnames:\n\u001b[0;32m--> 145\u001b[0m         \u001b[38;5;28;01massert\u001b[39;00m col_name \u001b[38;5;129;01min\u001b[39;00m table_expected\u001b[38;5;241m.\u001b[39mdtype\u001b[38;5;241m.\u001b[39mnames, \u001b[38;5;124mf\u001b[39m\u001b[38;5;124m\"\u001b[39m\u001b[38;5;124mColumn \u001b[39m\u001b[38;5;132;01m{\u001b[39;00mcol_name\u001b[38;5;132;01m}\u001b[39;00m\u001b[38;5;124m missing in \u001b[39m\u001b[38;5;132;01m{\u001b[39;00mnames[\u001b[38;5;241m1\u001b[39m]\u001b[38;5;132;01m}\u001b[39;00m\u001b[38;5;124m\"\u001b[39m\n\u001b[1;32m    147\u001b[0m         got      \u001b[38;5;241m=\u001b[39m table_got     [col_name]\n\u001b[1;32m    148\u001b[0m         expected \u001b[38;5;241m=\u001b[39m table_expected[col_name]\n",
      "\u001b[0;31mAssertionError\u001b[0m: Column text missing in unknown"
     ]
    }
   ],
   "source": [
    "assert_tables_equality(table1, table2)"
   ]
  },
  {
   "cell_type": "code",
   "execution_count": 11,
   "metadata": {},
   "outputs": [
    {
     "name": "stdout",
     "output_type": "stream",
     "text": [
      "Mismatch in column text of tables ('unknown', 'unknown')\n"
     ]
    },
    {
     "ename": "AssertionError",
     "evalue": "\nArrays are not equal\n\nMismatched elements: 1 / 2 (50%)\n x: array(['one', 'two'], dtype='<U10')\n y: array(['one', 'three'], dtype='<U10')",
     "output_type": "error",
     "traceback": [
      "\u001b[0;31m---------------------------------------------------------------------------\u001b[0m",
      "\u001b[0;31mAssertionError\u001b[0m                            Traceback (most recent call last)",
      "Cell \u001b[0;32mIn[11], line 11\u001b[0m\n\u001b[1;32m      8\u001b[0m table2 \u001b[38;5;241m=\u001b[39m table1\u001b[38;5;241m.\u001b[39mcopy()\n\u001b[1;32m      9\u001b[0m table2[\u001b[38;5;241m1\u001b[39m][index] \u001b[38;5;241m=\u001b[39m value\n\u001b[0;32m---> 11\u001b[0m \u001b[43massert_tables_equality\u001b[49m\u001b[43m(\u001b[49m\u001b[43mtable1\u001b[49m\u001b[43m,\u001b[49m\u001b[43m \u001b[49m\u001b[43mtable2\u001b[49m\u001b[43m)\u001b[49m\n",
      "File \u001b[0;32m~/Documents/NEXT_CODE/IC/invisible_cities/core/testing_utils.py:154\u001b[0m, in \u001b[0;36massert_tables_equality\u001b[0;34m(got_table, expected_table, rtol, atol)\u001b[0m\n\u001b[1;32m    152\u001b[0m     is_float \u001b[38;5;241m=\u001b[39m got\u001b[38;5;241m.\u001b[39mdtype\u001b[38;5;241m.\u001b[39mkind \u001b[38;5;241m==\u001b[39m \u001b[38;5;124m'\u001b[39m\u001b[38;5;124mf\u001b[39m\u001b[38;5;124m'\u001b[39m\n\u001b[1;32m    153\u001b[0m     \u001b[38;5;28;01mif\u001b[39;00m   is_float: assert_allclose(got, expected, rtol\u001b[38;5;241m=\u001b[39mrtol, atol\u001b[38;5;241m=\u001b[39matol)\n\u001b[0;32m--> 154\u001b[0m     \u001b[38;5;28;01melse\u001b[39;00m         : \u001b[43massert_equal\u001b[49m\u001b[43m   \u001b[49m\u001b[43m(\u001b[49m\u001b[43mgot\u001b[49m\u001b[43m,\u001b[49m\u001b[43m \u001b[49m\u001b[43mexpected\u001b[49m\u001b[43m)\u001b[49m\n\u001b[1;32m    155\u001b[0m \u001b[38;5;28;01mexcept\u001b[39;00m:\n\u001b[1;32m    156\u001b[0m     \u001b[38;5;28mprint\u001b[39m(\u001b[38;5;124mf\u001b[39m\u001b[38;5;124m\"\u001b[39m\u001b[38;5;124mMismatch in column \u001b[39m\u001b[38;5;132;01m{\u001b[39;00mcol_name\u001b[38;5;132;01m}\u001b[39;00m\u001b[38;5;124m of tables \u001b[39m\u001b[38;5;132;01m{\u001b[39;00mnames\u001b[38;5;132;01m}\u001b[39;00m\u001b[38;5;124m\"\u001b[39m)\n",
      "    \u001b[0;31m[... skipping hidden 2 frame]\u001b[0m\n",
      "File \u001b[0;32m~/anaconda3/envs/IC-3.8-2022-04-13/lib/python3.8/site-packages/numpy/testing/_private/utils.py:842\u001b[0m, in \u001b[0;36massert_array_compare\u001b[0;34m(comparison, x, y, err_msg, verbose, header, precision, equal_nan, equal_inf)\u001b[0m\n\u001b[1;32m    838\u001b[0m         err_msg \u001b[38;5;241m+\u001b[39m\u001b[38;5;241m=\u001b[39m \u001b[38;5;124m'\u001b[39m\u001b[38;5;130;01m\\n\u001b[39;00m\u001b[38;5;124m'\u001b[39m \u001b[38;5;241m+\u001b[39m \u001b[38;5;124m'\u001b[39m\u001b[38;5;130;01m\\n\u001b[39;00m\u001b[38;5;124m'\u001b[39m\u001b[38;5;241m.\u001b[39mjoin(remarks)\n\u001b[1;32m    839\u001b[0m         msg \u001b[38;5;241m=\u001b[39m build_err_msg([ox, oy], err_msg,\n\u001b[1;32m    840\u001b[0m                             verbose\u001b[38;5;241m=\u001b[39mverbose, header\u001b[38;5;241m=\u001b[39mheader,\n\u001b[1;32m    841\u001b[0m                             names\u001b[38;5;241m=\u001b[39m(\u001b[38;5;124m'\u001b[39m\u001b[38;5;124mx\u001b[39m\u001b[38;5;124m'\u001b[39m, \u001b[38;5;124m'\u001b[39m\u001b[38;5;124my\u001b[39m\u001b[38;5;124m'\u001b[39m), precision\u001b[38;5;241m=\u001b[39mprecision)\n\u001b[0;32m--> 842\u001b[0m         \u001b[38;5;28;01mraise\u001b[39;00m \u001b[38;5;167;01mAssertionError\u001b[39;00m(msg)\n\u001b[1;32m    843\u001b[0m \u001b[38;5;28;01mexcept\u001b[39;00m \u001b[38;5;167;01mValueError\u001b[39;00m:\n\u001b[1;32m    844\u001b[0m     \u001b[38;5;28;01mimport\u001b[39;00m \u001b[38;5;21;01mtraceback\u001b[39;00m\n",
      "\u001b[0;31mAssertionError\u001b[0m: \nArrays are not equal\n\nMismatched elements: 1 / 2 (50%)\n x: array(['one', 'two'], dtype='<U10')\n y: array(['one', 'three'], dtype='<U10')"
     ]
    }
   ],
   "source": [
    "index = 0\n",
    "value = 'three'\n",
    "\n",
    "table1 = np.array([ ('one', 1, 1.0)\n",
    "                    , ('two', 2, 2.0)],\n",
    "                    dtype=[('text', 'U10'), ('integer', 'i4'), ('float', 'f4')])\n",
    "\n",
    "table2 = table1.copy()\n",
    "table2[1][index] = value\n",
    "\n",
    "assert_tables_equality(table1, table2)"
   ]
  },
  {
   "cell_type": "code",
   "execution_count": 5,
   "metadata": {},
   "outputs": [
    {
     "ename": "AssertionError",
     "evalue": "Tables ('unknown', 'unknown') have different widths",
     "output_type": "error",
     "traceback": [
      "\u001b[0;31m---------------------------------------------------------------------------\u001b[0m",
      "\u001b[0;31mAssertionError\u001b[0m                            Traceback (most recent call last)",
      "Cell \u001b[0;32mIn[5], line 10\u001b[0m\n\u001b[1;32m      2\u001b[0m table1 \u001b[38;5;241m=\u001b[39m np\u001b[38;5;241m.\u001b[39marray([ (\u001b[38;5;124m'\u001b[39m\u001b[38;5;124mone\u001b[39m\u001b[38;5;124m'\u001b[39m, \u001b[38;5;241m1\u001b[39m, \u001b[38;5;241m1.0\u001b[39m)\n\u001b[1;32m      3\u001b[0m                     , (\u001b[38;5;124m'\u001b[39m\u001b[38;5;124mtwo\u001b[39m\u001b[38;5;124m'\u001b[39m, \u001b[38;5;241m2\u001b[39m, \u001b[38;5;241m2.0\u001b[39m)],\n\u001b[1;32m      4\u001b[0m                     dtype\u001b[38;5;241m=\u001b[39m[(\u001b[38;5;124m'\u001b[39m\u001b[38;5;124mtext\u001b[39m\u001b[38;5;124m'\u001b[39m, \u001b[38;5;124m'\u001b[39m\u001b[38;5;124mU10\u001b[39m\u001b[38;5;124m'\u001b[39m), (\u001b[38;5;124m'\u001b[39m\u001b[38;5;124minteger\u001b[39m\u001b[38;5;124m'\u001b[39m, \u001b[38;5;124m'\u001b[39m\u001b[38;5;124mi4\u001b[39m\u001b[38;5;124m'\u001b[39m), (\u001b[38;5;124m'\u001b[39m\u001b[38;5;124mfloat\u001b[39m\u001b[38;5;124m'\u001b[39m, \u001b[38;5;124m'\u001b[39m\u001b[38;5;124mf4\u001b[39m\u001b[38;5;124m'\u001b[39m)])\n\u001b[1;32m      6\u001b[0m table2 \u001b[38;5;241m=\u001b[39m np\u001b[38;5;241m.\u001b[39marray([ (\u001b[38;5;124m'\u001b[39m\u001b[38;5;124mone\u001b[39m\u001b[38;5;124m'\u001b[39m, \u001b[38;5;241m1\u001b[39m, \u001b[38;5;241m1.0\u001b[39m, \u001b[38;5;28;01mFalse\u001b[39;00m)\n\u001b[1;32m      7\u001b[0m                     , (\u001b[38;5;124m'\u001b[39m\u001b[38;5;124mtwo\u001b[39m\u001b[38;5;124m'\u001b[39m, \u001b[38;5;241m2\u001b[39m, \u001b[38;5;241m2.0\u001b[39m, \u001b[38;5;28;01mFalse\u001b[39;00m)],\n\u001b[1;32m      8\u001b[0m                     dtype\u001b[38;5;241m=\u001b[39m[(\u001b[38;5;124m'\u001b[39m\u001b[38;5;124mtext\u001b[39m\u001b[38;5;124m'\u001b[39m, \u001b[38;5;124m'\u001b[39m\u001b[38;5;124mU10\u001b[39m\u001b[38;5;124m'\u001b[39m), (\u001b[38;5;124m'\u001b[39m\u001b[38;5;124minteger\u001b[39m\u001b[38;5;124m'\u001b[39m, \u001b[38;5;124m'\u001b[39m\u001b[38;5;124mi4\u001b[39m\u001b[38;5;124m'\u001b[39m), (\u001b[38;5;124m'\u001b[39m\u001b[38;5;124mfloat\u001b[39m\u001b[38;5;124m'\u001b[39m, \u001b[38;5;124m'\u001b[39m\u001b[38;5;124mf4\u001b[39m\u001b[38;5;124m'\u001b[39m), (\u001b[38;5;124m'\u001b[39m\u001b[38;5;124mbool\u001b[39m\u001b[38;5;124m'\u001b[39m, \u001b[38;5;124m'\u001b[39m\u001b[38;5;124m?\u001b[39m\u001b[38;5;124m'\u001b[39m)])\n\u001b[0;32m---> 10\u001b[0m \u001b[43massert_tables_equality\u001b[49m\u001b[43m(\u001b[49m\u001b[43mtable1\u001b[49m\u001b[43m,\u001b[49m\u001b[43m \u001b[49m\u001b[43mtable2\u001b[49m\u001b[43m)\u001b[49m\n",
      "File \u001b[0;32m~/Documents/NEXT_CODE/IC/invisible_cities/core/testing_utils.py:141\u001b[0m, in \u001b[0;36massert_tables_equality\u001b[0;34m(got_table, expected_table, rtol, atol)\u001b[0m\n\u001b[1;32m    138\u001b[0m names          \u001b[38;5;241m=\u001b[39m _get_table_name(got_table), _get_table_name(expected_table)\n\u001b[1;32m    140\u001b[0m \u001b[38;5;28;01massert\u001b[39;00m \u001b[38;5;28mlen\u001b[39m(table_got      ) \u001b[38;5;241m==\u001b[39m \u001b[38;5;28mlen\u001b[39m(table_expected      ), \u001b[38;5;124mf\u001b[39m\u001b[38;5;124m\"\u001b[39m\u001b[38;5;124mTables \u001b[39m\u001b[38;5;132;01m{\u001b[39;00mnames\u001b[38;5;132;01m}\u001b[39;00m\u001b[38;5;124m have different lengths\u001b[39m\u001b[38;5;124m\"\u001b[39m\n\u001b[0;32m--> 141\u001b[0m \u001b[38;5;28;01massert\u001b[39;00m \u001b[38;5;28mlen\u001b[39m(table_got\u001b[38;5;241m.\u001b[39mdtype) \u001b[38;5;241m==\u001b[39m \u001b[38;5;28mlen\u001b[39m(table_expected\u001b[38;5;241m.\u001b[39mdtype), \u001b[38;5;124mf\u001b[39m\u001b[38;5;124m\"\u001b[39m\u001b[38;5;124mTables \u001b[39m\u001b[38;5;132;01m{\u001b[39;00mnames\u001b[38;5;132;01m}\u001b[39;00m\u001b[38;5;124m have different widths\u001b[39m\u001b[38;5;124m\"\u001b[39m\n\u001b[1;32m    143\u001b[0m \u001b[38;5;28;01mif\u001b[39;00m table_got\u001b[38;5;241m.\u001b[39mdtype\u001b[38;5;241m.\u001b[39mnames \u001b[38;5;129;01mis\u001b[39;00m \u001b[38;5;129;01mnot\u001b[39;00m \u001b[38;5;28;01mNone\u001b[39;00m:\n\u001b[1;32m    144\u001b[0m     \u001b[38;5;28;01mfor\u001b[39;00m col_name \u001b[38;5;129;01min\u001b[39;00m table_got\u001b[38;5;241m.\u001b[39mdtype\u001b[38;5;241m.\u001b[39mnames:\n",
      "\u001b[0;31mAssertionError\u001b[0m: Tables ('unknown', 'unknown') have different widths"
     ]
    }
   ],
   "source": [
    "# different widths\n",
    "table1 = np.array([ ('one', 1, 1.0)\n",
    "                    , ('two', 2, 2.0)],\n",
    "                    dtype=[('text', 'U10'), ('integer', 'i4'), ('float', 'f4')])\n",
    "\n",
    "table2 = np.array([ ('one', 1, 1.0, False)\n",
    "                    , ('two', 2, 2.0, False)],\n",
    "                    dtype=[('text', 'U10'), ('integer', 'i4'), ('float', 'f4'), ('bool', '?')])\n",
    "\n",
    "assert_tables_equality(table1, table2)"
   ]
  },
  {
   "cell_type": "code",
   "execution_count": 4,
   "metadata": {},
   "outputs": [],
   "source": [
    "array1 = np.arange(20, dtype=int)\n",
    "array2 = array1.copy()\n",
    "assert_tables_equality(array1, array2)"
   ]
  },
  {
   "cell_type": "code",
   "execution_count": 12,
   "metadata": {},
   "outputs": [
    {
     "ename": "Failed",
     "evalue": "DID NOT RAISE <class 'AssertionError'>",
     "output_type": "error",
     "traceback": [
      "\u001b[0;31m---------------------------------------------------------------------------\u001b[0m",
      "\u001b[0;31mFailed\u001b[0m                                    Traceback (most recent call last)",
      "Cell \u001b[0;32mIn[12], line 21\u001b[0m\n\u001b[1;32m     18\u001b[0m     assert_tables_equality(table1, table2)           \n\u001b[1;32m     20\u001b[0m \u001b[38;5;28;01mwith\u001b[39;00m raises(\u001b[38;5;167;01mAssertionError\u001b[39;00m):\n\u001b[0;32m---> 21\u001b[0m     assert_tables_equality(table2, table2)   \n\u001b[1;32m     23\u001b[0m \u001b[38;5;28mprint\u001b[39m(\u001b[38;5;124m\"\u001b[39m\u001b[38;5;124mShenaniganry\u001b[39m\u001b[38;5;124m\"\u001b[39m)\n\u001b[1;32m     24\u001b[0m \u001b[38;5;28;01mwith\u001b[39;00m raises(\u001b[38;5;167;01mAssertionError\u001b[39;00m):\n",
      "    \u001b[0;31m[... skipping hidden 1 frame]\u001b[0m\n",
      "File \u001b[0;32m~/anaconda3/envs/IC-3.8-2022-04-13/lib/python3.8/site-packages/_pytest/outcomes.py:153\u001b[0m, in \u001b[0;36mfail\u001b[0;34m(msg, pytrace)\u001b[0m\n\u001b[1;32m    144\u001b[0m \u001b[38;5;250m\u001b[39m\u001b[38;5;124;03m\"\"\"Explicitly fail an executing test with the given message.\u001b[39;00m\n\u001b[1;32m    145\u001b[0m \n\u001b[1;32m    146\u001b[0m \u001b[38;5;124;03m:param str msg:\u001b[39;00m\n\u001b[0;32m   (...)\u001b[0m\n\u001b[1;32m    150\u001b[0m \u001b[38;5;124;03m    python traceback will be reported.\u001b[39;00m\n\u001b[1;32m    151\u001b[0m \u001b[38;5;124;03m\"\"\"\u001b[39;00m\n\u001b[1;32m    152\u001b[0m __tracebackhide__ \u001b[38;5;241m=\u001b[39m \u001b[38;5;28;01mTrue\u001b[39;00m\n\u001b[0;32m--> 153\u001b[0m \u001b[38;5;28;01mraise\u001b[39;00m Failed(msg\u001b[38;5;241m=\u001b[39mmsg, pytrace\u001b[38;5;241m=\u001b[39mpytrace)\n",
      "\u001b[0;31mFailed\u001b[0m: DID NOT RAISE <class 'AssertionError'>"
     ]
    }
   ],
   "source": [
    "from pytest                       import raises\n",
    "\n",
    "table1 = np.array([ (1, 1.0)\n",
    "                    , (2, 2.0)],\n",
    "                    dtype=[('integer', 'i4'), ('float', 'f4')])\n",
    "\n",
    "table2 = np.array([ (1, 1.0)\n",
    "                    , (2, 2.0)\n",
    "                    , (3, 3.0)],\n",
    "                    dtype=[('integer', 'i4'), ('float', 'f4')])\n",
    "\n",
    "table3 = np.array([ ('one', 1, 1.0)\n",
    "                    , ('two', 2, 2.0)],\n",
    "                    dtype=[('text', 'U10'), ('integer', 'i4'), ('float', 'f4')])\n",
    "\n",
    "\n",
    "with raises(AssertionError):\n",
    "    assert_tables_equality(table1, table2)           \n",
    "\n",
    "with raises(AssertionError):\n",
    "    assert_tables_equality(table2, table2)   \n",
    "\n",
    "print(\"Shenaniganry\")\n",
    "with raises(AssertionError):\n",
    "    assert_tables_equality(table1, table3)           \n",
    "    "
   ]
  },
  {
   "cell_type": "code",
   "execution_count": null,
   "metadata": {},
   "outputs": [],
   "source": []
  }
 ],
 "metadata": {
  "kernelspec": {
   "display_name": "IC-3.8-2022-04-13",
   "language": "python",
   "name": "python3"
  },
  "language_info": {
   "codemirror_mode": {
    "name": "ipython",
    "version": 3
   },
   "file_extension": ".py",
   "mimetype": "text/x-python",
   "name": "python",
   "nbconvert_exporter": "python",
   "pygments_lexer": "ipython3",
   "version": "3.8.18"
  }
 },
 "nbformat": 4,
 "nbformat_minor": 2
}
