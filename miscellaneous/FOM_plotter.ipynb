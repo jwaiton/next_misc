{
 "cells": [
  {
   "cell_type": "code",
   "execution_count": 1,
   "metadata": {},
   "outputs": [],
   "source": [
    "import matplotlib.pyplot as plt\n",
    "import numpy as np\n",
    "import matplotlib.ticker as ticker\n",
    "import pandas as pd"
   ]
  },
  {
   "cell_type": "code",
   "execution_count": 2,
   "metadata": {},
   "outputs": [],
   "source": [
    "def plot_2Dhist(ND_array, xlabel, ylabel, title = '2D Histogram', xlabel_title = 'x axis', ylabel_title = 'y axis'):\n",
    "    '''\n",
    "    ND_array -> input array of NxN dimensions. MAKE SURE ITS NUMPY HSTACKED ARRAY\n",
    "    xlabel   -> x label list\n",
    "    ylabel   -> y label list\n",
    "\n",
    "    To make array suitable for input use function similar to this:\n",
    "    array = np.hstack((array_1, array_2, array_3, array_4, array_5, array_6)).reshape(-1,array_1.shape[0])\n",
    "    '''\n",
    "\n",
    "\n",
    "    nx, ny = ND_array.shape\n",
    "\n",
    "    indx, indy = np.arange(ny), np.arange(nx)\n",
    "    x, y = np.meshgrid(indx, indy, indexing='ij')\n",
    "\n",
    "    fig, ax = plt.subplots()\n",
    "    ax.imshow(ND_array, interpolation=\"none\")\n",
    "\n",
    "    for xval, yval in zip(y.flatten(), x.flatten()):\n",
    "        zval = ND_array[xval, yval]\n",
    "        t = zval # format value with 1 decimal point\n",
    "        c = 'k' if zval > 0.75 else 'w' # if dark-green, change text color to white\n",
    "        ax.text(yval, xval, t, color=c, va='center', ha='center')\n",
    "\n",
    "\n",
    "    xlabels = xlabel\n",
    "    ylabels = ylabel\n",
    "\n",
    "    ax.set_xticks(indx+0.5) # offset x/y ticks so gridlines run on border of boxes\n",
    "    ax.set_yticks(indy+0.5)\n",
    "    ax.grid(ls='-', lw=2)\n",
    "    ax.set_xlabel(xlabel_title)\n",
    "    ax.set_ylabel(ylabel_title)\n",
    "    ax.set_title(title)\n",
    "\n",
    "    # the tick labels, if you want them centered need to be adjusted in \n",
    "    # this special way.\n",
    "    for a, ind, labels in zip((ax.xaxis, ax.yaxis), (indx, indy), \n",
    "                            (xlabels, ylabels)):\n",
    "        a.set_major_formatter(ticker.NullFormatter())\n",
    "        a.set_minor_locator(ticker.FixedLocator(ind))\n",
    "        a.set_minor_formatter(ticker.FixedFormatter(labels))\n",
    "\n",
    "    ax.xaxis.tick_top()\n",
    "\n",
    "# It works! Functionalise\n",
    "def scrape_FOM_data(data_path):\n",
    "\n",
    "    # collect data\n",
    "    hold = pd.HDFStore(data_path)\n",
    "    store = hold.keys()\n",
    "    hold.close()\n",
    "\n",
    "    # sanitise\n",
    "    remove = [x.replace(\"/\", \"\") for x in store]\n",
    "    split = [(x.split(\"_\")) for x in remove]\n",
    "\n",
    "    # collect all unique first elements (n_iter)\n",
    "    unique_0s = list(set([x[0] for i, x in enumerate(split)]))\n",
    "    # and second elements\n",
    "    unique_1s = list(set([x[1] for i, x in enumerate(split)]))\n",
    "\n",
    "    # organise and add leading zero to column (1s)\n",
    "    unique_0s_ = sorted(unique_0s, key=float)\n",
    "    unique_1s_ = sorted(unique_1s, key=float)\n",
    "    unique_1s_ = [\"n_iter\"] + unique_1s_\n",
    "    \n",
    "    # create pandas dataframe with these as the axis\n",
    "    df = pd.DataFrame(columns = unique_1s_)\n",
    "    \n",
    "    # start adding rows babee\n",
    "    for i in range(len(unique_0s_)):\n",
    "    \tdf.loc[i] = [unique_0s_[i]] + list(np.full(shape=len(unique_1s), fill_value=np.nan))\n",
    "\n",
    "    # set it as the index as well\n",
    "    df.set_index('n_iter', inplace=True)\n",
    "    \n",
    "    # collect the data from each table in the h5 dataframe\n",
    "    for i in range(len(store)):\n",
    "        # reformat store data to allow for correct indexing\n",
    "        remove = store[i].replace(\"/\", \"\")\n",
    "        split = remove.split(\"_\")\n",
    "\n",
    "        play_thing = pd.read_hdf(data_path,key=store[i])\n",
    "        play_thing.set_index('Cut', inplace=True)\n",
    "        fom_val = play_thing.loc['FOM_MAX - blob2_E_val (MeV)', 'Relative Efficiency']\n",
    "            \n",
    "        df.at[split[0], split[1]] = fom_val\n",
    "\t\n",
    "    fom_list = []\n",
    "    for i in range(len(df.index)):\n",
    "        fom_list.append(df.loc[df.index[i]].to_numpy())\n",
    "    \n",
    "    fom_list = np.array(fom_list)\n",
    "    #reshape into x,y array\n",
    "    x_vals = (df.columns).to_list()\n",
    "    y_vals = (df.index).to_list()\n",
    "    \n",
    "    # set nans to zeros\n",
    "    fom_list[np.isnan(fom_list.astype(float))] = 0\n",
    "    \n",
    "    fom_list = np.round(fom_list.astype(float), decimals=2)\n",
    "    \n",
    "    plot_2Dhist(fom_list, x_vals, y_vals, title = 'FOM LPR', xlabel_title = 'number of iterations', ylabel_title = 'e_cut')\n",
    "    "
   ]
  },
  {
   "cell_type": "code",
   "execution_count": 9,
   "metadata": {},
   "outputs": [
    {
     "data": {
      "image/png": "[encoded data removed]",
      "text/plain": [
       "<Figure size 640x480 with 1 Axes>"
      ]
     },
     "metadata": {},
     "output_type": "display_data"
    }
   ],
   "source": [
    "scrape_FOM_data('../../../../Downloads/tmp_out/testing_arena/fiducial_0_1a.h5')"
   ]
  },
  {
   "cell_type": "code",
   "execution_count": 4,
   "metadata": {},
   "outputs": [
    {
     "ename": "ValueError",
     "evalue": "Dataset(s) incompatible with Pandas data types, not table, or no datasets found in HDF5 file.",
     "output_type": "error",
     "traceback": [
      "\u001b[0;31m---------------------------------------------------------------------------\u001b[0m",
      "\u001b[0;31mValueError\u001b[0m                                Traceback (most recent call last)",
      "\u001b[1;32m/home/e78368jw/Documents/NEXT_CODE/next_misc/miscellaneous/FOM_plotter.ipynb Cell 4\u001b[0m line \u001b[0;36m1\n\u001b[0;32m----> <a href='vscode-notebook-cell:/home/e78368jw/Documents/NEXT_CODE/next_misc/miscellaneous/FOM_plotter.ipynb#W3sZmlsZQ%3D%3D?line=0'>1</a>\u001b[0m test_data \u001b[39m=\u001b[39m pd\u001b[39m.\u001b[39;49mread_hdf(\u001b[39m'\u001b[39;49m\u001b[39m../../../../Downloads/tmp_out/testing_arena/fiducial.h5\u001b[39;49m\u001b[39m'\u001b[39;49m)\n",
      "File \u001b[0;32m~/anaconda3/envs/IC-3.8-2022-04-13/lib/python3.8/site-packages/pandas/io/pytables.py:438\u001b[0m, in \u001b[0;36mread_hdf\u001b[0;34m(path_or_buf, key, mode, errors, where, start, stop, columns, iterator, chunksize, **kwargs)\u001b[0m\n\u001b[1;32m    436\u001b[0m groups \u001b[39m=\u001b[39m store\u001b[39m.\u001b[39mgroups()\n\u001b[1;32m    437\u001b[0m \u001b[39mif\u001b[39;00m \u001b[39mlen\u001b[39m(groups) \u001b[39m==\u001b[39m \u001b[39m0\u001b[39m:\n\u001b[0;32m--> 438\u001b[0m     \u001b[39mraise\u001b[39;00m \u001b[39mValueError\u001b[39;00m(\n\u001b[1;32m    439\u001b[0m         \u001b[39m\"\u001b[39m\u001b[39mDataset(s) incompatible with Pandas data types, \u001b[39m\u001b[39m\"\u001b[39m\n\u001b[1;32m    440\u001b[0m         \u001b[39m\"\u001b[39m\u001b[39mnot table, or no datasets found in HDF5 file.\u001b[39m\u001b[39m\"\u001b[39m\n\u001b[1;32m    441\u001b[0m     )\n\u001b[1;32m    442\u001b[0m candidate_only_group \u001b[39m=\u001b[39m groups[\u001b[39m0\u001b[39m]\n\u001b[1;32m    444\u001b[0m \u001b[39m# For the HDF file to have only one dataset, all other groups\u001b[39;00m\n\u001b[1;32m    445\u001b[0m \u001b[39m# should then be metadata groups for that candidate group. (This\u001b[39;00m\n\u001b[1;32m    446\u001b[0m \u001b[39m# assumes that the groups() method enumerates parent groups\u001b[39;00m\n\u001b[1;32m    447\u001b[0m \u001b[39m# before their children.)\u001b[39;00m\n",
      "\u001b[0;31mValueError\u001b[0m: Dataset(s) incompatible with Pandas data types, not table, or no datasets found in HDF5 file."
     ]
    }
   ],
   "source": [
    "#test_data = pd.read_hdf('../../../../Downloads/tmp_out/testing_arena/fiducial.h5')"
   ]
  },
  {
   "cell_type": "code",
   "execution_count": null,
   "metadata": {},
   "outputs": [],
   "source": []
  }
 ],
 "metadata": {
  "kernelspec": {
   "display_name": "IC-3.8-2022-04-13",
   "language": "python",
   "name": "python3"
  },
  "language_info": {
   "codemirror_mode": {
    "name": "ipython",
    "version": 3
   },
   "file_extension": ".py",
   "mimetype": "text/x-python",
   "name": "python",
   "nbconvert_exporter": "python",
   "pygments_lexer": "ipython3",
   "version": "3.8.18"
  }
 },
 "nbformat": 4,
 "nbformat_minor": 2
}
