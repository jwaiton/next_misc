{
 "cells": [
  {
   "cell_type": "markdown",
   "metadata": {},
   "source": [
    "### Helena function for comparing MC true blob info to reco blob info\n",
    "\n",
    "\n",
    "this is the function for assigning blob info to MC"
   ]
  },
  {
   "cell_type": "code",
   "execution_count": 2,
   "metadata": {},
   "outputs": [
    {
     "ename": "ModuleNotFoundError",
     "evalue": "No module named 'IC'",
     "output_type": "error",
     "traceback": [
      "\u001b[0;31m---------------------------------------------------------------------------\u001b[0m",
      "\u001b[0;31mModuleNotFoundError\u001b[0m                       Traceback (most recent call last)",
      "Cell \u001b[0;32mIn[2], line 1\u001b[0m\n\u001b[0;32m----> 1\u001b[0m \u001b[38;5;28;01mimport\u001b[39;00m \u001b[38;5;21;01mIC\u001b[39;00m\u001b[38;5;21;01m.\u001b[39;00m\u001b[38;5;21;01minvisible_cities\u001b[39;00m\u001b[38;5;21;01m.\u001b[39;00m\u001b[38;5;21;01mio\u001b[39;00m\u001b[38;5;21;01m.\u001b[39;00m\u001b[38;5;21;01mmcinfo_io\u001b[39;00m \u001b[38;5;28;01mas\u001b[39;00m \u001b[38;5;21;01mmcio\u001b[39;00m\n",
      "\u001b[0;31mModuleNotFoundError\u001b[0m: No module named 'IC'"
     ]
    }
   ],
   "source": [
    "import IC.invisible_cities.io.mcinfo_io as mcio\n"
   ]
  },
  {
   "cell_type": "code",
   "execution_count": 1,
   "metadata": {},
   "outputs": [],
   "source": [
    "# \n",
    "def assign_trueblobs(true_0nubb_primary, tracks_0nubb_ROIovlp1trackfid, tag):\n",
    "    diff_b1_x, diff_b1_y, diff_b1_z = [], [], []\n",
    "    diff_b2_x, diff_b2_y, diff_b2_z = [], [], []\n",
    "\n",
    "    totalevents, events12AB, events12BA, eventsNA = 0, 0, 0, 0\n",
    "    \n",
    "    if (tag == 'signal'):\n",
    "        true_0nubb_primary_part1 = true_0nubb_primary[true_0nubb_primary.particle_id == 1]\n",
    "        true_0nubb_primary_part2 = true_0nubb_primary[true_0nubb_primary.particle_id == 2]\n",
    "        \n",
    "    events = tracks_0nubb_ROIovlp1trackfid.event.unique()\n",
    "    for nevt in events:\n",
    "        #print(nevt)\n",
    "        if nevt not in tracks_0nubb_ROIovlp1trackfid.event.unique():\n",
    "            continue\n",
    "        #if eventmap[eventmap.evt_number == nevt].index[0] not in true_0nubb_primary_part1.event_id.unique():\n",
    "        #    continue\n",
    "        if (tag == 'signal'):\n",
    "            true_x_pA = float(true_0nubb_primary_part1[true_0nubb_primary_part1.event_id == nevt].final_x.values[0])\n",
    "            true_y_pA = float(true_0nubb_primary_part1[true_0nubb_primary_part1.event_id == nevt].final_y.values[0])\n",
    "            true_z_pA = float(true_0nubb_primary_part1[true_0nubb_primary_part1.event_id == nevt].final_z.values[0])\n",
    "\n",
    "            true_x_pB = float(true_0nubb_primary_part2[true_0nubb_primary_part2.event_id == nevt].final_x.values[0])\n",
    "            true_y_pB = float(true_0nubb_primary_part2[true_0nubb_primary_part2.event_id == nevt].final_y.values[0])\n",
    "            true_z_pB = float(true_0nubb_primary_part2[true_0nubb_primary_part2.event_id == nevt].final_z.values[0])\n",
    "\n",
    "            true_r_p1 = math.sqrt(true_x_pA*true_x_pA+true_y_pA*true_y_pA)\n",
    "            true_r_p2 = math.sqrt(true_x_pB*true_x_pB+true_y_pB*true_y_pB)\n",
    "\n",
    "        elif (tag == 'bkg'):\n",
    "            true_x_pA = float(true_0nubb_primary[true_0nubb_primary.event_id == nevt].initial_x.values[0])\n",
    "            true_y_pA = float(true_0nubb_primary[true_0nubb_primary.event_id == nevt].initial_y.values[0])\n",
    "            true_z_pA = float(true_0nubb_primary[true_0nubb_primary.event_id == nevt].initial_z.values[0])\n",
    "\n",
    "            true_x_pB = float(true_0nubb_primary[true_0nubb_primary.event_id == nevt].final_x.values[0])\n",
    "            true_y_pB = float(true_0nubb_primary[true_0nubb_primary.event_id == nevt].final_y.values[0])\n",
    "            true_z_pB = float(true_0nubb_primary[true_0nubb_primary.event_id == nevt].final_z.values[0])\n",
    "            \n",
    "        reco_x_blob1 = float(tracks_0nubb_ROIovlp1trackfid[tracks_0nubb_ROIovlp1trackfid.event == nevt].blob1_x.values[0])\n",
    "        reco_y_blob1 = float(tracks_0nubb_ROIovlp1trackfid[tracks_0nubb_ROIovlp1trackfid.event == nevt].blob1_y.values[0])\n",
    "        reco_z_blob1 = float(tracks_0nubb_ROIovlp1trackfid[tracks_0nubb_ROIovlp1trackfid.event == nevt].blob1_z.values[0])\n",
    "\n",
    "        reco_x_blob2 = float(tracks_0nubb_ROIovlp1trackfid[tracks_0nubb_ROIovlp1trackfid.event == nevt].blob2_x.values[0])\n",
    "        reco_y_blob2 = float(tracks_0nubb_ROIovlp1trackfid[tracks_0nubb_ROIovlp1trackfid.event == nevt].blob2_y.values[0])\n",
    "        reco_z_blob2 = float(tracks_0nubb_ROIovlp1trackfid[tracks_0nubb_ROIovlp1trackfid.event == nevt].blob2_z.values[0]) \n",
    "\n",
    "\n",
    "        d_A1 = math.sqrt((true_x_pA-reco_x_blob1)**2+(true_y_pA-reco_y_blob1)**2+(true_z_pA-reco_z_blob1)**2)\n",
    "        d_B1 = math.sqrt((true_x_pA-reco_x_blob2)**2+(true_y_pA-reco_y_blob2)**2+(true_z_pA-reco_z_blob2)**2)\n",
    "        d_A2 = math.sqrt((true_x_pB-reco_x_blob1)**2+(true_y_pB-reco_y_blob1)**2+(true_z_pB-reco_z_blob1)**2)\n",
    "        d_B2 = math.sqrt((true_x_pB-reco_x_blob2)**2+(true_y_pB-reco_y_blob2)**2+(true_z_pB-reco_z_blob2)**2)\n",
    "\n",
    "        totalevents = totalevents+1\n",
    "        if (d_A1<d_B1 and  d_A1<d_A2) or (d_B2<d_B1 and d_B2<d_A2):\n",
    "            events12AB = events12AB+1\n",
    "            diff_b1_x.append(reco_x_blob1 - true_x_pA)\n",
    "            diff_b1_y.append(reco_y_blob1 - true_y_pA)\n",
    "\n",
    "            diff_b2_x.append(reco_x_blob2 - true_x_pB)\n",
    "            diff_b2_y.append(reco_y_blob2 - true_y_pB)\n",
    "\n",
    "        elif (d_A2<d_B1 and d_A2<d_A1) or (d_B1<d_B2 and d_B1<d_A1):\n",
    "            events12BA = events12BA+1\n",
    "            diff_b1_x.append(reco_x_blob1 - true_x_pB)\n",
    "            diff_b1_y.append(reco_y_blob1 - true_y_pB)\n",
    "\n",
    "            diff_b2_x.append(reco_x_blob2 - true_x_pA)\n",
    "            diff_b2_y.append(reco_y_blob2 - true_y_pA)\n",
    "\n",
    "        else:\n",
    "            eventsNA = eventsNA+1\n",
    "\n",
    "    print(f'Total events = {totalevents}')\n",
    "    print(f'Events 12 = {events12AB} ({100*events12AB/totalevents}%)')\n",
    "    print(f'Events 21 = {events12BA} ({100*events12BA/totalevents}%)')\n",
    "    print(f'Events NA = {eventsNA} ({100*eventsNA/totalevents}%)')\n",
    "    \n",
    "    return diff_b1_x, diff_b1_y, diff_b2_x, diff_b1_y"
   ]
  },
  {
   "cell_type": "markdown",
   "metadata": {},
   "source": [
    "then you need to take `particles` from true info:\n",
    "\n",
    "**this part should be different due to input, separate signal from background with Tl208 here**"
   ]
  },
  {
   "cell_type": "code",
   "execution_count": null,
   "metadata": {},
   "outputs": [],
   "source": [
    "#0nubb files\n",
    "particles_list = []\n",
    "eventmap_list = []\n",
    "#loop over all the files, to read 'Tracks' information\n",
    "for nfile in range(1,200): \n",
    "    #print(nfile)\n",
    "    filename = filepath_0nubb_tracks+f'{dataforma}.bb0nu.{tp_config}.{nfile}.test_max_hits.isaura.R24mm.h5'\n",
    "\n",
    "    try:\n",
    "        readfile_particles = mcio.load_mcparticles_df(filename).reset_index()\n",
    "        readfile_eventmap = mcio.load_eventnumbermap(filename).set_index('nexus_evt')\n",
    "    except:\n",
    "        print('File {} not good'.format(filename))\n",
    "        continue\n",
    "\n",
    "    #readfile_particles.event_id = readfile_particles.event_id.map(evtmap.evt_number)\n",
    "    particles_list.append(readfile_particles)\n",
    "    eventmap_list.append(readfile_eventmap)\n",
    "\n",
    "#'concat' command means: 'concatenate pandas objects along a particular \n",
    "# axis with optional set logic along the other axes.' -> following line \n",
    "# is needed to keep an order between the files\n",
    "\n",
    "particles = pd.concat([dt for dt in particles_list]) \n",
    "eventmap = pd.concat([dt for dt in eventmap_list]) \n",
    "particles.columns  \n",
    "#these are all the elements inside the file:"
   ]
  },
  {
   "cell_type": "markdown",
   "metadata": {},
   "source": [
    "loop to do it :up:"
   ]
  },
  {
   "cell_type": "code",
   "execution_count": null,
   "metadata": {},
   "outputs": [],
   "source": [
    "particles.event_id = particles.event_id.map(eventmap.evt_number)\n",
    "primary = particles[particles.primary == True]\n",
    "diff_b1_x, diff_b1_y, diff_b2_x, diff_b2_y = assign_trueblobs(primary, tracks_0nubb_ovlp1trackfid, 'signal')"
   ]
  },
  {
   "cell_type": "markdown",
   "metadata": {},
   "source": [
    "plot"
   ]
  },
  {
   "cell_type": "code",
   "execution_count": null,
   "metadata": {},
   "outputs": [],
   "source": [
    "plt.hist(diff_b1_x, bins = 50, color='r', histtype='step', label = 'x blob1')\n",
    "plt.hist(diff_b1_y, bins = 50, color='r', histtype='step', label = 'y blob1', linestyle='dashed')\n",
    "\n",
    "plt.xlabel('reco[tracks] - true[particle] (mm)')\n",
    "plt.ylabel('events (a.u.)')\n",
    "plt.title('0nubb')\n",
    "plt.legend(loc=1)\n",
    "plt.show()\n"
   ]
  }
 ],
 "metadata": {
  "kernelspec": {
   "display_name": "IC-3.8-2022-04-13",
   "language": "python",
   "name": "python3"
  },
  "language_info": {
   "codemirror_mode": {
    "name": "ipython",
    "version": 3
   },
   "file_extension": ".py",
   "mimetype": "text/x-python",
   "name": "python",
   "nbconvert_exporter": "python",
   "pygments_lexer": "ipython3",
   "version": "3.8.18"
  }
 },
 "nbformat": 4,
 "nbformat_minor": 2
}
