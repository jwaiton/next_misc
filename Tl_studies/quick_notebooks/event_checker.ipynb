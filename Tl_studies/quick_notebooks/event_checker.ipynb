{
 "cells": [
  {
   "cell_type": "markdown",
   "metadata": {},
   "source": [
    "### This notebook has been made exclusively to check what events are in a file"
   ]
  },
  {
   "cell_type": "code",
   "execution_count": 2,
   "metadata": {},
   "outputs": [],
   "source": [
    "import sys,os,os.path\n",
    "sys.path.append(\"../../../\") # if you move files around, you need to adjust this!\n",
    "sys.path.append(os.path.expanduser('~/code/eol_hsrl_python'))\n",
    "os.environ['ICTDIR']='/home/e78368jw/Documents/NEXT_CODE/IC'\n",
    "\n",
    "import IC.invisible_cities.io.dst_io                           as     dstio\n",
    "\n",
    "import pandas as pd\n",
    "import numpy  as np\n",
    "import tables as tb\n",
    "\n"
   ]
  },
  {
   "cell_type": "code",
   "execution_count": 3,
   "metadata": {},
   "outputs": [],
   "source": [
    "def event_range(file_path):\n",
    "    '''\n",
    "    Opens a h5 file and tells you the event range within it (not MC events).\n",
    "    This is for sophronia at the moment, adapt later for more cities\n",
    "    '''\n",
    "    \n",
    "    # collect data\n",
    "    df = dstio.load_dst(file_path, 'RECO', 'Events')\n",
    "\n",
    "    # read event numbers\n",
    "    array = df['event'].to_numpy()\n",
    "    min_event = min(array)\n",
    "    max_event = max(array)\n",
    "\n",
    "    print(\"Event range: {} - {}\".format(min_event, max_event))\n",
    "\n"
   ]
  },
  {
   "cell_type": "code",
   "execution_count": 12,
   "metadata": {},
   "outputs": [
    {
     "name": "stdout",
     "output_type": "stream",
     "text": [
      "Event range: 2140000 - 2140606\n"
     ]
    }
   ],
   "source": [
    "file_path = '../../../Tl_studies/LPR/208Tl/PORT_1a/prod/sophronia/sophronia/'\n",
    "file = 'sophronia_108_208Tl.h5'\n",
    "\n",
    "\n",
    "event_range(file_path + file)"
   ]
  },
  {
   "cell_type": "code",
   "execution_count": null,
   "metadata": {},
   "outputs": [],
   "source": []
  }
 ],
 "metadata": {
  "kernelspec": {
   "display_name": "IC-3.8-2022-04-13",
   "language": "python",
   "name": "python3"
  },
  "language_info": {
   "codemirror_mode": {
    "name": "ipython",
    "version": 3
   },
   "file_extension": ".py",
   "mimetype": "text/x-python",
   "name": "python",
   "nbconvert_exporter": "python",
   "pygments_lexer": "ipython3",
   "version": "3.8.18"
  }
 },
 "nbformat": 4,
 "nbformat_minor": 2
}
