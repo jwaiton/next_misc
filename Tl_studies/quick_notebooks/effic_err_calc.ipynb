{
 "cells": [
  {
   "cell_type": "code",
   "execution_count": 2,
   "metadata": {},
   "outputs": [],
   "source": [
    "import sys,os,os.path\n",
    "\n",
    "sys.path.append(\"../../\")   # cite IC from parent directory\n",
    "                            # NOTE if you can't import IC stuff, its because of the\n",
    "                            # above line\n",
    "#sys.path.append(os.path.expanduser('~/code/eol_hsrl_python'))\n",
    "os.environ['ICTDIR']='/home/e78368jw/Documents/NEXT_CODE/IC'\n",
    "\n",
    "import matplotlib.pyplot as plt\n",
    "import pandas as pd\n",
    "import numpy  as np\n",
    "import tables as tb\n",
    "import IC.invisible_cities.io.dst_io                           as     dstio\n",
    "import IC.invisible_cities.io.mcinfo_io as mcio\n",
    "from    IC.invisible_cities.core.core_functions   import shift_to_bin_centers\n",
    "import iminuit,probfit\n",
    "\n",
    "import scipy.special as special\n",
    "from scipy.stats import skewnorm\n",
    "from scipy.optimize import curve_fit\n",
    "\n",
    "from scipy.integrate import quad\n",
    "\n",
    "from Tl_studies.functions import isaura_analyse as isa"
   ]
  },
  {
   "cell_type": "markdown",
   "metadata": {},
   "source": [
    "### This notepad only exists because I forgot to collect efficiency errors earlier"
   ]
  },
  {
   "cell_type": "code",
   "execution_count": 3,
   "metadata": {},
   "outputs": [
    {
     "name": "stdout",
     "output_type": "stream",
     "text": [
      "Efficiency error port 1a:\n",
      "0.03277565412795216\n",
      "0.032626655104977566\n",
      "0.037443823049482225\n",
      "0.032047590376821734\n"
     ]
    }
   ],
   "source": [
    "print(\"Efficiency error port 1a:\")\n",
    "\n",
    "er_1a = isa.ratio_error(1.06, 1057, 100009)\n",
    "print(er_1a)\n",
    "er_1b = isa.ratio_error(1.01, 968, 95548)\n",
    "print(er_1b)\n",
    "er_2a = isa.ratio_error(0.99, 706, 71041)\n",
    "print(er_2a)\n",
    "er_2b = isa.ratio_error(0.97, 925, 95437)\n",
    "print(er_2b)"
   ]
  },
  {
   "cell_type": "code",
   "execution_count": 4,
   "metadata": {},
   "outputs": [],
   "source": [
    "# lets speed this up a little\n",
    "port1a_events = [67697, 39773, 23119, 2485, 1057]\n",
    "cut_type = ['Fiducial', 'One track', 'overlap', 'ROI', 'eblob 2']\n",
    "\n",
    "def efficiency_errors(events, tot_events, cut_type):\n",
    "\n",
    "    for i in range(len(events)):\n",
    "        if (i==0):\n",
    "            print(cut_type[i])\n",
    "            # calculate efficiency first\n",
    "            effic = (events[i]/tot_events)*100\n",
    "            \n",
    "            error = isa.ratio_error(effic, events[i], tot_events)\n",
    "            print(effic, error)\n",
    "        else:\n",
    "            print(cut_type[i])\n",
    "\n",
    "            # calculate efficiency (relative)\n",
    "            effic = (events[i]/events[i-1])*100\n",
    "\n",
    "            error = isa.ratio_error(effic, events[i], events[i-1])\n",
    "            print(effic, error)\n"
   ]
  },
  {
   "cell_type": "code",
   "execution_count": 5,
   "metadata": {},
   "outputs": [
    {
     "name": "stdout",
     "output_type": "stream",
     "text": [
      "Fiducial\n",
      "67.69090781829635 0.3368995142702092\n",
      "One track\n",
      "58.75149563496167 0.37117922836570405\n",
      "overlap\n",
      "58.12737284087195 0.4807283118246525\n",
      "ROI\n",
      "10.748734806868809 0.22691517392233537\n",
      "eblob 2\n",
      "42.53521126760563 1.5619681806362395\n"
     ]
    }
   ],
   "source": [
    "efficiency_errors(port1a_events, 100009, cut_type)"
   ]
  },
  {
   "cell_type": "code",
   "execution_count": 6,
   "metadata": {},
   "outputs": [
    {
     "name": "stdout",
     "output_type": "stream",
     "text": [
      "Fiducial\n",
      "66.67748147527945 0.34104937504624\n",
      "One track\n",
      "59.57400053367656 0.3862860768041564\n",
      "overlap\n",
      "60.07798914475417 0.5033785755877664\n",
      "ROI\n",
      "10.271028857117797 0.22286979693553297\n",
      "eblob 2\n",
      "41.33219470538002 1.5793243793393685\n"
     ]
    }
   ],
   "source": [
    "port1b_events = [63709, 37954, 22802, 2342, 968]\n",
    "\n",
    "efficiency_errors(port1b_events, 95548, cut_type)"
   ]
  },
  {
   "cell_type": "code",
   "execution_count": 7,
   "metadata": {},
   "outputs": [
    {
     "name": "stdout",
     "output_type": "stream",
     "text": [
      "Fiducial\n",
      "66.38701594853677 0.39431814071290505\n",
      "One track\n",
      "61.644968406768164 0.4596569230270024\n",
      "overlap\n",
      "53.76122175214116 0.5332281289034668\n",
      "ROI\n",
      "10.479846449136277 0.2721695289629459\n",
      "eblob 2\n",
      "43.101343101343105 1.9404850807885976\n"
     ]
    }
   ],
   "source": [
    "port2a_events = [47162, 29073, 15630, 1638, 706]\n",
    "\n",
    "efficiency_errors(port2a_events, 71041, cut_type)"
   ]
  },
  {
   "cell_type": "code",
   "execution_count": 8,
   "metadata": {},
   "outputs": [
    {
     "name": "stdout",
     "output_type": "stream",
     "text": [
      "Fiducial\n",
      "67.67396292842399 0.3448142690699429\n",
      "One track\n",
      "59.07936704548974 0.38146583707455967\n",
      "overlap\n",
      "54.95452996828891 0.4724074917311212\n",
      "ROI\n",
      "10.100624731746864 0.23029268846191944\n",
      "eblob 2\n",
      "43.67327667610954 1.721206228119172\n"
     ]
    }
   ],
   "source": [
    "port2b_events = [64586, 38157, 20969, 2118, 925]\n",
    "\n",
    "efficiency_errors(port2b_events, 95437, cut_type)"
   ]
  },
  {
   "cell_type": "code",
   "execution_count": 8,
   "metadata": {},
   "outputs": [],
   "source": [
    "# doing the full error system here instead\n",
    "def binom_efficiency_errors(events, tot_events, cut_type):\n",
    "    for i in range(len(events)):\n",
    "        if (i==0):\n",
    "            print(cut_type[i])\n",
    "            epsilon = events[i] / tot_events\n",
    "            # number of events within standard deviation of the number of passing events\n",
    "            error_efficiency = np.sqrt((epsilon*(1-epsilon))*tot_events)\n",
    "\n",
    "            # getting error on efficiency from this:\n",
    "            error = 100*(error_efficiency/tot_events)\n",
    "            print(epsilon * 100, error)\n",
    "        else:\n",
    "            print(cut_type[i])\n",
    "            # relative\n",
    "            epsilon = events[i] / events[i-1]\n",
    "            # number of events within standard deviation of the number of passing events\n",
    "            error_efficiency = np.sqrt((epsilon*(1-epsilon))*events[i-1])\n",
    "\n",
    "            # getting error on efficiency from this:\n",
    "            error = 100*(error_efficiency/events[i-1])\n",
    "            print(epsilon * 100, error)"
   ]
  },
  {
   "cell_type": "code",
   "execution_count": 26,
   "metadata": {},
   "outputs": [
    {
     "name": "stdout",
     "output_type": "stream",
     "text": [
      "Satellite Cut\n",
      "54.859062684358406 0.15735840158156605\n",
      "Fiducial\n",
      "71.74285505978419 0.19222493982490932\n",
      "One track\n",
      "49.851375727242704 0.25202000968779276\n",
      "overlap\n",
      "56.10539190704311 0.3542715295759704\n",
      "ROI\n",
      "11.063675174856936 0.29896156745119534\n"
     ]
    }
   ],
   "source": [
    "binom_efficiency_errors(port1a_events, 100009, cut_type)"
   ]
  },
  {
   "cell_type": "code",
   "execution_count": 28,
   "metadata": {},
   "outputs": [
    {
     "name": "stdout",
     "output_type": "stream",
     "text": [
      "Satellite Cut\n",
      "59.87775777619626 0.15856763974972476\n",
      "Fiducial\n",
      "70.280710340488 0.1910705345493964\n",
      "One track\n",
      "52.060483971250214 0.2491376060799884\n",
      "overlap\n",
      "57.53117087851718 0.34164180954707696\n",
      "ROI\n",
      "10.24661629162169 0.27634289865371964\n"
     ]
    }
   ],
   "source": [
    "binom_efficiency_errors(port1b_events, 95548, cut_type)"
   ]
  },
  {
   "cell_type": "code",
   "execution_count": 29,
   "metadata": {},
   "outputs": [
    {
     "name": "stdout",
     "output_type": "stream",
     "text": [
      "Satellite Cut\n",
      "46.067763685758926 0.18701147108997798\n",
      "Fiducial\n",
      "72.93977449812081 0.24558102948729998\n",
      "One track\n",
      "50.261823970508146 0.3236150744988559\n",
      "overlap\n",
      "56.12602100350058 0.4530344309078363\n",
      "ROI\n",
      "10.216810216810217 0.3690783942525689\n"
     ]
    }
   ],
   "source": [
    "binom_efficiency_errors(port2a_events, 71041, cut_type)"
   ]
  },
  {
   "cell_type": "code",
   "execution_count": 30,
   "metadata": {},
   "outputs": [
    {
     "name": "stdout",
     "output_type": "stream",
     "text": [
      "Satellite Cut\n",
      "48.085124218070554 0.16173085824514208\n",
      "Fiducial\n",
      "72.11871608812186 0.20932283928738124\n",
      "One track\n",
      "48.59499637418419 0.2747329314291579\n",
      "overlap\n",
      "54.86538581110489 0.39239237089392043\n",
      "ROI\n",
      "9.723481414324569 0.31540280097135814\n"
     ]
    }
   ],
   "source": [
    "binom_efficiency_errors(port2b_events, 95437, cut_type)"
   ]
  },
  {
   "cell_type": "code",
   "execution_count": null,
   "metadata": {},
   "outputs": [],
   "source": []
  }
 ],
 "metadata": {
  "kernelspec": {
   "display_name": "IC-3.8-2022-04-13",
   "language": "python",
   "name": "python3"
  },
  "language_info": {
   "codemirror_mode": {
    "name": "ipython",
    "version": 3
   },
   "file_extension": ".py",
   "mimetype": "text/x-python",
   "name": "python",
   "nbconvert_exporter": "python",
   "pygments_lexer": "ipython3",
   "version": "3.8.18"
  }
 },
 "nbformat": 4,
 "nbformat_minor": 2
}
