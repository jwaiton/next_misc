{
 "cells": [
  {
   "cell_type": "code",
   "execution_count": 1,
   "metadata": {},
   "outputs": [],
   "source": [
    "import sys,os,os.path\n",
    "\n",
    "sys.path.append(\"../../\")   # cite IC from parent directory\n",
    "                            # NOTE if you can't import IC stuff, its because of the\n",
    "                            # above line\n",
    "#sys.path.append(os.path.expanduser('~/code/eol_hsrl_python'))\n",
    "os.environ['ICTDIR']='/home/e78368jw/Documents/NEXT_CODE/IC'\n",
    "\n",
    "import matplotlib.pyplot as plt\n",
    "import pandas as pd\n",
    "import numpy  as np\n",
    "import tables as tb\n",
    "import IC.invisible_cities.io.dst_io                           as     dstio\n",
    "import IC.invisible_cities.io.mcinfo_io as mcio\n",
    "from    IC.invisible_cities.core.core_functions   import shift_to_bin_centers\n",
    "import iminuit,probfit\n",
    "\n",
    "import scipy.special as special\n",
    "from scipy.stats import skewnorm\n",
    "from scipy.optimize import curve_fit\n",
    "\n",
    "from scipy.integrate import quad\n",
    "\n",
    "from Tl_studies.functions import isaura_analyse as isa"
   ]
  },
  {
   "cell_type": "markdown",
   "metadata": {},
   "source": [
    "### This notepad only exists because I forgot to collect efficiency errors earlier"
   ]
  },
  {
   "cell_type": "code",
   "execution_count": 6,
   "metadata": {},
   "outputs": [
    {
     "name": "stdout",
     "output_type": "stream",
     "text": [
      "Efficiency error port 1a:\n",
      "0.035169389312764573\n",
      "0.03695886505454724\n",
      "0.03715954350858617\n",
      "0.030863298890162583\n"
     ]
    }
   ],
   "source": [
    "print(\"Efficiency error port 1a:\")\n",
    "\n",
    "er_1a = isa.ratio_error(1.22, 1218, 100009)\n",
    "print(er_1a)\n",
    "er_1b = isa.ratio_error(1.29, 1234, 95548)\n",
    "print(er_1b)\n",
    "er_2a = isa.ratio_error(0.97, 688, 71041)\n",
    "print(er_2a)\n",
    "er_2b = isa.ratio_error(0.90, 858, 95437)\n",
    "print(er_2b)"
   ]
  },
  {
   "cell_type": "code",
   "execution_count": 12,
   "metadata": {},
   "outputs": [],
   "source": [
    "# lets speed this up a little\n",
    "port1a_events = [54864, 39361, 19622, 11009, 1218]\n",
    "cut_type = ['Satellite Cut', 'Fiducial', 'One track', 'overlap', 'ROI']\n",
    "\n",
    "def efficiency_errors(events, tot_events, cut_type):\n",
    "\n",
    "    for i in range(len(events)):\n",
    "        if (i==0):\n",
    "            print(cut_type[i])\n",
    "            # calculate efficiency first\n",
    "            effic = (events[i]/tot_events)*100\n",
    "            \n",
    "            error = isa.ratio_error(effic, events[i], tot_events)\n",
    "            print(effic, error)\n",
    "        else:\n",
    "            print(cut_type[i])\n",
    "\n",
    "            # calculate efficiency (relative)\n",
    "            effic = (events[i]/events[i-1])*100\n",
    "\n",
    "            error = isa.ratio_error(effic, events[i], events[i-1])\n",
    "            print(effic, error)\n"
   ]
  },
  {
   "cell_type": "code",
   "execution_count": 13,
   "metadata": {},
   "outputs": [
    {
     "name": "stdout",
     "output_type": "stream",
     "text": [
      "Satellite Cut\n",
      "54.859062684358406 0.2914559745103282\n",
      "Fiducial\n",
      "71.74285505978419 0.473898062551036\n",
      "One track\n",
      "49.851375727242704 0.4356481552531854\n",
      "overlap\n",
      "56.10539190704311 0.6680971458838539\n",
      "ROI\n",
      "11.063675174856936 0.33408870467384494\n"
     ]
    }
   ],
   "source": [
    "efficiency_errors(port1a_events, 100009, cut_type)"
   ]
  },
  {
   "cell_type": "code",
   "execution_count": 15,
   "metadata": {},
   "outputs": [
    {
     "name": "stdout",
     "output_type": "stream",
     "text": [
      "Satellite Cut\n",
      "59.87775777619626 0.3165308095598928\n",
      "Fiducial\n",
      "70.280710340488 0.4573590033202972\n",
      "One track\n",
      "52.060483971250214 0.4437114630364524\n",
      "overlap\n",
      "57.53117087851718 0.6579897377136344\n",
      "ROI\n",
      "10.24661629162169 0.30627075416357386\n"
     ]
    }
   ],
   "source": [
    "port1b_events = [57212, 40209, 20933, 12043, 1234]\n",
    "\n",
    "efficiency_errors(port1b_events, 95548, cut_type)"
   ]
  },
  {
   "cell_type": "code",
   "execution_count": 17,
   "metadata": {},
   "outputs": [
    {
     "name": "stdout",
     "output_type": "stream",
     "text": [
      "Satellite Cut\n",
      "46.067763685758926 0.3077664125400224\n",
      "Fiducial\n",
      "72.93977449812081 0.6208355167754745\n",
      "One track\n",
      "50.261823970508146 0.5624813718685994\n",
      "overlap\n",
      "56.12602100350058 0.8546048323091722\n",
      "ROI\n",
      "10.216810216810217 0.4089262840351249\n"
     ]
    }
   ],
   "source": [
    "port2a_events = [32727, 23871, 11998, 6734, 688]\n",
    "\n",
    "efficiency_errors(port2a_events, 71041, cut_type)"
   ]
  },
  {
   "cell_type": "code",
   "execution_count": 18,
   "metadata": {},
   "outputs": [
    {
     "name": "stdout",
     "output_type": "stream",
     "text": [
      "Satellite Cut\n",
      "48.085124218070554 0.27315093948517566\n",
      "Fiducial\n",
      "72.11871608812186 0.5200849439199199\n",
      "One track\n",
      "48.59499637418419 0.4671002674360337\n",
      "overlap\n",
      "54.86538581110489 0.7268467739142851\n",
      "ROI\n",
      "9.723481414324569 0.3477186092455814\n"
     ]
    }
   ],
   "source": [
    "port2b_events = [45891, 33096, 16083, 8824, 858]\n",
    "\n",
    "efficiency_errors(port2b_events, 95437, cut_type)"
   ]
  },
  {
   "cell_type": "code",
   "execution_count": 25,
   "metadata": {},
   "outputs": [],
   "source": [
    "# doing the full error system here instead\n",
    "def binom_efficiency_errors(events, tot_events, cut_type):\n",
    "    for i in range(len(events)):\n",
    "        if (i==0):\n",
    "            print(cut_type[i])\n",
    "            epsilon = events[i] / tot_events\n",
    "            # number of events within standard deviation of the number of passing events\n",
    "            error_efficiency = np.sqrt((epsilon*(1-epsilon))*tot_events)\n",
    "\n",
    "            # getting error on efficiency from this:\n",
    "            error = 100*(error_efficiency/tot_events)\n",
    "            print(epsilon * 100, error)\n",
    "        else:\n",
    "            print(cut_type[i])\n",
    "            # relative\n",
    "            epsilon = events[i] / events[i-1]\n",
    "            # number of events within standard deviation of the number of passing events\n",
    "            error_efficiency = np.sqrt((epsilon*(1-epsilon))*events[i-1])\n",
    "\n",
    "            # getting error on efficiency from this:\n",
    "            error = 100*(error_efficiency/events[i-1])\n",
    "            print(epsilon * 100, error)"
   ]
  },
  {
   "cell_type": "code",
   "execution_count": 26,
   "metadata": {},
   "outputs": [
    {
     "name": "stdout",
     "output_type": "stream",
     "text": [
      "Satellite Cut\n",
      "54.859062684358406 0.15735840158156605\n",
      "Fiducial\n",
      "71.74285505978419 0.19222493982490932\n",
      "One track\n",
      "49.851375727242704 0.25202000968779276\n",
      "overlap\n",
      "56.10539190704311 0.3542715295759704\n",
      "ROI\n",
      "11.063675174856936 0.29896156745119534\n"
     ]
    }
   ],
   "source": [
    "binom_efficiency_errors(port1a_events, 100009, cut_type)"
   ]
  },
  {
   "cell_type": "code",
   "execution_count": 28,
   "metadata": {},
   "outputs": [
    {
     "name": "stdout",
     "output_type": "stream",
     "text": [
      "Satellite Cut\n",
      "59.87775777619626 0.15856763974972476\n",
      "Fiducial\n",
      "70.280710340488 0.1910705345493964\n",
      "One track\n",
      "52.060483971250214 0.2491376060799884\n",
      "overlap\n",
      "57.53117087851718 0.34164180954707696\n",
      "ROI\n",
      "10.24661629162169 0.27634289865371964\n"
     ]
    }
   ],
   "source": [
    "binom_efficiency_errors(port1b_events, 95548, cut_type)"
   ]
  },
  {
   "cell_type": "code",
   "execution_count": 29,
   "metadata": {},
   "outputs": [
    {
     "name": "stdout",
     "output_type": "stream",
     "text": [
      "Satellite Cut\n",
      "46.067763685758926 0.18701147108997798\n",
      "Fiducial\n",
      "72.93977449812081 0.24558102948729998\n",
      "One track\n",
      "50.261823970508146 0.3236150744988559\n",
      "overlap\n",
      "56.12602100350058 0.4530344309078363\n",
      "ROI\n",
      "10.216810216810217 0.3690783942525689\n"
     ]
    }
   ],
   "source": [
    "binom_efficiency_errors(port2a_events, 71041, cut_type)"
   ]
  },
  {
   "cell_type": "code",
   "execution_count": 30,
   "metadata": {},
   "outputs": [
    {
     "name": "stdout",
     "output_type": "stream",
     "text": [
      "Satellite Cut\n",
      "48.085124218070554 0.16173085824514208\n",
      "Fiducial\n",
      "72.11871608812186 0.20932283928738124\n",
      "One track\n",
      "48.59499637418419 0.2747329314291579\n",
      "overlap\n",
      "54.86538581110489 0.39239237089392043\n",
      "ROI\n",
      "9.723481414324569 0.31540280097135814\n"
     ]
    }
   ],
   "source": [
    "binom_efficiency_errors(port2b_events, 95437, cut_type)"
   ]
  },
  {
   "cell_type": "code",
   "execution_count": null,
   "metadata": {},
   "outputs": [],
   "source": []
  }
 ],
 "metadata": {
  "kernelspec": {
   "display_name": "IC-3.8-2022-04-13",
   "language": "python",
   "name": "python3"
  },
  "language_info": {
   "codemirror_mode": {
    "name": "ipython",
    "version": 3
   },
   "file_extension": ".py",
   "mimetype": "text/x-python",
   "name": "python",
   "nbconvert_exporter": "python",
   "pygments_lexer": "ipython3",
   "version": "3.8.18"
  }
 },
 "nbformat": 4,
 "nbformat_minor": 2
}
