{
 "cells": [
  {
   "cell_type": "markdown",
   "metadata": {},
   "source": [
    "### toy to test what beersheba does to the psf"
   ]
  },
  {
   "cell_type": "code",
   "execution_count": 1,
   "metadata": {
    "metadata": {}
   },
   "outputs": [],
   "source": [
    "import sys,os,os.path\n",
    "sys.path.append(\"../../../\")   # cite IC from parent directory\n",
    "                            # NOTE if you can't import IC stuff, its because of the\n",
    "                            # above line\n",
    "#sys.path.append(os.path.expanduser('~/code/eol_hsrl_python'))\n",
    "os.environ['ICTDIR']='/home/e78368jw/Documents/NEXT_CODE/IC'\n",
    "\n",
    "import os\n",
    "import glob\n",
    "import numpy  as np\n",
    "import pandas as pd\n",
    "import tables as tb\n",
    "import matplotlib.pyplot as plt\n",
    "\n",
    "from IC.invisible_cities.reco.psf_functions    import create_psf\n",
    "from IC.invisible_cities.reco.psf_functions    import hdst_psf_processing\n",
    "from IC.invisible_cities.reco.psf_functions    import add_empty_sensors_and_normalize_q\n",
    "from IC.invisible_cities.reco.psf_functions    import add_variable_weighted_mean\n",
    "\n",
    "import IC.invisible_cities.core.core_functions as     coref\n",
    "import IC.invisible_cities.io  .dst_io         as     dstio\n",
    "\n",
    "from IC.invisible_cities.database              import load_db\n",
    "#from IC.invisible_cities.io      .kdst_io      import psf_writer\n",
    "# he's dead jim, make psf_writer yourself"
   ]
  },
  {
   "cell_type": "code",
   "execution_count": 2,
   "metadata": {
    "metadata": {}
   },
   "outputs": [],
   "source": [
    "psf_path = 'psfs/'\n",
    "psf_dataN100 = dstio.load_dst(psf_path + 'NEXT100_PSF_kr83m_5bar.h5', 'PSF', 'PSFs')"
   ]
  },
  {
   "cell_type": "code",
   "execution_count": 3,
   "metadata": {
    "metadata": {}
   },
   "outputs": [
    {
     "data": {
      "text/html": [
       "<div>\n",
       "<style scoped>\n",
       "    .dataframe tbody tr th:only-of-type {\n",
       "        vertical-align: middle;\n",
       "    }\n",
       "\n",
       "    .dataframe tbody tr th {\n",
       "        vertical-align: top;\n",
       "    }\n",
       "\n",
       "    .dataframe thead th {\n",
       "        text-align: right;\n",
       "    }\n",
       "</style>\n",
       "<table border=\"1\" class=\"dataframe\">\n",
       "  <thead>\n",
       "    <tr style=\"text-align: right;\">\n",
       "      <th></th>\n",
       "      <th>xr</th>\n",
       "      <th>yr</th>\n",
       "      <th>zr</th>\n",
       "      <th>x</th>\n",
       "      <th>y</th>\n",
       "      <th>z</th>\n",
       "      <th>factor</th>\n",
       "      <th>nevt</th>\n",
       "    </tr>\n",
       "  </thead>\n",
       "  <tbody>\n",
       "    <tr>\n",
       "      <th>0</th>\n",
       "      <td>-39.5</td>\n",
       "      <td>-39.5</td>\n",
       "      <td>0</td>\n",
       "      <td>0.0</td>\n",
       "      <td>0.0</td>\n",
       "      <td>25.0</td>\n",
       "      <td>0.000793</td>\n",
       "      <td>109.0</td>\n",
       "    </tr>\n",
       "    <tr>\n",
       "      <th>1</th>\n",
       "      <td>-39.5</td>\n",
       "      <td>-39.5</td>\n",
       "      <td>0</td>\n",
       "      <td>0.0</td>\n",
       "      <td>0.0</td>\n",
       "      <td>75.0</td>\n",
       "      <td>0.000713</td>\n",
       "      <td>137.0</td>\n",
       "    </tr>\n",
       "    <tr>\n",
       "      <th>2</th>\n",
       "      <td>-39.5</td>\n",
       "      <td>-39.5</td>\n",
       "      <td>0</td>\n",
       "      <td>0.0</td>\n",
       "      <td>0.0</td>\n",
       "      <td>125.0</td>\n",
       "      <td>0.000715</td>\n",
       "      <td>132.0</td>\n",
       "    </tr>\n",
       "    <tr>\n",
       "      <th>3</th>\n",
       "      <td>-39.5</td>\n",
       "      <td>-39.5</td>\n",
       "      <td>0</td>\n",
       "      <td>0.0</td>\n",
       "      <td>0.0</td>\n",
       "      <td>175.0</td>\n",
       "      <td>0.000758</td>\n",
       "      <td>121.0</td>\n",
       "    </tr>\n",
       "    <tr>\n",
       "      <th>4</th>\n",
       "      <td>-39.5</td>\n",
       "      <td>-39.5</td>\n",
       "      <td>0</td>\n",
       "      <td>0.0</td>\n",
       "      <td>0.0</td>\n",
       "      <td>225.0</td>\n",
       "      <td>0.000701</td>\n",
       "      <td>108.0</td>\n",
       "    </tr>\n",
       "    <tr>\n",
       "      <th>...</th>\n",
       "      <td>...</td>\n",
       "      <td>...</td>\n",
       "      <td>...</td>\n",
       "      <td>...</td>\n",
       "      <td>...</td>\n",
       "      <td>...</td>\n",
       "      <td>...</td>\n",
       "      <td>...</td>\n",
       "    </tr>\n",
       "    <tr>\n",
       "      <th>147195</th>\n",
       "      <td>39.5</td>\n",
       "      <td>39.5</td>\n",
       "      <td>0</td>\n",
       "      <td>0.0</td>\n",
       "      <td>0.0</td>\n",
       "      <td>925.0</td>\n",
       "      <td>0.000705</td>\n",
       "      <td>116.0</td>\n",
       "    </tr>\n",
       "    <tr>\n",
       "      <th>147196</th>\n",
       "      <td>39.5</td>\n",
       "      <td>39.5</td>\n",
       "      <td>0</td>\n",
       "      <td>0.0</td>\n",
       "      <td>0.0</td>\n",
       "      <td>975.0</td>\n",
       "      <td>0.000844</td>\n",
       "      <td>131.0</td>\n",
       "    </tr>\n",
       "    <tr>\n",
       "      <th>147197</th>\n",
       "      <td>39.5</td>\n",
       "      <td>39.5</td>\n",
       "      <td>0</td>\n",
       "      <td>0.0</td>\n",
       "      <td>0.0</td>\n",
       "      <td>1025.0</td>\n",
       "      <td>0.000745</td>\n",
       "      <td>128.0</td>\n",
       "    </tr>\n",
       "    <tr>\n",
       "      <th>147198</th>\n",
       "      <td>39.5</td>\n",
       "      <td>39.5</td>\n",
       "      <td>0</td>\n",
       "      <td>0.0</td>\n",
       "      <td>0.0</td>\n",
       "      <td>1075.0</td>\n",
       "      <td>0.001015</td>\n",
       "      <td>142.0</td>\n",
       "    </tr>\n",
       "    <tr>\n",
       "      <th>147199</th>\n",
       "      <td>39.5</td>\n",
       "      <td>39.5</td>\n",
       "      <td>0</td>\n",
       "      <td>0.0</td>\n",
       "      <td>0.0</td>\n",
       "      <td>1125.0</td>\n",
       "      <td>0.000698</td>\n",
       "      <td>144.0</td>\n",
       "    </tr>\n",
       "  </tbody>\n",
       "</table>\n",
       "<p>147200 rows × 8 columns</p>\n",
       "</div>"
      ],
      "text/plain": [
       "          xr    yr  zr    x    y       z    factor   nevt\n",
       "0      -39.5 -39.5   0  0.0  0.0    25.0  0.000793  109.0\n",
       "1      -39.5 -39.5   0  0.0  0.0    75.0  0.000713  137.0\n",
       "2      -39.5 -39.5   0  0.0  0.0   125.0  0.000715  132.0\n",
       "3      -39.5 -39.5   0  0.0  0.0   175.0  0.000758  121.0\n",
       "4      -39.5 -39.5   0  0.0  0.0   225.0  0.000701  108.0\n",
       "...      ...   ...  ..  ...  ...     ...       ...    ...\n",
       "147195  39.5  39.5   0  0.0  0.0   925.0  0.000705  116.0\n",
       "147196  39.5  39.5   0  0.0  0.0   975.0  0.000844  131.0\n",
       "147197  39.5  39.5   0  0.0  0.0  1025.0  0.000745  128.0\n",
       "147198  39.5  39.5   0  0.0  0.0  1075.0  0.001015  142.0\n",
       "147199  39.5  39.5   0  0.0  0.0  1125.0  0.000698  144.0\n",
       "\n",
       "[147200 rows x 8 columns]"
      ]
     },
     "metadata": {},
     "output_type": "display_data"
    },
    {
     "name": "stdout",
     "output_type": "stream",
     "text": [
      "['xr' 'yr' 'z']\n"
     ]
    }
   ],
   "source": [
    "display(psf_dataN100)\n",
    "var_name     = np.array(['xr', 'yr', 'z'])\n",
    "columns = var_name[:3]\n",
    "print(columns)"
   ]
  },
  {
   "cell_type": "markdown",
   "metadata": {},
   "source": [
    "uses length of data (var_name[:3]) to decide how many dimensions you're going to apply the reshape to.\n",
    "\n",
    "now to do whats done to it in beersheba"
   ]
  },
  {
   "cell_type": "code",
   "execution_count": 30,
   "metadata": {
    "metadata": {}
   },
   "outputs": [],
   "source": [
    "psf_deco      = psf_dataN100.factor.values.reshape(psf_dataN100.loc[:, columns].nunique().values)"
   ]
  },
  {
   "cell_type": "code",
   "execution_count": 17,
   "metadata": {
    "metadata": {}
   },
   "outputs": [
    {
     "name": "stdout",
     "output_type": "stream",
     "text": [
      "[0.0007929  0.00071327 0.00071456 ... 0.00074512 0.00101535 0.00069779]\n"
     ]
    }
   ],
   "source": [
    "print(psf_dataN100.factor.values)"
   ]
  },
  {
   "cell_type": "code",
   "execution_count": 22,
   "metadata": {
    "metadata": {}
   },
   "outputs": [
    {
     "name": "stdout",
     "output_type": "stream",
     "text": [
      "[80]\n"
     ]
    }
   ],
   "source": [
    "print(psf_dataN100.loc[:, columns].nunique().values)"
   ]
  },
  {
   "cell_type": "code",
   "execution_count": 32,
   "metadata": {
    "metadata": {}
   },
   "outputs": [
    {
     "name": "stdout",
     "output_type": "stream",
     "text": [
      "[[[0.0007929  0.00071327 0.00071456 ... 0.00081194 0.00076095 0.00081249]\n",
      "  [0.00086252 0.00082589 0.00073339 ... 0.00098367 0.00082808 0.00067998]\n",
      "  [0.00069502 0.00091758 0.00103098 ... 0.00076805 0.00094877 0.00082142]\n",
      "  ...\n",
      "  [0.00093203 0.00072207 0.00066054 ... 0.00093963 0.00084637 0.00080284]\n",
      "  [0.00086095 0.0007625  0.00066387 ... 0.00070114 0.00080226 0.0006732 ]\n",
      "  [0.00110205 0.0009487  0.00053985 ... 0.00098687 0.00086051 0.00070139]]\n",
      "\n",
      " [[0.00105909 0.0007622  0.00061176 ... 0.00084923 0.00079661 0.00073772]\n",
      "  [0.00096103 0.00090737 0.00118018 ... 0.00084898 0.00072255 0.00084154]\n",
      "  [0.00084464 0.00071475 0.00101696 ... 0.00089375 0.00097118 0.00093458]\n",
      "  ...\n",
      "  [0.00105796 0.00084644 0.00078267 ... 0.00080549 0.00085983 0.00088102]\n",
      "  [0.00094944 0.00081842 0.00066738 ... 0.00084434 0.00074515 0.00087989]\n",
      "  [0.00081903 0.00086961 0.00086085 ... 0.00095317 0.00080539 0.00072586]]\n",
      "\n",
      " [[0.00104618 0.00091858 0.00079675 ... 0.00131012 0.00094646 0.00074467]\n",
      "  [0.00100303 0.00088836 0.00098533 ... 0.00084821 0.00080539 0.0009014 ]\n",
      "  [0.00096188 0.0008043  0.00074997 ... 0.00086002 0.00130592 0.001013  ]\n",
      "  ...\n",
      "  [0.00081663 0.00081371 0.00084795 ... 0.00090529 0.00081873 0.00069516]\n",
      "  [0.00120946 0.00087274 0.00069914 ... 0.00103512 0.00072879 0.00073118]\n",
      "  [0.0009872  0.00082187 0.00102403 ... 0.0005679  0.00074519 0.00093079]]\n",
      "\n",
      " ...\n",
      "\n",
      " [[0.00093978 0.00083235 0.00097298 ... 0.00076735 0.00059387 0.00099316]\n",
      "  [0.00089518 0.00089727 0.00097472 ... 0.00079715 0.00077688 0.00100331]\n",
      "  [0.00109109 0.00104755 0.00094554 ... 0.00092193 0.00077535 0.00094796]\n",
      "  ...\n",
      "  [0.00069967 0.00100057 0.00095487 ... 0.00124523 0.00093418 0.00108642]\n",
      "  [0.00198135 0.00083768 0.00074505 ... 0.00097167 0.00083674 0.00092329]\n",
      "  [0.00190391 0.00074177 0.00064309 ... 0.00079873 0.00080298 0.00080497]]\n",
      "\n",
      " [[0.00086726 0.00076788 0.0009157  ... 0.00081646 0.00083143 0.00069755]\n",
      "  [0.00090248 0.00089617 0.0009117  ... 0.00073694 0.00083948 0.0010436 ]\n",
      "  [0.00094872 0.00086499 0.00078868 ... 0.00081383 0.00083793 0.00091039]\n",
      "  ...\n",
      "  [0.00106451 0.00087624 0.00103863 ... 0.00075563 0.00085459 0.00108291]\n",
      "  [0.00089764 0.00088387 0.00092278 ... 0.00069235 0.00095144 0.00086197]\n",
      "  [0.00062861 0.00078895 0.00078105 ... 0.00064675 0.0007516  0.00075914]]\n",
      "\n",
      " [[0.00088011 0.00071573 0.00083176 ... 0.00088313 0.00076681 0.00077658]\n",
      "  [0.00102311 0.00073242 0.00098092 ... 0.00069234 0.00094874 0.000765  ]\n",
      "  [0.00107964 0.00071819 0.00086833 ... 0.00062207 0.00072415 0.00094964]\n",
      "  ...\n",
      "  [0.00096677 0.00073923 0.00099976 ... 0.0008727  0.00081342 0.0007387 ]\n",
      "  [0.00077618 0.00077018 0.00088946 ... 0.00072252 0.00071687 0.00081144]\n",
      "  [0.00090153 0.00089848 0.00059649 ... 0.00074512 0.00101535 0.00069779]]]\n"
     ]
    }
   ],
   "source": [
    "print(psf_deco)"
   ]
  },
  {
   "cell_type": "code",
   "execution_count": 4,
   "metadata": {
    "metadata": {}
   },
   "outputs": [
    {
     "ename": "TypeError",
     "evalue": "ones() missing 1 required positional argument: 'shape'",
     "output_type": "error",
     "traceback": [
      "\u001b[0;31m---------------------------------------------------------------------------\u001b[0m",
      "\u001b[0;31mTypeError\u001b[0m                                 Traceback (most recent call last)",
      "Cell \u001b[0;32mIn[4], line 1\u001b[0m\n\u001b[0;32m----> 1\u001b[0m im_deconv \u001b[38;5;241m=\u001b[39m \u001b[38;5;241m0.5\u001b[39m \u001b[38;5;241m*\u001b[39m \u001b[43mnp\u001b[49m\u001b[38;5;241;43m.\u001b[39;49m\u001b[43mones\u001b[49m\u001b[43m(\u001b[49m\u001b[43m)\u001b[49m\n",
      "\u001b[0;31mTypeError\u001b[0m: ones() missing 1 required positional argument: 'shape'"
     ]
    }
   ],
   "source": [
    "im_deconv = 0.5 * np.ones((62,47))"
   ]
  },
  {
   "cell_type": "code",
   "execution_count": null,
   "metadata": {},
   "outputs": [],
   "source": []
  }
 ],
 "metadata": {
  "kernelspec": {
   "display_name": "IC-3.8-2022-04-13",
   "language": "python",
   "name": "python3"
  },
  "language_info": {
   "codemirror_mode": {
    "name": "ipython",
    "version": 3
   },
   "file_extension": ".py",
   "mimetype": "text/x-python",
   "name": "python",
   "nbconvert_exporter": "python",
   "pygments_lexer": "ipython3",
   "version": "3.8.18"
  }
 },
 "nbformat": 4,
 "nbformat_minor": 2
}
