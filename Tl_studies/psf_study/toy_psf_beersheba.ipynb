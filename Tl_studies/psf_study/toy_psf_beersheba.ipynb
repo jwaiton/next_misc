{
 "cells": [
  {
   "cell_type": "markdown",
   "metadata": {},
   "source": [
    "### toy to test what beersheba does to the psf"
   ]
  },
  {
   "cell_type": "code",
   "execution_count": 1,
   "metadata": {
    "metadata": {}
   },
   "outputs": [],
   "source": [
    "import sys,os,os.path\n",
    "sys.path.append(\"../../../\")   # cite IC from parent directory\n",
    "                            # NOTE if you can't import IC stuff, its because of the\n",
    "                            # above line\n",
    "#sys.path.append(os.path.expanduser('~/code/eol_hsrl_python'))\n",
    "os.environ['ICTDIR']='/home/e78368jw/Documents/NEXT_CODE/IC'\n",
    "\n",
    "import os\n",
    "import glob\n",
    "import numpy  as np\n",
    "import pandas as pd\n",
    "import tables as tb\n",
    "import matplotlib.pyplot as plt\n",
    "\n",
    "from IC.invisible_cities.reco.psf_functions    import create_psf\n",
    "from IC.invisible_cities.reco.psf_functions    import hdst_psf_processing\n",
    "from IC.invisible_cities.reco.psf_functions    import add_empty_sensors_and_normalize_q\n",
    "from IC.invisible_cities.reco.psf_functions    import add_variable_weighted_mean\n",
    "\n",
    "import IC.invisible_cities.core.core_functions as     coref\n",
    "import IC.invisible_cities.io  .dst_io         as     dstio\n",
    "\n",
    "from IC.invisible_cities.database              import load_db\n",
    "#from IC.invisible_cities.io      .kdst_io      import psf_writer\n",
    "# he's dead jim, make psf_writer yourself"
   ]
  },
  {
   "cell_type": "code",
   "execution_count": 3,
   "metadata": {
    "metadata": {}
   },
   "outputs": [],
   "source": [
    "psf_path = 'psfs/'\n",
    "psf_dataN100 = dstio.load_dst(psf_path + 'NEXT100_PSF_kr83m_5bar.h5', 'PSF', 'PSFs')"
   ]
  },
  {
   "cell_type": "code",
   "execution_count": 27,
   "metadata": {
    "metadata": {}
   },
   "outputs": [
    {
     "data": {
      "text/html": [
       "<div>\n",
       "<style scoped>\n",
       "    .dataframe tbody tr th:only-of-type {\n",
       "        vertical-align: middle;\n",
       "    }\n",
       "\n",
       "    .dataframe tbody tr th {\n",
       "        vertical-align: top;\n",
       "    }\n",
       "\n",
       "    .dataframe thead th {\n",
       "        text-align: right;\n",
       "    }\n",
       "</style>\n",
       "<table border=\"1\" class=\"dataframe\">\n",
       "  <thead>\n",
       "    <tr style=\"text-align: right;\">\n",
       "      <th></th>\n",
       "      <th>xr</th>\n",
       "      <th>yr</th>\n",
       "      <th>zr</th>\n",
       "      <th>x</th>\n",
       "      <th>y</th>\n",
       "      <th>z</th>\n",
       "      <th>factor</th>\n",
       "      <th>nevt</th>\n",
       "    </tr>\n",
       "  </thead>\n",
       "  <tbody>\n",
       "    <tr>\n",
       "      <th>0</th>\n",
       "      <td>-39.5</td>\n",
       "      <td>-39.5</td>\n",
       "      <td>0</td>\n",
       "      <td>0.0</td>\n",
       "      <td>0.0</td>\n",
       "      <td>25.0</td>\n",
       "      <td>0.000793</td>\n",
       "      <td>109.0</td>\n",
       "    </tr>\n",
       "    <tr>\n",
       "      <th>1</th>\n",
       "      <td>-39.5</td>\n",
       "      <td>-39.5</td>\n",
       "      <td>0</td>\n",
       "      <td>0.0</td>\n",
       "      <td>0.0</td>\n",
       "      <td>75.0</td>\n",
       "      <td>0.000713</td>\n",
       "      <td>137.0</td>\n",
       "    </tr>\n",
       "    <tr>\n",
       "      <th>2</th>\n",
       "      <td>-39.5</td>\n",
       "      <td>-39.5</td>\n",
       "      <td>0</td>\n",
       "      <td>0.0</td>\n",
       "      <td>0.0</td>\n",
       "      <td>125.0</td>\n",
       "      <td>0.000715</td>\n",
       "      <td>132.0</td>\n",
       "    </tr>\n",
       "    <tr>\n",
       "      <th>3</th>\n",
       "      <td>-39.5</td>\n",
       "      <td>-39.5</td>\n",
       "      <td>0</td>\n",
       "      <td>0.0</td>\n",
       "      <td>0.0</td>\n",
       "      <td>175.0</td>\n",
       "      <td>0.000758</td>\n",
       "      <td>121.0</td>\n",
       "    </tr>\n",
       "    <tr>\n",
       "      <th>4</th>\n",
       "      <td>-39.5</td>\n",
       "      <td>-39.5</td>\n",
       "      <td>0</td>\n",
       "      <td>0.0</td>\n",
       "      <td>0.0</td>\n",
       "      <td>225.0</td>\n",
       "      <td>0.000701</td>\n",
       "      <td>108.0</td>\n",
       "    </tr>\n",
       "    <tr>\n",
       "      <th>...</th>\n",
       "      <td>...</td>\n",
       "      <td>...</td>\n",
       "      <td>...</td>\n",
       "      <td>...</td>\n",
       "      <td>...</td>\n",
       "      <td>...</td>\n",
       "      <td>...</td>\n",
       "      <td>...</td>\n",
       "    </tr>\n",
       "    <tr>\n",
       "      <th>147195</th>\n",
       "      <td>39.5</td>\n",
       "      <td>39.5</td>\n",
       "      <td>0</td>\n",
       "      <td>0.0</td>\n",
       "      <td>0.0</td>\n",
       "      <td>925.0</td>\n",
       "      <td>0.000705</td>\n",
       "      <td>116.0</td>\n",
       "    </tr>\n",
       "    <tr>\n",
       "      <th>147196</th>\n",
       "      <td>39.5</td>\n",
       "      <td>39.5</td>\n",
       "      <td>0</td>\n",
       "      <td>0.0</td>\n",
       "      <td>0.0</td>\n",
       "      <td>975.0</td>\n",
       "      <td>0.000844</td>\n",
       "      <td>131.0</td>\n",
       "    </tr>\n",
       "    <tr>\n",
       "      <th>147197</th>\n",
       "      <td>39.5</td>\n",
       "      <td>39.5</td>\n",
       "      <td>0</td>\n",
       "      <td>0.0</td>\n",
       "      <td>0.0</td>\n",
       "      <td>1025.0</td>\n",
       "      <td>0.000745</td>\n",
       "      <td>128.0</td>\n",
       "    </tr>\n",
       "    <tr>\n",
       "      <th>147198</th>\n",
       "      <td>39.5</td>\n",
       "      <td>39.5</td>\n",
       "      <td>0</td>\n",
       "      <td>0.0</td>\n",
       "      <td>0.0</td>\n",
       "      <td>1075.0</td>\n",
       "      <td>0.001015</td>\n",
       "      <td>142.0</td>\n",
       "    </tr>\n",
       "    <tr>\n",
       "      <th>147199</th>\n",
       "      <td>39.5</td>\n",
       "      <td>39.5</td>\n",
       "      <td>0</td>\n",
       "      <td>0.0</td>\n",
       "      <td>0.0</td>\n",
       "      <td>1125.0</td>\n",
       "      <td>0.000698</td>\n",
       "      <td>144.0</td>\n",
       "    </tr>\n",
       "  </tbody>\n",
       "</table>\n",
       "<p>147200 rows × 8 columns</p>\n",
       "</div>"
      ],
      "text/plain": [
       "          xr    yr  zr    x    y       z    factor   nevt\n",
       "0      -39.5 -39.5   0  0.0  0.0    25.0  0.000793  109.0\n",
       "1      -39.5 -39.5   0  0.0  0.0    75.0  0.000713  137.0\n",
       "2      -39.5 -39.5   0  0.0  0.0   125.0  0.000715  132.0\n",
       "3      -39.5 -39.5   0  0.0  0.0   175.0  0.000758  121.0\n",
       "4      -39.5 -39.5   0  0.0  0.0   225.0  0.000701  108.0\n",
       "...      ...   ...  ..  ...  ...     ...       ...    ...\n",
       "147195  39.5  39.5   0  0.0  0.0   925.0  0.000705  116.0\n",
       "147196  39.5  39.5   0  0.0  0.0   975.0  0.000844  131.0\n",
       "147197  39.5  39.5   0  0.0  0.0  1025.0  0.000745  128.0\n",
       "147198  39.5  39.5   0  0.0  0.0  1075.0  0.001015  142.0\n",
       "147199  39.5  39.5   0  0.0  0.0  1125.0  0.000698  144.0\n",
       "\n",
       "[147200 rows x 8 columns]"
      ]
     },
     "metadata": {},
     "output_type": "display_data"
    },
    {
     "name": "stdout",
     "output_type": "stream",
     "text": [
      "['xr' 'yr']\n"
     ]
    }
   ],
   "source": [
    "display(psf_dataN100)\n",
    "var_name     = np.array(['xr', 'yr', 'z'])\n",
    "columns = var_name[:2]\n",
    "print(columns)"
   ]
  },
  {
   "cell_type": "markdown",
   "metadata": {},
   "source": [
    "uses length of data (var_name[:3]) to decide how many dimensions you're going to apply the reshape to.\n",
    "\n",
    "now to do whats done to it in beersheba"
   ]
  },
  {
   "cell_type": "code",
   "execution_count": 28,
   "metadata": {
    "metadata": {}
   },
   "outputs": [
    {
     "ename": "ValueError",
     "evalue": "cannot reshape array of size 147200 into shape (80,80)",
     "output_type": "error",
     "traceback": [
      "\u001b[0;31m---------------------------------------------------------------------------\u001b[0m",
      "\u001b[0;31mValueError\u001b[0m                                Traceback (most recent call last)",
      "Cell \u001b[0;32mIn[28], line 1\u001b[0m\n\u001b[0;32m----> 1\u001b[0m psf_deco      \u001b[38;5;241m=\u001b[39m \u001b[43mpsf_dataN100\u001b[49m\u001b[38;5;241;43m.\u001b[39;49m\u001b[43mfactor\u001b[49m\u001b[38;5;241;43m.\u001b[39;49m\u001b[43mvalues\u001b[49m\u001b[38;5;241;43m.\u001b[39;49m\u001b[43mreshape\u001b[49m\u001b[43m(\u001b[49m\u001b[43mpsf_dataN100\u001b[49m\u001b[38;5;241;43m.\u001b[39;49m\u001b[43mloc\u001b[49m\u001b[43m[\u001b[49m\u001b[43m:\u001b[49m\u001b[43m,\u001b[49m\u001b[43m \u001b[49m\u001b[43mcolumns\u001b[49m\u001b[43m]\u001b[49m\u001b[38;5;241;43m.\u001b[39;49m\u001b[43mnunique\u001b[49m\u001b[43m(\u001b[49m\u001b[43m)\u001b[49m\u001b[38;5;241;43m.\u001b[39;49m\u001b[43mvalues\u001b[49m\u001b[43m)\u001b[49m\n",
      "\u001b[0;31mValueError\u001b[0m: cannot reshape array of size 147200 into shape (80,80)"
     ]
    }
   ],
   "source": [
    "psf_deco      = psf_dataN100.factor.values.reshape(psf_dataN100.loc[:, columns].nunique().values)"
   ]
  },
  {
   "cell_type": "code",
   "execution_count": 17,
   "metadata": {
    "metadata": {}
   },
   "outputs": [
    {
     "name": "stdout",
     "output_type": "stream",
     "text": [
      "[0.0007929  0.00071327 0.00071456 ... 0.00074512 0.00101535 0.00069779]\n"
     ]
    }
   ],
   "source": [
    "print(psf_dataN100.factor.values)"
   ]
  },
  {
   "cell_type": "code",
   "execution_count": 22,
   "metadata": {
    "metadata": {}
   },
   "outputs": [
    {
     "name": "stdout",
     "output_type": "stream",
     "text": [
      "[80]\n"
     ]
    }
   ],
   "source": [
    "print(psf_dataN100.loc[:, columns].nunique().values)"
   ]
  },
  {
   "cell_type": "code",
   "execution_count": null,
   "metadata": {},
   "outputs": [],
   "source": []
  }
 ],
 "metadata": {
  "kernelspec": {
   "display_name": "IC-3.8-2022-04-13",
   "language": "python",
   "name": "python3"
  },
  "language_info": {
   "codemirror_mode": {
    "name": "ipython",
    "version": 3
   },
   "file_extension": ".py",
   "mimetype": "text/x-python",
   "name": "python",
   "nbconvert_exporter": "python",
   "pygments_lexer": "ipython3",
   "version": "3.8.18"
  }
 },
 "nbformat": 4,
 "nbformat_minor": 2
}
