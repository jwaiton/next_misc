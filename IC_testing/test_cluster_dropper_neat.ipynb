{
 "cells": [
  {
   "cell_type": "markdown",
   "metadata": {},
   "source": [
    "# Currently 4 methods for removing the isolated clusters:\n",
    "- old method (slow, but very precise)\n",
    "- kdtree method (faster, also precise)\n",
    "- miryam method (faster, seems to lose precision? would have to check)\n",
    "\n",
    "All three are studied timewise here\n",
    "\n",
    "## imports"
   ]
  },
  {
   "cell_type": "code",
   "execution_count": 4,
   "metadata": {},
   "outputs": [],
   "source": [
    "import sys,os,os.path\n",
    "sys.path.append(\"../../\")\n",
    "sys.path.append(os.path.expanduser('~/code/eol_hsrl_python'))\n",
    "os.environ['ICTDIR']='/home/e78368jw/Documents/NEXT_CODE/IC'\n",
    "\n",
    "#%load_ext autoreload\n",
    "#%autoreload 2\n",
    "#%matplotlib notebook\n",
    "\n",
    "import matplotlib.pyplot as plt\n",
    "from matplotlib import rcParams\n",
    "rcParams['mathtext.fontset'] = 'stix'\n",
    "rcParams['font.family'] = 'STIXGeneral'\n",
    "rcParams['figure.figsize'] = [10, 8]\n",
    "rcParams['font.size'] = 22\n",
    "\n",
    "import pandas as pd\n",
    "import numpy  as np\n",
    "import tables as tb\n",
    "\n",
    "import matplotlib.pyplot as plt\n",
    "from mpl_toolkits.mplot3d import Axes3D\n",
    "import matplotlib.colors as clrs\n",
    "\n",
    "import IC.invisible_cities.core.core_functions                   as     coref\n",
    "import IC.invisible_cities.io.dst_io                           as     dstio\n",
    "\n",
    "from IC.invisible_cities.cities                 import beersheba as beerfun\n",
    "\n",
    "\n",
    "from IC.invisible_cities.database.load_db       import DataSiPM\n",
    "\n",
    "from IC.invisible_cities.evm.event_model        import Cluster, Hit\n",
    "from IC.invisible_cities.types.ic_types         import xy\n",
    "from IC.invisible_cities.reco.paolina_functions import voxelize_hits\n",
    "\n",
    "from IC.invisible_cities.evm.event_model        import HitEnergy\n",
    "from IC.invisible_cities.cities.beersheba          import DeconvolutionMode\n",
    "from IC.invisible_cities.cities.beersheba          import CutType\n",
    "\n",
    "\n",
    "from IC.invisible_cities.reco.deconv_functions import deconvolve\n",
    "from IC.invisible_cities.reco.deconv_functions import deconvolution_input\n",
    "from IC.invisible_cities.reco.deconv_functions import InterpolationMethod\n",
    "\n",
    "import IC.invisible_cities.io.mcinfo_io as mcio\n",
    "\n",
    "from sklearn.neighbors import NearestNeighbors\n",
    "\n",
    "\n",
    "\n",
    "import matplotlib.cm as cm\n",
    "from matplotlib.colors import Normalize\n",
    "\n",
    "from scipy.spatial import cKDTree\n",
    "import networkx as nx\n",
    "import time"
   ]
  },
  {
   "cell_type": "markdown",
   "metadata": {},
   "source": [
    "## basic plotting function"
   ]
  },
  {
   "cell_type": "code",
   "execution_count": 5,
   "metadata": {},
   "outputs": [],
   "source": [
    "def raw_plotter(q, evt, pitch = 15.55, title = None):\n",
    "    '''\n",
    "    just plots the hits, nothing smart\n",
    "    '''\n",
    "\n",
    "    fig, axes = plt.subplots(1, 3, figsize=(18, 6))\n",
    "\n",
    "    xx = np.arange(q.X.min(), q.X.max() + pitch, pitch)\n",
    "    yy = np.arange(q.Y.min(), q.Y.max() + pitch, pitch)\n",
    "    zz = np.sort(q.Z.unique())\n",
    "\n",
    "    zz_diff = np.diff(zz)\n",
    "    zz_padded = []\n",
    "    for i, z in enumerate(zz[:-1]):\n",
    "        zz_padded.append(z)\n",
    "        if zz_diff[i] > 4:\n",
    "            zz_padded.extend(np.arange(z+4, zz[i+1], 4))\n",
    "    zz_padded.append(zz[-1])\n",
    "    zz = np.array(zz_padded)\n",
    "\n",
    "    axes[0].hist2d(q.X, q.Y, bins=[xx, yy], weights=q.Q, cmin=0.0001);\n",
    "    axes[0].set_xlabel('X (mm)');\n",
    "    axes[0].set_ylabel('Y (mm)');\n",
    "\n",
    "    axes[1].hist2d(q.X, q.Z, bins=[xx, zz], weights=q.Q, cmin=0.0001);\n",
    "    axes[1].set_xlabel('X (mm)');\n",
    "    axes[1].set_ylabel('Z (mm)');\n",
    "\n",
    "\n",
    "    axes[2].hist2d(q.Y, q.Z, bins=[yy, zz], weights=q.Q, cmin=0.0001);\n",
    "    axes[2].set_xlabel('Y (mm)');\n",
    "    axes[2].set_ylabel('Z (mm)');\n",
    "    plt.tight_layout()\n",
    "    if title is None:\n",
    "        fig.suptitle(f\"{evt}\")\n",
    "    else:\n",
    "        fig.suptitle(f\"{title}\")\n",
    "    plt.show(fig)"
   ]
  },
  {
   "cell_type": "markdown",
   "metadata": {},
   "source": [
    "## THE drop_isolated_clusters functions"
   ]
  },
  {
   "cell_type": "code",
   "execution_count": 6,
   "metadata": {},
   "outputs": [],
   "source": [
    "#=========================================================================================================================\n",
    "#============================================    MIRYAMS MAGICAL FUNCTION     ============================================\n",
    "#=========================================================================================================================\n",
    "\n",
    "def drop_isolated_miryam(distance = [16., 16., 4.],\n",
    "                           variables = [],\n",
    "                           nhit = 3,):\n",
    "    dist = np.sqrt(3)\n",
    "\n",
    "    def drop(df: pd.DataFrame) -> pd.DataFrame:\n",
    "        if len(df) == 0:\n",
    "            return df\n",
    "\n",
    "        x   = df.X.values / distance[0]\n",
    "        y   = df.Y.values / distance[1]\n",
    "        z   = df.Z.values / distance[2]\n",
    "        xyz = np.column_stack((x,y,z))\n",
    "\n",
    "        \n",
    "\n",
    "        try:\n",
    "            nbrs = NearestNeighbors(radius=dist, algorithm='ball_tree').fit(xyz)\n",
    "            neighbors = nbrs.radius_neighbors(xyz, return_distance=False)\n",
    "            mask = np.array([len(neigh) > nhit for neigh in neighbors])\n",
    "        except Exception as e:\n",
    "            print(f\"Error in NearestNeighbors: {{e}}\")\n",
    "            return df.iloc[:0]  # fallback: return empty\n",
    "\n",
    "        pass_df = df.loc[mask].copy()\n",
    "\n",
    "        if not pass_df.empty and variables:\n",
    "            with np.errstate(divide='ignore', invalid='ignore'):\n",
    "                columns = pass_df.loc[:, variables]\n",
    "                scale = df[variables].sum().values / columns.sum().values\n",
    "                columns *= scale\n",
    "                pass_df.loc[:, variables] = columns\n",
    "\n",
    "        return pass_df\n",
    "\n",
    "    return drop\n",
    "\n",
    "#=========================================================================================================================\n",
    "#============================================    KDTREE MAGICAL FUNCTION      ============================================\n",
    "#=========================================================================================================================\n",
    "\n",
    "def drop_isolated_kdtree(distance = [16., 16., 4.],\n",
    "                         variables = [],\n",
    "                         nhit = 3,\n",
    "                         verbose = False):\n",
    "    \n",
    "    def drop(df):\n",
    "        # normalise distances and (x,y,z) array\n",
    "        x   = df.X.values / distance[0]\n",
    "        y   = df.Y.values / distance[1]\n",
    "        z   = df.Z.values / distance[2]\n",
    "        xyz = np.column_stack((x,y,z))\n",
    "        \n",
    "        # normalised, so define distance sqrt(3)\n",
    "        dist = np.sqrt(3)\n",
    "\n",
    "        # build KDTree of datapoints, collect pairs within distance\n",
    "        xyz_tree = cKDTree(xyz)\n",
    "        pairs    = xyz_tree.query_pairs(r=dist)\n",
    "        \n",
    "        # create graph that connects all close pairs between hit positions based on df index\n",
    "        cluster_graph = nx.Graph()\n",
    "        cluster_graph.add_nodes_from(range(len(df)))\n",
    "        cluster_graph.add_edges_from((df.index[i], df.index[j]) for i,j in pairs)\n",
    "\n",
    "        # Find all clusters within the graph\n",
    "        clusters = list(nx.connected_components(cluster_graph))\n",
    "\n",
    "        # collect indices of passing hits (cluster > nhit) within set\n",
    "        passing_hits = set()\n",
    "        clstrs = []\n",
    "        for cluster in clusters:\n",
    "            if len(cluster) > nhit:\n",
    "                if verbose:\n",
    "                    print(f'Cluster size: {len(cluster)}')\n",
    "                    clstrs.append(len(cluster))\n",
    "                    print(f'Passing cluster: {cluster}')\n",
    "                passing_hits |= cluster\n",
    "        \n",
    "        if verbose:\n",
    "            print(clstrs)\n",
    "            plt.hist(clstrs, bins = 100)\n",
    "            plt.show()\n",
    "        # extract mask and apply it\n",
    "        mask    = df.index.isin(passing_hits)\n",
    "        pass_df = df.loc[mask, :].copy()\n",
    "\n",
    "        # reweighting\n",
    "        with np.errstate(divide='ignore'):\n",
    "            columns = pass_df.loc[:, variables]\n",
    "            columns *= np.divide(df.loc[:, variables].sum().values, columns.sum())\n",
    "            pass_df.loc[:, variables] = columns\n",
    "\n",
    "        return pass_df\n",
    "\n",
    "    return drop\n",
    "\n"
   ]
  },
  {
   "cell_type": "code",
   "execution_count": 7,
   "metadata": {},
   "outputs": [],
   "source": [
    "q_cut           = 5, #5 for 6mm  - 5 for 6mm\n",
    "drop_dist       = [16, 16, 4.]\n",
    "drop_dist_2d    = [16, 16]\n",
    "nhits           = 3\n",
    "nhits_low       = 1\n",
    "nhits_high      = 10\n",
    "\n",
    "\n",
    "cut_sensors       = beerfun.cut_over_Q   (q_cut, ['E', 'Ec'])\n",
    "drop_sensors      = beerfun.drop_isolated(drop_dist, ['E', 'Ec'], nhits)\n",
    "drop_sensors_2D   = beerfun.drop_isolated(drop_dist_2d, ['E', 'Ec'])\n",
    "drop_sensors_miryam = drop_isolated_miryam(drop_dist, ['E', 'Ec'], nhits)\n",
    "drop_sensors_3D_kdtree = drop_isolated_kdtree(drop_dist, ['E', 'Ec'], nhits)"
   ]
  },
  {
   "cell_type": "markdown",
   "metadata": {},
   "source": [
    "### cut and load data"
   ]
  },
  {
   "cell_type": "code",
   "execution_count": 8,
   "metadata": {},
   "outputs": [],
   "source": [
    "folder_path = 'data'\n",
    "\n",
    "file_names = [f for f in os.listdir(folder_path) if f.endswith('.h5')]\n",
    "file_paths = [os.path.join(folder_path, f) for f in file_names]\n",
    "\n",
    "soph_hdst = dstio.load_dsts(file_paths, 'RECO', 'Events')#CHITS/lowTh\n",
    "\n",
    "# cut\n",
    "cut_hdst = cut_sensors(soph_hdst)"
   ]
  },
  {
   "cell_type": "code",
   "execution_count": 9,
   "metadata": {},
   "outputs": [
    {
     "name": "stdout",
     "output_type": "stream",
     "text": [
      "6693\n"
     ]
    }
   ],
   "source": [
    "print(cut_hdst.event.nunique())"
   ]
  },
  {
   "cell_type": "markdown",
   "metadata": {},
   "source": [
    "### calculate execution time for each function across differing number of events averaged"
   ]
  },
  {
   "cell_type": "code",
   "execution_count": null,
   "metadata": {},
   "outputs": [
    {
     "ename": "",
     "evalue": "",
     "output_type": "error",
     "traceback": [
      "\u001b[1;31mThe Kernel crashed while executing code in the current cell or a previous cell. \n",
      "\u001b[1;31mPlease review the code in the cell(s) to identify a possible cause of the failure. \n",
      "\u001b[1;31mClick <a href='https://aka.ms/vscodeJupyterKernelCrash'>here</a> for more info. \n",
      "\u001b[1;31mView Jupyter <a href='command:jupyter.viewOutput'>log</a> for further details."
     ]
    }
   ],
   "source": [
    "def test_function_speed(func, df_full, iterations = 20, verbose = False):\n",
    "    '''\n",
    "    function that takes a function and a df and reports the time complexity of\n",
    "    running the function over N events, N being the number of events.\n",
    "\n",
    "    Returns array of time taken in seconds, and the final dropped dst\n",
    "    '''\n",
    "    time_taken = []\n",
    "\n",
    "    full_array = []\n",
    "    unique_events = df_full.event.unique()\n",
    "    total_events = df_full.event.nunique()\n",
    "    for n in range(1, len(unique_events) + 1, 1000):\n",
    "        if verbose:\n",
    "            print(f'{n}/{total_events} checked')\n",
    "        n = min(n, len(unique_events))  # dont overflow!\n",
    "        df_subset = df_full[df_full.event.isin(unique_events[:n])]\n",
    "        \n",
    "        execution_times = []\n",
    "        for _ in range(iterations):\n",
    "            start_time = time.time()\n",
    "            dropped_dst = df_subset.groupby('event').apply(func).reset_index(drop=True).copy(deep=True)\n",
    "            execution_times.append(time.time() - start_time)\n",
    "\n",
    "        # Calculate the average execution time\n",
    "        average_time = sum(execution_times) / len(execution_times)\n",
    "        time_taken.append(average_time)\n",
    "\n",
    "    return (time_taken, dropped_dst)\n"
   ]
  },
  {
   "cell_type": "code",
   "execution_count": null,
   "metadata": {},
   "outputs": [
    {
     "name": "stdout",
     "output_type": "stream",
     "text": [
      "1/6693 checked\n",
      "1001/6693 checked\n",
      "2001/6693 checked\n",
      "3001/6693 checked\n",
      "4001/6693 checked\n",
      "5001/6693 checked\n",
      "6001/6693 checked\n",
      "1/6693 checked\n",
      "1001/6693 checked\n",
      "2001/6693 checked\n",
      "3001/6693 checked\n",
      "4001/6693 checked\n",
      "5001/6693 checked\n",
      "6001/6693 checked\n",
      "1/6693 checked\n",
      "1001/6693 checked\n",
      "2001/6693 checked\n",
      "3001/6693 checked\n",
      "4001/6693 checked\n"
     ]
    }
   ],
   "source": [
    "time_taken_kdtree, df_kdtree = test_function_speed(drop_sensors_3D_kdtree, cut_hdst, verbose = True)\n",
    "time_taken_miryam, df_miryam = test_function_speed(drop_sensors_miryam, cut_hdst, verbose = True)\n",
    "time_taken_old, df_old       = test_function_speed(drop_sensors, cut_hdst, verbose = True)"
   ]
  },
  {
   "cell_type": "code",
   "execution_count": null,
   "metadata": {},
   "outputs": [],
   "source": [
    "N = [x for x in range(1, cut_hdst.event.nunique() + 1, 5)]"
   ]
  },
  {
   "cell_type": "code",
   "execution_count": 1,
   "metadata": {},
   "outputs": [
    {
     "ename": "NameError",
     "evalue": "name 'plt' is not defined",
     "output_type": "error",
     "traceback": [
      "\u001b[0;31m---------------------------------------------------------------------------\u001b[0m",
      "\u001b[0;31mNameError\u001b[0m                                 Traceback (most recent call last)",
      "Cell \u001b[0;32mIn[1], line 1\u001b[0m\n\u001b[0;32m----> 1\u001b[0m \u001b[43mplt\u001b[49m\u001b[38;5;241m.\u001b[39mplot(N, time_taken_miryam, label \u001b[38;5;241m=\u001b[39m \u001b[38;5;124m\"\u001b[39m\u001b[38;5;124mMiryam\u001b[39m\u001b[38;5;124m'\u001b[39m\u001b[38;5;124ms method 3D\u001b[39m\u001b[38;5;124m\"\u001b[39m)\n\u001b[1;32m      2\u001b[0m plt\u001b[38;5;241m.\u001b[39mplot(N, time_taken_kdtree, label \u001b[38;5;241m=\u001b[39m \u001b[38;5;124m\"\u001b[39m\u001b[38;5;124mKDTree method 3D\u001b[39m\u001b[38;5;124m\"\u001b[39m)\n\u001b[1;32m      3\u001b[0m plt\u001b[38;5;241m.\u001b[39mplot(N, time_taken_old, label \u001b[38;5;241m=\u001b[39m \u001b[38;5;124m\"\u001b[39m\u001b[38;5;124mCurrent method 3D\u001b[39m\u001b[38;5;124m\"\u001b[39m)\n",
      "\u001b[0;31mNameError\u001b[0m: name 'plt' is not defined"
     ]
    }
   ],
   "source": [
    "plt.plot(N, time_taken_miryam, label = \"Miryam's method 3D\")\n",
    "plt.plot(N, time_taken_kdtree, label = \"KDTree method 3D\")\n",
    "plt.plot(N, time_taken_old, label = \"Current method 3D\")\n",
    "\n",
    "plt.xlabel('N')\n",
    "plt.ylabel('Time (seconds)')\n",
    "plt.title('Time complexity of differing functions for isolated cluster removal.')\n",
    "plt.legend()\n",
    "plt.show()"
   ]
  },
  {
   "cell_type": "code",
   "execution_count": null,
   "metadata": {},
   "outputs": [],
   "source": [
    "plt.plot(N, time_taken_miryam, label = \"Miryam's method 3D\")\n",
    "plt.plot(N, time_taken_kdtree, label = \"KDTree method 3D\")\n",
    "plt.plot(N, time_taken_old, label = \"Current method 3D\")\n",
    "\n",
    "plt.xlabel('N')\n",
    "plt.ylabel('Time (seconds)')\n",
    "plt.title('Time complexity of differing functions for isolated cluster removal.')\n",
    "plt.legend()\n",
    "plt.savefig('methods.pdf')\n",
    "plt.show()"
   ]
  },
  {
   "cell_type": "code",
   "execution_count": null,
   "metadata": {},
   "outputs": [],
   "source": []
  }
 ],
 "metadata": {
  "kernelspec": {
   "display_name": "IC-3.8-2024-06-08",
   "language": "python",
   "name": "python3"
  },
  "language_info": {
   "codemirror_mode": {
    "name": "ipython",
    "version": 3
   },
   "file_extension": ".py",
   "mimetype": "text/x-python",
   "name": "python",
   "nbconvert_exporter": "python",
   "pygments_lexer": "ipython3",
   "version": "3.8.20"
  }
 },
 "nbformat": 4,
 "nbformat_minor": 2
}
