{
 "cells": [
  {
   "cell_type": "markdown",
   "metadata": {},
   "source": [
    "# A more compact, sleeker PSF checker"
   ]
  },
  {
   "cell_type": "code",
   "execution_count": 1,
   "metadata": {},
   "outputs": [],
   "source": [
    "import sys,os,os.path\n",
    "sys.path.append(\"../../\")   # cite IC from parent directory\n",
    "                            # NOTE if you can't import IC stuff, its because of the\n",
    "                            # above line\n",
    "#sys.path.append(os.path.expanduser('~/code/eol_hsrl_python'))\n",
    "os.environ['ICTDIR']='/home/e78368jw/Documents/NEXT_CODE/IC'\n",
    "\n",
    "import os\n",
    "import glob\n",
    "import numpy  as np\n",
    "import pandas as pd\n",
    "import tables as tb\n",
    "import matplotlib.pyplot as plt\n",
    "\n",
    "from IC.invisible_cities.reco.psf_functions    import create_psf\n",
    "from IC.invisible_cities.reco.psf_functions    import hdst_psf_processing\n",
    "from IC.invisible_cities.reco.psf_functions    import add_empty_sensors_and_normalize_q\n",
    "from IC.invisible_cities.reco.psf_functions    import add_variable_weighted_mean\n",
    "\n",
    "import IC.invisible_cities.core.core_functions as     coref\n",
    "import IC.invisible_cities.io  .dst_io         as     dstio\n",
    "\n",
    "from IC.invisible_cities.database              import load_db\n",
    "#from IC.invisible_cities.io      .kdst_io      import psf_writer\n",
    "# he's dead jim, make psf_writer yourself"
   ]
  },
  {
   "cell_type": "code",
   "execution_count": 2,
   "metadata": {},
   "outputs": [],
   "source": [
    "class PSFfactors(tb.IsDescription):\n",
    "    nevt   = tb. UInt32Col(pos=0)\n",
    "    xr     = tb.Float32Col(pos=1)\n",
    "    yr     = tb.Float32Col(pos=2)\n",
    "    zr     = tb.Float32Col(pos=3)\n",
    "    x      = tb.Float32Col(pos=4)\n",
    "    y      = tb.Float32Col(pos=5)\n",
    "    z      = tb.Float32Col(pos=6)\n",
    "    factor = tb.Float32Col(pos=7)\n",
    "\n",
    "def psf_writer(hdf5_file, **kwargs):\n",
    "    psf_table = make_table(hdf5_file,\n",
    "                           group       = \"PSF\",\n",
    "                           name        = \"PSFs\",\n",
    "                           fformat     = PSFfactors,\n",
    "                           description = \"XYZ dependent point spread functions\",\n",
    "                           compression = 'ZLIB4')\n",
    "\n",
    "    def write_psf(xr, yr, zr, xp, yp, zp, fr, nr):\n",
    "        row = psf_table.row\n",
    "        for i, x in enumerate(xr):\n",
    "            for j, y in enumerate(yr):\n",
    "                for k, z in enumerate(zr):\n",
    "                    row[\"xr\"    ] = x\n",
    "                    row[\"yr\"    ] = y\n",
    "                    row[\"zr\"    ] = z\n",
    "                    row[\"x\"     ] = xp\n",
    "                    row[\"y\"     ] = yp\n",
    "                    row[\"z\"     ] = zp\n",
    "                    row[\"factor\"] = fr[i,j,k]\n",
    "                    row[\"nevt\"  ] = nr[i,j,k]\n",
    "                    row.append()\n",
    "    return write_psf"
   ]
  },
  {
   "cell_type": "markdown",
   "metadata": {},
   "source": [
    "## Read PSFs\n",
    "\n",
    "load your PSFs in here"
   ]
  },
  {
   "cell_type": "code",
   "execution_count": 3,
   "metadata": {},
   "outputs": [],
   "source": [
    "psf_path  = 'psfs/'\n",
    "psf_path2 = '../Tl_studies/psf_study/psfs/'"
   ]
  },
  {
   "cell_type": "code",
   "execution_count": 5,
   "metadata": {},
   "outputs": [
    {
     "ename": "HDF5ExtError",
     "evalue": "HDF5 error back trace\n\n  File \"H5F.c\", line 836, in H5Fopen\n    unable to synchronously open file\n  File \"H5F.c\", line 796, in H5F__open_api_common\n    unable to open file\n  File \"H5VLcallback.c\", line 3863, in H5VL_file_open\n    open failed\n  File \"H5VLcallback.c\", line 3675, in H5VL__file_open\n    open failed\n  File \"H5VLnative_file.c\", line 128, in H5VL__native_file_open\n    unable to open file\n  File \"H5Fint.c\", line 1965, in H5F_open\n    unable to read superblock\n  File \"H5Fsuper.c\", line 614, in H5F__super_read\n    truncated file: eof = 96, sblock->base_addr = 0, stored_eof = 2048\n\nEnd of HDF5 error back trace\n\nUnable to open/create file 'psfs/eutropia_14913_14_15_PSF_merged_sectors_1mm.h5'",
     "output_type": "error",
     "traceback": [
      "\u001b[0;31m---------------------------------------------------------------------------\u001b[0m",
      "\u001b[0;31mHDF5ExtError\u001b[0m                              Traceback (most recent call last)",
      "Cell \u001b[0;32mIn[5], line 3\u001b[0m\n\u001b[1;32m      1\u001b[0m psf_data_MC \u001b[38;5;241m=\u001b[39m dstio\u001b[38;5;241m.\u001b[39mload_dst(psf_path \u001b[38;5;241m+\u001b[39m \u001b[38;5;124m'\u001b[39m\u001b[38;5;124mNEXT100_PSF_kr83m_5bar.h5\u001b[39m\u001b[38;5;124m'\u001b[39m, \u001b[38;5;124m'\u001b[39m\u001b[38;5;124mPSF\u001b[39m\u001b[38;5;124m'\u001b[39m, \u001b[38;5;124m'\u001b[39m\u001b[38;5;124mPSFs\u001b[39m\u001b[38;5;124m'\u001b[39m)\n\u001b[1;32m      2\u001b[0m psf_data_R14675 \u001b[38;5;241m=\u001b[39m dstio\u001b[38;5;241m.\u001b[39mload_dst(psf_path \u001b[38;5;241m+\u001b[39m \u001b[38;5;124m'\u001b[39m\u001b[38;5;124meutropia_14675_PSF_merged_sectors.h5\u001b[39m\u001b[38;5;124m'\u001b[39m, \u001b[38;5;124m'\u001b[39m\u001b[38;5;124mPSF\u001b[39m\u001b[38;5;124m'\u001b[39m, \u001b[38;5;124m'\u001b[39m\u001b[38;5;124mPSFs\u001b[39m\u001b[38;5;124m'\u001b[39m)\n\u001b[0;32m----> 3\u001b[0m psf_data_R1491_345 \u001b[38;5;241m=\u001b[39m \u001b[43mdstio\u001b[49m\u001b[38;5;241;43m.\u001b[39;49m\u001b[43mload_dst\u001b[49m\u001b[43m(\u001b[49m\u001b[43mpsf_path\u001b[49m\u001b[43m \u001b[49m\u001b[38;5;241;43m+\u001b[39;49m\u001b[43m \u001b[49m\u001b[38;5;124;43m'\u001b[39;49m\u001b[38;5;124;43meutropia_14913_14_15_PSF_merged_sectors_1mm.h5\u001b[39;49m\u001b[38;5;124;43m'\u001b[39;49m\u001b[43m,\u001b[49m\u001b[43m \u001b[49m\u001b[38;5;124;43m'\u001b[39;49m\u001b[38;5;124;43mPSF\u001b[39;49m\u001b[38;5;124;43m'\u001b[39;49m\u001b[43m,\u001b[49m\u001b[43m \u001b[49m\u001b[38;5;124;43m'\u001b[39;49m\u001b[38;5;124;43mPSFs\u001b[39;49m\u001b[38;5;124;43m'\u001b[39;49m\u001b[43m)\u001b[49m\n\u001b[1;32m      4\u001b[0m psf_MC_4bar \u001b[38;5;241m=\u001b[39m dstio\u001b[38;5;241m.\u001b[39mload_dst(psf_path \u001b[38;5;241m+\u001b[39m \u001b[38;5;124m'\u001b[39m\u001b[38;5;124mn100_mc_4bar.psf\u001b[39m\u001b[38;5;124m'\u001b[39m, \u001b[38;5;124m'\u001b[39m\u001b[38;5;124mPSF\u001b[39m\u001b[38;5;124m'\u001b[39m, \u001b[38;5;124m'\u001b[39m\u001b[38;5;124mPSFs\u001b[39m\u001b[38;5;124m'\u001b[39m)\n",
      "File \u001b[0;32m~/Documents/NEXT_CODE/next_misc/eutricide/../../IC/invisible_cities/io/dst_io.py:46\u001b[0m, in \u001b[0;36mload_dst\u001b[0;34m(filename, group, node, evt_list, ignore_errors)\u001b[0m\n\u001b[1;32m     44\u001b[0m         warnings\u001b[38;5;241m.\u001b[39mwarn(\u001b[38;5;124mf\u001b[39m\u001b[38;5;124m'\u001b[39m\u001b[38;5;124m does not exist: file = \u001b[39m\u001b[38;5;132;01m{\u001b[39;00mfilename\u001b[38;5;132;01m}\u001b[39;00m\u001b[38;5;124m \u001b[39m\u001b[38;5;124m'\u001b[39m, \u001b[38;5;167;01mUserWarning\u001b[39;00m)\n\u001b[1;32m     45\u001b[0m \u001b[38;5;28;01melse\u001b[39;00m:\n\u001b[0;32m---> 46\u001b[0m     \u001b[38;5;28;01mreturn\u001b[39;00m \u001b[43mread_dst_\u001b[49m\u001b[43m(\u001b[49m\u001b[43mfilename\u001b[49m\u001b[43m,\u001b[49m\u001b[43m \u001b[49m\u001b[43mgroup\u001b[49m\u001b[43m,\u001b[49m\u001b[43m \u001b[49m\u001b[43mnode\u001b[49m\u001b[43m,\u001b[49m\u001b[43m \u001b[49m\u001b[43mevt_list\u001b[49m\u001b[43m)\u001b[49m\n",
      "File \u001b[0;32m~/Documents/NEXT_CODE/next_misc/eutricide/../../IC/invisible_cities/io/dst_io.py:27\u001b[0m, in \u001b[0;36mload_dst.<locals>.read_dst_\u001b[0;34m(filename, group, node, evt_list)\u001b[0m\n\u001b[1;32m     26\u001b[0m \u001b[38;5;28;01mdef\u001b[39;00m \u001b[38;5;21mread_dst_\u001b[39m(filename, group, node, evt_list):\n\u001b[0;32m---> 27\u001b[0m     \u001b[38;5;28;01mwith\u001b[39;00m \u001b[43mtb\u001b[49m\u001b[38;5;241;43m.\u001b[39;49m\u001b[43mopen_file\u001b[49m\u001b[43m(\u001b[49m\u001b[43mfilename\u001b[49m\u001b[43m)\u001b[49m \u001b[38;5;28;01mas\u001b[39;00m h5in:\n\u001b[1;32m     28\u001b[0m         table  \u001b[38;5;241m=\u001b[39m \u001b[38;5;28mgetattr\u001b[39m(\u001b[38;5;28mgetattr\u001b[39m(h5in\u001b[38;5;241m.\u001b[39mroot, group), node)\n\u001b[1;32m     29\u001b[0m         \u001b[38;5;28;01mif\u001b[39;00m evt_list \u001b[38;5;129;01mis\u001b[39;00m \u001b[38;5;28;01mNone\u001b[39;00m:\n",
      "File \u001b[0;32m~/anaconda3/envs/IC-3.8-2024-06-08/lib/python3.8/site-packages/tables/file.py:300\u001b[0m, in \u001b[0;36mopen_file\u001b[0;34m(filename, mode, title, root_uep, filters, **kwargs)\u001b[0m\n\u001b[1;32m    295\u001b[0m             \u001b[38;5;28;01mraise\u001b[39;00m \u001b[38;5;167;01mValueError\u001b[39;00m(\n\u001b[1;32m    296\u001b[0m                 \u001b[38;5;124m\"\u001b[39m\u001b[38;5;124mThe file \u001b[39m\u001b[38;5;124m'\u001b[39m\u001b[38;5;132;01m%s\u001b[39;00m\u001b[38;5;124m'\u001b[39m\u001b[38;5;124m is already opened.  Please \u001b[39m\u001b[38;5;124m\"\u001b[39m\n\u001b[1;32m    297\u001b[0m                 \u001b[38;5;124m\"\u001b[39m\u001b[38;5;124mclose it before reopening in write mode.\u001b[39m\u001b[38;5;124m\"\u001b[39m \u001b[38;5;241m%\u001b[39m filename)\n\u001b[1;32m    299\u001b[0m \u001b[38;5;66;03m# Finally, create the File instance, and return it\u001b[39;00m\n\u001b[0;32m--> 300\u001b[0m \u001b[38;5;28;01mreturn\u001b[39;00m \u001b[43mFile\u001b[49m\u001b[43m(\u001b[49m\u001b[43mfilename\u001b[49m\u001b[43m,\u001b[49m\u001b[43m \u001b[49m\u001b[43mmode\u001b[49m\u001b[43m,\u001b[49m\u001b[43m \u001b[49m\u001b[43mtitle\u001b[49m\u001b[43m,\u001b[49m\u001b[43m \u001b[49m\u001b[43mroot_uep\u001b[49m\u001b[43m,\u001b[49m\u001b[43m \u001b[49m\u001b[43mfilters\u001b[49m\u001b[43m,\u001b[49m\u001b[43m \u001b[49m\u001b[38;5;241;43m*\u001b[39;49m\u001b[38;5;241;43m*\u001b[39;49m\u001b[43mkwargs\u001b[49m\u001b[43m)\u001b[49m\n",
      "File \u001b[0;32m~/anaconda3/envs/IC-3.8-2024-06-08/lib/python3.8/site-packages/tables/file.py:750\u001b[0m, in \u001b[0;36mFile.__init__\u001b[0;34m(self, filename, mode, title, root_uep, filters, **kwargs)\u001b[0m\n\u001b[1;32m    747\u001b[0m \u001b[38;5;28mself\u001b[39m\u001b[38;5;241m.\u001b[39mparams \u001b[38;5;241m=\u001b[39m params\n\u001b[1;32m    749\u001b[0m \u001b[38;5;66;03m# Now, it is time to initialize the File extension\u001b[39;00m\n\u001b[0;32m--> 750\u001b[0m \u001b[38;5;28;43mself\u001b[39;49m\u001b[38;5;241;43m.\u001b[39;49m\u001b[43m_g_new\u001b[49m\u001b[43m(\u001b[49m\u001b[43mfilename\u001b[49m\u001b[43m,\u001b[49m\u001b[43m \u001b[49m\u001b[43mmode\u001b[49m\u001b[43m,\u001b[49m\u001b[43m \u001b[49m\u001b[38;5;241;43m*\u001b[39;49m\u001b[38;5;241;43m*\u001b[39;49m\u001b[43mparams\u001b[49m\u001b[43m)\u001b[49m\n\u001b[1;32m    752\u001b[0m \u001b[38;5;66;03m# Check filters and set PyTables format version for new files.\u001b[39;00m\n\u001b[1;32m    753\u001b[0m new \u001b[38;5;241m=\u001b[39m \u001b[38;5;28mself\u001b[39m\u001b[38;5;241m.\u001b[39m_v_new\n",
      "File \u001b[0;32m~/anaconda3/envs/IC-3.8-2024-06-08/lib/python3.8/site-packages/tables/hdf5extension.pyx:486\u001b[0m, in \u001b[0;36mtables.hdf5extension.File._g_new\u001b[0;34m()\u001b[0m\n",
      "\u001b[0;31mHDF5ExtError\u001b[0m: HDF5 error back trace\n\n  File \"H5F.c\", line 836, in H5Fopen\n    unable to synchronously open file\n  File \"H5F.c\", line 796, in H5F__open_api_common\n    unable to open file\n  File \"H5VLcallback.c\", line 3863, in H5VL_file_open\n    open failed\n  File \"H5VLcallback.c\", line 3675, in H5VL__file_open\n    open failed\n  File \"H5VLnative_file.c\", line 128, in H5VL__native_file_open\n    unable to open file\n  File \"H5Fint.c\", line 1965, in H5F_open\n    unable to read superblock\n  File \"H5Fsuper.c\", line 614, in H5F__super_read\n    truncated file: eof = 96, sblock->base_addr = 0, stored_eof = 2048\n\nEnd of HDF5 error back trace\n\nUnable to open/create file 'psfs/eutropia_14913_14_15_PSF_merged_sectors_1mm.h5'"
     ]
    }
   ],
   "source": [
    "psf_data_MC = dstio.load_dst(psf_path + 'NEXT100_PSF_kr83m_5bar.h5', 'PSF', 'PSFs')\n",
    "psf_data_R14675 = dstio.load_dst(psf_path + 'eutropia_14675_PSF_merged_sectors.h5', 'PSF', 'PSFs')\n",
    "psf_data_R1491_345 = dstio.load_dst(psf_path + 'eutropia_14913_14_15_PSF_merged_sectors_1mm.h5', 'PSF', 'PSFs')\n",
    "psf_MC_4bar = dstio.load_dst(psf_path + 'n100_mc_4bar.psf', 'PSF', 'PSFs')\n"
   ]
  },
  {
   "cell_type": "code",
   "execution_count": null,
   "metadata": {},
   "outputs": [],
   "source": []
  }
 ],
 "metadata": {
  "kernelspec": {
   "display_name": "IC-3.8-2024-06-08",
   "language": "python",
   "name": "python3"
  },
  "language_info": {
   "codemirror_mode": {
    "name": "ipython",
    "version": 3
   },
   "file_extension": ".py",
   "mimetype": "text/x-python",
   "name": "python",
   "nbconvert_exporter": "python",
   "pygments_lexer": "ipython3",
   "version": "3.8.20"
  }
 },
 "nbformat": 4,
 "nbformat_minor": 2
}
