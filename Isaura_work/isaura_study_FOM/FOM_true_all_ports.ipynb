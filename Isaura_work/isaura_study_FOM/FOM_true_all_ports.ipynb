{
 "cells": [
  {
   "cell_type": "markdown",
   "metadata": {},
   "source": [
    "#### FOM note book for true, all ports\n",
    "Will be modular, so you can just give it whatever you want"
   ]
  },
  {
   "cell_type": "code",
   "execution_count": 5,
   "metadata": {},
   "outputs": [],
   "source": [
    "import sys,os,os.path\n",
    "\n",
    "sys.path.append(\"../../\")   # cite IC from parent directory\n",
    "                            # NOTE if you can't import IC stuff, its because of the\n",
    "                            # above line\n",
    "#sys.path.append(os.path.expanduser('~/code/eol_hsrl_python'))\n",
    "os.environ['ICTDIR']='/home/e78368jw/Documents/NEXT_CODE/IC'\n",
    "\n",
    "import matplotlib.pyplot as plt\n",
    "import pandas as pd\n",
    "import numpy  as np\n",
    "import tables as tb\n",
    "import IC.invisible_cities.io.dst_io                           as     dstio\n",
    "import IC.invisible_cities.io.mcinfo_io as mcio\n",
    "from    IC.invisible_cities.core.core_functions   import shift_to_bin_centers\n",
    "import iminuit,probfit\n",
    "\n",
    "import scipy.special as special\n",
    "from scipy.stats import skewnorm\n",
    "from scipy.optimize import curve_fit\n",
    "\n",
    "from scipy.integrate import quad\n",
    "\n",
    "from Th_studies.functions import isaura_analyse as isa\n",
    "\n",
    "#adding here ROI\n",
    "emin = 1.5\n",
    "emax = 1.7"
   ]
  },
  {
   "cell_type": "code",
   "execution_count": 6,
   "metadata": {},
   "outputs": [],
   "source": [
    "folder_path = '../LPR_rerun_voxel/isaura_15x15x15mm/PORT_1a/prod/isaura/'"
   ]
  },
  {
   "cell_type": "code",
   "execution_count": null,
   "metadata": {},
   "outputs": [],
   "source": [
    "# load data\n",
    "data = isa.read_MC_tracks(folder_path)\n",
    "\n",
    "# read in data\n",
    "directory = '../analysis_data/10x10x10_cut_data/'\n",
    "\n",
    "\n",
    "port_1a = pd.read_hdf(directory + 'P1A_10x10x10.h5')\n",
    "port_1b = pd.read_hdf(directory + 'P1B_10x10x10.h5')\n",
    "port_2a = pd.read_hdf(directory + 'P2A_10x10x10.h5')\n",
    "port_2b = pd.read_hdf(directory + 'P2B_10x10x10.h5')"
   ]
  },
  {
   "cell_type": "code",
   "execution_count": null,
   "metadata": {},
   "outputs": [],
   "source": []
  }
 ],
 "metadata": {
  "kernelspec": {
   "display_name": "IC-3.8-2022-04-13",
   "language": "python",
   "name": "python3"
  },
  "language_info": {
   "codemirror_mode": {
    "name": "ipython",
    "version": 3
   },
   "file_extension": ".py",
   "mimetype": "text/x-python",
   "name": "python",
   "nbconvert_exporter": "python",
   "pygments_lexer": "ipython3",
   "version": "3.8.18"
  }
 },
 "nbformat": 4,
 "nbformat_minor": 2
}
