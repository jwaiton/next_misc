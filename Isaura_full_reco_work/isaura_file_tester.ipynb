{
 "cells": [
  {
   "cell_type": "code",
   "execution_count": 2,
   "metadata": {},
   "outputs": [],
   "source": [
    "import sys,os,os.path\n",
    "\n",
    "sys.path.append(\"../../\")   # cite IC from parent directory\n",
    "#sys.path.append(os.path.expanduser('~/code/eol_hsrl_python'))\n",
    "os.environ['ICTDIR']='/home/e78368jw/Documents/NEXT_CODE/IC'\n",
    "\n",
    "import matplotlib.pyplot as plt\n",
    "import pandas as pd\n",
    "import numpy  as np\n",
    "import tables as tb\n",
    "import IC.invisible_cities.io.dst_io                           as     dstio\n",
    "import IC.invisible_cities.io.mcinfo_io as mcio\n",
    "from    IC.invisible_cities.core.core_functions   import shift_to_bin_centers\n",
    "import iminuit,probfit\n",
    "\n",
    "import scipy.special as special\n",
    "from scipy.stats import skewnorm\n",
    "from scipy.optimize import curve_fit"
   ]
  },
  {
   "cell_type": "code",
   "execution_count": 3,
   "metadata": {},
   "outputs": [],
   "source": [
    "def load_data(folder_path):\n",
    "    file_names = [f for f in os.listdir(folder_path) if os.path.isfile(os.path.join(folder_path, f))]\n",
    "\n",
    "    # NOTE Break this section up, its annoying like this.\n",
    "    dfs = []\n",
    "    df_trs = []\n",
    "    df_ems = []\n",
    "    i = 0\n",
    "    end = len(file_names)\n",
    "    # create massive dataframe with all of them\n",
    "    for file in file_names:\n",
    "        file_path = folder_path + file\n",
    "        df = dstio.load_dst(file_path, 'Tracking', 'Tracks')\n",
    "        dfs.append(df)\n",
    "        # include MC particles (boooo takes ages)\n",
    "\n",
    "        # collecting the correct components of the file, not exactly sure how this works\n",
    "        df_ps = pd.read_hdf(file_path, 'MC/particles')\n",
    "        #df_ps = df_ps[df_ps.creator_proc == 'conv']\n",
    "        # collecting event map\n",
    "        df_em = mcio.load_eventnumbermap(file_path).set_index('nexus_evt')\n",
    "        df_trs.append(df_ps)\n",
    "        df_ems.append(df_em)\n",
    "        i += 1\n",
    "\n",
    "        if (i%1000 == 0):\n",
    "            print(i)\n",
    "\n",
    "    tracks = pd.concat(dfs, axis=0, ignore_index=True)\n",
    "\n",
    "    particles = pd.concat(df_trs, ignore_index=True)\n",
    "    eventmap = pd.concat([dt for dt in df_ems])\n",
    "    # create particle list also\n",
    "\n",
    "    return (tracks, particles, eventmap)"
   ]
  },
  {
   "cell_type": "code",
   "execution_count": 4,
   "metadata": {},
   "outputs": [
    {
     "ename": "NotADirectoryError",
     "evalue": "[Errno 20] Not a directory: 'data/isaura_1_208Tl.h5'",
     "output_type": "error",
     "traceback": [
      "\u001b[0;31m---------------------------------------------------------------------------\u001b[0m",
      "\u001b[0;31mNotADirectoryError\u001b[0m                        Traceback (most recent call last)",
      "\u001b[1;32m/home/e78368jw/Documents/NEXT_CODE/next_misc/Isaura_full_reco_work/isaura_file_tester.ipynb Cell 3\u001b[0m line \u001b[0;36m3\n\u001b[1;32m      <a href='vscode-notebook-cell:/home/e78368jw/Documents/NEXT_CODE/next_misc/Isaura_full_reco_work/isaura_file_tester.ipynb#W2sZmlsZQ%3D%3D?line=0'>1</a>\u001b[0m \u001b[39m# load in all the data\u001b[39;00m\n\u001b[1;32m      <a href='vscode-notebook-cell:/home/e78368jw/Documents/NEXT_CODE/next_misc/Isaura_full_reco_work/isaura_file_tester.ipynb#W2sZmlsZQ%3D%3D?line=1'>2</a>\u001b[0m folder_path \u001b[39m=\u001b[39m \u001b[39m'\u001b[39m\u001b[39mdata/isaura_1_208Tl.h5\u001b[39m\u001b[39m'\u001b[39m\n\u001b[0;32m----> <a href='vscode-notebook-cell:/home/e78368jw/Documents/NEXT_CODE/next_misc/Isaura_full_reco_work/isaura_file_tester.ipynb#W2sZmlsZQ%3D%3D?line=2'>3</a>\u001b[0m port1_data \u001b[39m=\u001b[39m load_data(folder_path)\n\u001b[1;32m      <a href='vscode-notebook-cell:/home/e78368jw/Documents/NEXT_CODE/next_misc/Isaura_full_reco_work/isaura_file_tester.ipynb#W2sZmlsZQ%3D%3D?line=4'>5</a>\u001b[0m tracks \u001b[39m=\u001b[39m port1_data[\u001b[39m0\u001b[39m]\n\u001b[1;32m      <a href='vscode-notebook-cell:/home/e78368jw/Documents/NEXT_CODE/next_misc/Isaura_full_reco_work/isaura_file_tester.ipynb#W2sZmlsZQ%3D%3D?line=5'>6</a>\u001b[0m particles \u001b[39m=\u001b[39m port1_data[\u001b[39m1\u001b[39m]\n",
      "\u001b[1;32m/home/e78368jw/Documents/NEXT_CODE/next_misc/Isaura_full_reco_work/isaura_file_tester.ipynb Cell 3\u001b[0m line \u001b[0;36m2\n\u001b[1;32m      <a href='vscode-notebook-cell:/home/e78368jw/Documents/NEXT_CODE/next_misc/Isaura_full_reco_work/isaura_file_tester.ipynb#W2sZmlsZQ%3D%3D?line=0'>1</a>\u001b[0m \u001b[39mdef\u001b[39;00m \u001b[39mload_data\u001b[39m(folder_path):\n\u001b[0;32m----> <a href='vscode-notebook-cell:/home/e78368jw/Documents/NEXT_CODE/next_misc/Isaura_full_reco_work/isaura_file_tester.ipynb#W2sZmlsZQ%3D%3D?line=1'>2</a>\u001b[0m     file_names \u001b[39m=\u001b[39m [f \u001b[39mfor\u001b[39;00m f \u001b[39min\u001b[39;00m os\u001b[39m.\u001b[39;49mlistdir(folder_path) \u001b[39mif\u001b[39;00m os\u001b[39m.\u001b[39mpath\u001b[39m.\u001b[39misfile(os\u001b[39m.\u001b[39mpath\u001b[39m.\u001b[39mjoin(folder_path, f))]\n\u001b[1;32m      <a href='vscode-notebook-cell:/home/e78368jw/Documents/NEXT_CODE/next_misc/Isaura_full_reco_work/isaura_file_tester.ipynb#W2sZmlsZQ%3D%3D?line=3'>4</a>\u001b[0m     \u001b[39m# NOTE Break this section up, its annoying like this.\u001b[39;00m\n\u001b[1;32m      <a href='vscode-notebook-cell:/home/e78368jw/Documents/NEXT_CODE/next_misc/Isaura_full_reco_work/isaura_file_tester.ipynb#W2sZmlsZQ%3D%3D?line=4'>5</a>\u001b[0m     dfs \u001b[39m=\u001b[39m []\n",
      "\u001b[0;31mNotADirectoryError\u001b[0m: [Errno 20] Not a directory: 'data/isaura_1_208Tl.h5'"
     ]
    }
   ],
   "source": [
    "# load in all the data\n",
    "folder_path = 'data/isaura/'\n",
    "port1_data = load_data(folder_path)\n",
    "\n",
    "tracks = port1_data[0]\n",
    "particles = port1_data[1]\n",
    "eventmap = port1_data[2]"
   ]
  },
  {
   "cell_type": "code",
   "execution_count": null,
   "metadata": {},
   "outputs": [],
   "source": []
  }
 ],
 "metadata": {
  "kernelspec": {
   "display_name": "IC-3.8-2022-04-13",
   "language": "python",
   "name": "python3"
  },
  "language_info": {
   "codemirror_mode": {
    "name": "ipython",
    "version": 3
   },
   "file_extension": ".py",
   "mimetype": "text/x-python",
   "name": "python",
   "nbconvert_exporter": "python",
   "pygments_lexer": "ipython3",
   "version": "3.8.18"
  }
 },
 "nbformat": 4,
 "nbformat_minor": 2
}
